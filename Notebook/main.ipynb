{
 "cells": [
  {
   "cell_type": "code",
   "execution_count": null,
   "metadata": {},
   "outputs": [],
   "source": []
  },
  {
   "attachments": {},
   "cell_type": "markdown",
   "metadata": {},
   "source": [
    "Required Libraries"
   ]
  },
  {
   "cell_type": "code",
   "execution_count": 1883,
   "metadata": {},
   "outputs": [],
   "source": [
    "import pandas as pd\n",
    "import numpy as np\n",
    "from datetime import datetime"
   ]
  },
  {
   "attachments": {},
   "cell_type": "markdown",
   "metadata": {},
   "source": [
    "Import data set"
   ]
  },
  {
   "cell_type": "code",
   "execution_count": 1884,
   "metadata": {},
   "outputs": [
    {
     "data": {
      "text/html": [
       "<div>\n",
       "<style scoped>\n",
       "    .dataframe tbody tr th:only-of-type {\n",
       "        vertical-align: middle;\n",
       "    }\n",
       "\n",
       "    .dataframe tbody tr th {\n",
       "        vertical-align: top;\n",
       "    }\n",
       "\n",
       "    .dataframe thead th {\n",
       "        text-align: right;\n",
       "    }\n",
       "</style>\n",
       "<table border=\"1\" class=\"dataframe\">\n",
       "  <thead>\n",
       "    <tr style=\"text-align: right;\">\n",
       "      <th></th>\n",
       "      <th>Case Number</th>\n",
       "      <th>Date</th>\n",
       "      <th>Year</th>\n",
       "      <th>Type</th>\n",
       "      <th>Country</th>\n",
       "      <th>Area</th>\n",
       "      <th>Location</th>\n",
       "      <th>Activity</th>\n",
       "      <th>Name</th>\n",
       "      <th>Sex</th>\n",
       "      <th>...</th>\n",
       "      <th>Species</th>\n",
       "      <th>Investigator or Source</th>\n",
       "      <th>pdf</th>\n",
       "      <th>href formula</th>\n",
       "      <th>href</th>\n",
       "      <th>Case Number.1</th>\n",
       "      <th>Case Number.2</th>\n",
       "      <th>original order</th>\n",
       "      <th>Unnamed: 22</th>\n",
       "      <th>Unnamed: 23</th>\n",
       "    </tr>\n",
       "  </thead>\n",
       "  <tbody>\n",
       "    <tr>\n",
       "      <th>0</th>\n",
       "      <td>2018.06.25</td>\n",
       "      <td>25-Jun-2018</td>\n",
       "      <td>2018.0</td>\n",
       "      <td>Boating</td>\n",
       "      <td>USA</td>\n",
       "      <td>California</td>\n",
       "      <td>Oceanside, San Diego County</td>\n",
       "      <td>Paddling</td>\n",
       "      <td>Julie Wolfe</td>\n",
       "      <td>F</td>\n",
       "      <td>...</td>\n",
       "      <td>White shark</td>\n",
       "      <td>R. Collier, GSAF</td>\n",
       "      <td>2018.06.25-Wolfe.pdf</td>\n",
       "      <td>http://sharkattackfile.net/spreadsheets/pdf_di...</td>\n",
       "      <td>http://sharkattackfile.net/spreadsheets/pdf_di...</td>\n",
       "      <td>2018.06.25</td>\n",
       "      <td>2018.06.25</td>\n",
       "      <td>6303.0</td>\n",
       "      <td>NaN</td>\n",
       "      <td>NaN</td>\n",
       "    </tr>\n",
       "    <tr>\n",
       "      <th>1</th>\n",
       "      <td>2018.06.18</td>\n",
       "      <td>18-Jun-2018</td>\n",
       "      <td>2018.0</td>\n",
       "      <td>Unprovoked</td>\n",
       "      <td>USA</td>\n",
       "      <td>Georgia</td>\n",
       "      <td>St. Simon Island, Glynn County</td>\n",
       "      <td>Standing</td>\n",
       "      <td>Adyson McNeely</td>\n",
       "      <td>F</td>\n",
       "      <td>...</td>\n",
       "      <td>NaN</td>\n",
       "      <td>K.McMurray, TrackingSharks.com</td>\n",
       "      <td>2018.06.18-McNeely.pdf</td>\n",
       "      <td>http://sharkattackfile.net/spreadsheets/pdf_di...</td>\n",
       "      <td>http://sharkattackfile.net/spreadsheets/pdf_di...</td>\n",
       "      <td>2018.06.18</td>\n",
       "      <td>2018.06.18</td>\n",
       "      <td>6302.0</td>\n",
       "      <td>NaN</td>\n",
       "      <td>NaN</td>\n",
       "    </tr>\n",
       "    <tr>\n",
       "      <th>2</th>\n",
       "      <td>2018.06.09</td>\n",
       "      <td>09-Jun-2018</td>\n",
       "      <td>2018.0</td>\n",
       "      <td>Invalid</td>\n",
       "      <td>USA</td>\n",
       "      <td>Hawaii</td>\n",
       "      <td>Habush, Oahu</td>\n",
       "      <td>Surfing</td>\n",
       "      <td>John Denges</td>\n",
       "      <td>M</td>\n",
       "      <td>...</td>\n",
       "      <td>NaN</td>\n",
       "      <td>K.McMurray, TrackingSharks.com</td>\n",
       "      <td>2018.06.09-Denges.pdf</td>\n",
       "      <td>http://sharkattackfile.net/spreadsheets/pdf_di...</td>\n",
       "      <td>http://sharkattackfile.net/spreadsheets/pdf_di...</td>\n",
       "      <td>2018.06.09</td>\n",
       "      <td>2018.06.09</td>\n",
       "      <td>6301.0</td>\n",
       "      <td>NaN</td>\n",
       "      <td>NaN</td>\n",
       "    </tr>\n",
       "    <tr>\n",
       "      <th>3</th>\n",
       "      <td>2018.06.08</td>\n",
       "      <td>08-Jun-2018</td>\n",
       "      <td>2018.0</td>\n",
       "      <td>Unprovoked</td>\n",
       "      <td>AUSTRALIA</td>\n",
       "      <td>New South Wales</td>\n",
       "      <td>Arrawarra Headland</td>\n",
       "      <td>Surfing</td>\n",
       "      <td>male</td>\n",
       "      <td>M</td>\n",
       "      <td>...</td>\n",
       "      <td>2 m shark</td>\n",
       "      <td>B. Myatt, GSAF</td>\n",
       "      <td>2018.06.08-Arrawarra.pdf</td>\n",
       "      <td>http://sharkattackfile.net/spreadsheets/pdf_di...</td>\n",
       "      <td>http://sharkattackfile.net/spreadsheets/pdf_di...</td>\n",
       "      <td>2018.06.08</td>\n",
       "      <td>2018.06.08</td>\n",
       "      <td>6300.0</td>\n",
       "      <td>NaN</td>\n",
       "      <td>NaN</td>\n",
       "    </tr>\n",
       "    <tr>\n",
       "      <th>4</th>\n",
       "      <td>2018.06.04</td>\n",
       "      <td>04-Jun-2018</td>\n",
       "      <td>2018.0</td>\n",
       "      <td>Provoked</td>\n",
       "      <td>MEXICO</td>\n",
       "      <td>Colima</td>\n",
       "      <td>La Ticla</td>\n",
       "      <td>Free diving</td>\n",
       "      <td>Gustavo Ramos</td>\n",
       "      <td>M</td>\n",
       "      <td>...</td>\n",
       "      <td>Tiger shark, 3m</td>\n",
       "      <td>A .Kipper</td>\n",
       "      <td>2018.06.04-Ramos.pdf</td>\n",
       "      <td>http://sharkattackfile.net/spreadsheets/pdf_di...</td>\n",
       "      <td>http://sharkattackfile.net/spreadsheets/pdf_di...</td>\n",
       "      <td>2018.06.04</td>\n",
       "      <td>2018.06.04</td>\n",
       "      <td>6299.0</td>\n",
       "      <td>NaN</td>\n",
       "      <td>NaN</td>\n",
       "    </tr>\n",
       "  </tbody>\n",
       "</table>\n",
       "<p>5 rows × 24 columns</p>\n",
       "</div>"
      ],
      "text/plain": [
       "  Case Number         Date    Year        Type    Country             Area   \n",
       "0  2018.06.25  25-Jun-2018  2018.0     Boating        USA       California  \\\n",
       "1  2018.06.18  18-Jun-2018  2018.0  Unprovoked        USA          Georgia   \n",
       "2  2018.06.09  09-Jun-2018  2018.0     Invalid        USA           Hawaii   \n",
       "3  2018.06.08  08-Jun-2018  2018.0  Unprovoked  AUSTRALIA  New South Wales   \n",
       "4  2018.06.04  04-Jun-2018  2018.0    Provoked     MEXICO           Colima   \n",
       "\n",
       "                         Location     Activity             Name Sex   ...   \n",
       "0     Oceanside, San Diego County     Paddling      Julie Wolfe    F  ...  \\\n",
       "1  St. Simon Island, Glynn County     Standing  Adyson McNeely     F  ...   \n",
       "2                    Habush, Oahu      Surfing      John Denges    M  ...   \n",
       "3              Arrawarra Headland      Surfing             male    M  ...   \n",
       "4                        La Ticla  Free diving   Gustavo Ramos     M  ...   \n",
       "\n",
       "          Species           Investigator or Source                       pdf   \n",
       "0      White shark                R. Collier, GSAF      2018.06.25-Wolfe.pdf  \\\n",
       "1              NaN  K.McMurray, TrackingSharks.com    2018.06.18-McNeely.pdf   \n",
       "2              NaN  K.McMurray, TrackingSharks.com     2018.06.09-Denges.pdf   \n",
       "3        2 m shark                  B. Myatt, GSAF  2018.06.08-Arrawarra.pdf   \n",
       "4  Tiger shark, 3m                       A .Kipper      2018.06.04-Ramos.pdf   \n",
       "\n",
       "                                        href formula   \n",
       "0  http://sharkattackfile.net/spreadsheets/pdf_di...  \\\n",
       "1  http://sharkattackfile.net/spreadsheets/pdf_di...   \n",
       "2  http://sharkattackfile.net/spreadsheets/pdf_di...   \n",
       "3  http://sharkattackfile.net/spreadsheets/pdf_di...   \n",
       "4  http://sharkattackfile.net/spreadsheets/pdf_di...   \n",
       "\n",
       "                                                href Case Number.1   \n",
       "0  http://sharkattackfile.net/spreadsheets/pdf_di...    2018.06.25  \\\n",
       "1  http://sharkattackfile.net/spreadsheets/pdf_di...    2018.06.18   \n",
       "2  http://sharkattackfile.net/spreadsheets/pdf_di...    2018.06.09   \n",
       "3  http://sharkattackfile.net/spreadsheets/pdf_di...    2018.06.08   \n",
       "4  http://sharkattackfile.net/spreadsheets/pdf_di...    2018.06.04   \n",
       "\n",
       "  Case Number.2 original order Unnamed: 22 Unnamed: 23  \n",
       "0    2018.06.25         6303.0         NaN         NaN  \n",
       "1    2018.06.18         6302.0         NaN         NaN  \n",
       "2    2018.06.09         6301.0         NaN         NaN  \n",
       "3    2018.06.08         6300.0         NaN         NaN  \n",
       "4    2018.06.04         6299.0         NaN         NaN  \n",
       "\n",
       "[5 rows x 24 columns]"
      ]
     },
     "execution_count": 1884,
     "metadata": {},
     "output_type": "execute_result"
    }
   ],
   "source": [
    "sharks = pd.read_csv('../data/attacks.csv', encoding='ISO-8859-1')\n",
    "sharks.head()"
   ]
  },
  {
   "attachments": {},
   "cell_type": "markdown",
   "metadata": {},
   "source": [
    "Exploración Inicial"
   ]
  },
  {
   "cell_type": "code",
   "execution_count": 1885,
   "metadata": {},
   "outputs": [
    {
     "name": "stdout",
     "output_type": "stream",
     "text": [
      "<class 'pandas.core.frame.DataFrame'>\n",
      "RangeIndex: 25723 entries, 0 to 25722\n",
      "Data columns (total 24 columns):\n",
      " #   Column                  Non-Null Count  Dtype  \n",
      "---  ------                  --------------  -----  \n",
      " 0   Case Number             8702 non-null   object \n",
      " 1   Date                    6302 non-null   object \n",
      " 2   Year                    6300 non-null   float64\n",
      " 3   Type                    6298 non-null   object \n",
      " 4   Country                 6252 non-null   object \n",
      " 5   Area                    5847 non-null   object \n",
      " 6   Location                5762 non-null   object \n",
      " 7   Activity                5758 non-null   object \n",
      " 8   Name                    6092 non-null   object \n",
      " 9   Sex                     5737 non-null   object \n",
      " 10  Age                     3471 non-null   object \n",
      " 11  Injury                  6274 non-null   object \n",
      " 12  Fatal (Y/N)             5763 non-null   object \n",
      " 13  Time                    2948 non-null   object \n",
      " 14  Species                 3464 non-null   object \n",
      " 15  Investigator or Source  6285 non-null   object \n",
      " 16  pdf                     6302 non-null   object \n",
      " 17  href formula            6301 non-null   object \n",
      " 18  href                    6302 non-null   object \n",
      " 19  Case Number.1           6302 non-null   object \n",
      " 20  Case Number.2           6302 non-null   object \n",
      " 21  original order          6309 non-null   float64\n",
      " 22  Unnamed: 22             1 non-null      object \n",
      " 23  Unnamed: 23             2 non-null      object \n",
      "dtypes: float64(2), object(22)\n",
      "memory usage: 22.8 MB\n"
     ]
    }
   ],
   "source": [
    "sharks.info(memory_usage='deep')"
   ]
  },
  {
   "cell_type": "code",
   "execution_count": 1886,
   "metadata": {},
   "outputs": [
    {
     "data": {
      "text/html": [
       "<div>\n",
       "<style scoped>\n",
       "    .dataframe tbody tr th:only-of-type {\n",
       "        vertical-align: middle;\n",
       "    }\n",
       "\n",
       "    .dataframe tbody tr th {\n",
       "        vertical-align: top;\n",
       "    }\n",
       "\n",
       "    .dataframe thead th {\n",
       "        text-align: right;\n",
       "    }\n",
       "</style>\n",
       "<table border=\"1\" class=\"dataframe\">\n",
       "  <thead>\n",
       "    <tr style=\"text-align: right;\">\n",
       "      <th></th>\n",
       "      <th>count</th>\n",
       "      <th>unique</th>\n",
       "      <th>top</th>\n",
       "      <th>freq</th>\n",
       "    </tr>\n",
       "  </thead>\n",
       "  <tbody>\n",
       "    <tr>\n",
       "      <th>Case Number</th>\n",
       "      <td>8702</td>\n",
       "      <td>6287</td>\n",
       "      <td>0</td>\n",
       "      <td>2400</td>\n",
       "    </tr>\n",
       "    <tr>\n",
       "      <th>Date</th>\n",
       "      <td>6302</td>\n",
       "      <td>5433</td>\n",
       "      <td>1957</td>\n",
       "      <td>11</td>\n",
       "    </tr>\n",
       "    <tr>\n",
       "      <th>Type</th>\n",
       "      <td>6298</td>\n",
       "      <td>8</td>\n",
       "      <td>Unprovoked</td>\n",
       "      <td>4595</td>\n",
       "    </tr>\n",
       "    <tr>\n",
       "      <th>Country</th>\n",
       "      <td>6252</td>\n",
       "      <td>212</td>\n",
       "      <td>USA</td>\n",
       "      <td>2229</td>\n",
       "    </tr>\n",
       "    <tr>\n",
       "      <th>Area</th>\n",
       "      <td>5847</td>\n",
       "      <td>825</td>\n",
       "      <td>Florida</td>\n",
       "      <td>1037</td>\n",
       "    </tr>\n",
       "    <tr>\n",
       "      <th>Location</th>\n",
       "      <td>5762</td>\n",
       "      <td>4108</td>\n",
       "      <td>New Smyrna Beach, Volusia County</td>\n",
       "      <td>163</td>\n",
       "    </tr>\n",
       "    <tr>\n",
       "      <th>Activity</th>\n",
       "      <td>5758</td>\n",
       "      <td>1532</td>\n",
       "      <td>Surfing</td>\n",
       "      <td>971</td>\n",
       "    </tr>\n",
       "    <tr>\n",
       "      <th>Name</th>\n",
       "      <td>6092</td>\n",
       "      <td>5230</td>\n",
       "      <td>male</td>\n",
       "      <td>550</td>\n",
       "    </tr>\n",
       "    <tr>\n",
       "      <th>Sex</th>\n",
       "      <td>5737</td>\n",
       "      <td>6</td>\n",
       "      <td>M</td>\n",
       "      <td>5094</td>\n",
       "    </tr>\n",
       "    <tr>\n",
       "      <th>Age</th>\n",
       "      <td>3471</td>\n",
       "      <td>157</td>\n",
       "      <td>17</td>\n",
       "      <td>154</td>\n",
       "    </tr>\n",
       "    <tr>\n",
       "      <th>Injury</th>\n",
       "      <td>6274</td>\n",
       "      <td>3737</td>\n",
       "      <td>FATAL</td>\n",
       "      <td>802</td>\n",
       "    </tr>\n",
       "    <tr>\n",
       "      <th>Fatal (Y/N)</th>\n",
       "      <td>5763</td>\n",
       "      <td>8</td>\n",
       "      <td>N</td>\n",
       "      <td>4293</td>\n",
       "    </tr>\n",
       "    <tr>\n",
       "      <th>Time</th>\n",
       "      <td>2948</td>\n",
       "      <td>366</td>\n",
       "      <td>Afternoon</td>\n",
       "      <td>187</td>\n",
       "    </tr>\n",
       "    <tr>\n",
       "      <th>Species</th>\n",
       "      <td>3464</td>\n",
       "      <td>1549</td>\n",
       "      <td>White shark</td>\n",
       "      <td>163</td>\n",
       "    </tr>\n",
       "    <tr>\n",
       "      <th>Investigator or Source</th>\n",
       "      <td>6285</td>\n",
       "      <td>4969</td>\n",
       "      <td>C. Moore, GSAF</td>\n",
       "      <td>105</td>\n",
       "    </tr>\n",
       "    <tr>\n",
       "      <th>pdf</th>\n",
       "      <td>6302</td>\n",
       "      <td>6291</td>\n",
       "      <td>1923.00.00.a-NJ fisherman.pdf</td>\n",
       "      <td>2</td>\n",
       "    </tr>\n",
       "    <tr>\n",
       "      <th>href formula</th>\n",
       "      <td>6301</td>\n",
       "      <td>6290</td>\n",
       "      <td>http://sharkattackfile.net/spreadsheets/pdf_di...</td>\n",
       "      <td>2</td>\n",
       "    </tr>\n",
       "    <tr>\n",
       "      <th>href</th>\n",
       "      <td>6302</td>\n",
       "      <td>6285</td>\n",
       "      <td>http://sharkattackfile.net/spreadsheets/pdf_di...</td>\n",
       "      <td>4</td>\n",
       "    </tr>\n",
       "    <tr>\n",
       "      <th>Case Number.1</th>\n",
       "      <td>6302</td>\n",
       "      <td>6285</td>\n",
       "      <td>1920.00.00.b</td>\n",
       "      <td>2</td>\n",
       "    </tr>\n",
       "    <tr>\n",
       "      <th>Case Number.2</th>\n",
       "      <td>6302</td>\n",
       "      <td>6286</td>\n",
       "      <td>1920.00.00.b</td>\n",
       "      <td>2</td>\n",
       "    </tr>\n",
       "    <tr>\n",
       "      <th>Unnamed: 22</th>\n",
       "      <td>1</td>\n",
       "      <td>1</td>\n",
       "      <td>stopped here</td>\n",
       "      <td>1</td>\n",
       "    </tr>\n",
       "    <tr>\n",
       "      <th>Unnamed: 23</th>\n",
       "      <td>2</td>\n",
       "      <td>2</td>\n",
       "      <td>Teramo</td>\n",
       "      <td>1</td>\n",
       "    </tr>\n",
       "  </tbody>\n",
       "</table>\n",
       "</div>"
      ],
      "text/plain": [
       "                       count unique   \n",
       "Case Number             8702   6287  \\\n",
       "Date                    6302   5433   \n",
       "Type                    6298      8   \n",
       "Country                 6252    212   \n",
       "Area                    5847    825   \n",
       "Location                5762   4108   \n",
       "Activity                5758   1532   \n",
       "Name                    6092   5230   \n",
       "Sex                     5737      6   \n",
       "Age                     3471    157   \n",
       "Injury                  6274   3737   \n",
       "Fatal (Y/N)             5763      8   \n",
       "Time                    2948    366   \n",
       "Species                 3464   1549   \n",
       "Investigator or Source  6285   4969   \n",
       "pdf                     6302   6291   \n",
       "href formula            6301   6290   \n",
       "href                    6302   6285   \n",
       "Case Number.1           6302   6285   \n",
       "Case Number.2           6302   6286   \n",
       "Unnamed: 22                1      1   \n",
       "Unnamed: 23                2      2   \n",
       "\n",
       "                                                                      top   \n",
       "Case Number                                                             0  \\\n",
       "Date                                                                 1957   \n",
       "Type                                                           Unprovoked   \n",
       "Country                                                               USA   \n",
       "Area                                                              Florida   \n",
       "Location                                 New Smyrna Beach, Volusia County   \n",
       "Activity                                                          Surfing   \n",
       "Name                                                                 male   \n",
       "Sex                                                                     M   \n",
       "Age                                                                    17   \n",
       "Injury                                                              FATAL   \n",
       "Fatal (Y/N)                                                             N   \n",
       "Time                                                            Afternoon   \n",
       "Species                                                       White shark   \n",
       "Investigator or Source                                     C. Moore, GSAF   \n",
       "pdf                                         1923.00.00.a-NJ fisherman.pdf   \n",
       "href formula            http://sharkattackfile.net/spreadsheets/pdf_di...   \n",
       "href                    http://sharkattackfile.net/spreadsheets/pdf_di...   \n",
       "Case Number.1                                                1920.00.00.b   \n",
       "Case Number.2                                                1920.00.00.b   \n",
       "Unnamed: 22                                                  stopped here   \n",
       "Unnamed: 23                                                        Teramo   \n",
       "\n",
       "                        freq  \n",
       "Case Number             2400  \n",
       "Date                      11  \n",
       "Type                    4595  \n",
       "Country                 2229  \n",
       "Area                    1037  \n",
       "Location                 163  \n",
       "Activity                 971  \n",
       "Name                     550  \n",
       "Sex                     5094  \n",
       "Age                      154  \n",
       "Injury                   802  \n",
       "Fatal (Y/N)             4293  \n",
       "Time                     187  \n",
       "Species                  163  \n",
       "Investigator or Source   105  \n",
       "pdf                        2  \n",
       "href formula               2  \n",
       "href                       4  \n",
       "Case Number.1              2  \n",
       "Case Number.2              2  \n",
       "Unnamed: 22                1  \n",
       "Unnamed: 23                1  "
      ]
     },
     "execution_count": 1886,
     "metadata": {},
     "output_type": "execute_result"
    }
   ],
   "source": [
    "sharks.describe(include='object').T"
   ]
  },
  {
   "cell_type": "code",
   "execution_count": null,
   "metadata": {},
   "outputs": [],
   "source": []
  },
  {
   "attachments": {},
   "cell_type": "markdown",
   "metadata": {},
   "source": [
    "Columnas numericas"
   ]
  },
  {
   "cell_type": "code",
   "execution_count": 1887,
   "metadata": {},
   "outputs": [
    {
     "data": {
      "text/html": [
       "<div>\n",
       "<style scoped>\n",
       "    .dataframe tbody tr th:only-of-type {\n",
       "        vertical-align: middle;\n",
       "    }\n",
       "\n",
       "    .dataframe tbody tr th {\n",
       "        vertical-align: top;\n",
       "    }\n",
       "\n",
       "    .dataframe thead th {\n",
       "        text-align: right;\n",
       "    }\n",
       "</style>\n",
       "<table border=\"1\" class=\"dataframe\">\n",
       "  <thead>\n",
       "    <tr style=\"text-align: right;\">\n",
       "      <th></th>\n",
       "      <th>Year</th>\n",
       "      <th>original order</th>\n",
       "    </tr>\n",
       "  </thead>\n",
       "  <tbody>\n",
       "    <tr>\n",
       "      <th>0</th>\n",
       "      <td>2018.0</td>\n",
       "      <td>6303.0</td>\n",
       "    </tr>\n",
       "    <tr>\n",
       "      <th>1</th>\n",
       "      <td>2018.0</td>\n",
       "      <td>6302.0</td>\n",
       "    </tr>\n",
       "    <tr>\n",
       "      <th>2</th>\n",
       "      <td>2018.0</td>\n",
       "      <td>6301.0</td>\n",
       "    </tr>\n",
       "    <tr>\n",
       "      <th>3</th>\n",
       "      <td>2018.0</td>\n",
       "      <td>6300.0</td>\n",
       "    </tr>\n",
       "    <tr>\n",
       "      <th>4</th>\n",
       "      <td>2018.0</td>\n",
       "      <td>6299.0</td>\n",
       "    </tr>\n",
       "  </tbody>\n",
       "</table>\n",
       "</div>"
      ],
      "text/plain": [
       "     Year  original order\n",
       "0  2018.0          6303.0\n",
       "1  2018.0          6302.0\n",
       "2  2018.0          6301.0\n",
       "3  2018.0          6300.0\n",
       "4  2018.0          6299.0"
      ]
     },
     "execution_count": 1887,
     "metadata": {},
     "output_type": "execute_result"
    }
   ],
   "source": [
    "num_df = sharks.select_dtypes(exclude='object')\n",
    "\n",
    "num_df.head()"
   ]
  },
  {
   "attachments": {},
   "cell_type": "markdown",
   "metadata": {},
   "source": [
    "Valores Nulos"
   ]
  },
  {
   "cell_type": "code",
   "execution_count": 1888,
   "metadata": {},
   "outputs": [
    {
     "data": {
      "text/plain": [
       "(25723, 24)"
      ]
     },
     "execution_count": 1888,
     "metadata": {},
     "output_type": "execute_result"
    }
   ],
   "source": [
    "original_shape = sharks.shape\n",
    "original_shape"
   ]
  },
  {
   "cell_type": "code",
   "execution_count": 1889,
   "metadata": {},
   "outputs": [],
   "source": [
    "#elimino las filas que todos sus valores son nulos\n",
    "sharks.dropna(how='all', inplace=True)\n"
   ]
  },
  {
   "cell_type": "code",
   "execution_count": 1890,
   "metadata": {},
   "outputs": [
    {
     "data": {
      "text/plain": [
       "(8703, 24)"
      ]
     },
     "execution_count": 1890,
     "metadata": {},
     "output_type": "execute_result"
    }
   ],
   "source": [
    "sharks.shape"
   ]
  },
  {
   "cell_type": "code",
   "execution_count": 1891,
   "metadata": {},
   "outputs": [],
   "source": [
    "#eliminar las filas que tengan mas de 20 columnas de valores nulos\n",
    "\n",
    "null_rows = sharks.isnull().sum(axis=1)\n",
    "indexes_to_drop = null_rows[null_rows > 20].index\n",
    "sharks = sharks.drop(indexes_to_drop)"
   ]
  },
  {
   "cell_type": "code",
   "execution_count": 1892,
   "metadata": {},
   "outputs": [
    {
     "data": {
      "text/plain": [
       "(6302, 24)"
      ]
     },
     "execution_count": 1892,
     "metadata": {},
     "output_type": "execute_result"
    }
   ],
   "source": [
    "sharks.shape"
   ]
  },
  {
   "cell_type": "code",
   "execution_count": 1893,
   "metadata": {},
   "outputs": [
    {
     "data": {
      "text/plain": [
       "Case Number                  1\n",
       "Year                         2\n",
       "Type                         4\n",
       "Country                     50\n",
       "Area                       455\n",
       "Location                   540\n",
       "Activity                   544\n",
       "Name                       210\n",
       "Sex                        565\n",
       "Age                       2831\n",
       "Injury                      28\n",
       "Fatal (Y/N)                539\n",
       "Time                      3354\n",
       "Species                   2838\n",
       "Investigator or Source      17\n",
       "href formula                 1\n",
       "Unnamed: 22               6301\n",
       "Unnamed: 23               6300\n",
       "dtype: int64"
      ]
     },
     "execution_count": 1893,
     "metadata": {},
     "output_type": "execute_result"
    }
   ],
   "source": [
    "nan_cols = sharks.isna().sum()\n",
    "\n",
    "nan_cols[nan_cols>0]"
   ]
  },
  {
   "cell_type": "code",
   "execution_count": 1894,
   "metadata": {},
   "outputs": [
    {
     "data": {
      "text/plain": [
       "Case Number                0.015868\n",
       "Year                       0.031736\n",
       "Type                       0.063472\n",
       "Country                    0.793399\n",
       "Area                       7.219930\n",
       "Location                   8.568708\n",
       "Activity                   8.632180\n",
       "Name                       3.332275\n",
       "Sex                        8.965408\n",
       "Age                       44.922247\n",
       "Injury                     0.444303\n",
       "Fatal (Y/N)                8.552840\n",
       "Time                      53.221200\n",
       "Species                   45.033323\n",
       "Investigator or Source     0.269756\n",
       "href formula               0.015868\n",
       "Unnamed: 22               99.984132\n",
       "Unnamed: 23               99.968264\n",
       "dtype: float64"
      ]
     },
     "execution_count": 1894,
     "metadata": {},
     "output_type": "execute_result"
    }
   ],
   "source": [
    "percent_nan_cols = sharks.isna().mean() * 100  # porcentaje de nulo en cada columna\n",
    "\n",
    "\n",
    "percent_nan_cols[percent_nan_cols>0]"
   ]
  },
  {
   "attachments": {},
   "cell_type": "markdown",
   "metadata": {},
   "source": [
    "Vamos a ir columna a columna quitando valores nulos"
   ]
  },
  {
   "attachments": {},
   "cell_type": "markdown",
   "metadata": {},
   "source": [
    "Case Number"
   ]
  },
  {
   "cell_type": "code",
   "execution_count": 1895,
   "metadata": {},
   "outputs": [
    {
     "data": {
      "text/plain": [
       "0    2018.06.25\n",
       "1    2018.06.18\n",
       "2    2018.06.09\n",
       "3    2018.06.08\n",
       "4    2018.06.04\n",
       "Name: Case Number, dtype: object"
      ]
     },
     "execution_count": 1895,
     "metadata": {},
     "output_type": "execute_result"
    }
   ],
   "source": [
    "sharks['Case Number'].head()"
   ]
  },
  {
   "cell_type": "code",
   "execution_count": 1896,
   "metadata": {},
   "outputs": [
    {
     "data": {
      "text/plain": [
       "str"
      ]
     },
     "execution_count": 1896,
     "metadata": {},
     "output_type": "execute_result"
    }
   ],
   "source": [
    "type(sharks['Case Number'][0])\n"
   ]
  },
  {
   "cell_type": "code",
   "execution_count": 1897,
   "metadata": {},
   "outputs": [],
   "source": [
    "sharks[sharks['Case Number'].isnull()]\n",
    "\n",
    "#como tengo la fecha le asigno ese case number\n",
    "\n",
    "sharks['Case Number'].fillna('1905.09.06', inplace=True)"
   ]
  },
  {
   "cell_type": "code",
   "execution_count": 1898,
   "metadata": {},
   "outputs": [
    {
     "data": {
      "text/html": [
       "<div>\n",
       "<style scoped>\n",
       "    .dataframe tbody tr th:only-of-type {\n",
       "        vertical-align: middle;\n",
       "    }\n",
       "\n",
       "    .dataframe tbody tr th {\n",
       "        vertical-align: top;\n",
       "    }\n",
       "\n",
       "    .dataframe thead th {\n",
       "        text-align: right;\n",
       "    }\n",
       "</style>\n",
       "<table border=\"1\" class=\"dataframe\">\n",
       "  <thead>\n",
       "    <tr style=\"text-align: right;\">\n",
       "      <th></th>\n",
       "      <th>Case Number</th>\n",
       "      <th>Date</th>\n",
       "      <th>Year</th>\n",
       "      <th>Type</th>\n",
       "      <th>Country</th>\n",
       "      <th>Area</th>\n",
       "      <th>Location</th>\n",
       "      <th>Activity</th>\n",
       "      <th>Name</th>\n",
       "      <th>Sex</th>\n",
       "      <th>...</th>\n",
       "      <th>Species</th>\n",
       "      <th>Investigator or Source</th>\n",
       "      <th>pdf</th>\n",
       "      <th>href formula</th>\n",
       "      <th>href</th>\n",
       "      <th>Case Number.1</th>\n",
       "      <th>Case Number.2</th>\n",
       "      <th>original order</th>\n",
       "      <th>Unnamed: 22</th>\n",
       "      <th>Unnamed: 23</th>\n",
       "    </tr>\n",
       "  </thead>\n",
       "  <tbody>\n",
       "  </tbody>\n",
       "</table>\n",
       "<p>0 rows × 24 columns</p>\n",
       "</div>"
      ],
      "text/plain": [
       "Empty DataFrame\n",
       "Columns: [Case Number, Date, Year, Type, Country, Area, Location, Activity, Name, Sex , Age, Injury, Fatal (Y/N), Time, Species , Investigator or Source, pdf, href formula, href, Case Number.1, Case Number.2, original order, Unnamed: 22, Unnamed: 23]\n",
       "Index: []\n",
       "\n",
       "[0 rows x 24 columns]"
      ]
     },
     "execution_count": 1898,
     "metadata": {},
     "output_type": "execute_result"
    }
   ],
   "source": [
    "#ver donde hay case number pero no hay fecha\n",
    "\n",
    "sharks[(sharks['Date'].isnull()) & (sharks['Case Number'].notnull())]"
   ]
  },
  {
   "cell_type": "code",
   "execution_count": 1899,
   "metadata": {},
   "outputs": [],
   "source": [
    "#me las cargo\n",
    "\n",
    "index_to_drop = sharks[(sharks['Date'].isnull()) & (sharks['Case Number'].notnull())].index\n",
    "sharks = sharks.drop(index_to_drop)\n"
   ]
  },
  {
   "cell_type": "code",
   "execution_count": 1900,
   "metadata": {},
   "outputs": [
    {
     "data": {
      "text/plain": [
       "0       2\n",
       "1       3\n",
       "2       3\n",
       "3       4\n",
       "4       4\n",
       "       ..\n",
       "6297    5\n",
       "6298    6\n",
       "6299    5\n",
       "6300    7\n",
       "6301    4\n",
       "Length: 6302, dtype: int64"
      ]
     },
     "execution_count": 1900,
     "metadata": {},
     "output_type": "execute_result"
    }
   ],
   "source": [
    "# contar el número de valores nulos en cada fila\n",
    "null_counts = sharks.isnull().sum(axis=1)\n",
    "\n",
    "# seleccionar las filas donde más de 15 columnas son nulos\n",
    "#las voy a eliminar porque no voy a estimar el valor de 2000 filas \n",
    "#me van a afectar\n",
    "\n",
    "null_counts\n",
    "\n"
   ]
  },
  {
   "cell_type": "code",
   "execution_count": 1901,
   "metadata": {},
   "outputs": [
    {
     "data": {
      "text/plain": [
       "(6302, 24)"
      ]
     },
     "execution_count": 1901,
     "metadata": {},
     "output_type": "execute_result"
    }
   ],
   "source": [
    "sharks.shape"
   ]
  },
  {
   "attachments": {},
   "cell_type": "markdown",
   "metadata": {},
   "source": [
    "Tipo de ataque"
   ]
  },
  {
   "cell_type": "code",
   "execution_count": 2069,
   "metadata": {},
   "outputs": [
    {
     "data": {
      "text/plain": [
       "Type\n",
       "Unprovoked      4595\n",
       "Provoked         574\n",
       "Invalid          547\n",
       "Boating          341\n",
       "Sea Disaster     243\n",
       "Name: count, dtype: int64"
      ]
     },
     "execution_count": 2069,
     "metadata": {},
     "output_type": "execute_result"
    }
   ],
   "source": [
    "sharks.Type.unique()\n",
    "\n",
    "sharks['Type'].value_counts()\n",
    "\n"
   ]
  },
  {
   "cell_type": "code",
   "execution_count": 2070,
   "metadata": {},
   "outputs": [],
   "source": [
    "#Boatomg \n",
    "\n",
    "sharks['Type'].replace('Boatomg', 'Boating', inplace=True)\n",
    "sharks['Type'].replace('Boat', 'Boating', inplace=True)\n",
    "\n",
    "#elimino los cuestionables\n",
    "\n",
    "sharks.drop(sharks[sharks['Type'] == 'Questionable'].index, inplace=True)\n"
   ]
  },
  {
   "cell_type": "code",
   "execution_count": 2071,
   "metadata": {},
   "outputs": [
    {
     "data": {
      "text/plain": [
       "Type\n",
       "Unprovoked      4595\n",
       "Provoked         574\n",
       "Invalid          547\n",
       "Boating          341\n",
       "Sea Disaster     243\n",
       "Name: count, dtype: int64"
      ]
     },
     "execution_count": 2071,
     "metadata": {},
     "output_type": "execute_result"
    }
   ],
   "source": [
    "sharks['Type'].value_counts()"
   ]
  },
  {
   "cell_type": "code",
   "execution_count": 2072,
   "metadata": {},
   "outputs": [],
   "source": [
    "#los valores nulos del tipo de ataque que sean un desastre en el mar\n",
    "\n",
    "sharks['Type'] = sharks['Type'].fillna('Sea Disaster')"
   ]
  },
  {
   "attachments": {},
   "cell_type": "markdown",
   "metadata": {},
   "source": [
    "\n",
    "Country"
   ]
  },
  {
   "cell_type": "code",
   "execution_count": 2073,
   "metadata": {},
   "outputs": [
    {
     "data": {
      "text/plain": [
       "Country\n",
       "USA                      2229\n",
       "AUSTRALIA                1336\n",
       "SOUTH AFRICA              579\n",
       "PAPUA NEW GUINEA          134\n",
       "NEW ZEALAND               128\n",
       "                         ... \n",
       "THE BALKANS                 1\n",
       "NORTH ATLANTIC OCEAN        1\n",
       "MAYOTTE                     1\n",
       "GABON                       1\n",
       "CEYLON (SRI LANKA)          1\n",
       "Name: count, Length: 213, dtype: int64"
      ]
     },
     "execution_count": 2073,
     "metadata": {},
     "output_type": "execute_result"
    }
   ],
   "source": [
    "sharks['Country'].value_counts()"
   ]
  },
  {
   "cell_type": "code",
   "execution_count": 2074,
   "metadata": {},
   "outputs": [
    {
     "data": {
      "text/plain": [
       "0"
      ]
     },
     "execution_count": 2074,
     "metadata": {},
     "output_type": "execute_result"
    }
   ],
   "source": [
    "nulos = sharks['Country'].isnull().sum()\n",
    "\n",
    "nulos"
   ]
  },
  {
   "cell_type": "code",
   "execution_count": 2075,
   "metadata": {},
   "outputs": [],
   "source": [
    "#compruebo si puedo sacar algún pais\n",
    "\n",
    "sharks.loc[sharks['Country'].isnull()]\n",
    "\n",
    "#df.loc[df['A'].isnull() & df['B'].notnull()]\n",
    "\n",
    "#country sea nulo pero area o location si que tenga informacion\n",
    "\n",
    "sharks[(sharks['Country'].isnull()) & (sharks['Area'].notnull() | sharks['Location'].notnull())]\n",
    "\n",
    "#se pueden arreglar 21 filas, por 21 filas me voy a rallar? NO, los que no sepa el pais \n",
    "#no me lo voy  a inventar asi que por ahora pongo desconocido \n",
    "\n",
    "sharks['Country'].fillna('Unknown', inplace=True)"
   ]
  },
  {
   "cell_type": "code",
   "execution_count": 2076,
   "metadata": {},
   "outputs": [],
   "source": [
    "sharks[(sharks['Country'] == 'Unknown') & (sharks['Area'].notnull() | sharks['Location'].notnull())];"
   ]
  },
  {
   "cell_type": "code",
   "execution_count": 2077,
   "metadata": {},
   "outputs": [],
   "source": [
    "#cambiar esos 21 rows de country"
   ]
  },
  {
   "attachments": {},
   "cell_type": "markdown",
   "metadata": {},
   "source": [
    "Area"
   ]
  },
  {
   "cell_type": "code",
   "execution_count": 2078,
   "metadata": {},
   "outputs": [],
   "source": [
    "#los valores que si que no tengan area pero si location, voy a copiar la location al area\n",
    "#cojo las de location y no las de country porque location es más concreto\n",
    "\n",
    "sharks[(sharks['Area'].isnull()) & (sharks['Location'].notnull())].head(10)\n",
    "sharks['Area'].fillna(sharks['Location'], inplace=True)\n",
    "\n",
    "#y viceversa\n",
    "\n",
    "sharks[(sharks['Location'].isnull()) & (sharks['Area'].notnull())].head(10)\n",
    "sharks['Location'].fillna(sharks['Area'], inplace=True)\n",
    "\n"
   ]
  },
  {
   "cell_type": "code",
   "execution_count": 2079,
   "metadata": {},
   "outputs": [
    {
     "data": {
      "text/plain": [
       "0"
      ]
     },
     "execution_count": 2079,
     "metadata": {},
     "output_type": "execute_result"
    }
   ],
   "source": [
    "sharks['Area'].isnull().sum()"
   ]
  },
  {
   "cell_type": "code",
   "execution_count": 2080,
   "metadata": {},
   "outputs": [
    {
     "data": {
      "text/html": [
       "<div>\n",
       "<style scoped>\n",
       "    .dataframe tbody tr th:only-of-type {\n",
       "        vertical-align: middle;\n",
       "    }\n",
       "\n",
       "    .dataframe tbody tr th {\n",
       "        vertical-align: top;\n",
       "    }\n",
       "\n",
       "    .dataframe thead th {\n",
       "        text-align: right;\n",
       "    }\n",
       "</style>\n",
       "<table border=\"1\" class=\"dataframe\">\n",
       "  <thead>\n",
       "    <tr style=\"text-align: right;\">\n",
       "      <th></th>\n",
       "      <th>Case Number</th>\n",
       "      <th>Date</th>\n",
       "      <th>Year</th>\n",
       "      <th>Type</th>\n",
       "      <th>Country</th>\n",
       "      <th>Area</th>\n",
       "      <th>Location</th>\n",
       "      <th>Activity</th>\n",
       "      <th>Name</th>\n",
       "      <th>Sex</th>\n",
       "      <th>...</th>\n",
       "      <th>Species</th>\n",
       "      <th>Investigator or Source</th>\n",
       "      <th>pdf</th>\n",
       "      <th>href formula</th>\n",
       "      <th>href</th>\n",
       "      <th>Case Number.1</th>\n",
       "      <th>Case Number.2</th>\n",
       "      <th>original order</th>\n",
       "      <th>Unnamed: 22</th>\n",
       "      <th>Unnamed: 23</th>\n",
       "    </tr>\n",
       "  </thead>\n",
       "  <tbody>\n",
       "  </tbody>\n",
       "</table>\n",
       "<p>0 rows × 24 columns</p>\n",
       "</div>"
      ],
      "text/plain": [
       "Empty DataFrame\n",
       "Columns: [Case Number, Date, Year, Type, Country, Area, Location, Activity, Name, Sex, Age, Injury, Fatal, Time, Species , Investigator or Source, pdf, href formula, href, Case Number.1, Case Number.2, original order, Unnamed: 22, Unnamed: 23]\n",
       "Index: []\n",
       "\n",
       "[0 rows x 24 columns]"
      ]
     },
     "execution_count": 2080,
     "metadata": {},
     "output_type": "execute_result"
    }
   ],
   "source": [
    "sharks[((sharks['Location'].isnull())&((sharks['Area'].isnull())) )& (sharks['Country'].notnull())].head(10)"
   ]
  },
  {
   "cell_type": "code",
   "execution_count": 2081,
   "metadata": {},
   "outputs": [],
   "source": [
    "sharks['Area'] = sharks['Area'].fillna('Unknown')\n",
    "sharks['Location'] = sharks['Location'].fillna('Unknown')"
   ]
  },
  {
   "attachments": {},
   "cell_type": "markdown",
   "metadata": {},
   "source": [
    "Activity"
   ]
  },
  {
   "cell_type": "code",
   "execution_count": 2082,
   "metadata": {},
   "outputs": [
    {
     "data": {
      "text/plain": [
       "Activity\n",
       "Surfing                                   969\n",
       "Swimming                                  869\n",
       "Other                                     500\n",
       "Fishing                                   431\n",
       "Spearfishing                              333\n",
       "                                         ... \n",
       "Playing with a frisbee in the shallows      1\n",
       "Sinking of the ferryboat Dumaguete          1\n",
       "Wreck of the Storm King                     1\n",
       "Feeding mullet to sharks                    1\n",
       "Wreck of  large double sailing canoe        1\n",
       "Name: count, Length: 1533, dtype: int64"
      ]
     },
     "execution_count": 2082,
     "metadata": {},
     "output_type": "execute_result"
    }
   ],
   "source": [
    "actividades = sharks['Activity'].value_counts()\n",
    "\n",
    "actividades"
   ]
  },
  {
   "cell_type": "code",
   "execution_count": 2083,
   "metadata": {},
   "outputs": [
    {
     "data": {
      "text/plain": [
       "Activity\n",
       "Explosion & sinking of the USS Juneau after being torpedoed by the submarine  I-85                                                                                                                                                          1\n",
       "His ship, the US destroyer Duncan DD 485, had been  sunk by crossfire from Japanese warships. He was wearing a kapok lifejacket & using 2 aluminum powder tins for floatation                                                               1\n",
       "Dutch merchant ship Zaandam torpedoed  by the U-174 amidships, sank & dozens of survivors took to rafts & boats. One man, Izzi, who drifted 83 days on a raft related that sharks attacked many men in the water when the ship went down    1\n",
       "In rubber dinghy with Captain Eddie Rickenbacker for 21 days.                                                                                                                                                                               1\n",
       "Diving from lugger                                                                                                                                                                                                                          1\n",
       "                                                                                                                                                                                                                                           ..\n",
       "Playing with a frisbee in the shallows                                                                                                                                                                                                      1\n",
       "Sinking of the ferryboat Dumaguete                                                                                                                                                                                                          1\n",
       "Wreck of the Storm King                                                                                                                                                                                                                     1\n",
       "Feeding mullet to sharks                                                                                                                                                                                                                    1\n",
       "Wreck of  large double sailing canoe                                                                                                                                                                                                        1\n",
       "Name: count, Length: 1315, dtype: int64"
      ]
     },
     "execution_count": 2083,
     "metadata": {},
     "output_type": "execute_result"
    }
   ],
   "source": [
    "actividades[actividades==1]\n",
    "\n",
    "#hay 1315 actividades "
   ]
  },
  {
   "cell_type": "code",
   "execution_count": 2084,
   "metadata": {},
   "outputs": [
    {
     "data": {
      "text/plain": [
       "0"
      ]
     },
     "execution_count": 2084,
     "metadata": {},
     "output_type": "execute_result"
    }
   ],
   "source": [
    "sharks['Activity'].isnull().sum()"
   ]
  },
  {
   "cell_type": "code",
   "execution_count": 2085,
   "metadata": {},
   "outputs": [],
   "source": [
    "#recordando la columna Type hay varias filas que pone Boating y esto se podría considerar\n",
    "#como actividad asi que voy a buscar donde en la columna Type sea boating que y que la columna\n",
    "#Activity sea nula\n",
    "\n",
    "sharks[(sharks['Type'] == 'Boating') & (sharks['Activity'].isnull())]\n",
    "\n",
    "sharks.loc[(sharks['Type'] == 'Boating') & (sharks['Activity'].isnull()), 'Activity'] = 'Boating'\n",
    "\n"
   ]
  },
  {
   "cell_type": "code",
   "execution_count": 2086,
   "metadata": {},
   "outputs": [
    {
     "data": {
      "text/plain": [
       "0"
      ]
     },
     "execution_count": 2086,
     "metadata": {},
     "output_type": "execute_result"
    }
   ],
   "source": [
    "sharks['Activity'].isnull().sum()"
   ]
  },
  {
   "cell_type": "code",
   "execution_count": 2087,
   "metadata": {},
   "outputs": [],
   "source": [
    "sharks['Activity'].fillna('Other', inplace=True)"
   ]
  },
  {
   "attachments": {},
   "cell_type": "markdown",
   "metadata": {},
   "source": [
    "\n",
    "Name"
   ]
  },
  {
   "cell_type": "code",
   "execution_count": 2088,
   "metadata": {},
   "outputs": [
    {
     "data": {
      "text/plain": [
       "Year                         2\n",
       "Injury                      28\n",
       "Fatal                      539\n",
       "Species                   2838\n",
       "Investigator or Source      17\n",
       "href formula                 1\n",
       "Unnamed: 22               6299\n",
       "Unnamed: 23               6298\n",
       "dtype: int64"
      ]
     },
     "execution_count": 2088,
     "metadata": {},
     "output_type": "execute_result"
    }
   ],
   "source": [
    "nan_cols = sharks.isna().sum()\n",
    "\n",
    "nan_cols[nan_cols>0]"
   ]
  },
  {
   "cell_type": "code",
   "execution_count": 2089,
   "metadata": {},
   "outputs": [
    {
     "data": {
      "text/plain": [
       "Name\n",
       "Anonymous    1049\n",
       "Name: count, dtype: int64"
      ]
     },
     "execution_count": 2089,
     "metadata": {},
     "output_type": "execute_result"
    }
   ],
   "source": [
    "#Como los nombre deberían ser unicos voy a coger los valores\n",
    "#que se repiten más de una vez\n",
    "\n",
    "nombres = sharks['Name'].value_counts()\n",
    "nombres[nombres>2]"
   ]
  },
  {
   "cell_type": "code",
   "execution_count": 2090,
   "metadata": {},
   "outputs": [
    {
     "data": {
      "text/plain": [
       "Index(['Case Number', 'Date', 'Year', 'Type', 'Country', 'Area', 'Location',\n",
       "       'Activity', 'Name', 'Sex', 'Age', 'Injury', 'Fatal', 'Time', 'Species ',\n",
       "       'Investigator or Source', 'pdf', 'href formula', 'href',\n",
       "       'Case Number.1', 'Case Number.2', 'original order', 'Unnamed: 22',\n",
       "       'Unnamed: 23'],\n",
       "      dtype='object')"
      ]
     },
     "execution_count": 2090,
     "metadata": {},
     "output_type": "execute_result"
    }
   ],
   "source": [
    "sharks.columns"
   ]
  },
  {
   "cell_type": "code",
   "execution_count": 2091,
   "metadata": {},
   "outputs": [],
   "source": [
    "#voy a limpiar los que más se repiten uno a uno \n",
    "#male -> compruebo primero si en el genero esta vacio pero en el nombre\n",
    "#esta male, se lo añado\n",
    "\n",
    "sharks = sharks.rename(columns={'Sex ': 'Sex'})\n",
    "\n",
    "\n",
    "#al comparar con Sex veo que nombre tiene un espacio así que lo corrijo \n",
    "\n",
    "sharks[(sharks['Name'] == 'male') & (sharks['Sex'].isnull())]\n",
    "\n",
    "#ya he añadido male\n",
    "\n",
    "sharks.loc[(sharks['Type'] == 'male') & (sharks['Sex'].isnull()), 'Sex'] = 'M'"
   ]
  },
  {
   "cell_type": "code",
   "execution_count": 2092,
   "metadata": {},
   "outputs": [],
   "source": [
    "#ahora los que se llamen male lo paso a unknown \n",
    "\n",
    "sharks.loc[sharks['Name'] == 'male', 'Name'] = 'Anonymous'"
   ]
  },
  {
   "cell_type": "code",
   "execution_count": 2093,
   "metadata": {},
   "outputs": [],
   "source": [
    "#hago lo mismo con female\n",
    "\n",
    "sharks[(sharks['Name'] == 'female') & (sharks['Sex'].isnull())]\n",
    "\n",
    "#como no hay directamente pongo desconocido\n",
    "\n",
    "sharks.loc[sharks['Name'] == 'female', 'Name'] = 'Anonymous'\n"
   ]
  },
  {
   "cell_type": "code",
   "execution_count": 2094,
   "metadata": {},
   "outputs": [
    {
     "data": {
      "text/plain": [
       "Name\n",
       "Anonymous    1049\n",
       "Name: count, dtype: int64"
      ]
     },
     "execution_count": 2094,
     "metadata": {},
     "output_type": "execute_result"
    }
   ],
   "source": [
    "nombres = sharks['Name'].value_counts()\n",
    "nombres[nombres>2]"
   ]
  },
  {
   "cell_type": "code",
   "execution_count": 2095,
   "metadata": {},
   "outputs": [],
   "source": [
    "#lo mismo con boy\n",
    "\n",
    "sharks[(sharks['Name'] == 'boy') & (sharks['Sex'].isnull())]\n",
    "\n",
    "#ya he añadido male\n",
    "\n",
    "sharks.loc[sharks['Name'] == 'boy', 'Name'] = 'Anonymous'\n",
    "\n"
   ]
  },
  {
   "cell_type": "code",
   "execution_count": 2096,
   "metadata": {},
   "outputs": [],
   "source": [
    "#voy a agrupar los que me quedan en chico o chica y vuelvo a valorar\n",
    "\n",
    "#todos los chicos los meto en male y lo comparo con sexo\n",
    "males = ['2 males',  'males',  'sailor', 'males', 'a sailor', 'fisherman', 'a soldier','2 fishermen',  'black male',\n",
    " 'Arab boy',\n",
    " 'Zulu male',\n",
    " ' male', 'aboriginal male',\n",
    " 'Russian male','Japanese diver',  'native boy',]\n",
    "\n",
    "\n",
    "\n",
    "sharks[\"Name\"] = sharks[\"Name\"].replace(males, 'M')\n",
    "\n"
   ]
  },
  {
   "cell_type": "code",
   "execution_count": 2097,
   "metadata": {},
   "outputs": [],
   "source": [
    "sharks[(sharks['Name'] == 'M') & (sharks['Sex'].isnull())]\n",
    "sharks.loc[(sharks['Type'] == 'M') & (sharks['Sex'].isnull()), 'Sex'] = 'M'"
   ]
  },
  {
   "cell_type": "code",
   "execution_count": 2098,
   "metadata": {},
   "outputs": [],
   "source": [
    "sharks.loc[sharks['Name'] == 'M', 'Name'] = 'Anonymous'"
   ]
  },
  {
   "cell_type": "code",
   "execution_count": 2099,
   "metadata": {},
   "outputs": [
    {
     "data": {
      "text/plain": [
       "Name\n",
       "Anonymous    1049\n",
       "Name: count, dtype: int64"
      ]
     },
     "execution_count": 2099,
     "metadata": {},
     "output_type": "execute_result"
    }
   ],
   "source": [
    "nombres = sharks['Name'].value_counts()\n",
    "nombres[nombres>2]\n"
   ]
  },
  {
   "cell_type": "code",
   "execution_count": 2100,
   "metadata": {},
   "outputs": [],
   "source": [
    "#Los que no lleven nombre pasaran a ser anonimos\n",
    "#el nombre me da igual\n",
    "\n",
    "nombres = sharks['Name'].value_counts()\n",
    "nombres = nombres.index[nombres > 2] # seleccionar los nombres que aparecen más de 2 veces\n",
    "sharks.loc[sharks['Name'].isin(nombres), 'Name'] = 'Anonymous' # cambiar los nombres por 'Anonymous'\n"
   ]
  },
  {
   "cell_type": "code",
   "execution_count": 2101,
   "metadata": {},
   "outputs": [],
   "source": [
    "#hay 14 filas que tienen boat, las voy a comparar con la columna actividad \n",
    "#pero en vez que sea nulo que sea desconocido\n",
    "\n",
    "sharks[(sharks['Name'] == 'boat') & (sharks['Activity'] == 'Unknown')]\n",
    "sharks.loc[(sharks['Name'] == 'boat') & (sharks['Activity'] == 'Unknown'), 'Activity'] = 'Boating'"
   ]
  },
  {
   "cell_type": "code",
   "execution_count": 2102,
   "metadata": {},
   "outputs": [],
   "source": [
    "sharks['Name'] = sharks['Name'].fillna('Anonymous')\n"
   ]
  },
  {
   "attachments": {},
   "cell_type": "markdown",
   "metadata": {},
   "source": [
    "Sex"
   ]
  },
  {
   "cell_type": "code",
   "execution_count": 2103,
   "metadata": {},
   "outputs": [],
   "source": [
    "genero = sharks['Sex'].value_counts()\n",
    "lista_genero = genero[genero > 1].index.tolist()\n",
    "\n",
    "lista_genero\n",
    "\n",
    "#cambio la M con espacio y la N a una M de Male\n",
    "\n",
    "lista_genero_correct = ['M ', 'N','lli','.']\n",
    "\n",
    "sharks[\"Sex\"] = sharks[\"Sex\"].replace(lista_genero_correct, 'M')"
   ]
  },
  {
   "cell_type": "code",
   "execution_count": 2104,
   "metadata": {},
   "outputs": [
    {
     "data": {
      "text/plain": [
       "Sex\n",
       "M          5098\n",
       "F           637\n",
       "Unknown     565\n",
       "Name: count, dtype: int64"
      ]
     },
     "execution_count": 2104,
     "metadata": {},
     "output_type": "execute_result"
    }
   ],
   "source": [
    "#comprobamos que solo tenemos o macho o female\n",
    "\n",
    "genero = sharks['Sex'].value_counts()\n",
    "genero[genero > 0]"
   ]
  },
  {
   "cell_type": "code",
   "execution_count": 2105,
   "metadata": {},
   "outputs": [
    {
     "data": {
      "text/plain": [
       "0"
      ]
     },
     "execution_count": 2105,
     "metadata": {},
     "output_type": "execute_result"
    }
   ],
   "source": [
    "sharks['Sex'].isnull().sum()"
   ]
  },
  {
   "cell_type": "code",
   "execution_count": 2106,
   "metadata": {},
   "outputs": [],
   "source": [
    "sharks['Sex'] = sharks['Sex'].fillna('Unknown')"
   ]
  },
  {
   "attachments": {},
   "cell_type": "markdown",
   "metadata": {},
   "source": [
    "Age"
   ]
  },
  {
   "cell_type": "code",
   "execution_count": 2107,
   "metadata": {},
   "outputs": [
    {
     "data": {
      "text/plain": [
       "Age\n",
       "84    1\n",
       "82    1\n",
       "87    1\n",
       "67    1\n",
       "72    1\n",
       "4     1\n",
       "81    1\n",
       "86    1\n",
       "Name: count, dtype: int64"
      ]
     },
     "execution_count": 2107,
     "metadata": {},
     "output_type": "execute_result"
    }
   ],
   "source": [
    "edad = sharks['Age'].value_counts()\n",
    "edad[edad==1]"
   ]
  },
  {
   "cell_type": "code",
   "execution_count": 2108,
   "metadata": {},
   "outputs": [
    {
     "data": {
      "text/plain": [
       "[84, 82, 87, 67, 72, 4, 81, 86]"
      ]
     },
     "execution_count": 2108,
     "metadata": {},
     "output_type": "execute_result"
    }
   ],
   "source": [
    "edad_unica = edad[edad==1].index.tolist()\n",
    "edad_unica"
   ]
  },
  {
   "cell_type": "code",
   "execution_count": 2109,
   "metadata": {},
   "outputs": [
    {
     "data": {
      "text/plain": [
       "int"
      ]
     },
     "execution_count": 2109,
     "metadata": {},
     "output_type": "execute_result"
    }
   ],
   "source": [
    "type(sharks['Age'][0])"
   ]
  },
  {
   "cell_type": "code",
   "execution_count": 2110,
   "metadata": {},
   "outputs": [
    {
     "data": {
      "text/plain": [
       "Age\n",
       "Unknown    2868\n",
       "17          156\n",
       "18          153\n",
       "20          150\n",
       "19          142\n",
       "           ... \n",
       "67            1\n",
       "72            1\n",
       "4             1\n",
       "81            1\n",
       "86            1\n",
       "Name: count, Length: 83, dtype: int64"
      ]
     },
     "execution_count": 2110,
     "metadata": {},
     "output_type": "execute_result"
    }
   ],
   "source": [
    "#Rellenamos los valores nulos con desconocido, a lo mejor relleno con cero no se...\n",
    "\n",
    "sharks.Age = sharks.Age.fillna('Unknown').astype(str)\n",
    "\n",
    "#para los que sean strings me quedo con los dos primeros caracteres\n",
    "\n",
    "sharks.Age = sharks.Age.apply(lambda z: z[:2])\n",
    "\n",
    "#convierto otra vez a string\n",
    "\n",
    "sharks.Age = sharks.Age.astype(str)\n",
    "\n",
    "#ahora convierto el string a int si no se puede pasa a ser desconcido \n",
    "\n",
    "def go(xx):\n",
    "    try:\n",
    "        return int(xx)\n",
    "    except:\n",
    "        return 'Unknown'\n",
    "\n",
    "sharks.Age = sharks.Age.apply(go)\n",
    "sharks.Age.value_counts()"
   ]
  },
  {
   "attachments": {},
   "cell_type": "markdown",
   "metadata": {},
   "source": [
    "Injury"
   ]
  },
  {
   "cell_type": "code",
   "execution_count": 2111,
   "metadata": {},
   "outputs": [
    {
     "data": {
      "text/plain": [
       "Injury\n",
       "FATAL                                                                                     802\n",
       "Survived                                                                                   97\n",
       "Foot bitten                                                                                87\n",
       "No injury                                                                                  81\n",
       "Leg bitten                                                                                 72\n",
       "                                                                                         ... \n",
       "Cut foot, but injury caused by fishing line, not the shark                                  1\n",
       "Left foot bitten after he accidentally stepped on the shark         PROVOKED INCIDENT       1\n",
       "2 puncture wounds in left leg                                                               1\n",
       "PROVOKED INCIDENT    Knee bitten by shark trapped in net                                    1\n",
       "FATAL. \"Shark bit him in half, carrying away the lower extremities\"                         1\n",
       "Name: count, Length: 3737, dtype: int64"
      ]
     },
     "execution_count": 2111,
     "metadata": {},
     "output_type": "execute_result"
    }
   ],
   "source": [
    "edad = sharks['Injury'].value_counts()\n",
    "edad[edad>0]"
   ]
  },
  {
   "cell_type": "code",
   "execution_count": 2112,
   "metadata": {},
   "outputs": [
    {
     "data": {
      "text/plain": [
       "28"
      ]
     },
     "execution_count": 2112,
     "metadata": {},
     "output_type": "execute_result"
    }
   ],
   "source": [
    "sharks['Injury'].isnull().sum()\n",
    "\n"
   ]
  },
  {
   "cell_type": "code",
   "execution_count": 2274,
   "metadata": {},
   "outputs": [],
   "source": [
    "#como solo hay una vamos a rellenar los valores nulos de Injury con Survived\n",
    "#al final son 28 \n",
    "\n",
    "mask = (sharks['Fatal'] == 'Y') & (sharks['Injury'].isnull())\n",
    "fatal_y_injury_null = sharks[mask]\n",
    "fatal_y_injury_null\n",
    "\n",
    "sharks['Injury'] = sharks['Injury'].fillna('Survived')\n"
   ]
  },
  {
   "attachments": {},
   "cell_type": "markdown",
   "metadata": {},
   "source": [
    "Fatal"
   ]
  },
  {
   "cell_type": "code",
   "execution_count": 2275,
   "metadata": {},
   "outputs": [
    {
     "data": {
      "text/plain": [
       "Fatal\n",
       "N     4299\n",
       "Y     1388\n",
       "NA     611\n",
       "Name: count, dtype: int64"
      ]
     },
     "execution_count": 2275,
     "metadata": {},
     "output_type": "execute_result"
    }
   ],
   "source": [
    "'Fatal (Y/N)'\n",
    "\n",
    "sharks = sharks.rename(columns={'Fatal (Y/N)': 'Fatal'})\n",
    "\n",
    "muerte = sharks['Fatal'].value_counts()\n",
    "muerte[muerte>0]"
   ]
  },
  {
   "cell_type": "code",
   "execution_count": 2276,
   "metadata": {},
   "outputs": [],
   "source": [
    "#donde fatal sea unknown o nan e injury sea fatal\n",
    "\n",
    "sharks[(sharks['Fatal'].isnull()) & (sharks['Injury'] == 'FATAL')]\n",
    "sharks.loc[((sharks['Fatal'] == 'UNKNOWN') & (sharks['Fatal'].isnull())) & (sharks['Injury'] == 'FATAL'), 'Fatal'] = 'Y'\n",
    "\n"
   ]
  },
  {
   "cell_type": "code",
   "execution_count": 2277,
   "metadata": {},
   "outputs": [],
   "source": [
    "fatal = sharks['Fatal'].value_counts()"
   ]
  },
  {
   "cell_type": "code",
   "execution_count": 2278,
   "metadata": {},
   "outputs": [
    {
     "data": {
      "text/plain": [
       "Fatal\n",
       "N     4299\n",
       "Y     1388\n",
       "NA     611\n",
       "Name: count, dtype: int64"
      ]
     },
     "execution_count": 2278,
     "metadata": {},
     "output_type": "execute_result"
    }
   ],
   "source": [
    "fatal\n"
   ]
  },
  {
   "cell_type": "code",
   "execution_count": 2279,
   "metadata": {},
   "outputs": [
    {
     "data": {
      "text/plain": [
       "array(['N', 'Y', 'NA'], dtype=object)"
      ]
     },
     "execution_count": 2279,
     "metadata": {},
     "output_type": "execute_result"
    }
   ],
   "source": [
    "sharks['Fatal'].unique()"
   ]
  },
  {
   "cell_type": "code",
   "execution_count": 2280,
   "metadata": {},
   "outputs": [],
   "source": [
    "#lo que se parezca a yes o no lo cambio para agrupar valores\n",
    "\n",
    "sharks[\"Fatal\"] = sharks[\"Fatal\"].replace(' N', 'N')\n",
    "sharks[\"Fatal\"] = sharks[\"Fatal\"].replace('N ', 'N')\n",
    "\n",
    "sharks[\"Fatal\"] = sharks[\"Fatal\"].replace('y', 'Y')\n",
    "\n",
    "#LOS QUE NO ENCAJAN LOS PASO A DESCONOCIDO \n",
    "\n",
    "sharks[\"Fatal\"] = sharks[\"Fatal\"].replace('M', 'UNKNOWN')\n",
    "sharks[\"Fatal\"] = sharks[\"Fatal\"].replace('2017', 'UNKNOWN')\n"
   ]
  },
  {
   "cell_type": "code",
   "execution_count": 2281,
   "metadata": {},
   "outputs": [
    {
     "data": {
      "text/plain": [
       "Fatal\n",
       "N     4299\n",
       "Y     1388\n",
       "NA     611\n",
       "Name: count, dtype: int64"
      ]
     },
     "execution_count": 2281,
     "metadata": {},
     "output_type": "execute_result"
    }
   ],
   "source": [
    "sharks['Fatal'].value_counts()"
   ]
  },
  {
   "cell_type": "code",
   "execution_count": 2282,
   "metadata": {},
   "outputs": [],
   "source": [
    "sharks[\"Fatal\"] = sharks[\"Fatal\"].replace('UNKNOWN', 'NA')\n",
    "sharks[\"Fatal\"] = sharks[\"Fatal\"].fillna('NA')"
   ]
  },
  {
   "attachments": {},
   "cell_type": "markdown",
   "metadata": {},
   "source": [
    "Time"
   ]
  },
  {
   "attachments": {},
   "cell_type": "markdown",
   "metadata": {},
   "source": []
  },
  {
   "cell_type": "code",
   "execution_count": 2283,
   "metadata": {},
   "outputs": [
    {
     "data": {
      "text/plain": [
       "Time\n",
       "Unknown        3352\n",
       "Afternoon       187\n",
       "11h00           128\n",
       "Morning         121\n",
       "12h00           109\n",
       "               ... \n",
       "14h37             1\n",
       "10h07             1\n",
       "13h53             1\n",
       "13h23             1\n",
       "19h00-20h00       1\n",
       "Name: count, Length: 367, dtype: int64"
      ]
     },
     "execution_count": 2283,
     "metadata": {},
     "output_type": "execute_result"
    }
   ],
   "source": [
    "hora = sharks['Time'].value_counts()\n",
    "hora[hora>0]"
   ]
  },
  {
   "cell_type": "code",
   "execution_count": 2284,
   "metadata": {},
   "outputs": [
    {
     "name": "stdout",
     "output_type": "stream",
     "text": [
      "0        True\n",
      "1       False\n",
      "2        True\n",
      "3       False\n",
      "4       False\n",
      "        ...  \n",
      "6297    False\n",
      "6298    False\n",
      "6299    False\n",
      "6300    False\n",
      "6301    False\n",
      "Name: Time, Length: 6298, dtype: bool\n"
     ]
    }
   ],
   "source": [
    "#los valores nulos pasan a desconocido \n",
    "\n",
    "\n",
    "sharks['Time'].fillna('Unknown', inplace=True)\n",
    "\n",
    "#se cambia el formato de la hora\n",
    "\n",
    "hora = sharks['Time'].str.contains('^\\d+h\\d+$')\n",
    "\n",
    "print(hora)\n",
    "\n",
    "sharks.loc[hora, 'Time'] = sharks.loc[hora, 'Time'].str.replace(r'(^\\d+)h(\\d+)', r'\\1:\\2')"
   ]
  },
  {
   "cell_type": "code",
   "execution_count": 2285,
   "metadata": {},
   "outputs": [
    {
     "data": {
      "text/plain": [
       "array(['14h00  -15h00', 'Unknown', 'Late afternoon', 'Morning',\n",
       "       'Afternoon', '19h00, Dusk', 'Night', 'Midday',\n",
       "       'Shortly before 12h00', 'After noon', '1300', '14h30 / 15h30',\n",
       "       'Morning ', 'Midnight', '09h30 / 10h00', '10h45-11h15', 'Evening',\n",
       "       'Sometime between 06h00 & 08hoo', 'Early afternoon',\n",
       "       '07h00 - 08h00', '18h15-18h30', '09h00 - 09h30', '0830',\n",
       "       'Just before noon', '1600', 'Early morning', 'Dawn', 'AM', 'A.M.',\n",
       "       'Dusk', 'Lunchtime', '15j45', '0500', 'Before 07h00',\n",
       "       '10h00 -- 11h00', '\"Just before 11h00\"', 'Sunset', '  ',\n",
       "       '\"Evening\"', 'Just before sundown', '11h30 ',\n",
       "       'Between 05h00 and 08h00', '17h00 or 17h40', '>08h00', '--',\n",
       "       'Just after 12h00', ' ', 'Early Morning', 'Shortly after midnight',\n",
       "       '\\xa0 ', '09h00 -10h00', '20h45 (Sunset)', 'Late morning', 'P.M.',\n",
       "       'Shortly before 13h00', '8:04 pm',\n",
       "       'Possibly same incident as 2000.08.21', 'After Dusk', 'Noon',\n",
       "       '2 hours after Opperman', '09h30 ', 'Mid afternoon', 'Mid morning',\n",
       "       '11h00 / 11h30', '\"Night\"', '18h30?',\n",
       "       '30 minutes after 1992.07.08.a', '>06h45', 'Between 06h00 & 07h20',\n",
       "       '<07h30', '17h00 Sunset', 'Nightfall', 'X', '18h30 (Sunset)',\n",
       "       '06j00', 'Prior to 10h37', 'Daybreak', '>12h00', 'Mid-morning',\n",
       "       '16h30 or 18h00', 'Just before dawn', ' 14h00', 'Daytime', 'Dark',\n",
       "       '10h00 / 11h00', '\"After lunch\"', '15h00 or 15h45', '>17h00',\n",
       "       '19h00 / 20h00', '12h45 / 13h45', '14h00 - 15h00', 'night',\n",
       "       '03h45 - 04h00', '09h30 / 15h30', '08h00 / 09h30',\n",
       "       '12h00 to 14h00', 'Late night', '10h30 or 13h30', '15h00j',\n",
       "       'Midday.', '\"After dark\"', '10h00 or 14h00', '2 hrs before sunset',\n",
       "       '18h15 to 21h30', '1500', '\"shortly before dusk\"', '>17h30',\n",
       "       '>14h30', 'Between 11h00 & 12h00', 'After 04h00',\n",
       "       '11h01 -time of ship sinking', 'Ship aban-doned at 03h10',\n",
       "       'After dusk',\n",
       "       'FATAL  (Wire netting installed at local beaches after this incident.)',\n",
       "       'After midnight', 'Late afternon', '\"Early evening\"',\n",
       "       'Late Afternoon', '   ', 'Before daybreak', 'dusk', 'Before 10h30',\n",
       "       '06h00 -- 07h00', '17h00-18h00', '19h00-20h00'], dtype=object)"
      ]
     },
     "execution_count": 2285,
     "metadata": {},
     "output_type": "execute_result"
    }
   ],
   "source": [
    "sharks['Time'].unique()\n",
    "\n",
    "\n",
    "time_values = sharks.loc[~sharks['Time'].str.contains('^\\d+h\\d+$'), 'Time'].unique()\n",
    "time_values"
   ]
  },
  {
   "cell_type": "code",
   "execution_count": 2286,
   "metadata": {},
   "outputs": [
    {
     "data": {
      "text/plain": [
       "Time                                                                 \n",
       "                                                                         1\n",
       "                                                                         1\n",
       "Just before sundown                                                      1\n",
       "Late Afternoon                                                           1\n",
       "Late afternon                                                            1\n",
       "Late afternoon                                                           1\n",
       "Late morning                                                             1\n",
       "Late night                                                               1\n",
       "Lunchtime                                                                1\n",
       "Mid afternoon                                                            1\n",
       "Mid morning                                                              1\n",
       "Mid-morning                                                              1\n",
       "Midday                                                                   1\n",
       "Midday.                                                                  1\n",
       "Midnight                                                                 1\n",
       "Morning                                                                  1\n",
       "Morning                                                                  1\n",
       "Night                                                                    1\n",
       "Nightfall                                                                1\n",
       "Noon                                                                     1\n",
       "P.M.                                                                     1\n",
       "Shortly after midnight                                                   1\n",
       "Sunset                                                                   1\n",
       "Unknown                                                                  1\n",
       "X                                                                        1\n",
       "dusk                                                                     1\n",
       "night                                                                    1\n",
       "Just before noon                                                         1\n",
       "Just before dawn                                                         1\n",
       "FATAL  (Wire netting installed at local beaches after this incident.)    1\n",
       "After dusk                                                               1\n",
       "                                                                         1\n",
       "\"After dark\"                                                             1\n",
       "\"After lunch\"                                                            1\n",
       "\"Early evening\"                                                          1\n",
       "\"Evening\"                                                                1\n",
       "\"Night\"                                                                  1\n",
       "\"shortly before dusk\"                                                    1\n",
       "--                                                                       1\n",
       "A.M.                                                                     1\n",
       "AM                                                                       1\n",
       "After Dusk                                                               1\n",
       "After midnight                                                           1\n",
       "Evening                                                                  1\n",
       "After noon                                                               1\n",
       "Afternoon                                                                1\n",
       "Before daybreak                                                          1\n",
       "Dark                                                                     1\n",
       "Dawn                                                                     1\n",
       "Daybreak                                                                 1\n",
       "Daytime                                                                  1\n",
       "Dusk                                                                     1\n",
       "Early Morning                                                            1\n",
       "Early afternoon                                                          1\n",
       "Early morning                                                            1\n",
       "                                                                         1\n",
       "Name: count, dtype: int64"
      ]
     },
     "execution_count": 2286,
     "metadata": {},
     "output_type": "execute_result"
    }
   ],
   "source": [
    "import re\n",
    "pattern = re.compile(r'^\\D*$')\n",
    "filtered_values = [value for value in time_values if pattern.match(value)]\n",
    "filtered_values\n",
    "\n",
    "value_counts = pd.DataFrame({'Time': filtered_values}).value_counts()\n",
    "value_counts"
   ]
  },
  {
   "cell_type": "code",
   "execution_count": 2287,
   "metadata": {},
   "outputs": [],
   "source": [
    "#Agrupamos valores\n",
    "\n"
   ]
  },
  {
   "cell_type": "code",
   "execution_count": 2288,
   "metadata": {},
   "outputs": [
    {
     "data": {
      "text/plain": [
       "0            18h00\n",
       "1    14h00  -15h00\n",
       "2            07h45\n",
       "3          Unknown\n",
       "4          Unknown\n",
       "Name: Time, dtype: object"
      ]
     },
     "execution_count": 2288,
     "metadata": {},
     "output_type": "execute_result"
    }
   ],
   "source": [
    "sharks['Time'].head()"
   ]
  },
  {
   "cell_type": "code",
   "execution_count": 2289,
   "metadata": {},
   "outputs": [
    {
     "data": {
      "text/html": [
       "<div>\n",
       "<style scoped>\n",
       "    .dataframe tbody tr th:only-of-type {\n",
       "        vertical-align: middle;\n",
       "    }\n",
       "\n",
       "    .dataframe tbody tr th {\n",
       "        vertical-align: top;\n",
       "    }\n",
       "\n",
       "    .dataframe thead th {\n",
       "        text-align: right;\n",
       "    }\n",
       "</style>\n",
       "<table border=\"1\" class=\"dataframe\">\n",
       "  <thead>\n",
       "    <tr style=\"text-align: right;\">\n",
       "      <th></th>\n",
       "      <th>Case Number</th>\n",
       "      <th>Date</th>\n",
       "      <th>Year</th>\n",
       "      <th>Type</th>\n",
       "      <th>Country</th>\n",
       "      <th>Area</th>\n",
       "      <th>Location</th>\n",
       "      <th>Activity</th>\n",
       "      <th>Name</th>\n",
       "      <th>Sex</th>\n",
       "      <th>...</th>\n",
       "      <th>Species</th>\n",
       "      <th>Investigator or Source</th>\n",
       "      <th>Case File (PDF)</th>\n",
       "      <th>href formula</th>\n",
       "      <th>Case File (URL)</th>\n",
       "      <th>Month</th>\n",
       "      <th>Case Number.2</th>\n",
       "      <th>original order</th>\n",
       "      <th>Unnamed: 22</th>\n",
       "      <th>Unnamed: 23</th>\n",
       "    </tr>\n",
       "  </thead>\n",
       "  <tbody>\n",
       "    <tr>\n",
       "      <th>0</th>\n",
       "      <td>2018.06.25</td>\n",
       "      <td>25-Jun-2018</td>\n",
       "      <td>2018</td>\n",
       "      <td>Boating</td>\n",
       "      <td>USA</td>\n",
       "      <td>California</td>\n",
       "      <td>Oceanside, San Diego County</td>\n",
       "      <td>Paddling</td>\n",
       "      <td>Julie Wolfe</td>\n",
       "      <td>F</td>\n",
       "      <td>...</td>\n",
       "      <td>White shark</td>\n",
       "      <td>R. Collier, GSAF</td>\n",
       "      <td>2018.06.25-Wolfe.pdf</td>\n",
       "      <td>http://sharkattackfile.net/spreadsheets/pdf_di...</td>\n",
       "      <td>http://sharkattackfile.net/spreadsheets/pdf_di...</td>\n",
       "      <td>Jun</td>\n",
       "      <td>2018.06.25</td>\n",
       "      <td>6303.0</td>\n",
       "      <td>NaN</td>\n",
       "      <td>NaN</td>\n",
       "    </tr>\n",
       "    <tr>\n",
       "      <th>1</th>\n",
       "      <td>2018.06.18</td>\n",
       "      <td>18-Jun-2018</td>\n",
       "      <td>2018</td>\n",
       "      <td>Unprovoked</td>\n",
       "      <td>USA</td>\n",
       "      <td>Georgia</td>\n",
       "      <td>St. Simon Island, Glynn County</td>\n",
       "      <td>Standing</td>\n",
       "      <td>Adyson McNeely</td>\n",
       "      <td>F</td>\n",
       "      <td>...</td>\n",
       "      <td>Other</td>\n",
       "      <td>K.McMurray, TrackingSharks.com</td>\n",
       "      <td>2018.06.18-McNeely.pdf</td>\n",
       "      <td>http://sharkattackfile.net/spreadsheets/pdf_di...</td>\n",
       "      <td>http://sharkattackfile.net/spreadsheets/pdf_di...</td>\n",
       "      <td>Jun</td>\n",
       "      <td>2018.06.18</td>\n",
       "      <td>6302.0</td>\n",
       "      <td>NaN</td>\n",
       "      <td>NaN</td>\n",
       "    </tr>\n",
       "    <tr>\n",
       "      <th>2</th>\n",
       "      <td>2018.06.09</td>\n",
       "      <td>09-Jun-2018</td>\n",
       "      <td>2018</td>\n",
       "      <td>Invalid</td>\n",
       "      <td>USA</td>\n",
       "      <td>Hawaii</td>\n",
       "      <td>Habush, Oahu</td>\n",
       "      <td>Surfing</td>\n",
       "      <td>John Denges</td>\n",
       "      <td>M</td>\n",
       "      <td>...</td>\n",
       "      <td>Other</td>\n",
       "      <td>K.McMurray, TrackingSharks.com</td>\n",
       "      <td>2018.06.09-Denges.pdf</td>\n",
       "      <td>http://sharkattackfile.net/spreadsheets/pdf_di...</td>\n",
       "      <td>http://sharkattackfile.net/spreadsheets/pdf_di...</td>\n",
       "      <td>Jun</td>\n",
       "      <td>2018.06.09</td>\n",
       "      <td>6301.0</td>\n",
       "      <td>NaN</td>\n",
       "      <td>NaN</td>\n",
       "    </tr>\n",
       "    <tr>\n",
       "      <th>3</th>\n",
       "      <td>2018.06.08</td>\n",
       "      <td>08-Jun-2018</td>\n",
       "      <td>2018</td>\n",
       "      <td>Unprovoked</td>\n",
       "      <td>AUSTRALIA</td>\n",
       "      <td>New South Wales</td>\n",
       "      <td>Arrawarra Headland</td>\n",
       "      <td>Surfing</td>\n",
       "      <td>Anonymous</td>\n",
       "      <td>M</td>\n",
       "      <td>...</td>\n",
       "      <td>2 m shark</td>\n",
       "      <td>B. Myatt, GSAF</td>\n",
       "      <td>2018.06.08-Arrawarra.pdf</td>\n",
       "      <td>http://sharkattackfile.net/spreadsheets/pdf_di...</td>\n",
       "      <td>http://sharkattackfile.net/spreadsheets/pdf_di...</td>\n",
       "      <td>Jun</td>\n",
       "      <td>2018.06.08</td>\n",
       "      <td>6300.0</td>\n",
       "      <td>NaN</td>\n",
       "      <td>NaN</td>\n",
       "    </tr>\n",
       "    <tr>\n",
       "      <th>4</th>\n",
       "      <td>2018.06.04</td>\n",
       "      <td>04-Jun-2018</td>\n",
       "      <td>2018</td>\n",
       "      <td>Provoked</td>\n",
       "      <td>MEXICO</td>\n",
       "      <td>Colima</td>\n",
       "      <td>La Ticla</td>\n",
       "      <td>Free diving</td>\n",
       "      <td>Gustavo Ramos</td>\n",
       "      <td>M</td>\n",
       "      <td>...</td>\n",
       "      <td>Tiger shark, 3m</td>\n",
       "      <td>A .Kipper</td>\n",
       "      <td>2018.06.04-Ramos.pdf</td>\n",
       "      <td>http://sharkattackfile.net/spreadsheets/pdf_di...</td>\n",
       "      <td>http://sharkattackfile.net/spreadsheets/pdf_di...</td>\n",
       "      <td>Jun</td>\n",
       "      <td>2018.06.04</td>\n",
       "      <td>6299.0</td>\n",
       "      <td>NaN</td>\n",
       "      <td>NaN</td>\n",
       "    </tr>\n",
       "  </tbody>\n",
       "</table>\n",
       "<p>5 rows × 24 columns</p>\n",
       "</div>"
      ],
      "text/plain": [
       "  Case Number         Date  Year        Type    Country             Area   \n",
       "0  2018.06.25  25-Jun-2018  2018     Boating        USA       California  \\\n",
       "1  2018.06.18  18-Jun-2018  2018  Unprovoked        USA          Georgia   \n",
       "2  2018.06.09  09-Jun-2018  2018     Invalid        USA           Hawaii   \n",
       "3  2018.06.08  08-Jun-2018  2018  Unprovoked  AUSTRALIA  New South Wales   \n",
       "4  2018.06.04  04-Jun-2018  2018    Provoked     MEXICO           Colima   \n",
       "\n",
       "                         Location     Activity             Name Sex  ...   \n",
       "0     Oceanside, San Diego County     Paddling      Julie Wolfe   F  ...  \\\n",
       "1  St. Simon Island, Glynn County     Standing  Adyson McNeely    F  ...   \n",
       "2                    Habush, Oahu      Surfing      John Denges   M  ...   \n",
       "3              Arrawarra Headland      Surfing        Anonymous   M  ...   \n",
       "4                        La Ticla  Free diving   Gustavo Ramos    M  ...   \n",
       "\n",
       "           Species          Investigator or Source           Case File (PDF)   \n",
       "0      White shark                R. Collier, GSAF      2018.06.25-Wolfe.pdf  \\\n",
       "1            Other  K.McMurray, TrackingSharks.com    2018.06.18-McNeely.pdf   \n",
       "2            Other  K.McMurray, TrackingSharks.com     2018.06.09-Denges.pdf   \n",
       "3        2 m shark                  B. Myatt, GSAF  2018.06.08-Arrawarra.pdf   \n",
       "4  Tiger shark, 3m                       A .Kipper      2018.06.04-Ramos.pdf   \n",
       "\n",
       "                                        href formula   \n",
       "0  http://sharkattackfile.net/spreadsheets/pdf_di...  \\\n",
       "1  http://sharkattackfile.net/spreadsheets/pdf_di...   \n",
       "2  http://sharkattackfile.net/spreadsheets/pdf_di...   \n",
       "3  http://sharkattackfile.net/spreadsheets/pdf_di...   \n",
       "4  http://sharkattackfile.net/spreadsheets/pdf_di...   \n",
       "\n",
       "                                     Case File (URL) Month Case Number.2   \n",
       "0  http://sharkattackfile.net/spreadsheets/pdf_di...   Jun    2018.06.25  \\\n",
       "1  http://sharkattackfile.net/spreadsheets/pdf_di...   Jun    2018.06.18   \n",
       "2  http://sharkattackfile.net/spreadsheets/pdf_di...   Jun    2018.06.09   \n",
       "3  http://sharkattackfile.net/spreadsheets/pdf_di...   Jun    2018.06.08   \n",
       "4  http://sharkattackfile.net/spreadsheets/pdf_di...   Jun    2018.06.04   \n",
       "\n",
       "  original order Unnamed: 22 Unnamed: 23  \n",
       "0         6303.0         NaN         NaN  \n",
       "1         6302.0         NaN         NaN  \n",
       "2         6301.0         NaN         NaN  \n",
       "3         6300.0         NaN         NaN  \n",
       "4         6299.0         NaN         NaN  \n",
       "\n",
       "[5 rows x 24 columns]"
      ]
     },
     "execution_count": 2289,
     "metadata": {},
     "output_type": "execute_result"
    }
   ],
   "source": [
    "sharks.head()"
   ]
  },
  {
   "attachments": {},
   "cell_type": "markdown",
   "metadata": {},
   "source": [
    "Species"
   ]
  },
  {
   "cell_type": "code",
   "execution_count": 2290,
   "metadata": {},
   "outputs": [
    {
     "data": {
      "text/plain": [
       "Species\n",
       "Other                              2837\n",
       "Shark involvement not confirmed     430\n",
       "White shark                         163\n",
       "Tiger shark                          73\n",
       "Bull shark                           51\n",
       "6' shark                             40\n",
       "4' shark                             40\n",
       "1.8 m [6'] shark                     35\n",
       "1.5 m [5'] shark                     32\n",
       "Name: count, dtype: int64"
      ]
     },
     "execution_count": 2290,
     "metadata": {},
     "output_type": "execute_result"
    }
   ],
   "source": [
    "sharks = sharks.rename(columns={'Species ': 'Species'})\n",
    "\n",
    "especie = sharks['Species'].value_counts()\n",
    "especie[especie>30]"
   ]
  },
  {
   "cell_type": "code",
   "execution_count": 2291,
   "metadata": {},
   "outputs": [],
   "source": [
    "#observo las que más se repiten y agrupo para limpiar"
   ]
  },
  {
   "cell_type": "code",
   "execution_count": 2292,
   "metadata": {},
   "outputs": [
    {
     "data": {
      "text/plain": [
       "'\\n\\na_reemplazar = [\\'Shark involvement prior to death was not confirmed\\',\\'Invalid\\',\\'Shark involvement not confirmed\\',\\'Shark involvement prior to death unconfirmed\\',\\'Questionable incident\\', \\'Questionable\\'   ]\\n\\n\\n# Reemplazar los valores en la columna \"nombre_columna\" por \"not confirmed\"\\nsharks[\\'Species\\'] = sharks[\\'Species\\'].replace(a_reemplazar, \\'Shark involvement not confirmed\\', inplace=True)\\n\\n'"
      ]
     },
     "execution_count": 2292,
     "metadata": {},
     "output_type": "execute_result"
    }
   ],
   "source": [
    "'''\n",
    "\n",
    "a_reemplazar = ['Shark involvement prior to death was not confirmed','Invalid','Shark involvement not confirmed','Shark involvement prior to death unconfirmed','Questionable incident', 'Questionable'   ]\n",
    "\n",
    "\n",
    "# Reemplazar los valores en la columna \"nombre_columna\" por \"not confirmed\"\n",
    "sharks['Species'] = sharks['Species'].replace(a_reemplazar, 'Shark involvement not confirmed', inplace=True)\n",
    "\n",
    "'''\n"
   ]
  },
  {
   "cell_type": "code",
   "execution_count": 2293,
   "metadata": {},
   "outputs": [
    {
     "data": {
      "text/plain": [
       "Species\n",
       "Other                              2837\n",
       "Shark involvement not confirmed     430\n",
       "White shark                         163\n",
       "Tiger shark                          73\n",
       "Bull shark                           51\n",
       "6' shark                             40\n",
       "4' shark                             40\n",
       "1.8 m [6'] shark                     35\n",
       "1.5 m [5'] shark                     32\n",
       "Name: count, dtype: int64"
      ]
     },
     "execution_count": 2293,
     "metadata": {},
     "output_type": "execute_result"
    }
   ],
   "source": [
    "especie = sharks['Species'].value_counts()\n",
    "especie[especie>30]"
   ]
  },
  {
   "cell_type": "code",
   "execution_count": 2294,
   "metadata": {},
   "outputs": [],
   "source": [
    "sharks[\"Species\"] = sharks[\"Species\"].replace('Shark involvement prior to death was not confirmed', 'Shark involvement not confirmed')\n",
    "sharks[\"Species\"] = sharks[\"Species\"].replace('Invalid', 'Shark involvement not confirmed')\n",
    "sharks[\"Species\"] = sharks[\"Species\"].replace('Shark involvement prior to death unconfirmed', 'Shark involvement not confirmed')\n",
    "sharks[\"Species\"] = sharks[\"Species\"].replace('Questionable incident', 'Shark involvement not confirmed')\n",
    "sharks[\"Species\"] = sharks[\"Species\"].replace('Questionable', 'Shark involvement not confirmed')\n",
    "sharks[\"Species\"] = sharks[\"Species\"].replace('Questionable', 'Shark involvement not confirmed')\n"
   ]
  },
  {
   "cell_type": "code",
   "execution_count": 2295,
   "metadata": {},
   "outputs": [
    {
     "data": {
      "text/plain": [
       "Species\n",
       "Other                                             2837\n",
       "Shark involvement not confirmed                    430\n",
       "White shark                                        163\n",
       "Tiger shark                                         73\n",
       "Bull shark                                          51\n",
       "6' shark                                            40\n",
       "4' shark                                            40\n",
       "1.8 m [6'] shark                                    35\n",
       "1.5 m [5'] shark                                    32\n",
       "1.2 m [4'] shark                                    27\n",
       "3' shark                                            26\n",
       "5' shark                                            26\n",
       "2 m shark                                           25\n",
       "4' to 5' shark                                      24\n",
       "3 m [10'] shark                                     22\n",
       "No shark involvement                                21\n",
       "Wobbegong shark                                     21\n",
       "3' to 4' shark                                      18\n",
       "3 m shark                                           17\n",
       "2.4 m [8'] shark                                    16\n",
       "3.7 m [12'] shark                                   15\n",
       "Blacktip shark                                      15\n",
       "12' shark                                           15\n",
       "Blue shark                                          14\n",
       "1.2 m to 1.5 m [4' to 5'] shark                     14\n",
       "\"a small shark\"                                     13\n",
       "Shark involvement prior to death not confirmed      13\n",
       "1.5 m shark                                         13\n",
       "Mako shark                                          13\n",
       "7' shark                                            13\n",
       "Raggedtooth shark                                   12\n",
       "6 m [20'] white shark                               12\n",
       "5 m [16.5'] white shark                             12\n",
       "Nurse shark                                         12\n",
       "Bronze whaler shark                                 12\n",
       "10' shark                                           12\n",
       "Grey nurse shark                                    11\n",
       "Zambesi shark                                       11\n",
       "Name: count, dtype: int64"
      ]
     },
     "execution_count": 2295,
     "metadata": {},
     "output_type": "execute_result"
    }
   ],
   "source": [
    "especie = sharks['Species'].value_counts()\n",
    "especie[especie>10]"
   ]
  },
  {
   "cell_type": "code",
   "execution_count": 2296,
   "metadata": {},
   "outputs": [],
   "source": [
    "sharks['Species'].fillna('Other', inplace=True)"
   ]
  },
  {
   "attachments": {},
   "cell_type": "markdown",
   "metadata": {},
   "source": [
    "Investigator or Source"
   ]
  },
  {
   "cell_type": "code",
   "execution_count": 2297,
   "metadata": {},
   "outputs": [
    {
     "data": {
      "text/plain": [
       "Investigator or Source\n",
       "C. Moore, GSAF                                     104\n",
       "C. Creswell, GSAF                                   92\n",
       "S. Petersohn, GSAF                                  82\n",
       "R. Collier                                          55\n",
       "T. Peake, GSAF                                      48\n",
       "R. Collier, GSAF                                    48\n",
       "M. Levine, GSAF                                     45\n",
       "A. Gifford, GSAF                                    28\n",
       "C. Moore. GSAF                                      27\n",
       "B. Myatt, GSAF                                      24\n",
       "GSAF                                                23\n",
       "M. Vorenberg, GSAF                                  20\n",
       "E. Pace, FSAF                                       20\n",
       "G. Van Grevelynghe                                  19\n",
       "E. Ritter, GSAF                                     19\n",
       "Unknown                                             17\n",
       "JCOnline                                            16\n",
       "W. Leander                                          14\n",
       "C. Johansson, GSAF                                  14\n",
       "J. Green, p.36                                      14\n",
       "R.D. Weeks, GSAF                                    12\n",
       "S. Petersohn                                        12\n",
       "K. Nakaya                                           12\n",
       "C. Black, GSAF                                      11\n",
       "C. Creswell                                         11\n",
       "Hawaii Department of Land and Natural Resources     11\n",
       "MEDSAF                                              10\n",
       "C. Eksander, GSAF                                   10\n",
       "B.W. Coad & L.A.J. Al-Hassan                        10\n",
       "R. McKenzie, Sunday Mail, 9/6/1987, p.11             9\n",
       "J. Eager, scubaradio.com                             9\n",
       "M. Szpilman                                          8\n",
       "B. Coad                                              8\n",
       "C.Moore, GSAF                                        8\n",
       "A. Bleakley;  A. M. Rapson, p.148                    7\n",
       "T. Wallett, p.27                                     7\n",
       "North Adams Transcript, 3/18/1898                    7\n",
       "K. McMurray, TrackingSharks.com                      7\n",
       "J. Borg, p.74; L. Taylor (1993), pp.102-103          6\n",
       "S. Petersohn, GSAF                                   6\n",
       "G. Cliff, NSB                                        6\n",
       "Clay Creswell, GSAF                                  6\n",
       "G. Balazs                                            6\n",
       "A. Brenneka, Shark Attack Survivors                  6\n",
       "G.P. Whitley, p.264                                  6\n",
       "Y. Choi & K. Nakaya                                  6\n",
       "V.M. Coppleson (1958), p.242                         6\n",
       "Name: count, dtype: int64"
      ]
     },
     "execution_count": 2297,
     "metadata": {},
     "output_type": "execute_result"
    }
   ],
   "source": [
    "caso = sharks['Investigator or Source'].value_counts()\n",
    "caso[caso>5]"
   ]
  },
  {
   "cell_type": "code",
   "execution_count": 2298,
   "metadata": {},
   "outputs": [],
   "source": [
    "sharks['Investigator or Source'].fillna('Unknown', inplace=True)"
   ]
  },
  {
   "cell_type": "code",
   "execution_count": null,
   "metadata": {},
   "outputs": [],
   "source": []
  },
  {
   "attachments": {},
   "cell_type": "markdown",
   "metadata": {},
   "source": [
    "PDF"
   ]
  },
  {
   "attachments": {},
   "cell_type": "markdown",
   "metadata": {},
   "source": []
  },
  {
   "cell_type": "code",
   "execution_count": 2299,
   "metadata": {},
   "outputs": [],
   "source": [
    "sharks = sharks.rename(columns={'pdf': 'Case File (PDF)'})"
   ]
  },
  {
   "cell_type": "code",
   "execution_count": 2300,
   "metadata": {},
   "outputs": [],
   "source": [
    "sharks['Case File (PDF)'].fillna('Unknown', inplace=True)"
   ]
  },
  {
   "attachments": {},
   "cell_type": "markdown",
   "metadata": {},
   "source": [
    "href y href formula"
   ]
  },
  {
   "cell_type": "code",
   "execution_count": 2301,
   "metadata": {},
   "outputs": [
    {
     "ename": "KeyError",
     "evalue": "'href'",
     "output_type": "error",
     "traceback": [
      "\u001b[1;31m---------------------------------------------------------------------------\u001b[0m",
      "\u001b[1;31mKeyError\u001b[0m                                  Traceback (most recent call last)",
      "File \u001b[1;32m~\\AppData\\Local\\Packages\\PythonSoftwareFoundation.Python.3.10_qbz5n2kfra8p0\\LocalCache\\local-packages\\Python310\\site-packages\\pandas\\core\\indexes\\base.py:3652\u001b[0m, in \u001b[0;36mIndex.get_loc\u001b[1;34m(self, key)\u001b[0m\n\u001b[0;32m   3651\u001b[0m \u001b[39mtry\u001b[39;00m:\n\u001b[1;32m-> 3652\u001b[0m     \u001b[39mreturn\u001b[39;00m \u001b[39mself\u001b[39;49m\u001b[39m.\u001b[39;49m_engine\u001b[39m.\u001b[39;49mget_loc(casted_key)\n\u001b[0;32m   3653\u001b[0m \u001b[39mexcept\u001b[39;00m \u001b[39mKeyError\u001b[39;00m \u001b[39mas\u001b[39;00m err:\n",
      "File \u001b[1;32m~\\AppData\\Local\\Packages\\PythonSoftwareFoundation.Python.3.10_qbz5n2kfra8p0\\LocalCache\\local-packages\\Python310\\site-packages\\pandas\\_libs\\index.pyx:147\u001b[0m, in \u001b[0;36mpandas._libs.index.IndexEngine.get_loc\u001b[1;34m()\u001b[0m\n",
      "File \u001b[1;32m~\\AppData\\Local\\Packages\\PythonSoftwareFoundation.Python.3.10_qbz5n2kfra8p0\\LocalCache\\local-packages\\Python310\\site-packages\\pandas\\_libs\\index.pyx:176\u001b[0m, in \u001b[0;36mpandas._libs.index.IndexEngine.get_loc\u001b[1;34m()\u001b[0m\n",
      "File \u001b[1;32mpandas\\_libs\\hashtable_class_helper.pxi:7080\u001b[0m, in \u001b[0;36mpandas._libs.hashtable.PyObjectHashTable.get_item\u001b[1;34m()\u001b[0m\n",
      "File \u001b[1;32mpandas\\_libs\\hashtable_class_helper.pxi:7088\u001b[0m, in \u001b[0;36mpandas._libs.hashtable.PyObjectHashTable.get_item\u001b[1;34m()\u001b[0m\n",
      "\u001b[1;31mKeyError\u001b[0m: 'href'",
      "\nThe above exception was the direct cause of the following exception:\n",
      "\u001b[1;31mKeyError\u001b[0m                                  Traceback (most recent call last)",
      "Cell \u001b[1;32mIn[2301], line 1\u001b[0m\n\u001b[1;32m----> 1\u001b[0m sharks[\u001b[39m'\u001b[39;49m\u001b[39mhref\u001b[39;49m\u001b[39m'\u001b[39;49m] \u001b[39m==\u001b[39m sharks[\u001b[39m'\u001b[39m\u001b[39mhref formula\u001b[39m\u001b[39m'\u001b[39m]\n",
      "File \u001b[1;32m~\\AppData\\Local\\Packages\\PythonSoftwareFoundation.Python.3.10_qbz5n2kfra8p0\\LocalCache\\local-packages\\Python310\\site-packages\\pandas\\core\\frame.py:3760\u001b[0m, in \u001b[0;36mDataFrame.__getitem__\u001b[1;34m(self, key)\u001b[0m\n\u001b[0;32m   3758\u001b[0m \u001b[39mif\u001b[39;00m \u001b[39mself\u001b[39m\u001b[39m.\u001b[39mcolumns\u001b[39m.\u001b[39mnlevels \u001b[39m>\u001b[39m \u001b[39m1\u001b[39m:\n\u001b[0;32m   3759\u001b[0m     \u001b[39mreturn\u001b[39;00m \u001b[39mself\u001b[39m\u001b[39m.\u001b[39m_getitem_multilevel(key)\n\u001b[1;32m-> 3760\u001b[0m indexer \u001b[39m=\u001b[39m \u001b[39mself\u001b[39;49m\u001b[39m.\u001b[39;49mcolumns\u001b[39m.\u001b[39;49mget_loc(key)\n\u001b[0;32m   3761\u001b[0m \u001b[39mif\u001b[39;00m is_integer(indexer):\n\u001b[0;32m   3762\u001b[0m     indexer \u001b[39m=\u001b[39m [indexer]\n",
      "File \u001b[1;32m~\\AppData\\Local\\Packages\\PythonSoftwareFoundation.Python.3.10_qbz5n2kfra8p0\\LocalCache\\local-packages\\Python310\\site-packages\\pandas\\core\\indexes\\base.py:3654\u001b[0m, in \u001b[0;36mIndex.get_loc\u001b[1;34m(self, key)\u001b[0m\n\u001b[0;32m   3652\u001b[0m     \u001b[39mreturn\u001b[39;00m \u001b[39mself\u001b[39m\u001b[39m.\u001b[39m_engine\u001b[39m.\u001b[39mget_loc(casted_key)\n\u001b[0;32m   3653\u001b[0m \u001b[39mexcept\u001b[39;00m \u001b[39mKeyError\u001b[39;00m \u001b[39mas\u001b[39;00m err:\n\u001b[1;32m-> 3654\u001b[0m     \u001b[39mraise\u001b[39;00m \u001b[39mKeyError\u001b[39;00m(key) \u001b[39mfrom\u001b[39;00m \u001b[39merr\u001b[39;00m\n\u001b[0;32m   3655\u001b[0m \u001b[39mexcept\u001b[39;00m \u001b[39mTypeError\u001b[39;00m:\n\u001b[0;32m   3656\u001b[0m     \u001b[39m# If we have a listlike key, _check_indexing_error will raise\u001b[39;00m\n\u001b[0;32m   3657\u001b[0m     \u001b[39m#  InvalidIndexError. Otherwise we fall through and re-raise\u001b[39;00m\n\u001b[0;32m   3658\u001b[0m     \u001b[39m#  the TypeError.\u001b[39;00m\n\u001b[0;32m   3659\u001b[0m     \u001b[39mself\u001b[39m\u001b[39m.\u001b[39m_check_indexing_error(key)\n",
      "\u001b[1;31mKeyError\u001b[0m: 'href'"
     ]
    }
   ],
   "source": [
    "sharks['href'] == sharks['href formula']"
   ]
  },
  {
   "cell_type": "code",
   "execution_count": null,
   "metadata": {},
   "outputs": [
    {
     "ename": "KeyError",
     "evalue": "'href'",
     "output_type": "error",
     "traceback": [
      "\u001b[1;31m---------------------------------------------------------------------------\u001b[0m",
      "\u001b[1;31mKeyError\u001b[0m                                  Traceback (most recent call last)",
      "File \u001b[1;32m~\\AppData\\Local\\Packages\\PythonSoftwareFoundation.Python.3.10_qbz5n2kfra8p0\\LocalCache\\local-packages\\Python310\\site-packages\\pandas\\core\\indexes\\base.py:3652\u001b[0m, in \u001b[0;36mIndex.get_loc\u001b[1;34m(self, key)\u001b[0m\n\u001b[0;32m   3651\u001b[0m \u001b[39mtry\u001b[39;00m:\n\u001b[1;32m-> 3652\u001b[0m     \u001b[39mreturn\u001b[39;00m \u001b[39mself\u001b[39;49m\u001b[39m.\u001b[39;49m_engine\u001b[39m.\u001b[39;49mget_loc(casted_key)\n\u001b[0;32m   3653\u001b[0m \u001b[39mexcept\u001b[39;00m \u001b[39mKeyError\u001b[39;00m \u001b[39mas\u001b[39;00m err:\n",
      "File \u001b[1;32m~\\AppData\\Local\\Packages\\PythonSoftwareFoundation.Python.3.10_qbz5n2kfra8p0\\LocalCache\\local-packages\\Python310\\site-packages\\pandas\\_libs\\index.pyx:147\u001b[0m, in \u001b[0;36mpandas._libs.index.IndexEngine.get_loc\u001b[1;34m()\u001b[0m\n",
      "File \u001b[1;32m~\\AppData\\Local\\Packages\\PythonSoftwareFoundation.Python.3.10_qbz5n2kfra8p0\\LocalCache\\local-packages\\Python310\\site-packages\\pandas\\_libs\\index.pyx:176\u001b[0m, in \u001b[0;36mpandas._libs.index.IndexEngine.get_loc\u001b[1;34m()\u001b[0m\n",
      "File \u001b[1;32mpandas\\_libs\\hashtable_class_helper.pxi:7080\u001b[0m, in \u001b[0;36mpandas._libs.hashtable.PyObjectHashTable.get_item\u001b[1;34m()\u001b[0m\n",
      "File \u001b[1;32mpandas\\_libs\\hashtable_class_helper.pxi:7088\u001b[0m, in \u001b[0;36mpandas._libs.hashtable.PyObjectHashTable.get_item\u001b[1;34m()\u001b[0m\n",
      "\u001b[1;31mKeyError\u001b[0m: 'href'",
      "\nThe above exception was the direct cause of the following exception:\n",
      "\u001b[1;31mKeyError\u001b[0m                                  Traceback (most recent call last)",
      "Cell \u001b[1;32mIn[2227], line 4\u001b[0m\n\u001b[0;32m      1\u001b[0m \u001b[39m#busco en que filas el elemento no coincide\u001b[39;00m\n\u001b[0;32m      2\u001b[0m \n\u001b[0;32m      3\u001b[0m \u001b[39m# Crear una serie booleana que indique si href es diferente a href formula\u001b[39;00m\n\u001b[1;32m----> 4\u001b[0m condicion \u001b[39m=\u001b[39m sharks[\u001b[39m'\u001b[39;49m\u001b[39mhref\u001b[39;49m\u001b[39m'\u001b[39;49m] \u001b[39m!=\u001b[39m sharks[\u001b[39m'\u001b[39m\u001b[39mhref formula\u001b[39m\u001b[39m'\u001b[39m]\n\u001b[0;32m      6\u001b[0m \u001b[39m# Seleccionar las filas donde la condición es verdadera\u001b[39;00m\n\u001b[0;32m      7\u001b[0m filas_diferentes \u001b[39m=\u001b[39m sharks[condicion]\n",
      "File \u001b[1;32m~\\AppData\\Local\\Packages\\PythonSoftwareFoundation.Python.3.10_qbz5n2kfra8p0\\LocalCache\\local-packages\\Python310\\site-packages\\pandas\\core\\frame.py:3760\u001b[0m, in \u001b[0;36mDataFrame.__getitem__\u001b[1;34m(self, key)\u001b[0m\n\u001b[0;32m   3758\u001b[0m \u001b[39mif\u001b[39;00m \u001b[39mself\u001b[39m\u001b[39m.\u001b[39mcolumns\u001b[39m.\u001b[39mnlevels \u001b[39m>\u001b[39m \u001b[39m1\u001b[39m:\n\u001b[0;32m   3759\u001b[0m     \u001b[39mreturn\u001b[39;00m \u001b[39mself\u001b[39m\u001b[39m.\u001b[39m_getitem_multilevel(key)\n\u001b[1;32m-> 3760\u001b[0m indexer \u001b[39m=\u001b[39m \u001b[39mself\u001b[39;49m\u001b[39m.\u001b[39;49mcolumns\u001b[39m.\u001b[39;49mget_loc(key)\n\u001b[0;32m   3761\u001b[0m \u001b[39mif\u001b[39;00m is_integer(indexer):\n\u001b[0;32m   3762\u001b[0m     indexer \u001b[39m=\u001b[39m [indexer]\n",
      "File \u001b[1;32m~\\AppData\\Local\\Packages\\PythonSoftwareFoundation.Python.3.10_qbz5n2kfra8p0\\LocalCache\\local-packages\\Python310\\site-packages\\pandas\\core\\indexes\\base.py:3654\u001b[0m, in \u001b[0;36mIndex.get_loc\u001b[1;34m(self, key)\u001b[0m\n\u001b[0;32m   3652\u001b[0m     \u001b[39mreturn\u001b[39;00m \u001b[39mself\u001b[39m\u001b[39m.\u001b[39m_engine\u001b[39m.\u001b[39mget_loc(casted_key)\n\u001b[0;32m   3653\u001b[0m \u001b[39mexcept\u001b[39;00m \u001b[39mKeyError\u001b[39;00m \u001b[39mas\u001b[39;00m err:\n\u001b[1;32m-> 3654\u001b[0m     \u001b[39mraise\u001b[39;00m \u001b[39mKeyError\u001b[39;00m(key) \u001b[39mfrom\u001b[39;00m \u001b[39merr\u001b[39;00m\n\u001b[0;32m   3655\u001b[0m \u001b[39mexcept\u001b[39;00m \u001b[39mTypeError\u001b[39;00m:\n\u001b[0;32m   3656\u001b[0m     \u001b[39m# If we have a listlike key, _check_indexing_error will raise\u001b[39;00m\n\u001b[0;32m   3657\u001b[0m     \u001b[39m#  InvalidIndexError. Otherwise we fall through and re-raise\u001b[39;00m\n\u001b[0;32m   3658\u001b[0m     \u001b[39m#  the TypeError.\u001b[39;00m\n\u001b[0;32m   3659\u001b[0m     \u001b[39mself\u001b[39m\u001b[39m.\u001b[39m_check_indexing_error(key)\n",
      "\u001b[1;31mKeyError\u001b[0m: 'href'"
     ]
    }
   ],
   "source": [
    "#busco en que filas el elemento no coincide\n",
    "\n",
    "# Crear una serie booleana que indique si href es diferente a href formula\n",
    "condicion = sharks['href'] != sharks['href formula']\n",
    "\n",
    "# Seleccionar las filas donde la condición es verdadera\n",
    "filas_diferentes = sharks[condicion]\n",
    "\n",
    "filas_diferentes;\n"
   ]
  },
  {
   "cell_type": "code",
   "execution_count": null,
   "metadata": {},
   "outputs": [
    {
     "data": {
      "text/plain": [
       "'http://sharkattackfile.net/spreadsheets/pdf_directory/http://sharkattackfile.net/spreadsheets/pdf_directory/2017.08.27-Brundler.pdf'"
      ]
     },
     "execution_count": 2144,
     "metadata": {},
     "output_type": "execute_result"
    }
   ],
   "source": [
    "sharks['href'][96]"
   ]
  },
  {
   "cell_type": "code",
   "execution_count": null,
   "metadata": {},
   "outputs": [
    {
     "data": {
      "text/plain": [
       "'http://sharkattackfile.net/spreadsheets/pdf_directory/2017.08.27-Brundler.pdf'"
      ]
     },
     "execution_count": 2145,
     "metadata": {},
     "output_type": "execute_result"
    }
   ],
   "source": [
    "sharks['href formula'][96]"
   ]
  },
  {
   "cell_type": "code",
   "execution_count": null,
   "metadata": {},
   "outputs": [],
   "source": [
    "#analizando algunos me doy cuenta de que los valores que coinciden es porque\n",
    "#href sale error not found y en href formula si que aparece el bueno\n",
    "#así que copio lo que pone en hre formula a href\n",
    "\n",
    "# Sobrescribir los valores en href formula donde la condición es verdadera\n",
    "sharks.loc[condicion, 'href formula'] = sharks.loc[condicion, 'href']\n",
    "\n",
    "# Verificar que los valores se hayan sobrescrito correctamente\n"
   ]
  },
  {
   "cell_type": "code",
   "execution_count": null,
   "metadata": {},
   "outputs": [
    {
     "data": {
      "text/plain": [
       "0       True\n",
       "1       True\n",
       "2       True\n",
       "3       True\n",
       "4       True\n",
       "        ... \n",
       "6297    True\n",
       "6298    True\n",
       "6299    True\n",
       "6300    True\n",
       "6301    True\n",
       "Length: 6300, dtype: bool"
      ]
     },
     "execution_count": 2147,
     "metadata": {},
     "output_type": "execute_result"
    }
   ],
   "source": [
    "sharks['href'] == sharks['href formula']"
   ]
  },
  {
   "cell_type": "code",
   "execution_count": null,
   "metadata": {},
   "outputs": [
    {
     "data": {
      "text/html": [
       "<div>\n",
       "<style scoped>\n",
       "    .dataframe tbody tr th:only-of-type {\n",
       "        vertical-align: middle;\n",
       "    }\n",
       "\n",
       "    .dataframe tbody tr th {\n",
       "        vertical-align: top;\n",
       "    }\n",
       "\n",
       "    .dataframe thead th {\n",
       "        text-align: right;\n",
       "    }\n",
       "</style>\n",
       "<table border=\"1\" class=\"dataframe\">\n",
       "  <thead>\n",
       "    <tr style=\"text-align: right;\">\n",
       "      <th></th>\n",
       "      <th>Case Number</th>\n",
       "      <th>Date</th>\n",
       "      <th>Year</th>\n",
       "      <th>Type</th>\n",
       "      <th>Country</th>\n",
       "      <th>Area</th>\n",
       "      <th>Location</th>\n",
       "      <th>Activity</th>\n",
       "      <th>Name</th>\n",
       "      <th>Sex</th>\n",
       "      <th>...</th>\n",
       "      <th>Species</th>\n",
       "      <th>Investigator or Source</th>\n",
       "      <th>Case File (PDF)</th>\n",
       "      <th>href formula</th>\n",
       "      <th>href</th>\n",
       "      <th>Case Number.1</th>\n",
       "      <th>Case Number.2</th>\n",
       "      <th>original order</th>\n",
       "      <th>Unnamed: 22</th>\n",
       "      <th>Unnamed: 23</th>\n",
       "    </tr>\n",
       "  </thead>\n",
       "  <tbody>\n",
       "  </tbody>\n",
       "</table>\n",
       "<p>0 rows × 24 columns</p>\n",
       "</div>"
      ],
      "text/plain": [
       "Empty DataFrame\n",
       "Columns: [Case Number, Date, Year, Type, Country, Area, Location, Activity, Name, Sex, Age, Injury, Fatal, Time, Species, Investigator or Source, Case File (PDF), href formula, href, Case Number.1, Case Number.2, original order, Unnamed: 22, Unnamed: 23]\n",
       "Index: []\n",
       "\n",
       "[0 rows x 24 columns]"
      ]
     },
     "execution_count": 2148,
     "metadata": {},
     "output_type": "execute_result"
    }
   ],
   "source": [
    "# Seleccionar las filas donde href sea nulo y href formula no sea nulo\n",
    "filas_null = sharks[(sharks['href'].isnull()) & (~sharks['href formula'].isnull())]\n",
    "\n",
    "filas_null"
   ]
  },
  {
   "cell_type": "code",
   "execution_count": null,
   "metadata": {},
   "outputs": [],
   "source": [
    "#ahora href formula no sirve para nada y podríamos utilizarla para otra cosa"
   ]
  },
  {
   "cell_type": "code",
   "execution_count": null,
   "metadata": {},
   "outputs": [],
   "source": [
    "sharks = sharks.rename(columns={'href': 'Case File (URL)'})"
   ]
  },
  {
   "cell_type": "code",
   "execution_count": null,
   "metadata": {},
   "outputs": [
    {
     "data": {
      "text/plain": [
       "Index(['Case Number', 'Date', 'Year', 'Type', 'Country', 'Area', 'Location',\n",
       "       'Activity', 'Name', 'Sex', 'Age', 'Injury', 'Fatal', 'Time', 'Species',\n",
       "       'Investigator or Source', 'Case File (PDF)', 'href formula',\n",
       "       'Case File (URL)', 'Case Number.1', 'Case Number.2', 'original order',\n",
       "       'Unnamed: 22', 'Unnamed: 23'],\n",
       "      dtype='object')"
      ]
     },
     "execution_count": 2151,
     "metadata": {},
     "output_type": "execute_result"
    }
   ],
   "source": [
    "sharks.columns\n"
   ]
  },
  {
   "cell_type": "code",
   "execution_count": null,
   "metadata": {},
   "outputs": [],
   "source": [
    "sharks['Case File (URL)'].fillna('Unknown', inplace=True)"
   ]
  },
  {
   "attachments": {},
   "cell_type": "markdown",
   "metadata": {},
   "source": [
    "Year"
   ]
  },
  {
   "cell_type": "code",
   "execution_count": null,
   "metadata": {},
   "outputs": [],
   "source": [
    "#me deshago de los nulos y los convierto en enteroa\n",
    "\n",
    "sharks.dropna(subset=['Year'],inplace=True)\n",
    "sharks.Year = sharks.Year.astype(int)"
   ]
  },
  {
   "cell_type": "code",
   "execution_count": null,
   "metadata": {},
   "outputs": [
    {
     "data": {
      "text/plain": [
       "(6298, 24)"
      ]
     },
     "execution_count": 2154,
     "metadata": {},
     "output_type": "execute_result"
    }
   ],
   "source": [
    "sharks.shape"
   ]
  },
  {
   "cell_type": "code",
   "execution_count": 2304,
   "metadata": {},
   "outputs": [
    {
     "data": {
      "text/plain": [
       "Case Number                  0\n",
       "Date                         0\n",
       "Year                         0\n",
       "Type                         0\n",
       "Country                      0\n",
       "Area                         0\n",
       "Location                     0\n",
       "Activity                     0\n",
       "Name                         0\n",
       "Sex                          0\n",
       "Age                          0\n",
       "Injury                       0\n",
       "Fatal                        0\n",
       "Time                         0\n",
       "Species                      0\n",
       "Investigator or Source       0\n",
       "Case File (PDF)              0\n",
       "href formula                 0\n",
       "Case File (URL)              0\n",
       "Month                        0\n",
       "Case Number.2                0\n",
       "original order               0\n",
       "Unnamed: 22               6297\n",
       "Unnamed: 23               6296\n",
       "dtype: int64"
      ]
     },
     "execution_count": 2304,
     "metadata": {},
     "output_type": "execute_result"
    }
   ],
   "source": [
    "sharks.isna().sum()"
   ]
  },
  {
   "cell_type": "code",
   "execution_count": null,
   "metadata": {},
   "outputs": [
    {
     "data": {
      "text/plain": [
       "(6298, 24)"
      ]
     },
     "execution_count": 2229,
     "metadata": {},
     "output_type": "execute_result"
    }
   ],
   "source": [
    "sharks.shape"
   ]
  },
  {
   "cell_type": "code",
   "execution_count": null,
   "metadata": {},
   "outputs": [
    {
     "data": {
      "text/html": [
       "<div>\n",
       "<style scoped>\n",
       "    .dataframe tbody tr th:only-of-type {\n",
       "        vertical-align: middle;\n",
       "    }\n",
       "\n",
       "    .dataframe tbody tr th {\n",
       "        vertical-align: top;\n",
       "    }\n",
       "\n",
       "    .dataframe thead th {\n",
       "        text-align: right;\n",
       "    }\n",
       "</style>\n",
       "<table border=\"1\" class=\"dataframe\">\n",
       "  <thead>\n",
       "    <tr style=\"text-align: right;\">\n",
       "      <th></th>\n",
       "      <th>Case Number</th>\n",
       "      <th>Date</th>\n",
       "      <th>Year</th>\n",
       "      <th>Type</th>\n",
       "      <th>Country</th>\n",
       "      <th>Area</th>\n",
       "      <th>Location</th>\n",
       "      <th>Activity</th>\n",
       "      <th>Name</th>\n",
       "      <th>Sex</th>\n",
       "      <th>...</th>\n",
       "      <th>Species</th>\n",
       "      <th>Investigator or Source</th>\n",
       "      <th>Case File (PDF)</th>\n",
       "      <th>href formula</th>\n",
       "      <th>Case File (URL)</th>\n",
       "      <th>Month</th>\n",
       "      <th>Case Number.2</th>\n",
       "      <th>original order</th>\n",
       "      <th>Unnamed: 22</th>\n",
       "      <th>Unnamed: 23</th>\n",
       "    </tr>\n",
       "  </thead>\n",
       "  <tbody>\n",
       "    <tr>\n",
       "      <th>0</th>\n",
       "      <td>2018.06.25</td>\n",
       "      <td>25-Jun-2018</td>\n",
       "      <td>2018</td>\n",
       "      <td>Boating</td>\n",
       "      <td>USA</td>\n",
       "      <td>California</td>\n",
       "      <td>Oceanside, San Diego County</td>\n",
       "      <td>Paddling</td>\n",
       "      <td>Julie Wolfe</td>\n",
       "      <td>F</td>\n",
       "      <td>...</td>\n",
       "      <td>White shark</td>\n",
       "      <td>R. Collier, GSAF</td>\n",
       "      <td>2018.06.25-Wolfe.pdf</td>\n",
       "      <td>http://sharkattackfile.net/spreadsheets/pdf_di...</td>\n",
       "      <td>http://sharkattackfile.net/spreadsheets/pdf_di...</td>\n",
       "      <td>Jun</td>\n",
       "      <td>2018.06.25</td>\n",
       "      <td>6303.0</td>\n",
       "      <td>NaN</td>\n",
       "      <td>NaN</td>\n",
       "    </tr>\n",
       "    <tr>\n",
       "      <th>1</th>\n",
       "      <td>2018.06.18</td>\n",
       "      <td>18-Jun-2018</td>\n",
       "      <td>2018</td>\n",
       "      <td>Unprovoked</td>\n",
       "      <td>USA</td>\n",
       "      <td>Georgia</td>\n",
       "      <td>St. Simon Island, Glynn County</td>\n",
       "      <td>Standing</td>\n",
       "      <td>Adyson McNeely</td>\n",
       "      <td>F</td>\n",
       "      <td>...</td>\n",
       "      <td>Other</td>\n",
       "      <td>K.McMurray, TrackingSharks.com</td>\n",
       "      <td>2018.06.18-McNeely.pdf</td>\n",
       "      <td>http://sharkattackfile.net/spreadsheets/pdf_di...</td>\n",
       "      <td>http://sharkattackfile.net/spreadsheets/pdf_di...</td>\n",
       "      <td>Jun</td>\n",
       "      <td>2018.06.18</td>\n",
       "      <td>6302.0</td>\n",
       "      <td>NaN</td>\n",
       "      <td>NaN</td>\n",
       "    </tr>\n",
       "    <tr>\n",
       "      <th>2</th>\n",
       "      <td>2018.06.09</td>\n",
       "      <td>09-Jun-2018</td>\n",
       "      <td>2018</td>\n",
       "      <td>Invalid</td>\n",
       "      <td>USA</td>\n",
       "      <td>Hawaii</td>\n",
       "      <td>Habush, Oahu</td>\n",
       "      <td>Surfing</td>\n",
       "      <td>John Denges</td>\n",
       "      <td>M</td>\n",
       "      <td>...</td>\n",
       "      <td>Other</td>\n",
       "      <td>K.McMurray, TrackingSharks.com</td>\n",
       "      <td>2018.06.09-Denges.pdf</td>\n",
       "      <td>http://sharkattackfile.net/spreadsheets/pdf_di...</td>\n",
       "      <td>http://sharkattackfile.net/spreadsheets/pdf_di...</td>\n",
       "      <td>Jun</td>\n",
       "      <td>2018.06.09</td>\n",
       "      <td>6301.0</td>\n",
       "      <td>NaN</td>\n",
       "      <td>NaN</td>\n",
       "    </tr>\n",
       "    <tr>\n",
       "      <th>3</th>\n",
       "      <td>2018.06.08</td>\n",
       "      <td>08-Jun-2018</td>\n",
       "      <td>2018</td>\n",
       "      <td>Unprovoked</td>\n",
       "      <td>AUSTRALIA</td>\n",
       "      <td>New South Wales</td>\n",
       "      <td>Arrawarra Headland</td>\n",
       "      <td>Surfing</td>\n",
       "      <td>Anonymous</td>\n",
       "      <td>M</td>\n",
       "      <td>...</td>\n",
       "      <td>2 m shark</td>\n",
       "      <td>B. Myatt, GSAF</td>\n",
       "      <td>2018.06.08-Arrawarra.pdf</td>\n",
       "      <td>http://sharkattackfile.net/spreadsheets/pdf_di...</td>\n",
       "      <td>http://sharkattackfile.net/spreadsheets/pdf_di...</td>\n",
       "      <td>Jun</td>\n",
       "      <td>2018.06.08</td>\n",
       "      <td>6300.0</td>\n",
       "      <td>NaN</td>\n",
       "      <td>NaN</td>\n",
       "    </tr>\n",
       "    <tr>\n",
       "      <th>4</th>\n",
       "      <td>2018.06.04</td>\n",
       "      <td>04-Jun-2018</td>\n",
       "      <td>2018</td>\n",
       "      <td>Provoked</td>\n",
       "      <td>MEXICO</td>\n",
       "      <td>Colima</td>\n",
       "      <td>La Ticla</td>\n",
       "      <td>Free diving</td>\n",
       "      <td>Gustavo Ramos</td>\n",
       "      <td>M</td>\n",
       "      <td>...</td>\n",
       "      <td>Tiger shark, 3m</td>\n",
       "      <td>A .Kipper</td>\n",
       "      <td>2018.06.04-Ramos.pdf</td>\n",
       "      <td>http://sharkattackfile.net/spreadsheets/pdf_di...</td>\n",
       "      <td>http://sharkattackfile.net/spreadsheets/pdf_di...</td>\n",
       "      <td>Jun</td>\n",
       "      <td>2018.06.04</td>\n",
       "      <td>6299.0</td>\n",
       "      <td>NaN</td>\n",
       "      <td>NaN</td>\n",
       "    </tr>\n",
       "  </tbody>\n",
       "</table>\n",
       "<p>5 rows × 24 columns</p>\n",
       "</div>"
      ],
      "text/plain": [
       "  Case Number         Date  Year        Type    Country             Area   \n",
       "0  2018.06.25  25-Jun-2018  2018     Boating        USA       California  \\\n",
       "1  2018.06.18  18-Jun-2018  2018  Unprovoked        USA          Georgia   \n",
       "2  2018.06.09  09-Jun-2018  2018     Invalid        USA           Hawaii   \n",
       "3  2018.06.08  08-Jun-2018  2018  Unprovoked  AUSTRALIA  New South Wales   \n",
       "4  2018.06.04  04-Jun-2018  2018    Provoked     MEXICO           Colima   \n",
       "\n",
       "                         Location     Activity             Name Sex  ...   \n",
       "0     Oceanside, San Diego County     Paddling      Julie Wolfe   F  ...  \\\n",
       "1  St. Simon Island, Glynn County     Standing  Adyson McNeely    F  ...   \n",
       "2                    Habush, Oahu      Surfing      John Denges   M  ...   \n",
       "3              Arrawarra Headland      Surfing        Anonymous   M  ...   \n",
       "4                        La Ticla  Free diving   Gustavo Ramos    M  ...   \n",
       "\n",
       "           Species          Investigator or Source           Case File (PDF)   \n",
       "0      White shark                R. Collier, GSAF      2018.06.25-Wolfe.pdf  \\\n",
       "1            Other  K.McMurray, TrackingSharks.com    2018.06.18-McNeely.pdf   \n",
       "2            Other  K.McMurray, TrackingSharks.com     2018.06.09-Denges.pdf   \n",
       "3        2 m shark                  B. Myatt, GSAF  2018.06.08-Arrawarra.pdf   \n",
       "4  Tiger shark, 3m                       A .Kipper      2018.06.04-Ramos.pdf   \n",
       "\n",
       "                                        href formula   \n",
       "0  http://sharkattackfile.net/spreadsheets/pdf_di...  \\\n",
       "1  http://sharkattackfile.net/spreadsheets/pdf_di...   \n",
       "2  http://sharkattackfile.net/spreadsheets/pdf_di...   \n",
       "3  http://sharkattackfile.net/spreadsheets/pdf_di...   \n",
       "4  http://sharkattackfile.net/spreadsheets/pdf_di...   \n",
       "\n",
       "                                     Case File (URL) Month Case Number.2   \n",
       "0  http://sharkattackfile.net/spreadsheets/pdf_di...   Jun    2018.06.25  \\\n",
       "1  http://sharkattackfile.net/spreadsheets/pdf_di...   Jun    2018.06.18   \n",
       "2  http://sharkattackfile.net/spreadsheets/pdf_di...   Jun    2018.06.09   \n",
       "3  http://sharkattackfile.net/spreadsheets/pdf_di...   Jun    2018.06.08   \n",
       "4  http://sharkattackfile.net/spreadsheets/pdf_di...   Jun    2018.06.04   \n",
       "\n",
       "  original order Unnamed: 22 Unnamed: 23  \n",
       "0         6303.0         NaN         NaN  \n",
       "1         6302.0         NaN         NaN  \n",
       "2         6301.0         NaN         NaN  \n",
       "3         6300.0         NaN         NaN  \n",
       "4         6299.0         NaN         NaN  \n",
       "\n",
       "[5 rows x 24 columns]"
      ]
     },
     "execution_count": 2230,
     "metadata": {},
     "output_type": "execute_result"
    }
   ],
   "source": [
    "sharks.head()"
   ]
  },
  {
   "cell_type": "code",
   "execution_count": null,
   "metadata": {},
   "outputs": [],
   "source": []
  },
  {
   "attachments": {},
   "cell_type": "markdown",
   "metadata": {},
   "source": [
    "Date"
   ]
  },
  {
   "attachments": {},
   "cell_type": "markdown",
   "metadata": {},
   "source": []
  },
  {
   "cell_type": "code",
   "execution_count": null,
   "metadata": {},
   "outputs": [
    {
     "data": {
      "text/plain": [
       "1532"
      ]
     },
     "execution_count": 2231,
     "metadata": {},
     "output_type": "execute_result"
    }
   ],
   "source": [
    "#voy a ver cuatos datos no cumplen con el formato dia mesa año\n",
    "\n",
    "count = 0\n",
    "for value in sharks['Date']:\n",
    "    try:\n",
    "        pd.to_datetime(value, format='%d-%b-%Y')\n",
    "    except ValueError:\n",
    "        count += 1\n",
    "\n",
    "count\n",
    "\n",
    "#hay demasiados no me los puedo cargar, voy a ver si los puedo agrupar al menos"
   ]
  },
  {
   "cell_type": "code",
   "execution_count": null,
   "metadata": {},
   "outputs": [
    {
     "data": {
      "text/plain": [
       "Date\n",
       "No date        329\n",
       "12-Apr-2001      5\n",
       "28-Jul-1995      5\n",
       "05-Oct-2003      5\n",
       "09-Jul-1994      4\n",
       "27-Jul-1952      4\n",
       "29-Apr-2017      4\n",
       "14-Jun-2012      4\n",
       "28-Dec-2014      4\n",
       "20-Sep-2015      4\n",
       "09-Jan-2010      4\n",
       "23-Jan-1970      4\n",
       "27-Dec-2008      4\n",
       "15-Apr-2018      4\n",
       "Name: count, dtype: int64"
      ]
     },
     "execution_count": 2232,
     "metadata": {},
     "output_type": "execute_result"
    }
   ],
   "source": [
    "\n",
    "\n",
    "fecha = sharks['Date'].value_counts()\n",
    "fecha[fecha>3]"
   ]
  },
  {
   "cell_type": "code",
   "execution_count": null,
   "metadata": {},
   "outputs": [],
   "source": [
    "#de la columna Date los que sean solo un año\n",
    "#los paso a la columna Year así no pierdo ese valor\n",
    "\n",
    "sharks['Year'] = sharks['Date'].str.extract(r'(\\d{4})')\n",
    "\n",
    "#ahora que ya lo tengo Year los elimino de la columna Date\n",
    "\n",
    "# Identificar las filas donde la columna 'Date' contiene solo cuatro dígitos\n",
    "mask = sharks['Date'].str.contains(r'^\\d{4}$')\n",
    "\n",
    "# Reemplazar los valores correspondientes con 'No date'\n",
    "sharks.loc[mask, 'Date'] = 'No date'"
   ]
  },
  {
   "cell_type": "code",
   "execution_count": null,
   "metadata": {},
   "outputs": [
    {
     "data": {
      "text/plain": [
       "Date\n",
       "No date        329\n",
       "12-Apr-2001      5\n",
       "28-Jul-1995      5\n",
       "05-Oct-2003      5\n",
       "09-Jul-1994      4\n",
       "27-Jul-1952      4\n",
       "29-Apr-2017      4\n",
       "14-Jun-2012      4\n",
       "28-Dec-2014      4\n",
       "20-Sep-2015      4\n",
       "09-Jan-2010      4\n",
       "23-Jan-1970      4\n",
       "27-Dec-2008      4\n",
       "15-Apr-2018      4\n",
       "Name: count, dtype: int64"
      ]
     },
     "execution_count": 2234,
     "metadata": {},
     "output_type": "execute_result"
    }
   ],
   "source": [
    "fecha = sharks['Date'].value_counts()\n",
    "fecha[fecha>3]"
   ]
  },
  {
   "cell_type": "code",
   "execution_count": null,
   "metadata": {},
   "outputs": [],
   "source": [
    "#reemplazo a mano los que tienen el formato bueno \n",
    "\n",
    "sharks['Date'] = sharks['Date'].replace('1960s','No date')\n",
    "sharks['Date'] = sharks['Date'].replace('1970s','No date')\n",
    "sharks['Date'] = sharks['Date'].replace('Before 1906','No date')\n",
    "sharks['Date'] = sharks['Date'].replace('Before 1958','No date')\n",
    "sharks['Date'] = sharks['Date'].replace('Reported 10-Oct-1906','No date')\n",
    "sharks['Date'] = sharks['Date'].replace('No date, Before 1963','No date')\n",
    "sharks['Date'] = sharks['Date'].replace('Aug-1956','No date')\n",
    "sharks['Date'] = sharks['Date'].replace('Oct-1960','No date')\n",
    "sharks['Date'] = sharks['Date'].replace(' 01-Sep-2013','01-Sep-2013')\n",
    "sharks['Date'] = sharks['Date'].replace('Summer 1943','No date')\n",
    "sharks['Date'] = sharks['Date'].replace('19955','No date')\n",
    "sharks['Date'] = sharks['Date'].replace('Circa 1958','No date')\n",
    "sharks['Date'] = sharks['Date'].replace('Feb-1957','No date')\n",
    "sharks['Date'] = sharks['Date'].replace('1845-1853','No date')\n",
    "\n",
    "#voy a parar porque esto deja de tener sentido \n"
   ]
  },
  {
   "cell_type": "code",
   "execution_count": null,
   "metadata": {},
   "outputs": [
    {
     "data": {
      "text/plain": [
       "Date\n",
       "05-Feb-1945    1\n",
       "06-Mar-1945    1\n",
       "05-Jan-1957    1\n",
       "27-Oct-1956    1\n",
       "02-Feb-1957    1\n",
       "              ..\n",
       "21-Aug-1995    1\n",
       "25-Aug-1995    1\n",
       "27-Aug-1995    1\n",
       "11-Sep-1995    1\n",
       "1883-1889      1\n",
       "Name: count, Length: 4697, dtype: int64"
      ]
     },
     "execution_count": 2236,
     "metadata": {},
     "output_type": "execute_result"
    }
   ],
   "source": [
    "fecha = sharks['Date'].value_counts()\n",
    "fecha[fecha==1]"
   ]
  },
  {
   "cell_type": "code",
   "execution_count": null,
   "metadata": {},
   "outputs": [],
   "source": [
    "#utilizo una de las columnas inutiles para guardar el mes \n",
    "\n",
    "sharks = sharks.rename(columns={'Case Number.1': 'Month'})\n",
    "\n",
    "sharks['Month'] = sharks['Month'] = None"
   ]
  },
  {
   "cell_type": "code",
   "execution_count": null,
   "metadata": {},
   "outputs": [],
   "source": [
    "sharks['Month'] = sharks['Date'].str.extract(r'(\\w{3})', expand=False).fillna('Unknown')\n"
   ]
  },
  {
   "cell_type": "code",
   "execution_count": null,
   "metadata": {},
   "outputs": [
    {
     "data": {
      "text/plain": [
       "<bound method IndexOpsMixin.value_counts of 0       Jun\n",
       "1       Jun\n",
       "2       Jun\n",
       "3       Jun\n",
       "4       Jun\n",
       "       ... \n",
       "6297    Bef\n",
       "6298    Bef\n",
       "6299    190\n",
       "6300    188\n",
       "6301    dat\n",
       "Name: Month, Length: 6298, dtype: object>"
      ]
     },
     "execution_count": 2239,
     "metadata": {},
     "output_type": "execute_result"
    }
   ],
   "source": [
    "sharks['Month'].value_counts"
   ]
  },
  {
   "cell_type": "code",
   "execution_count": null,
   "metadata": {},
   "outputs": [],
   "source": [
    "meses = ['Jan', 'Feb', 'Mar', 'Apr', 'May', 'Jun', 'Jul', 'Aug', 'Sep', 'Oct', 'Nov', 'Dec']\n",
    "\n",
    "sharks.loc[~sharks['Month'].isin(meses), 'Month'] = 'Unknown'"
   ]
  },
  {
   "cell_type": "code",
   "execution_count": null,
   "metadata": {},
   "outputs": [
    {
     "data": {
      "text/plain": [
       "1115"
      ]
     },
     "execution_count": 2241,
     "metadata": {},
     "output_type": "execute_result"
    }
   ],
   "source": [
    "(sharks['Month'] == 'Unknown').astype(int).sum()"
   ]
  },
  {
   "cell_type": "code",
   "execution_count": null,
   "metadata": {},
   "outputs": [],
   "source": []
  },
  {
   "attachments": {},
   "cell_type": "markdown",
   "metadata": {},
   "source": [
    "Vuelta a Year"
   ]
  },
  {
   "cell_type": "code",
   "execution_count": 2303,
   "metadata": {},
   "outputs": [],
   "source": [
    "#veo que en Year vuelvo a tener valores nulos\n",
    "sharks[(sharks['Year'].isnull()) & (sharks['Date'].notnull())].head(10)\n",
    "\n",
    "#como tampoco tengo la fecha relleno ese año con Unknown\n",
    "\n",
    "sharks['Year'] = sharks['Year'].fillna('Unknown')\n"
   ]
  },
  {
   "cell_type": "code",
   "execution_count": null,
   "metadata": {},
   "outputs": [],
   "source": []
  },
  {
   "attachments": {},
   "cell_type": "markdown",
   "metadata": {},
   "source": [
    "Eliminar duplicados"
   ]
  },
  {
   "cell_type": "code",
   "execution_count": 2305,
   "metadata": {},
   "outputs": [
    {
     "data": {
      "text/html": [
       "<div>\n",
       "<style scoped>\n",
       "    .dataframe tbody tr th:only-of-type {\n",
       "        vertical-align: middle;\n",
       "    }\n",
       "\n",
       "    .dataframe tbody tr th {\n",
       "        vertical-align: top;\n",
       "    }\n",
       "\n",
       "    .dataframe thead th {\n",
       "        text-align: right;\n",
       "    }\n",
       "</style>\n",
       "<table border=\"1\" class=\"dataframe\">\n",
       "  <thead>\n",
       "    <tr style=\"text-align: right;\">\n",
       "      <th></th>\n",
       "      <th>Case Number</th>\n",
       "      <th>Date</th>\n",
       "      <th>Year</th>\n",
       "      <th>Type</th>\n",
       "      <th>Country</th>\n",
       "      <th>Area</th>\n",
       "      <th>Location</th>\n",
       "      <th>Activity</th>\n",
       "      <th>Name</th>\n",
       "      <th>Sex</th>\n",
       "      <th>...</th>\n",
       "      <th>Species</th>\n",
       "      <th>Investigator or Source</th>\n",
       "      <th>Case File (PDF)</th>\n",
       "      <th>href formula</th>\n",
       "      <th>Case File (URL)</th>\n",
       "      <th>Month</th>\n",
       "      <th>Case Number.2</th>\n",
       "      <th>original order</th>\n",
       "      <th>Unnamed: 22</th>\n",
       "      <th>Unnamed: 23</th>\n",
       "    </tr>\n",
       "  </thead>\n",
       "  <tbody>\n",
       "    <tr>\n",
       "      <th>0</th>\n",
       "      <td>2018.06.25</td>\n",
       "      <td>25-Jun-2018</td>\n",
       "      <td>2018</td>\n",
       "      <td>Boating</td>\n",
       "      <td>USA</td>\n",
       "      <td>California</td>\n",
       "      <td>Oceanside, San Diego County</td>\n",
       "      <td>Paddling</td>\n",
       "      <td>Julie Wolfe</td>\n",
       "      <td>F</td>\n",
       "      <td>...</td>\n",
       "      <td>White shark</td>\n",
       "      <td>R. Collier, GSAF</td>\n",
       "      <td>2018.06.25-Wolfe.pdf</td>\n",
       "      <td>http://sharkattackfile.net/spreadsheets/pdf_di...</td>\n",
       "      <td>http://sharkattackfile.net/spreadsheets/pdf_di...</td>\n",
       "      <td>Jun</td>\n",
       "      <td>2018.06.25</td>\n",
       "      <td>6303.0</td>\n",
       "      <td>NaN</td>\n",
       "      <td>NaN</td>\n",
       "    </tr>\n",
       "    <tr>\n",
       "      <th>1</th>\n",
       "      <td>2018.06.18</td>\n",
       "      <td>18-Jun-2018</td>\n",
       "      <td>2018</td>\n",
       "      <td>Unprovoked</td>\n",
       "      <td>USA</td>\n",
       "      <td>Georgia</td>\n",
       "      <td>St. Simon Island, Glynn County</td>\n",
       "      <td>Standing</td>\n",
       "      <td>Adyson McNeely</td>\n",
       "      <td>F</td>\n",
       "      <td>...</td>\n",
       "      <td>Other</td>\n",
       "      <td>K.McMurray, TrackingSharks.com</td>\n",
       "      <td>2018.06.18-McNeely.pdf</td>\n",
       "      <td>http://sharkattackfile.net/spreadsheets/pdf_di...</td>\n",
       "      <td>http://sharkattackfile.net/spreadsheets/pdf_di...</td>\n",
       "      <td>Jun</td>\n",
       "      <td>2018.06.18</td>\n",
       "      <td>6302.0</td>\n",
       "      <td>NaN</td>\n",
       "      <td>NaN</td>\n",
       "    </tr>\n",
       "    <tr>\n",
       "      <th>2</th>\n",
       "      <td>2018.06.09</td>\n",
       "      <td>09-Jun-2018</td>\n",
       "      <td>2018</td>\n",
       "      <td>Invalid</td>\n",
       "      <td>USA</td>\n",
       "      <td>Hawaii</td>\n",
       "      <td>Habush, Oahu</td>\n",
       "      <td>Surfing</td>\n",
       "      <td>John Denges</td>\n",
       "      <td>M</td>\n",
       "      <td>...</td>\n",
       "      <td>Other</td>\n",
       "      <td>K.McMurray, TrackingSharks.com</td>\n",
       "      <td>2018.06.09-Denges.pdf</td>\n",
       "      <td>http://sharkattackfile.net/spreadsheets/pdf_di...</td>\n",
       "      <td>http://sharkattackfile.net/spreadsheets/pdf_di...</td>\n",
       "      <td>Jun</td>\n",
       "      <td>2018.06.09</td>\n",
       "      <td>6301.0</td>\n",
       "      <td>NaN</td>\n",
       "      <td>NaN</td>\n",
       "    </tr>\n",
       "    <tr>\n",
       "      <th>3</th>\n",
       "      <td>2018.06.08</td>\n",
       "      <td>08-Jun-2018</td>\n",
       "      <td>2018</td>\n",
       "      <td>Unprovoked</td>\n",
       "      <td>AUSTRALIA</td>\n",
       "      <td>New South Wales</td>\n",
       "      <td>Arrawarra Headland</td>\n",
       "      <td>Surfing</td>\n",
       "      <td>Anonymous</td>\n",
       "      <td>M</td>\n",
       "      <td>...</td>\n",
       "      <td>2 m shark</td>\n",
       "      <td>B. Myatt, GSAF</td>\n",
       "      <td>2018.06.08-Arrawarra.pdf</td>\n",
       "      <td>http://sharkattackfile.net/spreadsheets/pdf_di...</td>\n",
       "      <td>http://sharkattackfile.net/spreadsheets/pdf_di...</td>\n",
       "      <td>Jun</td>\n",
       "      <td>2018.06.08</td>\n",
       "      <td>6300.0</td>\n",
       "      <td>NaN</td>\n",
       "      <td>NaN</td>\n",
       "    </tr>\n",
       "    <tr>\n",
       "      <th>4</th>\n",
       "      <td>2018.06.04</td>\n",
       "      <td>04-Jun-2018</td>\n",
       "      <td>2018</td>\n",
       "      <td>Provoked</td>\n",
       "      <td>MEXICO</td>\n",
       "      <td>Colima</td>\n",
       "      <td>La Ticla</td>\n",
       "      <td>Free diving</td>\n",
       "      <td>Gustavo Ramos</td>\n",
       "      <td>M</td>\n",
       "      <td>...</td>\n",
       "      <td>Tiger shark, 3m</td>\n",
       "      <td>A .Kipper</td>\n",
       "      <td>2018.06.04-Ramos.pdf</td>\n",
       "      <td>http://sharkattackfile.net/spreadsheets/pdf_di...</td>\n",
       "      <td>http://sharkattackfile.net/spreadsheets/pdf_di...</td>\n",
       "      <td>Jun</td>\n",
       "      <td>2018.06.04</td>\n",
       "      <td>6299.0</td>\n",
       "      <td>NaN</td>\n",
       "      <td>NaN</td>\n",
       "    </tr>\n",
       "    <tr>\n",
       "      <th>...</th>\n",
       "      <td>...</td>\n",
       "      <td>...</td>\n",
       "      <td>...</td>\n",
       "      <td>...</td>\n",
       "      <td>...</td>\n",
       "      <td>...</td>\n",
       "      <td>...</td>\n",
       "      <td>...</td>\n",
       "      <td>...</td>\n",
       "      <td>...</td>\n",
       "      <td>...</td>\n",
       "      <td>...</td>\n",
       "      <td>...</td>\n",
       "      <td>...</td>\n",
       "      <td>...</td>\n",
       "      <td>...</td>\n",
       "      <td>...</td>\n",
       "      <td>...</td>\n",
       "      <td>...</td>\n",
       "      <td>...</td>\n",
       "      <td>...</td>\n",
       "    </tr>\n",
       "    <tr>\n",
       "      <th>6297</th>\n",
       "      <td>ND.0005</td>\n",
       "      <td>Before 1903</td>\n",
       "      <td>1903</td>\n",
       "      <td>Unprovoked</td>\n",
       "      <td>AUSTRALIA</td>\n",
       "      <td>Western Australia</td>\n",
       "      <td>Roebuck Bay</td>\n",
       "      <td>Diving</td>\n",
       "      <td>Anonymous</td>\n",
       "      <td>M</td>\n",
       "      <td>...</td>\n",
       "      <td>Other</td>\n",
       "      <td>H. Taunton; N. Bartlett,  p. 234</td>\n",
       "      <td>ND-0005-RoebuckBay.pdf</td>\n",
       "      <td>http://sharkattackfile.net/spreadsheets/pdf_di...</td>\n",
       "      <td>http://sharkattackfile.net/spreadsheets/pdf_di...</td>\n",
       "      <td>Unknown</td>\n",
       "      <td>ND.0005</td>\n",
       "      <td>6.0</td>\n",
       "      <td>NaN</td>\n",
       "      <td>NaN</td>\n",
       "    </tr>\n",
       "    <tr>\n",
       "      <th>6298</th>\n",
       "      <td>ND.0004</td>\n",
       "      <td>Before 1903</td>\n",
       "      <td>1903</td>\n",
       "      <td>Unprovoked</td>\n",
       "      <td>AUSTRALIA</td>\n",
       "      <td>Western Australia</td>\n",
       "      <td>Western Australia</td>\n",
       "      <td>Pearl diving</td>\n",
       "      <td>Ahmun</td>\n",
       "      <td>M</td>\n",
       "      <td>...</td>\n",
       "      <td>Other</td>\n",
       "      <td>H. Taunton; N. Bartlett,  pp. 233-234</td>\n",
       "      <td>ND-0004-Ahmun.pdf</td>\n",
       "      <td>http://sharkattackfile.net/spreadsheets/pdf_di...</td>\n",
       "      <td>http://sharkattackfile.net/spreadsheets/pdf_di...</td>\n",
       "      <td>Unknown</td>\n",
       "      <td>ND.0004</td>\n",
       "      <td>5.0</td>\n",
       "      <td>NaN</td>\n",
       "      <td>NaN</td>\n",
       "    </tr>\n",
       "    <tr>\n",
       "      <th>6299</th>\n",
       "      <td>ND.0003</td>\n",
       "      <td>1900-1905</td>\n",
       "      <td>1900</td>\n",
       "      <td>Unprovoked</td>\n",
       "      <td>USA</td>\n",
       "      <td>North Carolina</td>\n",
       "      <td>Ocracoke Inlet</td>\n",
       "      <td>Swimming</td>\n",
       "      <td>Coast Guard personnel</td>\n",
       "      <td>M</td>\n",
       "      <td>...</td>\n",
       "      <td>Other</td>\n",
       "      <td>F. Schwartz, p.23; C. Creswell, GSAF</td>\n",
       "      <td>ND-0003-Ocracoke_1900-1905.pdf</td>\n",
       "      <td>http://sharkattackfile.net/spreadsheets/pdf_di...</td>\n",
       "      <td>http://sharkattackfile.net/spreadsheets/pdf_di...</td>\n",
       "      <td>Unknown</td>\n",
       "      <td>ND.0003</td>\n",
       "      <td>4.0</td>\n",
       "      <td>NaN</td>\n",
       "      <td>NaN</td>\n",
       "    </tr>\n",
       "    <tr>\n",
       "      <th>6300</th>\n",
       "      <td>ND.0002</td>\n",
       "      <td>1883-1889</td>\n",
       "      <td>1883</td>\n",
       "      <td>Unprovoked</td>\n",
       "      <td>PANAMA</td>\n",
       "      <td>Panama Bay 8ºN, 79ºW</td>\n",
       "      <td>Panama Bay 8ºN, 79ºW</td>\n",
       "      <td>Other</td>\n",
       "      <td>Jules Patterson</td>\n",
       "      <td>M</td>\n",
       "      <td>...</td>\n",
       "      <td>Other</td>\n",
       "      <td>The Sun, 10/20/1938</td>\n",
       "      <td>ND-0002-JulesPatterson.pdf</td>\n",
       "      <td>http://sharkattackfile.net/spreadsheets/pdf_di...</td>\n",
       "      <td>http://sharkattackfile.net/spreadsheets/pdf_di...</td>\n",
       "      <td>Unknown</td>\n",
       "      <td>ND.0002</td>\n",
       "      <td>3.0</td>\n",
       "      <td>NaN</td>\n",
       "      <td>NaN</td>\n",
       "    </tr>\n",
       "    <tr>\n",
       "      <th>6301</th>\n",
       "      <td>ND.0001</td>\n",
       "      <td>No date</td>\n",
       "      <td>Unknown</td>\n",
       "      <td>Unprovoked</td>\n",
       "      <td>CEYLON (SRI LANKA)</td>\n",
       "      <td>Eastern Province</td>\n",
       "      <td>Below the English fort, Trincomalee</td>\n",
       "      <td>Swimming</td>\n",
       "      <td>Anonymous</td>\n",
       "      <td>M</td>\n",
       "      <td>...</td>\n",
       "      <td>Other</td>\n",
       "      <td>S.W. Baker</td>\n",
       "      <td>ND-0001-Ceylon.pdf</td>\n",
       "      <td>http://sharkattackfile.net/spreadsheets/pdf_di...</td>\n",
       "      <td>http://sharkattackfile.net/spreadsheets/pdf_di...</td>\n",
       "      <td>Unknown</td>\n",
       "      <td>ND.0001</td>\n",
       "      <td>2.0</td>\n",
       "      <td>NaN</td>\n",
       "      <td>NaN</td>\n",
       "    </tr>\n",
       "  </tbody>\n",
       "</table>\n",
       "<p>6298 rows × 24 columns</p>\n",
       "</div>"
      ],
      "text/plain": [
       "     Case Number         Date     Year        Type             Country   \n",
       "0     2018.06.25  25-Jun-2018     2018     Boating                 USA  \\\n",
       "1     2018.06.18  18-Jun-2018     2018  Unprovoked                 USA   \n",
       "2     2018.06.09  09-Jun-2018     2018     Invalid                 USA   \n",
       "3     2018.06.08  08-Jun-2018     2018  Unprovoked           AUSTRALIA   \n",
       "4     2018.06.04  04-Jun-2018     2018    Provoked              MEXICO   \n",
       "...          ...          ...      ...         ...                 ...   \n",
       "6297     ND.0005  Before 1903     1903  Unprovoked           AUSTRALIA   \n",
       "6298     ND.0004  Before 1903     1903  Unprovoked           AUSTRALIA   \n",
       "6299     ND.0003    1900-1905     1900  Unprovoked                 USA   \n",
       "6300     ND.0002    1883-1889     1883  Unprovoked              PANAMA   \n",
       "6301     ND.0001      No date  Unknown  Unprovoked  CEYLON (SRI LANKA)   \n",
       "\n",
       "                      Area                             Location      Activity   \n",
       "0               California          Oceanside, San Diego County      Paddling  \\\n",
       "1                  Georgia       St. Simon Island, Glynn County      Standing   \n",
       "2                   Hawaii                         Habush, Oahu       Surfing   \n",
       "3          New South Wales                   Arrawarra Headland       Surfing   \n",
       "4                   Colima                             La Ticla   Free diving   \n",
       "...                    ...                                  ...           ...   \n",
       "6297     Western Australia                          Roebuck Bay        Diving   \n",
       "6298     Western Australia                    Western Australia  Pearl diving   \n",
       "6299        North Carolina                       Ocracoke Inlet      Swimming   \n",
       "6300  Panama Bay 8ºN, 79ºW                 Panama Bay 8ºN, 79ºW         Other   \n",
       "6301      Eastern Province  Below the English fort, Trincomalee      Swimming   \n",
       "\n",
       "                       Name Sex  ...          Species   \n",
       "0               Julie Wolfe   F  ...      White shark  \\\n",
       "1           Adyson McNeely    F  ...            Other   \n",
       "2               John Denges   M  ...            Other   \n",
       "3                 Anonymous   M  ...        2 m shark   \n",
       "4            Gustavo Ramos    M  ...  Tiger shark, 3m   \n",
       "...                     ...  ..  ...              ...   \n",
       "6297              Anonymous   M  ...            Other   \n",
       "6298                  Ahmun   M  ...            Other   \n",
       "6299  Coast Guard personnel   M  ...            Other   \n",
       "6300        Jules Patterson   M  ...            Other   \n",
       "6301              Anonymous   M  ...            Other   \n",
       "\n",
       "                     Investigator or Source                 Case File (PDF)   \n",
       "0                          R. Collier, GSAF            2018.06.25-Wolfe.pdf  \\\n",
       "1            K.McMurray, TrackingSharks.com          2018.06.18-McNeely.pdf   \n",
       "2            K.McMurray, TrackingSharks.com           2018.06.09-Denges.pdf   \n",
       "3                            B. Myatt, GSAF        2018.06.08-Arrawarra.pdf   \n",
       "4                                 A .Kipper            2018.06.04-Ramos.pdf   \n",
       "...                                     ...                             ...   \n",
       "6297       H. Taunton; N. Bartlett,  p. 234          ND-0005-RoebuckBay.pdf   \n",
       "6298  H. Taunton; N. Bartlett,  pp. 233-234               ND-0004-Ahmun.pdf   \n",
       "6299   F. Schwartz, p.23; C. Creswell, GSAF  ND-0003-Ocracoke_1900-1905.pdf   \n",
       "6300                    The Sun, 10/20/1938      ND-0002-JulesPatterson.pdf   \n",
       "6301                             S.W. Baker              ND-0001-Ceylon.pdf   \n",
       "\n",
       "                                           href formula   \n",
       "0     http://sharkattackfile.net/spreadsheets/pdf_di...  \\\n",
       "1     http://sharkattackfile.net/spreadsheets/pdf_di...   \n",
       "2     http://sharkattackfile.net/spreadsheets/pdf_di...   \n",
       "3     http://sharkattackfile.net/spreadsheets/pdf_di...   \n",
       "4     http://sharkattackfile.net/spreadsheets/pdf_di...   \n",
       "...                                                 ...   \n",
       "6297  http://sharkattackfile.net/spreadsheets/pdf_di...   \n",
       "6298  http://sharkattackfile.net/spreadsheets/pdf_di...   \n",
       "6299  http://sharkattackfile.net/spreadsheets/pdf_di...   \n",
       "6300  http://sharkattackfile.net/spreadsheets/pdf_di...   \n",
       "6301  http://sharkattackfile.net/spreadsheets/pdf_di...   \n",
       "\n",
       "                                        Case File (URL)    Month   \n",
       "0     http://sharkattackfile.net/spreadsheets/pdf_di...      Jun  \\\n",
       "1     http://sharkattackfile.net/spreadsheets/pdf_di...      Jun   \n",
       "2     http://sharkattackfile.net/spreadsheets/pdf_di...      Jun   \n",
       "3     http://sharkattackfile.net/spreadsheets/pdf_di...      Jun   \n",
       "4     http://sharkattackfile.net/spreadsheets/pdf_di...      Jun   \n",
       "...                                                 ...      ...   \n",
       "6297  http://sharkattackfile.net/spreadsheets/pdf_di...  Unknown   \n",
       "6298  http://sharkattackfile.net/spreadsheets/pdf_di...  Unknown   \n",
       "6299  http://sharkattackfile.net/spreadsheets/pdf_di...  Unknown   \n",
       "6300  http://sharkattackfile.net/spreadsheets/pdf_di...  Unknown   \n",
       "6301  http://sharkattackfile.net/spreadsheets/pdf_di...  Unknown   \n",
       "\n",
       "     Case Number.2 original order Unnamed: 22 Unnamed: 23  \n",
       "0       2018.06.25         6303.0         NaN         NaN  \n",
       "1       2018.06.18         6302.0         NaN         NaN  \n",
       "2       2018.06.09         6301.0         NaN         NaN  \n",
       "3       2018.06.08         6300.0         NaN         NaN  \n",
       "4       2018.06.04         6299.0         NaN         NaN  \n",
       "...            ...            ...         ...         ...  \n",
       "6297       ND.0005            6.0         NaN         NaN  \n",
       "6298       ND.0004            5.0         NaN         NaN  \n",
       "6299       ND.0003            4.0         NaN         NaN  \n",
       "6300       ND.0002            3.0         NaN         NaN  \n",
       "6301       ND.0001            2.0         NaN         NaN  \n",
       "\n",
       "[6298 rows x 24 columns]"
      ]
     },
     "execution_count": 2305,
     "metadata": {},
     "output_type": "execute_result"
    }
   ],
   "source": [
    "sharks.drop_duplicates(subset=list(sharks.columns))"
   ]
  },
  {
   "attachments": {},
   "cell_type": "markdown",
   "metadata": {},
   "source": [
    "Estación del año"
   ]
  },
  {
   "cell_type": "code",
   "execution_count": 2306,
   "metadata": {},
   "outputs": [],
   "source": [
    "sharks = sharks.rename(columns={'Case Number.2': 'Season'})"
   ]
  },
  {
   "cell_type": "code",
   "execution_count": 2307,
   "metadata": {},
   "outputs": [
    {
     "data": {
      "text/html": [
       "<div>\n",
       "<style scoped>\n",
       "    .dataframe tbody tr th:only-of-type {\n",
       "        vertical-align: middle;\n",
       "    }\n",
       "\n",
       "    .dataframe tbody tr th {\n",
       "        vertical-align: top;\n",
       "    }\n",
       "\n",
       "    .dataframe thead th {\n",
       "        text-align: right;\n",
       "    }\n",
       "</style>\n",
       "<table border=\"1\" class=\"dataframe\">\n",
       "  <thead>\n",
       "    <tr style=\"text-align: right;\">\n",
       "      <th></th>\n",
       "      <th>Case Number</th>\n",
       "      <th>Date</th>\n",
       "      <th>Year</th>\n",
       "      <th>Type</th>\n",
       "      <th>Country</th>\n",
       "      <th>Area</th>\n",
       "      <th>Location</th>\n",
       "      <th>Activity</th>\n",
       "      <th>Name</th>\n",
       "      <th>Sex</th>\n",
       "      <th>...</th>\n",
       "      <th>Species</th>\n",
       "      <th>Investigator or Source</th>\n",
       "      <th>Case File (PDF)</th>\n",
       "      <th>href formula</th>\n",
       "      <th>Case File (URL)</th>\n",
       "      <th>Month</th>\n",
       "      <th>Season</th>\n",
       "      <th>original order</th>\n",
       "      <th>Unnamed: 22</th>\n",
       "      <th>Unnamed: 23</th>\n",
       "    </tr>\n",
       "  </thead>\n",
       "  <tbody>\n",
       "    <tr>\n",
       "      <th>0</th>\n",
       "      <td>2018.06.25</td>\n",
       "      <td>25-Jun-2018</td>\n",
       "      <td>2018</td>\n",
       "      <td>Boating</td>\n",
       "      <td>USA</td>\n",
       "      <td>California</td>\n",
       "      <td>Oceanside, San Diego County</td>\n",
       "      <td>Paddling</td>\n",
       "      <td>Julie Wolfe</td>\n",
       "      <td>F</td>\n",
       "      <td>...</td>\n",
       "      <td>White shark</td>\n",
       "      <td>R. Collier, GSAF</td>\n",
       "      <td>2018.06.25-Wolfe.pdf</td>\n",
       "      <td>http://sharkattackfile.net/spreadsheets/pdf_di...</td>\n",
       "      <td>http://sharkattackfile.net/spreadsheets/pdf_di...</td>\n",
       "      <td>Jun</td>\n",
       "      <td>2018.06.25</td>\n",
       "      <td>6303.0</td>\n",
       "      <td>NaN</td>\n",
       "      <td>NaN</td>\n",
       "    </tr>\n",
       "    <tr>\n",
       "      <th>1</th>\n",
       "      <td>2018.06.18</td>\n",
       "      <td>18-Jun-2018</td>\n",
       "      <td>2018</td>\n",
       "      <td>Unprovoked</td>\n",
       "      <td>USA</td>\n",
       "      <td>Georgia</td>\n",
       "      <td>St. Simon Island, Glynn County</td>\n",
       "      <td>Standing</td>\n",
       "      <td>Adyson McNeely</td>\n",
       "      <td>F</td>\n",
       "      <td>...</td>\n",
       "      <td>Other</td>\n",
       "      <td>K.McMurray, TrackingSharks.com</td>\n",
       "      <td>2018.06.18-McNeely.pdf</td>\n",
       "      <td>http://sharkattackfile.net/spreadsheets/pdf_di...</td>\n",
       "      <td>http://sharkattackfile.net/spreadsheets/pdf_di...</td>\n",
       "      <td>Jun</td>\n",
       "      <td>2018.06.18</td>\n",
       "      <td>6302.0</td>\n",
       "      <td>NaN</td>\n",
       "      <td>NaN</td>\n",
       "    </tr>\n",
       "    <tr>\n",
       "      <th>2</th>\n",
       "      <td>2018.06.09</td>\n",
       "      <td>09-Jun-2018</td>\n",
       "      <td>2018</td>\n",
       "      <td>Invalid</td>\n",
       "      <td>USA</td>\n",
       "      <td>Hawaii</td>\n",
       "      <td>Habush, Oahu</td>\n",
       "      <td>Surfing</td>\n",
       "      <td>John Denges</td>\n",
       "      <td>M</td>\n",
       "      <td>...</td>\n",
       "      <td>Other</td>\n",
       "      <td>K.McMurray, TrackingSharks.com</td>\n",
       "      <td>2018.06.09-Denges.pdf</td>\n",
       "      <td>http://sharkattackfile.net/spreadsheets/pdf_di...</td>\n",
       "      <td>http://sharkattackfile.net/spreadsheets/pdf_di...</td>\n",
       "      <td>Jun</td>\n",
       "      <td>2018.06.09</td>\n",
       "      <td>6301.0</td>\n",
       "      <td>NaN</td>\n",
       "      <td>NaN</td>\n",
       "    </tr>\n",
       "    <tr>\n",
       "      <th>3</th>\n",
       "      <td>2018.06.08</td>\n",
       "      <td>08-Jun-2018</td>\n",
       "      <td>2018</td>\n",
       "      <td>Unprovoked</td>\n",
       "      <td>AUSTRALIA</td>\n",
       "      <td>New South Wales</td>\n",
       "      <td>Arrawarra Headland</td>\n",
       "      <td>Surfing</td>\n",
       "      <td>Anonymous</td>\n",
       "      <td>M</td>\n",
       "      <td>...</td>\n",
       "      <td>2 m shark</td>\n",
       "      <td>B. Myatt, GSAF</td>\n",
       "      <td>2018.06.08-Arrawarra.pdf</td>\n",
       "      <td>http://sharkattackfile.net/spreadsheets/pdf_di...</td>\n",
       "      <td>http://sharkattackfile.net/spreadsheets/pdf_di...</td>\n",
       "      <td>Jun</td>\n",
       "      <td>2018.06.08</td>\n",
       "      <td>6300.0</td>\n",
       "      <td>NaN</td>\n",
       "      <td>NaN</td>\n",
       "    </tr>\n",
       "    <tr>\n",
       "      <th>4</th>\n",
       "      <td>2018.06.04</td>\n",
       "      <td>04-Jun-2018</td>\n",
       "      <td>2018</td>\n",
       "      <td>Provoked</td>\n",
       "      <td>MEXICO</td>\n",
       "      <td>Colima</td>\n",
       "      <td>La Ticla</td>\n",
       "      <td>Free diving</td>\n",
       "      <td>Gustavo Ramos</td>\n",
       "      <td>M</td>\n",
       "      <td>...</td>\n",
       "      <td>Tiger shark, 3m</td>\n",
       "      <td>A .Kipper</td>\n",
       "      <td>2018.06.04-Ramos.pdf</td>\n",
       "      <td>http://sharkattackfile.net/spreadsheets/pdf_di...</td>\n",
       "      <td>http://sharkattackfile.net/spreadsheets/pdf_di...</td>\n",
       "      <td>Jun</td>\n",
       "      <td>2018.06.04</td>\n",
       "      <td>6299.0</td>\n",
       "      <td>NaN</td>\n",
       "      <td>NaN</td>\n",
       "    </tr>\n",
       "    <tr>\n",
       "      <th>...</th>\n",
       "      <td>...</td>\n",
       "      <td>...</td>\n",
       "      <td>...</td>\n",
       "      <td>...</td>\n",
       "      <td>...</td>\n",
       "      <td>...</td>\n",
       "      <td>...</td>\n",
       "      <td>...</td>\n",
       "      <td>...</td>\n",
       "      <td>...</td>\n",
       "      <td>...</td>\n",
       "      <td>...</td>\n",
       "      <td>...</td>\n",
       "      <td>...</td>\n",
       "      <td>...</td>\n",
       "      <td>...</td>\n",
       "      <td>...</td>\n",
       "      <td>...</td>\n",
       "      <td>...</td>\n",
       "      <td>...</td>\n",
       "      <td>...</td>\n",
       "    </tr>\n",
       "    <tr>\n",
       "      <th>6297</th>\n",
       "      <td>ND.0005</td>\n",
       "      <td>Before 1903</td>\n",
       "      <td>1903</td>\n",
       "      <td>Unprovoked</td>\n",
       "      <td>AUSTRALIA</td>\n",
       "      <td>Western Australia</td>\n",
       "      <td>Roebuck Bay</td>\n",
       "      <td>Diving</td>\n",
       "      <td>Anonymous</td>\n",
       "      <td>M</td>\n",
       "      <td>...</td>\n",
       "      <td>Other</td>\n",
       "      <td>H. Taunton; N. Bartlett,  p. 234</td>\n",
       "      <td>ND-0005-RoebuckBay.pdf</td>\n",
       "      <td>http://sharkattackfile.net/spreadsheets/pdf_di...</td>\n",
       "      <td>http://sharkattackfile.net/spreadsheets/pdf_di...</td>\n",
       "      <td>Unknown</td>\n",
       "      <td>ND.0005</td>\n",
       "      <td>6.0</td>\n",
       "      <td>NaN</td>\n",
       "      <td>NaN</td>\n",
       "    </tr>\n",
       "    <tr>\n",
       "      <th>6298</th>\n",
       "      <td>ND.0004</td>\n",
       "      <td>Before 1903</td>\n",
       "      <td>1903</td>\n",
       "      <td>Unprovoked</td>\n",
       "      <td>AUSTRALIA</td>\n",
       "      <td>Western Australia</td>\n",
       "      <td>Western Australia</td>\n",
       "      <td>Pearl diving</td>\n",
       "      <td>Ahmun</td>\n",
       "      <td>M</td>\n",
       "      <td>...</td>\n",
       "      <td>Other</td>\n",
       "      <td>H. Taunton; N. Bartlett,  pp. 233-234</td>\n",
       "      <td>ND-0004-Ahmun.pdf</td>\n",
       "      <td>http://sharkattackfile.net/spreadsheets/pdf_di...</td>\n",
       "      <td>http://sharkattackfile.net/spreadsheets/pdf_di...</td>\n",
       "      <td>Unknown</td>\n",
       "      <td>ND.0004</td>\n",
       "      <td>5.0</td>\n",
       "      <td>NaN</td>\n",
       "      <td>NaN</td>\n",
       "    </tr>\n",
       "    <tr>\n",
       "      <th>6299</th>\n",
       "      <td>ND.0003</td>\n",
       "      <td>1900-1905</td>\n",
       "      <td>1900</td>\n",
       "      <td>Unprovoked</td>\n",
       "      <td>USA</td>\n",
       "      <td>North Carolina</td>\n",
       "      <td>Ocracoke Inlet</td>\n",
       "      <td>Swimming</td>\n",
       "      <td>Coast Guard personnel</td>\n",
       "      <td>M</td>\n",
       "      <td>...</td>\n",
       "      <td>Other</td>\n",
       "      <td>F. Schwartz, p.23; C. Creswell, GSAF</td>\n",
       "      <td>ND-0003-Ocracoke_1900-1905.pdf</td>\n",
       "      <td>http://sharkattackfile.net/spreadsheets/pdf_di...</td>\n",
       "      <td>http://sharkattackfile.net/spreadsheets/pdf_di...</td>\n",
       "      <td>Unknown</td>\n",
       "      <td>ND.0003</td>\n",
       "      <td>4.0</td>\n",
       "      <td>NaN</td>\n",
       "      <td>NaN</td>\n",
       "    </tr>\n",
       "    <tr>\n",
       "      <th>6300</th>\n",
       "      <td>ND.0002</td>\n",
       "      <td>1883-1889</td>\n",
       "      <td>1883</td>\n",
       "      <td>Unprovoked</td>\n",
       "      <td>PANAMA</td>\n",
       "      <td>Panama Bay 8ºN, 79ºW</td>\n",
       "      <td>Panama Bay 8ºN, 79ºW</td>\n",
       "      <td>Other</td>\n",
       "      <td>Jules Patterson</td>\n",
       "      <td>M</td>\n",
       "      <td>...</td>\n",
       "      <td>Other</td>\n",
       "      <td>The Sun, 10/20/1938</td>\n",
       "      <td>ND-0002-JulesPatterson.pdf</td>\n",
       "      <td>http://sharkattackfile.net/spreadsheets/pdf_di...</td>\n",
       "      <td>http://sharkattackfile.net/spreadsheets/pdf_di...</td>\n",
       "      <td>Unknown</td>\n",
       "      <td>ND.0002</td>\n",
       "      <td>3.0</td>\n",
       "      <td>NaN</td>\n",
       "      <td>NaN</td>\n",
       "    </tr>\n",
       "    <tr>\n",
       "      <th>6301</th>\n",
       "      <td>ND.0001</td>\n",
       "      <td>No date</td>\n",
       "      <td>Unknown</td>\n",
       "      <td>Unprovoked</td>\n",
       "      <td>CEYLON (SRI LANKA)</td>\n",
       "      <td>Eastern Province</td>\n",
       "      <td>Below the English fort, Trincomalee</td>\n",
       "      <td>Swimming</td>\n",
       "      <td>Anonymous</td>\n",
       "      <td>M</td>\n",
       "      <td>...</td>\n",
       "      <td>Other</td>\n",
       "      <td>S.W. Baker</td>\n",
       "      <td>ND-0001-Ceylon.pdf</td>\n",
       "      <td>http://sharkattackfile.net/spreadsheets/pdf_di...</td>\n",
       "      <td>http://sharkattackfile.net/spreadsheets/pdf_di...</td>\n",
       "      <td>Unknown</td>\n",
       "      <td>ND.0001</td>\n",
       "      <td>2.0</td>\n",
       "      <td>NaN</td>\n",
       "      <td>NaN</td>\n",
       "    </tr>\n",
       "  </tbody>\n",
       "</table>\n",
       "<p>6298 rows × 24 columns</p>\n",
       "</div>"
      ],
      "text/plain": [
       "     Case Number         Date     Year        Type             Country   \n",
       "0     2018.06.25  25-Jun-2018     2018     Boating                 USA  \\\n",
       "1     2018.06.18  18-Jun-2018     2018  Unprovoked                 USA   \n",
       "2     2018.06.09  09-Jun-2018     2018     Invalid                 USA   \n",
       "3     2018.06.08  08-Jun-2018     2018  Unprovoked           AUSTRALIA   \n",
       "4     2018.06.04  04-Jun-2018     2018    Provoked              MEXICO   \n",
       "...          ...          ...      ...         ...                 ...   \n",
       "6297     ND.0005  Before 1903     1903  Unprovoked           AUSTRALIA   \n",
       "6298     ND.0004  Before 1903     1903  Unprovoked           AUSTRALIA   \n",
       "6299     ND.0003    1900-1905     1900  Unprovoked                 USA   \n",
       "6300     ND.0002    1883-1889     1883  Unprovoked              PANAMA   \n",
       "6301     ND.0001      No date  Unknown  Unprovoked  CEYLON (SRI LANKA)   \n",
       "\n",
       "                      Area                             Location      Activity   \n",
       "0               California          Oceanside, San Diego County      Paddling  \\\n",
       "1                  Georgia       St. Simon Island, Glynn County      Standing   \n",
       "2                   Hawaii                         Habush, Oahu       Surfing   \n",
       "3          New South Wales                   Arrawarra Headland       Surfing   \n",
       "4                   Colima                             La Ticla   Free diving   \n",
       "...                    ...                                  ...           ...   \n",
       "6297     Western Australia                          Roebuck Bay        Diving   \n",
       "6298     Western Australia                    Western Australia  Pearl diving   \n",
       "6299        North Carolina                       Ocracoke Inlet      Swimming   \n",
       "6300  Panama Bay 8ºN, 79ºW                 Panama Bay 8ºN, 79ºW         Other   \n",
       "6301      Eastern Province  Below the English fort, Trincomalee      Swimming   \n",
       "\n",
       "                       Name Sex  ...          Species   \n",
       "0               Julie Wolfe   F  ...      White shark  \\\n",
       "1           Adyson McNeely    F  ...            Other   \n",
       "2               John Denges   M  ...            Other   \n",
       "3                 Anonymous   M  ...        2 m shark   \n",
       "4            Gustavo Ramos    M  ...  Tiger shark, 3m   \n",
       "...                     ...  ..  ...              ...   \n",
       "6297              Anonymous   M  ...            Other   \n",
       "6298                  Ahmun   M  ...            Other   \n",
       "6299  Coast Guard personnel   M  ...            Other   \n",
       "6300        Jules Patterson   M  ...            Other   \n",
       "6301              Anonymous   M  ...            Other   \n",
       "\n",
       "                     Investigator or Source                 Case File (PDF)   \n",
       "0                          R. Collier, GSAF            2018.06.25-Wolfe.pdf  \\\n",
       "1            K.McMurray, TrackingSharks.com          2018.06.18-McNeely.pdf   \n",
       "2            K.McMurray, TrackingSharks.com           2018.06.09-Denges.pdf   \n",
       "3                            B. Myatt, GSAF        2018.06.08-Arrawarra.pdf   \n",
       "4                                 A .Kipper            2018.06.04-Ramos.pdf   \n",
       "...                                     ...                             ...   \n",
       "6297       H. Taunton; N. Bartlett,  p. 234          ND-0005-RoebuckBay.pdf   \n",
       "6298  H. Taunton; N. Bartlett,  pp. 233-234               ND-0004-Ahmun.pdf   \n",
       "6299   F. Schwartz, p.23; C. Creswell, GSAF  ND-0003-Ocracoke_1900-1905.pdf   \n",
       "6300                    The Sun, 10/20/1938      ND-0002-JulesPatterson.pdf   \n",
       "6301                             S.W. Baker              ND-0001-Ceylon.pdf   \n",
       "\n",
       "                                           href formula   \n",
       "0     http://sharkattackfile.net/spreadsheets/pdf_di...  \\\n",
       "1     http://sharkattackfile.net/spreadsheets/pdf_di...   \n",
       "2     http://sharkattackfile.net/spreadsheets/pdf_di...   \n",
       "3     http://sharkattackfile.net/spreadsheets/pdf_di...   \n",
       "4     http://sharkattackfile.net/spreadsheets/pdf_di...   \n",
       "...                                                 ...   \n",
       "6297  http://sharkattackfile.net/spreadsheets/pdf_di...   \n",
       "6298  http://sharkattackfile.net/spreadsheets/pdf_di...   \n",
       "6299  http://sharkattackfile.net/spreadsheets/pdf_di...   \n",
       "6300  http://sharkattackfile.net/spreadsheets/pdf_di...   \n",
       "6301  http://sharkattackfile.net/spreadsheets/pdf_di...   \n",
       "\n",
       "                                        Case File (URL)    Month      Season   \n",
       "0     http://sharkattackfile.net/spreadsheets/pdf_di...      Jun  2018.06.25  \\\n",
       "1     http://sharkattackfile.net/spreadsheets/pdf_di...      Jun  2018.06.18   \n",
       "2     http://sharkattackfile.net/spreadsheets/pdf_di...      Jun  2018.06.09   \n",
       "3     http://sharkattackfile.net/spreadsheets/pdf_di...      Jun  2018.06.08   \n",
       "4     http://sharkattackfile.net/spreadsheets/pdf_di...      Jun  2018.06.04   \n",
       "...                                                 ...      ...         ...   \n",
       "6297  http://sharkattackfile.net/spreadsheets/pdf_di...  Unknown     ND.0005   \n",
       "6298  http://sharkattackfile.net/spreadsheets/pdf_di...  Unknown     ND.0004   \n",
       "6299  http://sharkattackfile.net/spreadsheets/pdf_di...  Unknown     ND.0003   \n",
       "6300  http://sharkattackfile.net/spreadsheets/pdf_di...  Unknown     ND.0002   \n",
       "6301  http://sharkattackfile.net/spreadsheets/pdf_di...  Unknown     ND.0001   \n",
       "\n",
       "     original order Unnamed: 22 Unnamed: 23  \n",
       "0            6303.0         NaN         NaN  \n",
       "1            6302.0         NaN         NaN  \n",
       "2            6301.0         NaN         NaN  \n",
       "3            6300.0         NaN         NaN  \n",
       "4            6299.0         NaN         NaN  \n",
       "...             ...         ...         ...  \n",
       "6297            6.0         NaN         NaN  \n",
       "6298            5.0         NaN         NaN  \n",
       "6299            4.0         NaN         NaN  \n",
       "6300            3.0         NaN         NaN  \n",
       "6301            2.0         NaN         NaN  \n",
       "\n",
       "[6298 rows x 24 columns]"
      ]
     },
     "execution_count": 2307,
     "metadata": {},
     "output_type": "execute_result"
    }
   ],
   "source": [
    "sharks"
   ]
  },
  {
   "cell_type": "code",
   "execution_count": 2308,
   "metadata": {},
   "outputs": [],
   "source": [
    "def get_season(month):\n",
    "    if month in ['Dec', 'Jan', 'Feb']:\n",
    "        return 'Winter'\n",
    "    elif month in ['Mar', 'Apr', 'May']:\n",
    "        return 'Spring'\n",
    "    elif month in ['Jun', 'Jul', 'Aug']:\n",
    "        return 'Summer'\n",
    "    elif month in ['Sep', 'Oct', 'Nov']:\n",
    "        return 'Autumn'\n",
    "    else:\n",
    "        return 'Unknown'\n",
    "\n",
    "# Aplicar la función a la columna Month y asignar el resultado a la columna Season\n",
    "sharks['Season'] = sharks['Month'].apply(get_season)"
   ]
  },
  {
   "cell_type": "code",
   "execution_count": 2309,
   "metadata": {},
   "outputs": [
    {
     "data": {
      "text/plain": [
       "0        Summer\n",
       "1        Summer\n",
       "2        Summer\n",
       "3        Summer\n",
       "4        Summer\n",
       "         ...   \n",
       "6297    Unknown\n",
       "6298    Unknown\n",
       "6299    Unknown\n",
       "6300    Unknown\n",
       "6301    Unknown\n",
       "Name: Season, Length: 6298, dtype: object"
      ]
     },
     "execution_count": 2309,
     "metadata": {},
     "output_type": "execute_result"
    }
   ],
   "source": [
    "sharks['Season']"
   ]
  }
 ],
 "metadata": {
  "kernelspec": {
   "display_name": "Python 3",
   "language": "python",
   "name": "python3"
  },
  "language_info": {
   "codemirror_mode": {
    "name": "ipython",
    "version": 3
   },
   "file_extension": ".py",
   "mimetype": "text/x-python",
   "name": "python",
   "nbconvert_exporter": "python",
   "pygments_lexer": "ipython3",
   "version": "3.10.11"
  },
  "orig_nbformat": 4
 },
 "nbformat": 4,
 "nbformat_minor": 2
}
