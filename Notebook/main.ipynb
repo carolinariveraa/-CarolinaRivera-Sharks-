{
 "cells": [
  {
   "cell_type": "code",
   "execution_count": null,
   "metadata": {},
   "outputs": [],
   "source": []
  },
  {
   "attachments": {},
   "cell_type": "markdown",
   "metadata": {},
   "source": [
    "Required Libraries"
   ]
  },
  {
   "cell_type": "code",
   "execution_count": 78,
   "metadata": {},
   "outputs": [],
   "source": [
    "import pandas as pd\n",
    "import numpy as np\n",
    "from datetime import datetime"
   ]
  },
  {
   "attachments": {},
   "cell_type": "markdown",
   "metadata": {},
   "source": [
    "Import data set"
   ]
  },
  {
   "cell_type": "code",
   "execution_count": 79,
   "metadata": {},
   "outputs": [
    {
     "data": {
      "text/html": [
       "<div>\n",
       "<style scoped>\n",
       "    .dataframe tbody tr th:only-of-type {\n",
       "        vertical-align: middle;\n",
       "    }\n",
       "\n",
       "    .dataframe tbody tr th {\n",
       "        vertical-align: top;\n",
       "    }\n",
       "\n",
       "    .dataframe thead th {\n",
       "        text-align: right;\n",
       "    }\n",
       "</style>\n",
       "<table border=\"1\" class=\"dataframe\">\n",
       "  <thead>\n",
       "    <tr style=\"text-align: right;\">\n",
       "      <th></th>\n",
       "      <th>Case Number</th>\n",
       "      <th>Date</th>\n",
       "      <th>Year</th>\n",
       "      <th>Type</th>\n",
       "      <th>Country</th>\n",
       "      <th>Area</th>\n",
       "      <th>Location</th>\n",
       "      <th>Activity</th>\n",
       "      <th>Name</th>\n",
       "      <th>Sex</th>\n",
       "      <th>...</th>\n",
       "      <th>Species</th>\n",
       "      <th>Investigator or Source</th>\n",
       "      <th>pdf</th>\n",
       "      <th>href formula</th>\n",
       "      <th>href</th>\n",
       "      <th>Case Number.1</th>\n",
       "      <th>Case Number.2</th>\n",
       "      <th>original order</th>\n",
       "      <th>Unnamed: 22</th>\n",
       "      <th>Unnamed: 23</th>\n",
       "    </tr>\n",
       "  </thead>\n",
       "  <tbody>\n",
       "    <tr>\n",
       "      <th>0</th>\n",
       "      <td>2018.06.25</td>\n",
       "      <td>25-Jun-2018</td>\n",
       "      <td>2018.0</td>\n",
       "      <td>Boating</td>\n",
       "      <td>USA</td>\n",
       "      <td>California</td>\n",
       "      <td>Oceanside, San Diego County</td>\n",
       "      <td>Paddling</td>\n",
       "      <td>Julie Wolfe</td>\n",
       "      <td>F</td>\n",
       "      <td>...</td>\n",
       "      <td>White shark</td>\n",
       "      <td>R. Collier, GSAF</td>\n",
       "      <td>2018.06.25-Wolfe.pdf</td>\n",
       "      <td>http://sharkattackfile.net/spreadsheets/pdf_di...</td>\n",
       "      <td>http://sharkattackfile.net/spreadsheets/pdf_di...</td>\n",
       "      <td>2018.06.25</td>\n",
       "      <td>2018.06.25</td>\n",
       "      <td>6303.0</td>\n",
       "      <td>NaN</td>\n",
       "      <td>NaN</td>\n",
       "    </tr>\n",
       "    <tr>\n",
       "      <th>1</th>\n",
       "      <td>2018.06.18</td>\n",
       "      <td>18-Jun-2018</td>\n",
       "      <td>2018.0</td>\n",
       "      <td>Unprovoked</td>\n",
       "      <td>USA</td>\n",
       "      <td>Georgia</td>\n",
       "      <td>St. Simon Island, Glynn County</td>\n",
       "      <td>Standing</td>\n",
       "      <td>Adyson McNeely</td>\n",
       "      <td>F</td>\n",
       "      <td>...</td>\n",
       "      <td>NaN</td>\n",
       "      <td>K.McMurray, TrackingSharks.com</td>\n",
       "      <td>2018.06.18-McNeely.pdf</td>\n",
       "      <td>http://sharkattackfile.net/spreadsheets/pdf_di...</td>\n",
       "      <td>http://sharkattackfile.net/spreadsheets/pdf_di...</td>\n",
       "      <td>2018.06.18</td>\n",
       "      <td>2018.06.18</td>\n",
       "      <td>6302.0</td>\n",
       "      <td>NaN</td>\n",
       "      <td>NaN</td>\n",
       "    </tr>\n",
       "    <tr>\n",
       "      <th>2</th>\n",
       "      <td>2018.06.09</td>\n",
       "      <td>09-Jun-2018</td>\n",
       "      <td>2018.0</td>\n",
       "      <td>Invalid</td>\n",
       "      <td>USA</td>\n",
       "      <td>Hawaii</td>\n",
       "      <td>Habush, Oahu</td>\n",
       "      <td>Surfing</td>\n",
       "      <td>John Denges</td>\n",
       "      <td>M</td>\n",
       "      <td>...</td>\n",
       "      <td>NaN</td>\n",
       "      <td>K.McMurray, TrackingSharks.com</td>\n",
       "      <td>2018.06.09-Denges.pdf</td>\n",
       "      <td>http://sharkattackfile.net/spreadsheets/pdf_di...</td>\n",
       "      <td>http://sharkattackfile.net/spreadsheets/pdf_di...</td>\n",
       "      <td>2018.06.09</td>\n",
       "      <td>2018.06.09</td>\n",
       "      <td>6301.0</td>\n",
       "      <td>NaN</td>\n",
       "      <td>NaN</td>\n",
       "    </tr>\n",
       "    <tr>\n",
       "      <th>3</th>\n",
       "      <td>2018.06.08</td>\n",
       "      <td>08-Jun-2018</td>\n",
       "      <td>2018.0</td>\n",
       "      <td>Unprovoked</td>\n",
       "      <td>AUSTRALIA</td>\n",
       "      <td>New South Wales</td>\n",
       "      <td>Arrawarra Headland</td>\n",
       "      <td>Surfing</td>\n",
       "      <td>male</td>\n",
       "      <td>M</td>\n",
       "      <td>...</td>\n",
       "      <td>2 m shark</td>\n",
       "      <td>B. Myatt, GSAF</td>\n",
       "      <td>2018.06.08-Arrawarra.pdf</td>\n",
       "      <td>http://sharkattackfile.net/spreadsheets/pdf_di...</td>\n",
       "      <td>http://sharkattackfile.net/spreadsheets/pdf_di...</td>\n",
       "      <td>2018.06.08</td>\n",
       "      <td>2018.06.08</td>\n",
       "      <td>6300.0</td>\n",
       "      <td>NaN</td>\n",
       "      <td>NaN</td>\n",
       "    </tr>\n",
       "    <tr>\n",
       "      <th>4</th>\n",
       "      <td>2018.06.04</td>\n",
       "      <td>04-Jun-2018</td>\n",
       "      <td>2018.0</td>\n",
       "      <td>Provoked</td>\n",
       "      <td>MEXICO</td>\n",
       "      <td>Colima</td>\n",
       "      <td>La Ticla</td>\n",
       "      <td>Free diving</td>\n",
       "      <td>Gustavo Ramos</td>\n",
       "      <td>M</td>\n",
       "      <td>...</td>\n",
       "      <td>Tiger shark, 3m</td>\n",
       "      <td>A .Kipper</td>\n",
       "      <td>2018.06.04-Ramos.pdf</td>\n",
       "      <td>http://sharkattackfile.net/spreadsheets/pdf_di...</td>\n",
       "      <td>http://sharkattackfile.net/spreadsheets/pdf_di...</td>\n",
       "      <td>2018.06.04</td>\n",
       "      <td>2018.06.04</td>\n",
       "      <td>6299.0</td>\n",
       "      <td>NaN</td>\n",
       "      <td>NaN</td>\n",
       "    </tr>\n",
       "  </tbody>\n",
       "</table>\n",
       "<p>5 rows × 24 columns</p>\n",
       "</div>"
      ],
      "text/plain": [
       "  Case Number         Date    Year        Type    Country             Area   \n",
       "0  2018.06.25  25-Jun-2018  2018.0     Boating        USA       California  \\\n",
       "1  2018.06.18  18-Jun-2018  2018.0  Unprovoked        USA          Georgia   \n",
       "2  2018.06.09  09-Jun-2018  2018.0     Invalid        USA           Hawaii   \n",
       "3  2018.06.08  08-Jun-2018  2018.0  Unprovoked  AUSTRALIA  New South Wales   \n",
       "4  2018.06.04  04-Jun-2018  2018.0    Provoked     MEXICO           Colima   \n",
       "\n",
       "                         Location     Activity             Name Sex   ...   \n",
       "0     Oceanside, San Diego County     Paddling      Julie Wolfe    F  ...  \\\n",
       "1  St. Simon Island, Glynn County     Standing  Adyson McNeely     F  ...   \n",
       "2                    Habush, Oahu      Surfing      John Denges    M  ...   \n",
       "3              Arrawarra Headland      Surfing             male    M  ...   \n",
       "4                        La Ticla  Free diving   Gustavo Ramos     M  ...   \n",
       "\n",
       "          Species           Investigator or Source                       pdf   \n",
       "0      White shark                R. Collier, GSAF      2018.06.25-Wolfe.pdf  \\\n",
       "1              NaN  K.McMurray, TrackingSharks.com    2018.06.18-McNeely.pdf   \n",
       "2              NaN  K.McMurray, TrackingSharks.com     2018.06.09-Denges.pdf   \n",
       "3        2 m shark                  B. Myatt, GSAF  2018.06.08-Arrawarra.pdf   \n",
       "4  Tiger shark, 3m                       A .Kipper      2018.06.04-Ramos.pdf   \n",
       "\n",
       "                                        href formula   \n",
       "0  http://sharkattackfile.net/spreadsheets/pdf_di...  \\\n",
       "1  http://sharkattackfile.net/spreadsheets/pdf_di...   \n",
       "2  http://sharkattackfile.net/spreadsheets/pdf_di...   \n",
       "3  http://sharkattackfile.net/spreadsheets/pdf_di...   \n",
       "4  http://sharkattackfile.net/spreadsheets/pdf_di...   \n",
       "\n",
       "                                                href Case Number.1   \n",
       "0  http://sharkattackfile.net/spreadsheets/pdf_di...    2018.06.25  \\\n",
       "1  http://sharkattackfile.net/spreadsheets/pdf_di...    2018.06.18   \n",
       "2  http://sharkattackfile.net/spreadsheets/pdf_di...    2018.06.09   \n",
       "3  http://sharkattackfile.net/spreadsheets/pdf_di...    2018.06.08   \n",
       "4  http://sharkattackfile.net/spreadsheets/pdf_di...    2018.06.04   \n",
       "\n",
       "  Case Number.2 original order Unnamed: 22 Unnamed: 23  \n",
       "0    2018.06.25         6303.0         NaN         NaN  \n",
       "1    2018.06.18         6302.0         NaN         NaN  \n",
       "2    2018.06.09         6301.0         NaN         NaN  \n",
       "3    2018.06.08         6300.0         NaN         NaN  \n",
       "4    2018.06.04         6299.0         NaN         NaN  \n",
       "\n",
       "[5 rows x 24 columns]"
      ]
     },
     "execution_count": 79,
     "metadata": {},
     "output_type": "execute_result"
    }
   ],
   "source": [
    "sharks = pd.read_csv('../data/attacks.csv', encoding='ISO-8859-1')\n",
    "sharks.head()"
   ]
  },
  {
   "attachments": {},
   "cell_type": "markdown",
   "metadata": {},
   "source": [
    "Exploración Inicial"
   ]
  },
  {
   "cell_type": "code",
   "execution_count": 80,
   "metadata": {},
   "outputs": [
    {
     "name": "stdout",
     "output_type": "stream",
     "text": [
      "<class 'pandas.core.frame.DataFrame'>\n",
      "RangeIndex: 25723 entries, 0 to 25722\n",
      "Data columns (total 24 columns):\n",
      " #   Column                  Non-Null Count  Dtype  \n",
      "---  ------                  --------------  -----  \n",
      " 0   Case Number             8702 non-null   object \n",
      " 1   Date                    6302 non-null   object \n",
      " 2   Year                    6300 non-null   float64\n",
      " 3   Type                    6298 non-null   object \n",
      " 4   Country                 6252 non-null   object \n",
      " 5   Area                    5847 non-null   object \n",
      " 6   Location                5762 non-null   object \n",
      " 7   Activity                5758 non-null   object \n",
      " 8   Name                    6092 non-null   object \n",
      " 9   Sex                     5737 non-null   object \n",
      " 10  Age                     3471 non-null   object \n",
      " 11  Injury                  6274 non-null   object \n",
      " 12  Fatal (Y/N)             5763 non-null   object \n",
      " 13  Time                    2948 non-null   object \n",
      " 14  Species                 3464 non-null   object \n",
      " 15  Investigator or Source  6285 non-null   object \n",
      " 16  pdf                     6302 non-null   object \n",
      " 17  href formula            6301 non-null   object \n",
      " 18  href                    6302 non-null   object \n",
      " 19  Case Number.1           6302 non-null   object \n",
      " 20  Case Number.2           6302 non-null   object \n",
      " 21  original order          6309 non-null   float64\n",
      " 22  Unnamed: 22             1 non-null      object \n",
      " 23  Unnamed: 23             2 non-null      object \n",
      "dtypes: float64(2), object(22)\n",
      "memory usage: 22.8 MB\n"
     ]
    }
   ],
   "source": [
    "sharks.info(memory_usage='deep')"
   ]
  },
  {
   "cell_type": "code",
   "execution_count": 81,
   "metadata": {},
   "outputs": [
    {
     "data": {
      "text/html": [
       "<div>\n",
       "<style scoped>\n",
       "    .dataframe tbody tr th:only-of-type {\n",
       "        vertical-align: middle;\n",
       "    }\n",
       "\n",
       "    .dataframe tbody tr th {\n",
       "        vertical-align: top;\n",
       "    }\n",
       "\n",
       "    .dataframe thead th {\n",
       "        text-align: right;\n",
       "    }\n",
       "</style>\n",
       "<table border=\"1\" class=\"dataframe\">\n",
       "  <thead>\n",
       "    <tr style=\"text-align: right;\">\n",
       "      <th></th>\n",
       "      <th>count</th>\n",
       "      <th>unique</th>\n",
       "      <th>top</th>\n",
       "      <th>freq</th>\n",
       "    </tr>\n",
       "  </thead>\n",
       "  <tbody>\n",
       "    <tr>\n",
       "      <th>Case Number</th>\n",
       "      <td>8702</td>\n",
       "      <td>6287</td>\n",
       "      <td>0</td>\n",
       "      <td>2400</td>\n",
       "    </tr>\n",
       "    <tr>\n",
       "      <th>Date</th>\n",
       "      <td>6302</td>\n",
       "      <td>5433</td>\n",
       "      <td>1957</td>\n",
       "      <td>11</td>\n",
       "    </tr>\n",
       "    <tr>\n",
       "      <th>Type</th>\n",
       "      <td>6298</td>\n",
       "      <td>8</td>\n",
       "      <td>Unprovoked</td>\n",
       "      <td>4595</td>\n",
       "    </tr>\n",
       "    <tr>\n",
       "      <th>Country</th>\n",
       "      <td>6252</td>\n",
       "      <td>212</td>\n",
       "      <td>USA</td>\n",
       "      <td>2229</td>\n",
       "    </tr>\n",
       "    <tr>\n",
       "      <th>Area</th>\n",
       "      <td>5847</td>\n",
       "      <td>825</td>\n",
       "      <td>Florida</td>\n",
       "      <td>1037</td>\n",
       "    </tr>\n",
       "    <tr>\n",
       "      <th>Location</th>\n",
       "      <td>5762</td>\n",
       "      <td>4108</td>\n",
       "      <td>New Smyrna Beach, Volusia County</td>\n",
       "      <td>163</td>\n",
       "    </tr>\n",
       "    <tr>\n",
       "      <th>Activity</th>\n",
       "      <td>5758</td>\n",
       "      <td>1532</td>\n",
       "      <td>Surfing</td>\n",
       "      <td>971</td>\n",
       "    </tr>\n",
       "    <tr>\n",
       "      <th>Name</th>\n",
       "      <td>6092</td>\n",
       "      <td>5230</td>\n",
       "      <td>male</td>\n",
       "      <td>550</td>\n",
       "    </tr>\n",
       "    <tr>\n",
       "      <th>Sex</th>\n",
       "      <td>5737</td>\n",
       "      <td>6</td>\n",
       "      <td>M</td>\n",
       "      <td>5094</td>\n",
       "    </tr>\n",
       "    <tr>\n",
       "      <th>Age</th>\n",
       "      <td>3471</td>\n",
       "      <td>157</td>\n",
       "      <td>17</td>\n",
       "      <td>154</td>\n",
       "    </tr>\n",
       "    <tr>\n",
       "      <th>Injury</th>\n",
       "      <td>6274</td>\n",
       "      <td>3737</td>\n",
       "      <td>FATAL</td>\n",
       "      <td>802</td>\n",
       "    </tr>\n",
       "    <tr>\n",
       "      <th>Fatal (Y/N)</th>\n",
       "      <td>5763</td>\n",
       "      <td>8</td>\n",
       "      <td>N</td>\n",
       "      <td>4293</td>\n",
       "    </tr>\n",
       "    <tr>\n",
       "      <th>Time</th>\n",
       "      <td>2948</td>\n",
       "      <td>366</td>\n",
       "      <td>Afternoon</td>\n",
       "      <td>187</td>\n",
       "    </tr>\n",
       "    <tr>\n",
       "      <th>Species</th>\n",
       "      <td>3464</td>\n",
       "      <td>1549</td>\n",
       "      <td>White shark</td>\n",
       "      <td>163</td>\n",
       "    </tr>\n",
       "    <tr>\n",
       "      <th>Investigator or Source</th>\n",
       "      <td>6285</td>\n",
       "      <td>4969</td>\n",
       "      <td>C. Moore, GSAF</td>\n",
       "      <td>105</td>\n",
       "    </tr>\n",
       "    <tr>\n",
       "      <th>pdf</th>\n",
       "      <td>6302</td>\n",
       "      <td>6291</td>\n",
       "      <td>1923.00.00.a-NJ fisherman.pdf</td>\n",
       "      <td>2</td>\n",
       "    </tr>\n",
       "    <tr>\n",
       "      <th>href formula</th>\n",
       "      <td>6301</td>\n",
       "      <td>6290</td>\n",
       "      <td>http://sharkattackfile.net/spreadsheets/pdf_di...</td>\n",
       "      <td>2</td>\n",
       "    </tr>\n",
       "    <tr>\n",
       "      <th>href</th>\n",
       "      <td>6302</td>\n",
       "      <td>6285</td>\n",
       "      <td>http://sharkattackfile.net/spreadsheets/pdf_di...</td>\n",
       "      <td>4</td>\n",
       "    </tr>\n",
       "    <tr>\n",
       "      <th>Case Number.1</th>\n",
       "      <td>6302</td>\n",
       "      <td>6285</td>\n",
       "      <td>1920.00.00.b</td>\n",
       "      <td>2</td>\n",
       "    </tr>\n",
       "    <tr>\n",
       "      <th>Case Number.2</th>\n",
       "      <td>6302</td>\n",
       "      <td>6286</td>\n",
       "      <td>1920.00.00.b</td>\n",
       "      <td>2</td>\n",
       "    </tr>\n",
       "    <tr>\n",
       "      <th>Unnamed: 22</th>\n",
       "      <td>1</td>\n",
       "      <td>1</td>\n",
       "      <td>stopped here</td>\n",
       "      <td>1</td>\n",
       "    </tr>\n",
       "    <tr>\n",
       "      <th>Unnamed: 23</th>\n",
       "      <td>2</td>\n",
       "      <td>2</td>\n",
       "      <td>Teramo</td>\n",
       "      <td>1</td>\n",
       "    </tr>\n",
       "  </tbody>\n",
       "</table>\n",
       "</div>"
      ],
      "text/plain": [
       "                       count unique   \n",
       "Case Number             8702   6287  \\\n",
       "Date                    6302   5433   \n",
       "Type                    6298      8   \n",
       "Country                 6252    212   \n",
       "Area                    5847    825   \n",
       "Location                5762   4108   \n",
       "Activity                5758   1532   \n",
       "Name                    6092   5230   \n",
       "Sex                     5737      6   \n",
       "Age                     3471    157   \n",
       "Injury                  6274   3737   \n",
       "Fatal (Y/N)             5763      8   \n",
       "Time                    2948    366   \n",
       "Species                 3464   1549   \n",
       "Investigator or Source  6285   4969   \n",
       "pdf                     6302   6291   \n",
       "href formula            6301   6290   \n",
       "href                    6302   6285   \n",
       "Case Number.1           6302   6285   \n",
       "Case Number.2           6302   6286   \n",
       "Unnamed: 22                1      1   \n",
       "Unnamed: 23                2      2   \n",
       "\n",
       "                                                                      top   \n",
       "Case Number                                                             0  \\\n",
       "Date                                                                 1957   \n",
       "Type                                                           Unprovoked   \n",
       "Country                                                               USA   \n",
       "Area                                                              Florida   \n",
       "Location                                 New Smyrna Beach, Volusia County   \n",
       "Activity                                                          Surfing   \n",
       "Name                                                                 male   \n",
       "Sex                                                                     M   \n",
       "Age                                                                    17   \n",
       "Injury                                                              FATAL   \n",
       "Fatal (Y/N)                                                             N   \n",
       "Time                                                            Afternoon   \n",
       "Species                                                       White shark   \n",
       "Investigator or Source                                     C. Moore, GSAF   \n",
       "pdf                                         1923.00.00.a-NJ fisherman.pdf   \n",
       "href formula            http://sharkattackfile.net/spreadsheets/pdf_di...   \n",
       "href                    http://sharkattackfile.net/spreadsheets/pdf_di...   \n",
       "Case Number.1                                                1920.00.00.b   \n",
       "Case Number.2                                                1920.00.00.b   \n",
       "Unnamed: 22                                                  stopped here   \n",
       "Unnamed: 23                                                        Teramo   \n",
       "\n",
       "                        freq  \n",
       "Case Number             2400  \n",
       "Date                      11  \n",
       "Type                    4595  \n",
       "Country                 2229  \n",
       "Area                    1037  \n",
       "Location                 163  \n",
       "Activity                 971  \n",
       "Name                     550  \n",
       "Sex                     5094  \n",
       "Age                      154  \n",
       "Injury                   802  \n",
       "Fatal (Y/N)             4293  \n",
       "Time                     187  \n",
       "Species                  163  \n",
       "Investigator or Source   105  \n",
       "pdf                        2  \n",
       "href formula               2  \n",
       "href                       4  \n",
       "Case Number.1              2  \n",
       "Case Number.2              2  \n",
       "Unnamed: 22                1  \n",
       "Unnamed: 23                1  "
      ]
     },
     "execution_count": 81,
     "metadata": {},
     "output_type": "execute_result"
    }
   ],
   "source": [
    "sharks.describe(include='object').T"
   ]
  },
  {
   "cell_type": "code",
   "execution_count": null,
   "metadata": {},
   "outputs": [],
   "source": []
  },
  {
   "attachments": {},
   "cell_type": "markdown",
   "metadata": {},
   "source": [
    "Columnas numericas"
   ]
  },
  {
   "cell_type": "code",
   "execution_count": 82,
   "metadata": {},
   "outputs": [
    {
     "data": {
      "text/html": [
       "<div>\n",
       "<style scoped>\n",
       "    .dataframe tbody tr th:only-of-type {\n",
       "        vertical-align: middle;\n",
       "    }\n",
       "\n",
       "    .dataframe tbody tr th {\n",
       "        vertical-align: top;\n",
       "    }\n",
       "\n",
       "    .dataframe thead th {\n",
       "        text-align: right;\n",
       "    }\n",
       "</style>\n",
       "<table border=\"1\" class=\"dataframe\">\n",
       "  <thead>\n",
       "    <tr style=\"text-align: right;\">\n",
       "      <th></th>\n",
       "      <th>Year</th>\n",
       "      <th>original order</th>\n",
       "    </tr>\n",
       "  </thead>\n",
       "  <tbody>\n",
       "    <tr>\n",
       "      <th>0</th>\n",
       "      <td>2018.0</td>\n",
       "      <td>6303.0</td>\n",
       "    </tr>\n",
       "    <tr>\n",
       "      <th>1</th>\n",
       "      <td>2018.0</td>\n",
       "      <td>6302.0</td>\n",
       "    </tr>\n",
       "    <tr>\n",
       "      <th>2</th>\n",
       "      <td>2018.0</td>\n",
       "      <td>6301.0</td>\n",
       "    </tr>\n",
       "    <tr>\n",
       "      <th>3</th>\n",
       "      <td>2018.0</td>\n",
       "      <td>6300.0</td>\n",
       "    </tr>\n",
       "    <tr>\n",
       "      <th>4</th>\n",
       "      <td>2018.0</td>\n",
       "      <td>6299.0</td>\n",
       "    </tr>\n",
       "  </tbody>\n",
       "</table>\n",
       "</div>"
      ],
      "text/plain": [
       "     Year  original order\n",
       "0  2018.0          6303.0\n",
       "1  2018.0          6302.0\n",
       "2  2018.0          6301.0\n",
       "3  2018.0          6300.0\n",
       "4  2018.0          6299.0"
      ]
     },
     "execution_count": 82,
     "metadata": {},
     "output_type": "execute_result"
    }
   ],
   "source": [
    "num_df = sharks.select_dtypes(exclude='object')\n",
    "\n",
    "num_df.head()"
   ]
  },
  {
   "attachments": {},
   "cell_type": "markdown",
   "metadata": {},
   "source": [
    "Valores Nulos"
   ]
  },
  {
   "cell_type": "code",
   "execution_count": 83,
   "metadata": {},
   "outputs": [
    {
     "data": {
      "text/plain": [
       "(25723, 24)"
      ]
     },
     "execution_count": 83,
     "metadata": {},
     "output_type": "execute_result"
    }
   ],
   "source": [
    "original_shape = sharks.shape\n",
    "original_shape"
   ]
  },
  {
   "cell_type": "code",
   "execution_count": 84,
   "metadata": {},
   "outputs": [],
   "source": [
    "#elimino las filas que todos sus valores son nulos\n",
    "sharks.dropna(how='all', inplace=True)\n"
   ]
  },
  {
   "cell_type": "code",
   "execution_count": 85,
   "metadata": {},
   "outputs": [
    {
     "data": {
      "text/plain": [
       "(8703, 24)"
      ]
     },
     "execution_count": 85,
     "metadata": {},
     "output_type": "execute_result"
    }
   ],
   "source": [
    "sharks.shape"
   ]
  },
  {
   "cell_type": "code",
   "execution_count": 86,
   "metadata": {},
   "outputs": [],
   "source": [
    "#eliminar las filas que tengan mas de 20 columnas de valores nulos\n",
    "\n",
    "null_rows = sharks.isnull().sum(axis=1)\n",
    "indexes_to_drop = null_rows[null_rows > 20].index\n",
    "sharks = sharks.drop(indexes_to_drop)"
   ]
  },
  {
   "cell_type": "code",
   "execution_count": 87,
   "metadata": {},
   "outputs": [
    {
     "data": {
      "text/plain": [
       "(6302, 24)"
      ]
     },
     "execution_count": 87,
     "metadata": {},
     "output_type": "execute_result"
    }
   ],
   "source": [
    "sharks.shape"
   ]
  },
  {
   "cell_type": "code",
   "execution_count": 88,
   "metadata": {},
   "outputs": [
    {
     "data": {
      "text/plain": [
       "Case Number                  1\n",
       "Year                         2\n",
       "Type                         4\n",
       "Country                     50\n",
       "Area                       455\n",
       "Location                   540\n",
       "Activity                   544\n",
       "Name                       210\n",
       "Sex                        565\n",
       "Age                       2831\n",
       "Injury                      28\n",
       "Fatal (Y/N)                539\n",
       "Time                      3354\n",
       "Species                   2838\n",
       "Investigator or Source      17\n",
       "href formula                 1\n",
       "Unnamed: 22               6301\n",
       "Unnamed: 23               6300\n",
       "dtype: int64"
      ]
     },
     "execution_count": 88,
     "metadata": {},
     "output_type": "execute_result"
    }
   ],
   "source": [
    "nan_cols = sharks.isna().sum()\n",
    "\n",
    "nan_cols[nan_cols>0]"
   ]
  },
  {
   "cell_type": "code",
   "execution_count": 89,
   "metadata": {},
   "outputs": [
    {
     "data": {
      "text/plain": [
       "Case Number                0.015868\n",
       "Year                       0.031736\n",
       "Type                       0.063472\n",
       "Country                    0.793399\n",
       "Area                       7.219930\n",
       "Location                   8.568708\n",
       "Activity                   8.632180\n",
       "Name                       3.332275\n",
       "Sex                        8.965408\n",
       "Age                       44.922247\n",
       "Injury                     0.444303\n",
       "Fatal (Y/N)                8.552840\n",
       "Time                      53.221200\n",
       "Species                   45.033323\n",
       "Investigator or Source     0.269756\n",
       "href formula               0.015868\n",
       "Unnamed: 22               99.984132\n",
       "Unnamed: 23               99.968264\n",
       "dtype: float64"
      ]
     },
     "execution_count": 89,
     "metadata": {},
     "output_type": "execute_result"
    }
   ],
   "source": [
    "percent_nan_cols = sharks.isna().mean() * 100  # porcentaje de nulo en cada columna\n",
    "\n",
    "\n",
    "percent_nan_cols[percent_nan_cols>0]"
   ]
  },
  {
   "attachments": {},
   "cell_type": "markdown",
   "metadata": {},
   "source": [
    "Vamos a ir columna a columna quitando valores nulos"
   ]
  },
  {
   "attachments": {},
   "cell_type": "markdown",
   "metadata": {},
   "source": [
    "Case Number"
   ]
  },
  {
   "cell_type": "code",
   "execution_count": 90,
   "metadata": {},
   "outputs": [
    {
     "data": {
      "text/plain": [
       "0    2018.06.25\n",
       "1    2018.06.18\n",
       "2    2018.06.09\n",
       "3    2018.06.08\n",
       "4    2018.06.04\n",
       "Name: Case Number, dtype: object"
      ]
     },
     "execution_count": 90,
     "metadata": {},
     "output_type": "execute_result"
    }
   ],
   "source": [
    "sharks['Case Number'].head()"
   ]
  },
  {
   "cell_type": "code",
   "execution_count": 91,
   "metadata": {},
   "outputs": [
    {
     "data": {
      "text/plain": [
       "str"
      ]
     },
     "execution_count": 91,
     "metadata": {},
     "output_type": "execute_result"
    }
   ],
   "source": [
    "type(sharks['Case Number'][0])\n"
   ]
  },
  {
   "cell_type": "code",
   "execution_count": 92,
   "metadata": {},
   "outputs": [],
   "source": [
    "sharks[sharks['Case Number'].isnull()]\n",
    "\n",
    "#como tengo la fecha le asigno ese case number\n",
    "\n",
    "sharks['Case Number'].fillna('1905.09.06', inplace=True)"
   ]
  },
  {
   "cell_type": "code",
   "execution_count": 93,
   "metadata": {},
   "outputs": [
    {
     "data": {
      "text/html": [
       "<div>\n",
       "<style scoped>\n",
       "    .dataframe tbody tr th:only-of-type {\n",
       "        vertical-align: middle;\n",
       "    }\n",
       "\n",
       "    .dataframe tbody tr th {\n",
       "        vertical-align: top;\n",
       "    }\n",
       "\n",
       "    .dataframe thead th {\n",
       "        text-align: right;\n",
       "    }\n",
       "</style>\n",
       "<table border=\"1\" class=\"dataframe\">\n",
       "  <thead>\n",
       "    <tr style=\"text-align: right;\">\n",
       "      <th></th>\n",
       "      <th>Case Number</th>\n",
       "      <th>Date</th>\n",
       "      <th>Year</th>\n",
       "      <th>Type</th>\n",
       "      <th>Country</th>\n",
       "      <th>Area</th>\n",
       "      <th>Location</th>\n",
       "      <th>Activity</th>\n",
       "      <th>Name</th>\n",
       "      <th>Sex</th>\n",
       "      <th>...</th>\n",
       "      <th>Species</th>\n",
       "      <th>Investigator or Source</th>\n",
       "      <th>pdf</th>\n",
       "      <th>href formula</th>\n",
       "      <th>href</th>\n",
       "      <th>Case Number.1</th>\n",
       "      <th>Case Number.2</th>\n",
       "      <th>original order</th>\n",
       "      <th>Unnamed: 22</th>\n",
       "      <th>Unnamed: 23</th>\n",
       "    </tr>\n",
       "  </thead>\n",
       "  <tbody>\n",
       "  </tbody>\n",
       "</table>\n",
       "<p>0 rows × 24 columns</p>\n",
       "</div>"
      ],
      "text/plain": [
       "Empty DataFrame\n",
       "Columns: [Case Number, Date, Year, Type, Country, Area, Location, Activity, Name, Sex , Age, Injury, Fatal (Y/N), Time, Species , Investigator or Source, pdf, href formula, href, Case Number.1, Case Number.2, original order, Unnamed: 22, Unnamed: 23]\n",
       "Index: []\n",
       "\n",
       "[0 rows x 24 columns]"
      ]
     },
     "execution_count": 93,
     "metadata": {},
     "output_type": "execute_result"
    }
   ],
   "source": [
    "#ver donde hay case number pero no hay fecha\n",
    "\n",
    "sharks[(sharks['Date'].isnull()) & (sharks['Case Number'].notnull())]"
   ]
  },
  {
   "cell_type": "code",
   "execution_count": 94,
   "metadata": {},
   "outputs": [],
   "source": [
    "#me las cargo\n",
    "\n",
    "index_to_drop = sharks[(sharks['Date'].isnull()) & (sharks['Case Number'].notnull())].index\n",
    "sharks = sharks.drop(index_to_drop)\n"
   ]
  },
  {
   "cell_type": "code",
   "execution_count": 95,
   "metadata": {},
   "outputs": [
    {
     "data": {
      "text/plain": [
       "0       2\n",
       "1       3\n",
       "2       3\n",
       "3       4\n",
       "4       4\n",
       "       ..\n",
       "6297    5\n",
       "6298    6\n",
       "6299    5\n",
       "6300    7\n",
       "6301    4\n",
       "Length: 6302, dtype: int64"
      ]
     },
     "execution_count": 95,
     "metadata": {},
     "output_type": "execute_result"
    }
   ],
   "source": [
    "# contar el número de valores nulos en cada fila\n",
    "null_counts = sharks.isnull().sum(axis=1)\n",
    "\n",
    "# seleccionar las filas donde más de 15 columnas son nulos\n",
    "#las voy a eliminar porque no voy a estimar el valor de 2000 filas \n",
    "#me van a afectar\n",
    "\n",
    "null_counts\n",
    "\n"
   ]
  },
  {
   "cell_type": "code",
   "execution_count": 96,
   "metadata": {},
   "outputs": [
    {
     "data": {
      "text/plain": [
       "(6302, 24)"
      ]
     },
     "execution_count": 96,
     "metadata": {},
     "output_type": "execute_result"
    }
   ],
   "source": [
    "sharks.shape"
   ]
  },
  {
   "attachments": {},
   "cell_type": "markdown",
   "metadata": {},
   "source": [
    "Tipo de ataque"
   ]
  },
  {
   "cell_type": "code",
   "execution_count": 97,
   "metadata": {},
   "outputs": [
    {
     "data": {
      "text/plain": [
       "Type\n",
       "Unprovoked      4595\n",
       "Provoked         574\n",
       "Invalid          547\n",
       "Sea Disaster     239\n",
       "Boating          203\n",
       "Boat             137\n",
       "Questionable       2\n",
       "Boatomg            1\n",
       "Name: count, dtype: int64"
      ]
     },
     "execution_count": 97,
     "metadata": {},
     "output_type": "execute_result"
    }
   ],
   "source": [
    "sharks.Type.unique()\n",
    "\n",
    "sharks['Type'].value_counts()\n",
    "\n"
   ]
  },
  {
   "cell_type": "code",
   "execution_count": 98,
   "metadata": {},
   "outputs": [],
   "source": [
    "#Boatomg \n",
    "\n",
    "sharks['Type'].replace('Boatomg', 'Boating', inplace=True)\n",
    "sharks['Type'].replace('Boat', 'Boating', inplace=True)\n",
    "\n",
    "#elimino los cuestionables\n",
    "\n",
    "sharks.drop(sharks[sharks['Type'] == 'Questionable'].index, inplace=True)\n"
   ]
  },
  {
   "cell_type": "code",
   "execution_count": 99,
   "metadata": {},
   "outputs": [
    {
     "data": {
      "text/plain": [
       "Type\n",
       "Unprovoked      4595\n",
       "Provoked         574\n",
       "Invalid          547\n",
       "Boating          341\n",
       "Sea Disaster     239\n",
       "Name: count, dtype: int64"
      ]
     },
     "execution_count": 99,
     "metadata": {},
     "output_type": "execute_result"
    }
   ],
   "source": [
    "sharks['Type'].value_counts()"
   ]
  },
  {
   "cell_type": "code",
   "execution_count": 100,
   "metadata": {},
   "outputs": [],
   "source": [
    "#los valores nulos del tipo de ataque que sean un desastre en el mar\n",
    "\n",
    "sharks['Type'] = sharks['Type'].fillna('Sea Disaster')"
   ]
  },
  {
   "attachments": {},
   "cell_type": "markdown",
   "metadata": {},
   "source": [
    "\n",
    "Country"
   ]
  },
  {
   "cell_type": "code",
   "execution_count": 101,
   "metadata": {},
   "outputs": [
    {
     "data": {
      "text/plain": [
       "Country\n",
       "USA                       2229\n",
       "AUSTRALIA                 1336\n",
       "SOUTH AFRICA               579\n",
       "PAPUA NEW GUINEA           134\n",
       "NEW ZEALAND                128\n",
       "                          ... \n",
       "MALDIVE ISLANDS              1\n",
       "NICARAGUA                    1\n",
       "NORTH SEA                    1\n",
       "RED SEA / INDIAN OCEAN       1\n",
       "CEYLON (SRI LANKA)           1\n",
       "Name: count, Length: 212, dtype: int64"
      ]
     },
     "execution_count": 101,
     "metadata": {},
     "output_type": "execute_result"
    }
   ],
   "source": [
    "sharks['Country'].value_counts()"
   ]
  },
  {
   "cell_type": "code",
   "execution_count": 102,
   "metadata": {},
   "outputs": [
    {
     "data": {
      "text/plain": [
       "50"
      ]
     },
     "execution_count": 102,
     "metadata": {},
     "output_type": "execute_result"
    }
   ],
   "source": [
    "nulos = sharks['Country'].isnull().sum()\n",
    "\n",
    "nulos"
   ]
  },
  {
   "cell_type": "code",
   "execution_count": 103,
   "metadata": {},
   "outputs": [],
   "source": [
    "#compruebo si puedo sacar algún pais\n",
    "\n",
    "sharks.loc[sharks['Country'].isnull()]\n",
    "\n",
    "#df.loc[df['A'].isnull() & df['B'].notnull()]\n",
    "\n",
    "#country sea nulo pero area o location si que tenga informacion\n",
    "\n",
    "sharks[(sharks['Country'].isnull()) & (sharks['Area'].notnull() | sharks['Location'].notnull())]\n",
    "\n",
    "#se pueden arreglar 21 filas, por 21 filas me voy a rallar? NO, los que no sepa el pais \n",
    "#no me lo voy  a inventar asi que por ahora pongo desconocido \n",
    "\n",
    "sharks['Country'].fillna('Unknown', inplace=True)"
   ]
  },
  {
   "cell_type": "code",
   "execution_count": 104,
   "metadata": {},
   "outputs": [],
   "source": [
    "sharks[(sharks['Country'] == 'Unknown') & (sharks['Area'].notnull() | sharks['Location'].notnull())];"
   ]
  },
  {
   "cell_type": "code",
   "execution_count": 216,
   "metadata": {},
   "outputs": [],
   "source": [
    "sharks['Country'] = sharks['Country'].str.title()\n"
   ]
  },
  {
   "attachments": {},
   "cell_type": "markdown",
   "metadata": {},
   "source": [
    "Area"
   ]
  },
  {
   "cell_type": "code",
   "execution_count": 106,
   "metadata": {},
   "outputs": [],
   "source": [
    "#los valores que si que no tengan area pero si location, voy a copiar la location al area\n",
    "#cojo las de location y no las de country porque location es más concreto\n",
    "\n",
    "sharks[(sharks['Area'].isnull()) & (sharks['Location'].notnull())].head(10)\n",
    "sharks['Area'].fillna(sharks['Location'], inplace=True)\n",
    "\n",
    "#y viceversa\n",
    "\n",
    "sharks[(sharks['Location'].isnull()) & (sharks['Area'].notnull())].head(10)\n",
    "sharks['Location'].fillna(sharks['Area'], inplace=True)\n",
    "\n"
   ]
  },
  {
   "cell_type": "code",
   "execution_count": 107,
   "metadata": {},
   "outputs": [
    {
     "data": {
      "text/plain": [
       "240"
      ]
     },
     "execution_count": 107,
     "metadata": {},
     "output_type": "execute_result"
    }
   ],
   "source": [
    "sharks['Area'].isnull().sum()"
   ]
  },
  {
   "cell_type": "code",
   "execution_count": 108,
   "metadata": {},
   "outputs": [
    {
     "data": {
      "text/html": [
       "<div>\n",
       "<style scoped>\n",
       "    .dataframe tbody tr th:only-of-type {\n",
       "        vertical-align: middle;\n",
       "    }\n",
       "\n",
       "    .dataframe tbody tr th {\n",
       "        vertical-align: top;\n",
       "    }\n",
       "\n",
       "    .dataframe thead th {\n",
       "        text-align: right;\n",
       "    }\n",
       "</style>\n",
       "<table border=\"1\" class=\"dataframe\">\n",
       "  <thead>\n",
       "    <tr style=\"text-align: right;\">\n",
       "      <th></th>\n",
       "      <th>Case Number</th>\n",
       "      <th>Date</th>\n",
       "      <th>Year</th>\n",
       "      <th>Type</th>\n",
       "      <th>Country</th>\n",
       "      <th>Area</th>\n",
       "      <th>Location</th>\n",
       "      <th>Activity</th>\n",
       "      <th>Name</th>\n",
       "      <th>Sex</th>\n",
       "      <th>...</th>\n",
       "      <th>Species</th>\n",
       "      <th>Investigator or Source</th>\n",
       "      <th>pdf</th>\n",
       "      <th>href formula</th>\n",
       "      <th>href</th>\n",
       "      <th>Case Number.1</th>\n",
       "      <th>Case Number.2</th>\n",
       "      <th>original order</th>\n",
       "      <th>Unnamed: 22</th>\n",
       "      <th>Unnamed: 23</th>\n",
       "    </tr>\n",
       "  </thead>\n",
       "  <tbody>\n",
       "    <tr>\n",
       "      <th>56</th>\n",
       "      <td>2017.12.09</td>\n",
       "      <td>09-Dec-2017</td>\n",
       "      <td>2017.0</td>\n",
       "      <td>Unprovoked</td>\n",
       "      <td>BAHAMAS</td>\n",
       "      <td>NaN</td>\n",
       "      <td>NaN</td>\n",
       "      <td>Snorkeling</td>\n",
       "      <td>Sarah Illig-Carroll</td>\n",
       "      <td>F</td>\n",
       "      <td>...</td>\n",
       "      <td>Nurse shark. 5'</td>\n",
       "      <td>Daily Star, 12/11/2017</td>\n",
       "      <td>2017.12.09-Carroll.pdf</td>\n",
       "      <td>http://sharkattackfile.net/spreadsheets/pdf_di...</td>\n",
       "      <td>http://sharkattackfile.net/spreadsheets/pdf_di...</td>\n",
       "      <td>2017.12.09</td>\n",
       "      <td>2017.12.09</td>\n",
       "      <td>6247.0</td>\n",
       "      <td>NaN</td>\n",
       "      <td>NaN</td>\n",
       "    </tr>\n",
       "    <tr>\n",
       "      <th>62</th>\n",
       "      <td>2017.11.13.R</td>\n",
       "      <td>Reported 13-Nov-2017</td>\n",
       "      <td>2017.0</td>\n",
       "      <td>Unprovoked</td>\n",
       "      <td>Unknown</td>\n",
       "      <td>NaN</td>\n",
       "      <td>NaN</td>\n",
       "      <td>Surfing</td>\n",
       "      <td>Timur Yunusov</td>\n",
       "      <td>M</td>\n",
       "      <td>...</td>\n",
       "      <td>NaN</td>\n",
       "      <td>Instagram</td>\n",
       "      <td>2017.11.13.R-Timur.pdf</td>\n",
       "      <td>http://sharkattackfile.net/spreadsheets/pdf_di...</td>\n",
       "      <td>http://sharkattackfile.net/spreadsheets/pdf_di...</td>\n",
       "      <td>2017.11.13.R</td>\n",
       "      <td>2017.11.13.R</td>\n",
       "      <td>6241.0</td>\n",
       "      <td>NaN</td>\n",
       "      <td>NaN</td>\n",
       "    </tr>\n",
       "    <tr>\n",
       "      <th>101</th>\n",
       "      <td>2017.08.18</td>\n",
       "      <td>18-Aug-2017</td>\n",
       "      <td>2017.0</td>\n",
       "      <td>Unprovoked</td>\n",
       "      <td>BAHAMAS</td>\n",
       "      <td>NaN</td>\n",
       "      <td>NaN</td>\n",
       "      <td>Spearfishing</td>\n",
       "      <td>male</td>\n",
       "      <td>M</td>\n",
       "      <td>...</td>\n",
       "      <td>5' shark</td>\n",
       "      <td>CBS12, 8/18/2017</td>\n",
       "      <td>2017.08.18-JupiterDiver.pdf</td>\n",
       "      <td>http://sharkattackfile.net/spreadsheets/pdf_di...</td>\n",
       "      <td>http://sharkattackfile.net/spreadsheets/pdf_di...</td>\n",
       "      <td>2017.08.18</td>\n",
       "      <td>2017.08.18</td>\n",
       "      <td>6202.0</td>\n",
       "      <td>NaN</td>\n",
       "      <td>NaN</td>\n",
       "    </tr>\n",
       "    <tr>\n",
       "      <th>132</th>\n",
       "      <td>2017.06.14.R</td>\n",
       "      <td>Reported 14-Jun-2017</td>\n",
       "      <td>2017.0</td>\n",
       "      <td>Unprovoked</td>\n",
       "      <td>BAHAMAS</td>\n",
       "      <td>NaN</td>\n",
       "      <td>NaN</td>\n",
       "      <td>Feeding sharks</td>\n",
       "      <td>Carly</td>\n",
       "      <td>F</td>\n",
       "      <td>...</td>\n",
       "      <td>NaN</td>\n",
       "      <td>AOL.UK, 6/14/2017</td>\n",
       "      <td>2017.06.14.R-Carly.pdf</td>\n",
       "      <td>http://sharkattackfile.net/spreadsheets/pdf_di...</td>\n",
       "      <td>http://sharkattackfile.net/spreadsheets/pdf_di...</td>\n",
       "      <td>2017.06.14.R</td>\n",
       "      <td>2017.06.14.R</td>\n",
       "      <td>6171.0</td>\n",
       "      <td>NaN</td>\n",
       "      <td>NaN</td>\n",
       "    </tr>\n",
       "    <tr>\n",
       "      <th>296</th>\n",
       "      <td>2016.03.26</td>\n",
       "      <td>26-Mar-2016</td>\n",
       "      <td>2016.0</td>\n",
       "      <td>Provoked</td>\n",
       "      <td>BAHAMAS</td>\n",
       "      <td>NaN</td>\n",
       "      <td>NaN</td>\n",
       "      <td>NaN</td>\n",
       "      <td>Henry Kreckman</td>\n",
       "      <td>M</td>\n",
       "      <td>...</td>\n",
       "      <td>Nurse shark, 2.5-ft</td>\n",
       "      <td>Wisconsin State Journal, 4/2/2016</td>\n",
       "      <td>2016.03.26-Kreckman.pdf</td>\n",
       "      <td>http://sharkattackfile.net/spreadsheets/pdf_di...</td>\n",
       "      <td>http://sharkattackfile.net/spreadsheets/pdf_di...</td>\n",
       "      <td>2016.03.26</td>\n",
       "      <td>2016.03.26</td>\n",
       "      <td>6007.0</td>\n",
       "      <td>NaN</td>\n",
       "      <td>NaN</td>\n",
       "    </tr>\n",
       "    <tr>\n",
       "      <th>370</th>\n",
       "      <td>2015.09.00</td>\n",
       "      <td>Sep-2015</td>\n",
       "      <td>2015.0</td>\n",
       "      <td>Unprovoked</td>\n",
       "      <td>FIJI</td>\n",
       "      <td>NaN</td>\n",
       "      <td>NaN</td>\n",
       "      <td>Spearfishing</td>\n",
       "      <td>Viliame Lautiki</td>\n",
       "      <td>M</td>\n",
       "      <td>...</td>\n",
       "      <td>Tiger shark</td>\n",
       "      <td>Fiji Times, 2/8/2016</td>\n",
       "      <td>2015.09.00-Lautiki.pdf</td>\n",
       "      <td>http://sharkattackfile.net/spreadsheets/pdf_di...</td>\n",
       "      <td>http://sharkattackfile.net/spreadsheets/pdf_di...</td>\n",
       "      <td>2015.09.00</td>\n",
       "      <td>2015.09.00</td>\n",
       "      <td>5933.0</td>\n",
       "      <td>NaN</td>\n",
       "      <td>NaN</td>\n",
       "    </tr>\n",
       "    <tr>\n",
       "      <th>446</th>\n",
       "      <td>2015.02.15</td>\n",
       "      <td>15-Feb-2015</td>\n",
       "      <td>2015.0</td>\n",
       "      <td>Boating</td>\n",
       "      <td>ATLANTIC OCEAN</td>\n",
       "      <td>NaN</td>\n",
       "      <td>NaN</td>\n",
       "      <td>Transatlantic Rowing</td>\n",
       "      <td>Avalon, a carbon kevlar monohull: 8 occupants</td>\n",
       "      <td>NaN</td>\n",
       "      <td>...</td>\n",
       "      <td>White shark</td>\n",
       "      <td>Yorkshire Post, 3/16/2014</td>\n",
       "      <td>2015.02.15-Avalon.pdf</td>\n",
       "      <td>http://sharkattackfile.net/spreadsheets/pdf_di...</td>\n",
       "      <td>http://sharkattackfile.net/spreadsheets/pdf_di...</td>\n",
       "      <td>2015.02.15</td>\n",
       "      <td>2015.02.15</td>\n",
       "      <td>5857.0</td>\n",
       "      <td>NaN</td>\n",
       "      <td>NaN</td>\n",
       "    </tr>\n",
       "    <tr>\n",
       "      <th>469</th>\n",
       "      <td>2014.12.23.R</td>\n",
       "      <td>Reported 23-Dec-2014</td>\n",
       "      <td>2014.0</td>\n",
       "      <td>Unprovoked</td>\n",
       "      <td>JAPAN</td>\n",
       "      <td>NaN</td>\n",
       "      <td>NaN</td>\n",
       "      <td>Diving / Filming</td>\n",
       "      <td>male</td>\n",
       "      <td>M</td>\n",
       "      <td>...</td>\n",
       "      <td>Goblin shark</td>\n",
       "      <td>Maxisciences.com, 12/23/2014</td>\n",
       "      <td>2014.12.23.R-GoblinShark.pdf</td>\n",
       "      <td>http://sharkattackfile.net/spreadsheets/pdf_di...</td>\n",
       "      <td>http://sharkattackfile.net/spreadsheets/pdf_di...</td>\n",
       "      <td>2014.12.23.R</td>\n",
       "      <td>2014.12.23.R</td>\n",
       "      <td>5834.0</td>\n",
       "      <td>NaN</td>\n",
       "      <td>NaN</td>\n",
       "    </tr>\n",
       "    <tr>\n",
       "      <th>517</th>\n",
       "      <td>2014.08.09.R</td>\n",
       "      <td>09-Aug-2014</td>\n",
       "      <td>2014.0</td>\n",
       "      <td>Unprovoked</td>\n",
       "      <td>BAHAMAS</td>\n",
       "      <td>NaN</td>\n",
       "      <td>NaN</td>\n",
       "      <td>Spearfishing</td>\n",
       "      <td>Andrew Hindley</td>\n",
       "      <td>M</td>\n",
       "      <td>...</td>\n",
       "      <td>Bull shark, 9' to 10'</td>\n",
       "      <td>A. Hindley / M. Michaelson</td>\n",
       "      <td>2014.08.09.R-Hindley, pdf</td>\n",
       "      <td>http://sharkattackfile.net/spreadsheets/pdf_di...</td>\n",
       "      <td>http://sharkattackfile.net/spreadsheets/pdf_di...</td>\n",
       "      <td>2014.08.09.R</td>\n",
       "      <td>2014.08.09.R</td>\n",
       "      <td>5786.0</td>\n",
       "      <td>NaN</td>\n",
       "      <td>NaN</td>\n",
       "    </tr>\n",
       "    <tr>\n",
       "      <th>525</th>\n",
       "      <td>2014.08.00</td>\n",
       "      <td>Aug-2014</td>\n",
       "      <td>2014.0</td>\n",
       "      <td>Invalid</td>\n",
       "      <td>Unknown</td>\n",
       "      <td>NaN</td>\n",
       "      <td>NaN</td>\n",
       "      <td>Sea disaster</td>\n",
       "      <td>Cuban refugees</td>\n",
       "      <td>M</td>\n",
       "      <td>...</td>\n",
       "      <td>Shark involvement not confirmed</td>\n",
       "      <td>Associated Press, 11/27/2014</td>\n",
       "      <td>2014.08.00-Cuban-refugees.pdf</td>\n",
       "      <td>http://sharkattackfile.net/spreadsheets/pdf_di...</td>\n",
       "      <td>http://sharkattackfile.net/spreadsheets/pdf_di...</td>\n",
       "      <td>2014.08.00</td>\n",
       "      <td>2014.08.00</td>\n",
       "      <td>5778.0</td>\n",
       "      <td>NaN</td>\n",
       "      <td>NaN</td>\n",
       "    </tr>\n",
       "  </tbody>\n",
       "</table>\n",
       "<p>10 rows × 24 columns</p>\n",
       "</div>"
      ],
      "text/plain": [
       "      Case Number                  Date    Year        Type         Country   \n",
       "56     2017.12.09           09-Dec-2017  2017.0  Unprovoked         BAHAMAS  \\\n",
       "62   2017.11.13.R  Reported 13-Nov-2017  2017.0  Unprovoked         Unknown   \n",
       "101    2017.08.18           18-Aug-2017  2017.0  Unprovoked         BAHAMAS   \n",
       "132  2017.06.14.R  Reported 14-Jun-2017  2017.0  Unprovoked         BAHAMAS   \n",
       "296    2016.03.26           26-Mar-2016  2016.0    Provoked         BAHAMAS   \n",
       "370    2015.09.00              Sep-2015  2015.0  Unprovoked            FIJI   \n",
       "446    2015.02.15           15-Feb-2015  2015.0     Boating  ATLANTIC OCEAN   \n",
       "469  2014.12.23.R  Reported 23-Dec-2014  2014.0  Unprovoked           JAPAN   \n",
       "517  2014.08.09.R           09-Aug-2014  2014.0  Unprovoked         BAHAMAS   \n",
       "525    2014.08.00              Aug-2014  2014.0     Invalid         Unknown   \n",
       "\n",
       "    Area Location              Activity   \n",
       "56   NaN      NaN            Snorkeling  \\\n",
       "62   NaN      NaN               Surfing   \n",
       "101  NaN      NaN          Spearfishing   \n",
       "132  NaN      NaN        Feeding sharks   \n",
       "296  NaN      NaN                   NaN   \n",
       "370  NaN      NaN          Spearfishing   \n",
       "446  NaN      NaN  Transatlantic Rowing   \n",
       "469  NaN      NaN      Diving / Filming   \n",
       "517  NaN      NaN          Spearfishing   \n",
       "525  NaN      NaN          Sea disaster   \n",
       "\n",
       "                                              Name Sex   ...   \n",
       "56                             Sarah Illig-Carroll    F  ...  \\\n",
       "62                                   Timur Yunusov    M  ...   \n",
       "101                                           male    M  ...   \n",
       "132                                          Carly    F  ...   \n",
       "296                                Henry Kreckman     M  ...   \n",
       "370                                Viliame Lautiki    M  ...   \n",
       "446  Avalon, a carbon kevlar monohull: 8 occupants  NaN  ...   \n",
       "469                                           male    M  ...   \n",
       "517                                 Andrew Hindley    M  ...   \n",
       "525                                 Cuban refugees    M  ...   \n",
       "\n",
       "                            Species              Investigator or Source   \n",
       "56                   Nurse shark. 5'             Daily Star, 12/11/2017  \\\n",
       "62                               NaN                          Instagram   \n",
       "101                         5' shark                   CBS12, 8/18/2017   \n",
       "132                              NaN                  AOL.UK, 6/14/2017   \n",
       "296              Nurse shark, 2.5-ft  Wisconsin State Journal, 4/2/2016   \n",
       "370                      Tiger shark               Fiji Times, 2/8/2016   \n",
       "446                      White shark          Yorkshire Post, 3/16/2014   \n",
       "469                     Goblin shark       Maxisciences.com, 12/23/2014   \n",
       "517            Bull shark, 9' to 10'         A. Hindley / M. Michaelson   \n",
       "525  Shark involvement not confirmed       Associated Press, 11/27/2014   \n",
       "\n",
       "                               pdf   \n",
       "56          2017.12.09-Carroll.pdf  \\\n",
       "62          2017.11.13.R-Timur.pdf   \n",
       "101    2017.08.18-JupiterDiver.pdf   \n",
       "132         2017.06.14.R-Carly.pdf   \n",
       "296        2016.03.26-Kreckman.pdf   \n",
       "370         2015.09.00-Lautiki.pdf   \n",
       "446          2015.02.15-Avalon.pdf   \n",
       "469   2014.12.23.R-GoblinShark.pdf   \n",
       "517      2014.08.09.R-Hindley, pdf   \n",
       "525  2014.08.00-Cuban-refugees.pdf   \n",
       "\n",
       "                                          href formula   \n",
       "56   http://sharkattackfile.net/spreadsheets/pdf_di...  \\\n",
       "62   http://sharkattackfile.net/spreadsheets/pdf_di...   \n",
       "101  http://sharkattackfile.net/spreadsheets/pdf_di...   \n",
       "132  http://sharkattackfile.net/spreadsheets/pdf_di...   \n",
       "296  http://sharkattackfile.net/spreadsheets/pdf_di...   \n",
       "370  http://sharkattackfile.net/spreadsheets/pdf_di...   \n",
       "446  http://sharkattackfile.net/spreadsheets/pdf_di...   \n",
       "469  http://sharkattackfile.net/spreadsheets/pdf_di...   \n",
       "517  http://sharkattackfile.net/spreadsheets/pdf_di...   \n",
       "525  http://sharkattackfile.net/spreadsheets/pdf_di...   \n",
       "\n",
       "                                                  href Case Number.1   \n",
       "56   http://sharkattackfile.net/spreadsheets/pdf_di...    2017.12.09  \\\n",
       "62   http://sharkattackfile.net/spreadsheets/pdf_di...  2017.11.13.R   \n",
       "101  http://sharkattackfile.net/spreadsheets/pdf_di...    2017.08.18   \n",
       "132  http://sharkattackfile.net/spreadsheets/pdf_di...  2017.06.14.R   \n",
       "296  http://sharkattackfile.net/spreadsheets/pdf_di...    2016.03.26   \n",
       "370  http://sharkattackfile.net/spreadsheets/pdf_di...    2015.09.00   \n",
       "446  http://sharkattackfile.net/spreadsheets/pdf_di...    2015.02.15   \n",
       "469  http://sharkattackfile.net/spreadsheets/pdf_di...  2014.12.23.R   \n",
       "517  http://sharkattackfile.net/spreadsheets/pdf_di...  2014.08.09.R   \n",
       "525  http://sharkattackfile.net/spreadsheets/pdf_di...    2014.08.00   \n",
       "\n",
       "    Case Number.2 original order Unnamed: 22 Unnamed: 23  \n",
       "56     2017.12.09         6247.0         NaN         NaN  \n",
       "62   2017.11.13.R         6241.0         NaN         NaN  \n",
       "101    2017.08.18         6202.0         NaN         NaN  \n",
       "132  2017.06.14.R         6171.0         NaN         NaN  \n",
       "296    2016.03.26         6007.0         NaN         NaN  \n",
       "370    2015.09.00         5933.0         NaN         NaN  \n",
       "446    2015.02.15         5857.0         NaN         NaN  \n",
       "469  2014.12.23.R         5834.0         NaN         NaN  \n",
       "517  2014.08.09.R         5786.0         NaN         NaN  \n",
       "525    2014.08.00         5778.0         NaN         NaN  \n",
       "\n",
       "[10 rows x 24 columns]"
      ]
     },
     "execution_count": 108,
     "metadata": {},
     "output_type": "execute_result"
    }
   ],
   "source": [
    "sharks[((sharks['Location'].isnull())&((sharks['Area'].isnull())) )& (sharks['Country'].notnull())].head(10)"
   ]
  },
  {
   "cell_type": "code",
   "execution_count": 109,
   "metadata": {},
   "outputs": [],
   "source": [
    "sharks['Area'] = sharks['Area'].fillna('Unknown')\n",
    "sharks['Location'] = sharks['Location'].fillna('Unknown')"
   ]
  },
  {
   "attachments": {},
   "cell_type": "markdown",
   "metadata": {},
   "source": [
    "Activity"
   ]
  },
  {
   "cell_type": "code",
   "execution_count": 110,
   "metadata": {},
   "outputs": [
    {
     "data": {
      "text/plain": [
       "Activity\n",
       "Surfing                                   969\n",
       "Swimming                                  869\n",
       "Fishing                                   431\n",
       "Spearfishing                              333\n",
       "Bathing                                   162\n",
       "                                         ... \n",
       "Playing with a frisbee in the shallows      1\n",
       "Sinking of the ferryboat Dumaguete          1\n",
       "Wreck of the Storm King                     1\n",
       "Feeding mullet to sharks                    1\n",
       "Wreck of  large double sailing canoe        1\n",
       "Name: count, Length: 1532, dtype: int64"
      ]
     },
     "execution_count": 110,
     "metadata": {},
     "output_type": "execute_result"
    }
   ],
   "source": [
    "actividades = sharks['Activity'].value_counts()\n",
    "\n",
    "actividades"
   ]
  },
  {
   "cell_type": "code",
   "execution_count": 111,
   "metadata": {},
   "outputs": [
    {
     "data": {
      "text/plain": [
       "Activity\n",
       "On 6-Nov-1942, the German submarine U-68 sank the City of Cairo 5 days from Cape Town, survivors took to lifeboats & rafts. On the 15th day, a fireman jumped over the stern & was taken by sharks                                                    1\n",
       "Anti-Aircraft cruiser USS Atlanta (CL,-05) travelling in convoy after the Battle of Midway, encountered a Japanese flotilla  (Battle of Guadalcanal) &, heavily damaged by gunfire, she was lost off Lunga Point. Victim was swimming when bitten.    1\n",
       "Jumped overboard from torpedoed Panamanian freighter                                                                                                                                                                                                  1\n",
       "Explosion & sinking of the USS Juneau after being torpedoed by the submarine  I-85                                                                                                                                                                    1\n",
       "Thrown from destroyer when shell hit                                                                                                                                                                                                                  1\n",
       "                                                                                                                                                                                                                                                     ..\n",
       "Playing with a frisbee in the shallows                                                                                                                                                                                                                1\n",
       "Sinking of the ferryboat Dumaguete                                                                                                                                                                                                                    1\n",
       "Wreck of the Storm King                                                                                                                                                                                                                               1\n",
       "Feeding mullet to sharks                                                                                                                                                                                                                              1\n",
       "Wreck of  large double sailing canoe                                                                                                                                                                                                                  1\n",
       "Name: count, Length: 1315, dtype: int64"
      ]
     },
     "execution_count": 111,
     "metadata": {},
     "output_type": "execute_result"
    }
   ],
   "source": [
    "actividades[actividades==1]\n",
    "\n",
    "#hay 1315 actividades "
   ]
  },
  {
   "cell_type": "code",
   "execution_count": 112,
   "metadata": {},
   "outputs": [
    {
     "data": {
      "text/plain": [
       "544"
      ]
     },
     "execution_count": 112,
     "metadata": {},
     "output_type": "execute_result"
    }
   ],
   "source": [
    "sharks['Activity'].isnull().sum()"
   ]
  },
  {
   "cell_type": "code",
   "execution_count": 113,
   "metadata": {},
   "outputs": [],
   "source": [
    "#recordando la columna Type hay varias filas que pone Boating y esto se podría considerar\n",
    "#como actividad asi que voy a buscar donde en la columna Type sea boating que y que la columna\n",
    "#Activity sea nula\n",
    "\n",
    "sharks[(sharks['Type'] == 'Boating') & (sharks['Activity'].isnull())]\n",
    "\n",
    "sharks.loc[(sharks['Type'] == 'Boating') & (sharks['Activity'].isnull()), 'Activity'] = 'Boating'\n",
    "\n"
   ]
  },
  {
   "cell_type": "code",
   "execution_count": 114,
   "metadata": {},
   "outputs": [
    {
     "data": {
      "text/plain": [
       "500"
      ]
     },
     "execution_count": 114,
     "metadata": {},
     "output_type": "execute_result"
    }
   ],
   "source": [
    "sharks['Activity'].isnull().sum()"
   ]
  },
  {
   "cell_type": "code",
   "execution_count": 115,
   "metadata": {},
   "outputs": [],
   "source": [
    "sharks['Activity'].fillna('Other', inplace=True)"
   ]
  },
  {
   "attachments": {},
   "cell_type": "markdown",
   "metadata": {},
   "source": [
    "\n",
    "Name"
   ]
  },
  {
   "cell_type": "code",
   "execution_count": 116,
   "metadata": {},
   "outputs": [
    {
     "data": {
      "text/plain": [
       "Year                         2\n",
       "Name                       210\n",
       "Sex                        565\n",
       "Age                       2829\n",
       "Injury                      28\n",
       "Fatal (Y/N)                539\n",
       "Time                      3354\n",
       "Species                   2838\n",
       "Investigator or Source      17\n",
       "href formula                 1\n",
       "Unnamed: 22               6299\n",
       "Unnamed: 23               6298\n",
       "dtype: int64"
      ]
     },
     "execution_count": 116,
     "metadata": {},
     "output_type": "execute_result"
    }
   ],
   "source": [
    "nan_cols = sharks.isna().sum()\n",
    "\n",
    "nan_cols[nan_cols>0]"
   ]
  },
  {
   "cell_type": "code",
   "execution_count": 117,
   "metadata": {},
   "outputs": [
    {
     "data": {
      "text/plain": [
       "Name\n",
       "male               549\n",
       "female              97\n",
       "boy                 23\n",
       "2 males             16\n",
       "boat                14\n",
       "child               12\n",
       "males               10\n",
       "sailor              10\n",
       "Anonymous           10\n",
       "a sailor             8\n",
       "girl                 7\n",
       "Unidentified         6\n",
       "fisherman            6\n",
       "a pearl diver        6\n",
       "a native             5\n",
       "a soldier            5\n",
       "black male           4\n",
       "Arab boy             4\n",
       "Unknown              4\n",
       "2 fishermen          4\n",
       "Japanese diver       3\n",
       "Zulu male            3\n",
       "M.C.                 3\n",
       "aboriginal male      3\n",
       "Russian male         3\n",
       "woman                3\n",
       "Andre Hartman        3\n",
       " male                3\n",
       "unknown              3\n",
       "John Williams        3\n",
       "native boy           3\n",
       "dinghy               3\n",
       "2 women              3\n",
       "Name: count, dtype: int64"
      ]
     },
     "execution_count": 117,
     "metadata": {},
     "output_type": "execute_result"
    }
   ],
   "source": [
    "#Como los nombre deberían ser unicos voy a coger los valores\n",
    "#que se repiten más de una vez\n",
    "\n",
    "nombres = sharks['Name'].value_counts()\n",
    "nombres[nombres>2]"
   ]
  },
  {
   "cell_type": "code",
   "execution_count": 118,
   "metadata": {},
   "outputs": [
    {
     "data": {
      "text/plain": [
       "Index(['Case Number', 'Date', 'Year', 'Type', 'Country', 'Area', 'Location',\n",
       "       'Activity', 'Name', 'Sex ', 'Age', 'Injury', 'Fatal (Y/N)', 'Time',\n",
       "       'Species ', 'Investigator or Source', 'pdf', 'href formula', 'href',\n",
       "       'Case Number.1', 'Case Number.2', 'original order', 'Unnamed: 22',\n",
       "       'Unnamed: 23'],\n",
       "      dtype='object')"
      ]
     },
     "execution_count": 118,
     "metadata": {},
     "output_type": "execute_result"
    }
   ],
   "source": [
    "sharks.columns"
   ]
  },
  {
   "cell_type": "code",
   "execution_count": 119,
   "metadata": {},
   "outputs": [],
   "source": [
    "#voy a limpiar los que más se repiten uno a uno \n",
    "#male -> compruebo primero si en el genero esta vacio pero en el nombre\n",
    "#esta male, se lo añado\n",
    "\n",
    "sharks = sharks.rename(columns={'Sex ': 'Sex'})\n",
    "\n",
    "\n",
    "#al comparar con Sex veo que nombre tiene un espacio así que lo corrijo \n",
    "\n",
    "sharks[(sharks['Name'] == 'male') & (sharks['Sex'].isnull())]\n",
    "\n",
    "#ya he añadido male\n",
    "\n",
    "sharks.loc[(sharks['Type'] == 'male') & (sharks['Sex'].isnull()), 'Sex'] = 'M'"
   ]
  },
  {
   "cell_type": "code",
   "execution_count": 120,
   "metadata": {},
   "outputs": [],
   "source": [
    "#ahora los que se llamen male lo paso a unknown \n",
    "\n",
    "sharks.loc[sharks['Name'] == 'male', 'Name'] = 'Anonymous'"
   ]
  },
  {
   "cell_type": "code",
   "execution_count": 121,
   "metadata": {},
   "outputs": [],
   "source": [
    "#hago lo mismo con female\n",
    "\n",
    "sharks[(sharks['Name'] == 'female') & (sharks['Sex'].isnull())]\n",
    "\n",
    "#como no hay directamente pongo desconocido\n",
    "\n",
    "sharks.loc[sharks['Name'] == 'female', 'Name'] = 'Anonymous'\n"
   ]
  },
  {
   "cell_type": "code",
   "execution_count": 122,
   "metadata": {},
   "outputs": [
    {
     "data": {
      "text/plain": [
       "Name\n",
       "Anonymous          656\n",
       "boy                 23\n",
       "2 males             16\n",
       "boat                14\n",
       "child               12\n",
       "sailor              10\n",
       "males               10\n",
       "a sailor             8\n",
       "girl                 7\n",
       "Unidentified         6\n",
       "fisherman            6\n",
       "a pearl diver        6\n",
       "a native             5\n",
       "a soldier            5\n",
       "Arab boy             4\n",
       "black male           4\n",
       "Unknown              4\n",
       "2 fishermen          4\n",
       "aboriginal male      3\n",
       "Andre Hartman        3\n",
       "John Williams        3\n",
       "Zulu male            3\n",
       " male                3\n",
       "M.C.                 3\n",
       "unknown              3\n",
       "2 women              3\n",
       "dinghy               3\n",
       "Russian male         3\n",
       "woman                3\n",
       "Japanese diver       3\n",
       "native boy           3\n",
       "Name: count, dtype: int64"
      ]
     },
     "execution_count": 122,
     "metadata": {},
     "output_type": "execute_result"
    }
   ],
   "source": [
    "nombres = sharks['Name'].value_counts()\n",
    "nombres[nombres>2]"
   ]
  },
  {
   "cell_type": "code",
   "execution_count": 123,
   "metadata": {},
   "outputs": [],
   "source": [
    "#lo mismo con boy\n",
    "\n",
    "sharks[(sharks['Name'] == 'boy') & (sharks['Sex'].isnull())]\n",
    "\n",
    "#ya he añadido male\n",
    "\n",
    "sharks.loc[sharks['Name'] == 'boy', 'Name'] = 'Anonymous'\n",
    "\n"
   ]
  },
  {
   "cell_type": "code",
   "execution_count": 124,
   "metadata": {},
   "outputs": [],
   "source": [
    "#voy a agrupar los que me quedan en chico o chica y vuelvo a valorar\n",
    "\n",
    "#todos los chicos los meto en male y lo comparo con sexo\n",
    "males = ['2 males',  'males',  'sailor', 'males', 'a sailor', 'fisherman', 'a soldier','2 fishermen',  'black male',\n",
    " 'Arab boy',\n",
    " 'Zulu male',\n",
    " ' male', 'aboriginal male',\n",
    " 'Russian male','Japanese diver',  'native boy',]\n",
    "\n",
    "\n",
    "\n",
    "sharks[\"Name\"] = sharks[\"Name\"].replace(males, 'M')\n",
    "\n"
   ]
  },
  {
   "cell_type": "code",
   "execution_count": 125,
   "metadata": {},
   "outputs": [],
   "source": [
    "sharks[(sharks['Name'] == 'M') & (sharks['Sex'].isnull())]\n",
    "sharks.loc[(sharks['Type'] == 'M') & (sharks['Sex'].isnull()), 'Sex'] = 'M'"
   ]
  },
  {
   "cell_type": "code",
   "execution_count": 126,
   "metadata": {},
   "outputs": [],
   "source": [
    "sharks.loc[sharks['Name'] == 'M', 'Name'] = 'Anonymous'"
   ]
  },
  {
   "cell_type": "code",
   "execution_count": 127,
   "metadata": {},
   "outputs": [
    {
     "data": {
      "text/plain": [
       "Name\n",
       "Anonymous        764\n",
       "boat              14\n",
       "child             12\n",
       "girl               7\n",
       "a pearl diver      6\n",
       "Unidentified       6\n",
       "a native           5\n",
       "Unknown            4\n",
       "John Williams      3\n",
       "unknown            3\n",
       "woman              3\n",
       "M.C.               3\n",
       "Andre Hartman      3\n",
       "dinghy             3\n",
       "2 women            3\n",
       "Name: count, dtype: int64"
      ]
     },
     "execution_count": 127,
     "metadata": {},
     "output_type": "execute_result"
    }
   ],
   "source": [
    "nombres = sharks['Name'].value_counts()\n",
    "nombres[nombres>2]\n"
   ]
  },
  {
   "cell_type": "code",
   "execution_count": 128,
   "metadata": {},
   "outputs": [],
   "source": [
    "#Los que no lleven nombre pasaran a ser anonimos\n",
    "#el nombre me da igual\n",
    "\n",
    "nombres = sharks['Name'].value_counts()\n",
    "nombres = nombres.index[nombres > 2] # seleccionar los nombres que aparecen más de 2 veces\n",
    "sharks.loc[sharks['Name'].isin(nombres), 'Name'] = 'Anonymous' # cambiar los nombres por 'Anonymous'\n"
   ]
  },
  {
   "cell_type": "code",
   "execution_count": 129,
   "metadata": {},
   "outputs": [],
   "source": [
    "#hay 14 filas que tienen boat, las voy a comparar con la columna actividad \n",
    "#pero en vez que sea nulo que sea desconocido\n",
    "\n",
    "sharks[(sharks['Name'] == 'boat') & (sharks['Activity'] == 'Unknown')]\n",
    "sharks.loc[(sharks['Name'] == 'boat') & (sharks['Activity'] == 'Unknown'), 'Activity'] = 'Boating'"
   ]
  },
  {
   "cell_type": "code",
   "execution_count": 130,
   "metadata": {},
   "outputs": [],
   "source": [
    "sharks['Name'] = sharks['Name'].fillna('Anonymous')\n"
   ]
  },
  {
   "attachments": {},
   "cell_type": "markdown",
   "metadata": {},
   "source": [
    "Sex"
   ]
  },
  {
   "cell_type": "code",
   "execution_count": 131,
   "metadata": {},
   "outputs": [],
   "source": [
    "genero = sharks['Sex'].value_counts()\n",
    "lista_genero = genero[genero > 1].index.tolist()\n",
    "\n",
    "lista_genero\n",
    "\n",
    "#cambio la M con espacio y la N a una M de Male\n",
    "\n",
    "lista_genero_correct = ['M ', 'N','lli','.']\n",
    "\n",
    "sharks[\"Sex\"] = sharks[\"Sex\"].replace(lista_genero_correct, 'M')"
   ]
  },
  {
   "cell_type": "code",
   "execution_count": 132,
   "metadata": {},
   "outputs": [
    {
     "data": {
      "text/plain": [
       "Sex\n",
       "M    5098\n",
       "F     637\n",
       "Name: count, dtype: int64"
      ]
     },
     "execution_count": 132,
     "metadata": {},
     "output_type": "execute_result"
    }
   ],
   "source": [
    "#comprobamos que solo tenemos o macho o female\n",
    "\n",
    "genero = sharks['Sex'].value_counts()\n",
    "genero[genero > 0]"
   ]
  },
  {
   "cell_type": "code",
   "execution_count": 133,
   "metadata": {},
   "outputs": [
    {
     "data": {
      "text/plain": [
       "565"
      ]
     },
     "execution_count": 133,
     "metadata": {},
     "output_type": "execute_result"
    }
   ],
   "source": [
    "sharks['Sex'].isnull().sum()"
   ]
  },
  {
   "cell_type": "code",
   "execution_count": 134,
   "metadata": {},
   "outputs": [],
   "source": [
    "sharks['Sex'] = sharks['Sex'].fillna('Unknown')"
   ]
  },
  {
   "attachments": {},
   "cell_type": "markdown",
   "metadata": {},
   "source": [
    "Age"
   ]
  },
  {
   "cell_type": "code",
   "execution_count": 135,
   "metadata": {},
   "outputs": [
    {
     "data": {
      "text/plain": [
       "Age\n",
       "                  1\n",
       "25 or 28          1\n",
       "X                 1\n",
       "17 & 35           1\n",
       "50 & 30           1\n",
       "                 ..\n",
       "20?               1\n",
       " 28               1\n",
       "7      &    31    1\n",
       " 30               1\n",
       "13 or 14          1\n",
       "Name: count, Length: 75, dtype: int64"
      ]
     },
     "execution_count": 135,
     "metadata": {},
     "output_type": "execute_result"
    }
   ],
   "source": [
    "edad = sharks['Age'].value_counts()\n",
    "edad[edad==1]"
   ]
  },
  {
   "cell_type": "code",
   "execution_count": 136,
   "metadata": {},
   "outputs": [
    {
     "data": {
      "text/plain": [
       "['  ',\n",
       " '25 or 28',\n",
       " 'X',\n",
       " '17 & 35',\n",
       " '50 & 30',\n",
       " '30 & 32',\n",
       " '21, 34,24 & 35',\n",
       " '37, 67, 35, 27,  ? & 27',\n",
       " '33 & 37',\n",
       " '13 or 18',\n",
       " '(adult)',\n",
       " '2½',\n",
       " '23 & 26',\n",
       " '25 to 35',\n",
       " '9 months',\n",
       " '? & 19',\n",
       " '\"middle-age\"',\n",
       " '34 & 19',\n",
       " '36 & 23',\n",
       " '10 or 12',\n",
       " 'A.M.',\n",
       " '9 or 10',\n",
       " 'Both 11',\n",
       " 'F',\n",
       " '17 & 16',\n",
       " '?    &   14',\n",
       " '31 or 33',\n",
       " '33 & 26',\n",
       " '\"young\"',\n",
       " '81',\n",
       " ' 43',\n",
       " 'adult',\n",
       " 'MAKE LINE GREEN',\n",
       " '2 to 3 months',\n",
       " '9 & 12',\n",
       " '74',\n",
       " '18 to 22',\n",
       " '46 & 34',\n",
       " '6½',\n",
       " '30 or 36',\n",
       " '\\xa0 ',\n",
       " '84',\n",
       " '36 & 26',\n",
       " 'Teens',\n",
       " '28, 23 & 30',\n",
       " '12 or 13',\n",
       " '33 or 37',\n",
       " '18 or 20',\n",
       " '86',\n",
       " '28 & 26',\n",
       " '18 months',\n",
       " '72',\n",
       " '60s',\n",
       " '82',\n",
       " '21 & ?',\n",
       " 'mid-30s',\n",
       " '>50',\n",
       " '67',\n",
       " '20 ',\n",
       " '21 or 26',\n",
       " '45 ',\n",
       " '74 ',\n",
       " 'Ca. 33',\n",
       " 'mid-20s',\n",
       " 'Elderly',\n",
       " '87',\n",
       " '23 & 20',\n",
       " '16 to 18',\n",
       " '32 & 30',\n",
       " \"60's\",\n",
       " '20?',\n",
       " ' 28',\n",
       " '7      &    31',\n",
       " ' 30',\n",
       " '13 or 14']"
      ]
     },
     "execution_count": 136,
     "metadata": {},
     "output_type": "execute_result"
    }
   ],
   "source": [
    "edad_unica = edad[edad==1].index.tolist()\n",
    "edad_unica"
   ]
  },
  {
   "cell_type": "code",
   "execution_count": 137,
   "metadata": {},
   "outputs": [
    {
     "data": {
      "text/plain": [
       "str"
      ]
     },
     "execution_count": 137,
     "metadata": {},
     "output_type": "execute_result"
    }
   ],
   "source": [
    "type(sharks['Age'][0])"
   ]
  },
  {
   "cell_type": "code",
   "execution_count": 138,
   "metadata": {},
   "outputs": [
    {
     "data": {
      "text/plain": [
       "Age\n",
       "Unknown    2868\n",
       "17          156\n",
       "18          153\n",
       "20          150\n",
       "19          142\n",
       "           ... \n",
       "67            1\n",
       "72            1\n",
       "4             1\n",
       "81            1\n",
       "86            1\n",
       "Name: count, Length: 83, dtype: int64"
      ]
     },
     "execution_count": 138,
     "metadata": {},
     "output_type": "execute_result"
    }
   ],
   "source": [
    "#Rellenamos los valores nulos con desconocido, a lo mejor relleno con cero no se...\n",
    "\n",
    "sharks.Age = sharks.Age.fillna('Unknown').astype(str)\n",
    "\n",
    "#para los que sean strings me quedo con los dos primeros caracteres\n",
    "\n",
    "sharks.Age = sharks.Age.apply(lambda z: z[:2])\n",
    "\n",
    "#convierto otra vez a string\n",
    "\n",
    "sharks.Age = sharks.Age.astype(str)\n",
    "\n",
    "#ahora convierto el string a int si no se puede pasa a ser desconcido \n",
    "\n",
    "def go(xx):\n",
    "    try:\n",
    "        return int(xx)\n",
    "    except:\n",
    "        return 'Unknown'\n",
    "\n",
    "sharks.Age = sharks.Age.apply(go)\n",
    "sharks.Age.value_counts()"
   ]
  },
  {
   "attachments": {},
   "cell_type": "markdown",
   "metadata": {},
   "source": [
    "Injury"
   ]
  },
  {
   "cell_type": "code",
   "execution_count": 139,
   "metadata": {},
   "outputs": [
    {
     "data": {
      "text/plain": [
       "Injury\n",
       "FATAL                                                                                     802\n",
       "Survived                                                                                   97\n",
       "Foot bitten                                                                                87\n",
       "No injury                                                                                  81\n",
       "Leg bitten                                                                                 72\n",
       "                                                                                         ... \n",
       "Cut foot, but injury caused by fishing line, not the shark                                  1\n",
       "Left foot bitten after he accidentally stepped on the shark         PROVOKED INCIDENT       1\n",
       "2 puncture wounds in left leg                                                               1\n",
       "PROVOKED INCIDENT    Knee bitten by shark trapped in net                                    1\n",
       "FATAL. \"Shark bit him in half, carrying away the lower extremities\"                         1\n",
       "Name: count, Length: 3737, dtype: int64"
      ]
     },
     "execution_count": 139,
     "metadata": {},
     "output_type": "execute_result"
    }
   ],
   "source": [
    "edad = sharks['Injury'].value_counts()\n",
    "edad[edad>0]"
   ]
  },
  {
   "cell_type": "code",
   "execution_count": 140,
   "metadata": {},
   "outputs": [
    {
     "data": {
      "text/plain": [
       "28"
      ]
     },
     "execution_count": 140,
     "metadata": {},
     "output_type": "execute_result"
    }
   ],
   "source": [
    "sharks['Injury'].isnull().sum()\n",
    "\n"
   ]
  },
  {
   "cell_type": "code",
   "execution_count": 142,
   "metadata": {},
   "outputs": [],
   "source": [
    "\n",
    "\n",
    "sharks = sharks.rename(columns={'Fatal (Y/N)': 'Fatal'})"
   ]
  },
  {
   "cell_type": "code",
   "execution_count": 143,
   "metadata": {},
   "outputs": [],
   "source": [
    "#como solo hay una vamos a rellenar los valores nulos de Injury con Survived\n",
    "#al final son 28 \n",
    "\n",
    "mask = (sharks['Fatal'] == 'Y') & (sharks['Injury'].isnull())\n",
    "fatal_y_injury_null = sharks[mask]\n",
    "fatal_y_injury_null\n",
    "\n",
    "sharks['Injury'] = sharks['Injury'].fillna('Survived')\n"
   ]
  },
  {
   "attachments": {},
   "cell_type": "markdown",
   "metadata": {},
   "source": [
    "Fatal"
   ]
  },
  {
   "cell_type": "code",
   "execution_count": 144,
   "metadata": {},
   "outputs": [
    {
     "data": {
      "text/plain": [
       "Fatal\n",
       "N          4291\n",
       "Y          1388\n",
       "UNKNOWN      71\n",
       " N            7\n",
       "M             1\n",
       "2017          1\n",
       "N             1\n",
       "y             1\n",
       "Name: count, dtype: int64"
      ]
     },
     "execution_count": 144,
     "metadata": {},
     "output_type": "execute_result"
    }
   ],
   "source": [
    "\n",
    "\n",
    "muerte = sharks['Fatal'].value_counts()\n",
    "muerte[muerte>0]"
   ]
  },
  {
   "cell_type": "code",
   "execution_count": 145,
   "metadata": {},
   "outputs": [],
   "source": [
    "#donde fatal sea unknown o nan e injury sea fatal\n",
    "\n",
    "sharks[(sharks['Fatal'].isnull()) & (sharks['Injury'] == 'FATAL')]\n",
    "sharks.loc[((sharks['Fatal'] == 'UNKNOWN') & (sharks['Fatal'].isnull())) & (sharks['Injury'] == 'FATAL'), 'Fatal'] = 'Y'\n",
    "\n"
   ]
  },
  {
   "cell_type": "code",
   "execution_count": 146,
   "metadata": {},
   "outputs": [],
   "source": [
    "fatal = sharks['Fatal'].value_counts()"
   ]
  },
  {
   "cell_type": "code",
   "execution_count": 147,
   "metadata": {},
   "outputs": [
    {
     "data": {
      "text/plain": [
       "Fatal\n",
       "N          4291\n",
       "Y          1388\n",
       "UNKNOWN      71\n",
       " N            7\n",
       "M             1\n",
       "2017          1\n",
       "N             1\n",
       "y             1\n",
       "Name: count, dtype: int64"
      ]
     },
     "execution_count": 147,
     "metadata": {},
     "output_type": "execute_result"
    }
   ],
   "source": [
    "fatal\n"
   ]
  },
  {
   "cell_type": "code",
   "execution_count": 148,
   "metadata": {},
   "outputs": [
    {
     "data": {
      "text/plain": [
       "array(['N', 'Y', nan, 'M', 'UNKNOWN', '2017', ' N', 'N ', 'y'],\n",
       "      dtype=object)"
      ]
     },
     "execution_count": 148,
     "metadata": {},
     "output_type": "execute_result"
    }
   ],
   "source": [
    "sharks['Fatal'].unique()"
   ]
  },
  {
   "cell_type": "code",
   "execution_count": 149,
   "metadata": {},
   "outputs": [],
   "source": [
    "#lo que se parezca a yes o no lo cambio para agrupar valores\n",
    "\n",
    "sharks[\"Fatal\"] = sharks[\"Fatal\"].replace(' N', 'N')\n",
    "sharks[\"Fatal\"] = sharks[\"Fatal\"].replace('N ', 'N')\n",
    "\n",
    "sharks[\"Fatal\"] = sharks[\"Fatal\"].replace('y', 'Y')\n",
    "\n",
    "#LOS QUE NO ENCAJAN LOS PASO A DESCONOCIDO \n",
    "\n",
    "sharks[\"Fatal\"] = sharks[\"Fatal\"].replace('M', 'UNKNOWN')\n",
    "sharks[\"Fatal\"] = sharks[\"Fatal\"].replace('2017', 'UNKNOWN')\n"
   ]
  },
  {
   "cell_type": "code",
   "execution_count": 150,
   "metadata": {},
   "outputs": [
    {
     "data": {
      "text/plain": [
       "Fatal\n",
       "N          4299\n",
       "Y          1389\n",
       "UNKNOWN      73\n",
       "Name: count, dtype: int64"
      ]
     },
     "execution_count": 150,
     "metadata": {},
     "output_type": "execute_result"
    }
   ],
   "source": [
    "sharks['Fatal'].value_counts()"
   ]
  },
  {
   "cell_type": "code",
   "execution_count": 151,
   "metadata": {},
   "outputs": [],
   "source": [
    "sharks[\"Fatal\"] = sharks[\"Fatal\"].replace('UNKNOWN', 'NA')\n",
    "sharks[\"Fatal\"] = sharks[\"Fatal\"].fillna('NA')"
   ]
  },
  {
   "attachments": {},
   "cell_type": "markdown",
   "metadata": {},
   "source": [
    "Time"
   ]
  },
  {
   "attachments": {},
   "cell_type": "markdown",
   "metadata": {},
   "source": []
  },
  {
   "cell_type": "code",
   "execution_count": 152,
   "metadata": {},
   "outputs": [
    {
     "data": {
      "text/plain": [
       "Time\n",
       "Afternoon      187\n",
       "11h00          128\n",
       "Morning        121\n",
       "12h00          109\n",
       "15h00          108\n",
       "              ... \n",
       "14h37            1\n",
       "10h07            1\n",
       "13h53            1\n",
       "13h23            1\n",
       "19h00-20h00      1\n",
       "Name: count, Length: 366, dtype: int64"
      ]
     },
     "execution_count": 152,
     "metadata": {},
     "output_type": "execute_result"
    }
   ],
   "source": [
    "hora = sharks['Time'].value_counts()\n",
    "hora[hora>0]"
   ]
  },
  {
   "cell_type": "code",
   "execution_count": 153,
   "metadata": {},
   "outputs": [
    {
     "name": "stdout",
     "output_type": "stream",
     "text": [
      "0        True\n",
      "1       False\n",
      "2        True\n",
      "3       False\n",
      "4       False\n",
      "        ...  \n",
      "6297    False\n",
      "6298    False\n",
      "6299    False\n",
      "6300    False\n",
      "6301    False\n",
      "Name: Time, Length: 6300, dtype: bool\n"
     ]
    }
   ],
   "source": [
    "#los valores nulos pasan a desconocido \n",
    "\n",
    "\n",
    "sharks['Time'].fillna('Unknown', inplace=True)\n",
    "\n",
    "#se cambia el formato de la hora\n",
    "\n",
    "hora = sharks['Time'].str.contains('^\\d+h\\d+$')\n",
    "\n",
    "print(hora)\n",
    "\n",
    "sharks.loc[hora, 'Time'] = sharks.loc[hora, 'Time'].str.replace(r'(^\\d+)h(\\d+)', r'\\1:\\2')"
   ]
  },
  {
   "cell_type": "code",
   "execution_count": 154,
   "metadata": {},
   "outputs": [
    {
     "data": {
      "text/plain": [
       "array(['14h00  -15h00', 'Unknown', 'Late afternoon', 'Morning',\n",
       "       'Afternoon', '19h00, Dusk', 'Night', 'Midday',\n",
       "       'Shortly before 12h00', 'After noon', '1300', '14h30 / 15h30',\n",
       "       'Morning ', 'Midnight', '09h30 / 10h00', '10h45-11h15', 'Evening',\n",
       "       'Sometime between 06h00 & 08hoo', 'Early afternoon',\n",
       "       '07h00 - 08h00', '18h15-18h30', '09h00 - 09h30', '0830',\n",
       "       'Just before noon', '1600', 'Early morning', 'Dawn', 'AM', 'A.M.',\n",
       "       'Dusk', 'Lunchtime', '15j45', '0500', 'Before 07h00',\n",
       "       '10h00 -- 11h00', '\"Just before 11h00\"', 'Sunset', '  ',\n",
       "       '\"Evening\"', 'Just before sundown', '11h30 ',\n",
       "       'Between 05h00 and 08h00', '17h00 or 17h40', '>08h00', '--',\n",
       "       'Just after 12h00', ' ', 'Early Morning', 'Shortly after midnight',\n",
       "       '\\xa0 ', '09h00 -10h00', '20h45 (Sunset)', 'Late morning', 'P.M.',\n",
       "       'Shortly before 13h00', '8:04 pm',\n",
       "       'Possibly same incident as 2000.08.21', 'After Dusk', 'Noon',\n",
       "       '2 hours after Opperman', '09h30 ', 'Mid afternoon', 'Mid morning',\n",
       "       '11h00 / 11h30', '\"Night\"', '18h30?',\n",
       "       '30 minutes after 1992.07.08.a', '>06h45', 'Between 06h00 & 07h20',\n",
       "       '<07h30', '17h00 Sunset', 'Nightfall', 'X', '18h30 (Sunset)',\n",
       "       '06j00', 'Prior to 10h37', 'Daybreak', '>12h00', 'Mid-morning',\n",
       "       '16h30 or 18h00', 'Just before dawn', ' 14h00', 'Daytime', 'Dark',\n",
       "       '10h00 / 11h00', '\"After lunch\"', '15h00 or 15h45', '>17h00',\n",
       "       '19h00 / 20h00', '12h45 / 13h45', '14h00 - 15h00', 'night',\n",
       "       '03h45 - 04h00', '09h30 / 15h30', '08h00 / 09h30',\n",
       "       '12h00 to 14h00', 'Late night', '10h30 or 13h30', '15h00j',\n",
       "       'Midday.', '\"After dark\"', '10h00 or 14h00', '2 hrs before sunset',\n",
       "       '18h15 to 21h30', '1500', '\"shortly before dusk\"', '>17h30',\n",
       "       '>14h30', 'Between 11h00 & 12h00', 'After 04h00',\n",
       "       '11h01 -time of ship sinking', 'Ship aban-doned at 03h10',\n",
       "       'After dusk',\n",
       "       'FATAL  (Wire netting installed at local beaches after this incident.)',\n",
       "       'After midnight', 'Late afternon', '\"Early evening\"',\n",
       "       'Late Afternoon', '   ', 'Before daybreak', 'dusk', 'Before 10h30',\n",
       "       '06h00 -- 07h00', '17h00-18h00', '19h00-20h00'], dtype=object)"
      ]
     },
     "execution_count": 154,
     "metadata": {},
     "output_type": "execute_result"
    }
   ],
   "source": [
    "sharks['Time'].unique()\n",
    "\n",
    "\n",
    "time_values = sharks.loc[~sharks['Time'].str.contains('^\\d+h\\d+$'), 'Time'].unique()\n",
    "time_values"
   ]
  },
  {
   "cell_type": "code",
   "execution_count": 155,
   "metadata": {},
   "outputs": [
    {
     "data": {
      "text/plain": [
       "Time                                                                 \n",
       "                                                                         1\n",
       "                                                                         1\n",
       "Just before sundown                                                      1\n",
       "Late Afternoon                                                           1\n",
       "Late afternon                                                            1\n",
       "Late afternoon                                                           1\n",
       "Late morning                                                             1\n",
       "Late night                                                               1\n",
       "Lunchtime                                                                1\n",
       "Mid afternoon                                                            1\n",
       "Mid morning                                                              1\n",
       "Mid-morning                                                              1\n",
       "Midday                                                                   1\n",
       "Midday.                                                                  1\n",
       "Midnight                                                                 1\n",
       "Morning                                                                  1\n",
       "Morning                                                                  1\n",
       "Night                                                                    1\n",
       "Nightfall                                                                1\n",
       "Noon                                                                     1\n",
       "P.M.                                                                     1\n",
       "Shortly after midnight                                                   1\n",
       "Sunset                                                                   1\n",
       "Unknown                                                                  1\n",
       "X                                                                        1\n",
       "dusk                                                                     1\n",
       "night                                                                    1\n",
       "Just before noon                                                         1\n",
       "Just before dawn                                                         1\n",
       "FATAL  (Wire netting installed at local beaches after this incident.)    1\n",
       "After dusk                                                               1\n",
       "                                                                         1\n",
       "\"After dark\"                                                             1\n",
       "\"After lunch\"                                                            1\n",
       "\"Early evening\"                                                          1\n",
       "\"Evening\"                                                                1\n",
       "\"Night\"                                                                  1\n",
       "\"shortly before dusk\"                                                    1\n",
       "--                                                                       1\n",
       "A.M.                                                                     1\n",
       "AM                                                                       1\n",
       "After Dusk                                                               1\n",
       "After midnight                                                           1\n",
       "Evening                                                                  1\n",
       "After noon                                                               1\n",
       "Afternoon                                                                1\n",
       "Before daybreak                                                          1\n",
       "Dark                                                                     1\n",
       "Dawn                                                                     1\n",
       "Daybreak                                                                 1\n",
       "Daytime                                                                  1\n",
       "Dusk                                                                     1\n",
       "Early Morning                                                            1\n",
       "Early afternoon                                                          1\n",
       "Early morning                                                            1\n",
       "                                                                         1\n",
       "Name: count, dtype: int64"
      ]
     },
     "execution_count": 155,
     "metadata": {},
     "output_type": "execute_result"
    }
   ],
   "source": [
    "import re\n",
    "pattern = re.compile(r'^\\D*$')\n",
    "filtered_values = [value for value in time_values if pattern.match(value)]\n",
    "filtered_values\n",
    "\n",
    "value_counts = pd.DataFrame({'Time': filtered_values}).value_counts()\n",
    "value_counts"
   ]
  },
  {
   "cell_type": "code",
   "execution_count": 156,
   "metadata": {},
   "outputs": [],
   "source": [
    "#Agrupamos valores\n",
    "\n"
   ]
  },
  {
   "cell_type": "code",
   "execution_count": 157,
   "metadata": {},
   "outputs": [
    {
     "data": {
      "text/plain": [
       "0            18h00\n",
       "1    14h00  -15h00\n",
       "2            07h45\n",
       "3          Unknown\n",
       "4          Unknown\n",
       "Name: Time, dtype: object"
      ]
     },
     "execution_count": 157,
     "metadata": {},
     "output_type": "execute_result"
    }
   ],
   "source": [
    "sharks['Time'].head()"
   ]
  },
  {
   "cell_type": "code",
   "execution_count": 158,
   "metadata": {},
   "outputs": [
    {
     "data": {
      "text/html": [
       "<div>\n",
       "<style scoped>\n",
       "    .dataframe tbody tr th:only-of-type {\n",
       "        vertical-align: middle;\n",
       "    }\n",
       "\n",
       "    .dataframe tbody tr th {\n",
       "        vertical-align: top;\n",
       "    }\n",
       "\n",
       "    .dataframe thead th {\n",
       "        text-align: right;\n",
       "    }\n",
       "</style>\n",
       "<table border=\"1\" class=\"dataframe\">\n",
       "  <thead>\n",
       "    <tr style=\"text-align: right;\">\n",
       "      <th></th>\n",
       "      <th>Case Number</th>\n",
       "      <th>Date</th>\n",
       "      <th>Year</th>\n",
       "      <th>Type</th>\n",
       "      <th>Country</th>\n",
       "      <th>Area</th>\n",
       "      <th>Location</th>\n",
       "      <th>Activity</th>\n",
       "      <th>Name</th>\n",
       "      <th>Sex</th>\n",
       "      <th>...</th>\n",
       "      <th>Species</th>\n",
       "      <th>Investigator or Source</th>\n",
       "      <th>pdf</th>\n",
       "      <th>href formula</th>\n",
       "      <th>href</th>\n",
       "      <th>Case Number.1</th>\n",
       "      <th>Case Number.2</th>\n",
       "      <th>original order</th>\n",
       "      <th>Unnamed: 22</th>\n",
       "      <th>Unnamed: 23</th>\n",
       "    </tr>\n",
       "  </thead>\n",
       "  <tbody>\n",
       "    <tr>\n",
       "      <th>0</th>\n",
       "      <td>2018.06.25</td>\n",
       "      <td>25-Jun-2018</td>\n",
       "      <td>2018.0</td>\n",
       "      <td>Boating</td>\n",
       "      <td>USA</td>\n",
       "      <td>California</td>\n",
       "      <td>Oceanside, San Diego County</td>\n",
       "      <td>Paddling</td>\n",
       "      <td>Julie Wolfe</td>\n",
       "      <td>F</td>\n",
       "      <td>...</td>\n",
       "      <td>White shark</td>\n",
       "      <td>R. Collier, GSAF</td>\n",
       "      <td>2018.06.25-Wolfe.pdf</td>\n",
       "      <td>http://sharkattackfile.net/spreadsheets/pdf_di...</td>\n",
       "      <td>http://sharkattackfile.net/spreadsheets/pdf_di...</td>\n",
       "      <td>2018.06.25</td>\n",
       "      <td>2018.06.25</td>\n",
       "      <td>6303.0</td>\n",
       "      <td>NaN</td>\n",
       "      <td>NaN</td>\n",
       "    </tr>\n",
       "    <tr>\n",
       "      <th>1</th>\n",
       "      <td>2018.06.18</td>\n",
       "      <td>18-Jun-2018</td>\n",
       "      <td>2018.0</td>\n",
       "      <td>Unprovoked</td>\n",
       "      <td>USA</td>\n",
       "      <td>Georgia</td>\n",
       "      <td>St. Simon Island, Glynn County</td>\n",
       "      <td>Standing</td>\n",
       "      <td>Adyson McNeely</td>\n",
       "      <td>F</td>\n",
       "      <td>...</td>\n",
       "      <td>NaN</td>\n",
       "      <td>K.McMurray, TrackingSharks.com</td>\n",
       "      <td>2018.06.18-McNeely.pdf</td>\n",
       "      <td>http://sharkattackfile.net/spreadsheets/pdf_di...</td>\n",
       "      <td>http://sharkattackfile.net/spreadsheets/pdf_di...</td>\n",
       "      <td>2018.06.18</td>\n",
       "      <td>2018.06.18</td>\n",
       "      <td>6302.0</td>\n",
       "      <td>NaN</td>\n",
       "      <td>NaN</td>\n",
       "    </tr>\n",
       "    <tr>\n",
       "      <th>2</th>\n",
       "      <td>2018.06.09</td>\n",
       "      <td>09-Jun-2018</td>\n",
       "      <td>2018.0</td>\n",
       "      <td>Invalid</td>\n",
       "      <td>USA</td>\n",
       "      <td>Hawaii</td>\n",
       "      <td>Habush, Oahu</td>\n",
       "      <td>Surfing</td>\n",
       "      <td>John Denges</td>\n",
       "      <td>M</td>\n",
       "      <td>...</td>\n",
       "      <td>NaN</td>\n",
       "      <td>K.McMurray, TrackingSharks.com</td>\n",
       "      <td>2018.06.09-Denges.pdf</td>\n",
       "      <td>http://sharkattackfile.net/spreadsheets/pdf_di...</td>\n",
       "      <td>http://sharkattackfile.net/spreadsheets/pdf_di...</td>\n",
       "      <td>2018.06.09</td>\n",
       "      <td>2018.06.09</td>\n",
       "      <td>6301.0</td>\n",
       "      <td>NaN</td>\n",
       "      <td>NaN</td>\n",
       "    </tr>\n",
       "    <tr>\n",
       "      <th>3</th>\n",
       "      <td>2018.06.08</td>\n",
       "      <td>08-Jun-2018</td>\n",
       "      <td>2018.0</td>\n",
       "      <td>Unprovoked</td>\n",
       "      <td>AUSTRALIA</td>\n",
       "      <td>New South Wales</td>\n",
       "      <td>Arrawarra Headland</td>\n",
       "      <td>Surfing</td>\n",
       "      <td>Anonymous</td>\n",
       "      <td>M</td>\n",
       "      <td>...</td>\n",
       "      <td>2 m shark</td>\n",
       "      <td>B. Myatt, GSAF</td>\n",
       "      <td>2018.06.08-Arrawarra.pdf</td>\n",
       "      <td>http://sharkattackfile.net/spreadsheets/pdf_di...</td>\n",
       "      <td>http://sharkattackfile.net/spreadsheets/pdf_di...</td>\n",
       "      <td>2018.06.08</td>\n",
       "      <td>2018.06.08</td>\n",
       "      <td>6300.0</td>\n",
       "      <td>NaN</td>\n",
       "      <td>NaN</td>\n",
       "    </tr>\n",
       "    <tr>\n",
       "      <th>4</th>\n",
       "      <td>2018.06.04</td>\n",
       "      <td>04-Jun-2018</td>\n",
       "      <td>2018.0</td>\n",
       "      <td>Provoked</td>\n",
       "      <td>MEXICO</td>\n",
       "      <td>Colima</td>\n",
       "      <td>La Ticla</td>\n",
       "      <td>Free diving</td>\n",
       "      <td>Gustavo Ramos</td>\n",
       "      <td>M</td>\n",
       "      <td>...</td>\n",
       "      <td>Tiger shark, 3m</td>\n",
       "      <td>A .Kipper</td>\n",
       "      <td>2018.06.04-Ramos.pdf</td>\n",
       "      <td>http://sharkattackfile.net/spreadsheets/pdf_di...</td>\n",
       "      <td>http://sharkattackfile.net/spreadsheets/pdf_di...</td>\n",
       "      <td>2018.06.04</td>\n",
       "      <td>2018.06.04</td>\n",
       "      <td>6299.0</td>\n",
       "      <td>NaN</td>\n",
       "      <td>NaN</td>\n",
       "    </tr>\n",
       "  </tbody>\n",
       "</table>\n",
       "<p>5 rows × 24 columns</p>\n",
       "</div>"
      ],
      "text/plain": [
       "  Case Number         Date    Year        Type    Country             Area   \n",
       "0  2018.06.25  25-Jun-2018  2018.0     Boating        USA       California  \\\n",
       "1  2018.06.18  18-Jun-2018  2018.0  Unprovoked        USA          Georgia   \n",
       "2  2018.06.09  09-Jun-2018  2018.0     Invalid        USA           Hawaii   \n",
       "3  2018.06.08  08-Jun-2018  2018.0  Unprovoked  AUSTRALIA  New South Wales   \n",
       "4  2018.06.04  04-Jun-2018  2018.0    Provoked     MEXICO           Colima   \n",
       "\n",
       "                         Location     Activity             Name Sex  ...   \n",
       "0     Oceanside, San Diego County     Paddling      Julie Wolfe   F  ...  \\\n",
       "1  St. Simon Island, Glynn County     Standing  Adyson McNeely    F  ...   \n",
       "2                    Habush, Oahu      Surfing      John Denges   M  ...   \n",
       "3              Arrawarra Headland      Surfing        Anonymous   M  ...   \n",
       "4                        La Ticla  Free diving   Gustavo Ramos    M  ...   \n",
       "\n",
       "          Species           Investigator or Source                       pdf   \n",
       "0      White shark                R. Collier, GSAF      2018.06.25-Wolfe.pdf  \\\n",
       "1              NaN  K.McMurray, TrackingSharks.com    2018.06.18-McNeely.pdf   \n",
       "2              NaN  K.McMurray, TrackingSharks.com     2018.06.09-Denges.pdf   \n",
       "3        2 m shark                  B. Myatt, GSAF  2018.06.08-Arrawarra.pdf   \n",
       "4  Tiger shark, 3m                       A .Kipper      2018.06.04-Ramos.pdf   \n",
       "\n",
       "                                        href formula   \n",
       "0  http://sharkattackfile.net/spreadsheets/pdf_di...  \\\n",
       "1  http://sharkattackfile.net/spreadsheets/pdf_di...   \n",
       "2  http://sharkattackfile.net/spreadsheets/pdf_di...   \n",
       "3  http://sharkattackfile.net/spreadsheets/pdf_di...   \n",
       "4  http://sharkattackfile.net/spreadsheets/pdf_di...   \n",
       "\n",
       "                                                href Case Number.1   \n",
       "0  http://sharkattackfile.net/spreadsheets/pdf_di...    2018.06.25  \\\n",
       "1  http://sharkattackfile.net/spreadsheets/pdf_di...    2018.06.18   \n",
       "2  http://sharkattackfile.net/spreadsheets/pdf_di...    2018.06.09   \n",
       "3  http://sharkattackfile.net/spreadsheets/pdf_di...    2018.06.08   \n",
       "4  http://sharkattackfile.net/spreadsheets/pdf_di...    2018.06.04   \n",
       "\n",
       "  Case Number.2 original order Unnamed: 22 Unnamed: 23  \n",
       "0    2018.06.25         6303.0         NaN         NaN  \n",
       "1    2018.06.18         6302.0         NaN         NaN  \n",
       "2    2018.06.09         6301.0         NaN         NaN  \n",
       "3    2018.06.08         6300.0         NaN         NaN  \n",
       "4    2018.06.04         6299.0         NaN         NaN  \n",
       "\n",
       "[5 rows x 24 columns]"
      ]
     },
     "execution_count": 158,
     "metadata": {},
     "output_type": "execute_result"
    }
   ],
   "source": [
    "sharks.head()"
   ]
  },
  {
   "attachments": {},
   "cell_type": "markdown",
   "metadata": {},
   "source": [
    "Species"
   ]
  },
  {
   "cell_type": "code",
   "execution_count": 159,
   "metadata": {},
   "outputs": [
    {
     "data": {
      "text/plain": [
       "Species\n",
       "White shark                                           163\n",
       "Shark involvement prior to death was not confirmed    105\n",
       "Invalid                                               102\n",
       "Shark involvement not confirmed                        87\n",
       "Tiger shark                                            73\n",
       "Shark involvement prior to death unconfirmed           68\n",
       "Bull shark                                             52\n",
       "6' shark                                               40\n",
       "4' shark                                               40\n",
       "1.8 m [6'] shark                                       35\n",
       "Questionable incident                                  35\n",
       "Questionable                                           33\n",
       "1.5 m [5'] shark                                       32\n",
       "Name: count, dtype: int64"
      ]
     },
     "execution_count": 159,
     "metadata": {},
     "output_type": "execute_result"
    }
   ],
   "source": [
    "sharks = sharks.rename(columns={'Species ': 'Species'})\n",
    "\n",
    "especie = sharks['Species'].value_counts()\n",
    "especie[especie>30]"
   ]
  },
  {
   "cell_type": "code",
   "execution_count": 160,
   "metadata": {},
   "outputs": [],
   "source": [
    "#observo las que más se repiten y agrupo para limpiar"
   ]
  },
  {
   "cell_type": "code",
   "execution_count": 161,
   "metadata": {},
   "outputs": [
    {
     "data": {
      "text/plain": [
       "'\\n\\na_reemplazar = [\\'Shark involvement prior to death was not confirmed\\',\\'Invalid\\',\\'Shark involvement not confirmed\\',\\'Shark involvement prior to death unconfirmed\\',\\'Questionable incident\\', \\'Questionable\\'   ]\\n\\n\\n# Reemplazar los valores en la columna \"nombre_columna\" por \"not confirmed\"\\nsharks[\\'Species\\'] = sharks[\\'Species\\'].replace(a_reemplazar, \\'Shark involvement not confirmed\\', inplace=True)\\n\\n'"
      ]
     },
     "execution_count": 161,
     "metadata": {},
     "output_type": "execute_result"
    }
   ],
   "source": [
    "'''\n",
    "\n",
    "a_reemplazar = ['Shark involvement prior to death was not confirmed','Invalid','Shark involvement not confirmed','Shark involvement prior to death unconfirmed','Questionable incident', 'Questionable'   ]\n",
    "\n",
    "\n",
    "# Reemplazar los valores en la columna \"nombre_columna\" por \"not confirmed\"\n",
    "sharks['Species'] = sharks['Species'].replace(a_reemplazar, 'Shark involvement not confirmed', inplace=True)\n",
    "\n",
    "'''\n"
   ]
  },
  {
   "cell_type": "code",
   "execution_count": 162,
   "metadata": {},
   "outputs": [
    {
     "data": {
      "text/plain": [
       "Species\n",
       "White shark                                           163\n",
       "Shark involvement prior to death was not confirmed    105\n",
       "Invalid                                               102\n",
       "Shark involvement not confirmed                        87\n",
       "Tiger shark                                            73\n",
       "Shark involvement prior to death unconfirmed           68\n",
       "Bull shark                                             52\n",
       "6' shark                                               40\n",
       "4' shark                                               40\n",
       "1.8 m [6'] shark                                       35\n",
       "Questionable incident                                  35\n",
       "Questionable                                           33\n",
       "1.5 m [5'] shark                                       32\n",
       "Name: count, dtype: int64"
      ]
     },
     "execution_count": 162,
     "metadata": {},
     "output_type": "execute_result"
    }
   ],
   "source": [
    "especie = sharks['Species'].value_counts()\n",
    "especie[especie>30]"
   ]
  },
  {
   "cell_type": "code",
   "execution_count": 163,
   "metadata": {},
   "outputs": [],
   "source": [
    "sharks[\"Species\"] = sharks[\"Species\"].replace('Shark involvement prior to death was not confirmed', 'Shark involvement not confirmed')\n",
    "sharks[\"Species\"] = sharks[\"Species\"].replace('Invalid', 'Shark involvement not confirmed')\n",
    "sharks[\"Species\"] = sharks[\"Species\"].replace('Shark involvement prior to death unconfirmed', 'Shark involvement not confirmed')\n",
    "sharks[\"Species\"] = sharks[\"Species\"].replace('Questionable incident', 'Shark involvement not confirmed')\n",
    "sharks[\"Species\"] = sharks[\"Species\"].replace('Questionable', 'Shark involvement not confirmed')\n",
    "sharks[\"Species\"] = sharks[\"Species\"].replace('Questionable', 'Shark involvement not confirmed')\n"
   ]
  },
  {
   "cell_type": "code",
   "execution_count": 164,
   "metadata": {},
   "outputs": [
    {
     "data": {
      "text/plain": [
       "Species\n",
       "Shark involvement not confirmed                   430\n",
       "White shark                                       163\n",
       "Tiger shark                                        73\n",
       "Bull shark                                         52\n",
       "4' shark                                           40\n",
       "6' shark                                           40\n",
       "1.8 m [6'] shark                                   35\n",
       "1.5 m [5'] shark                                   32\n",
       "1.2 m [4'] shark                                   27\n",
       "3' shark                                           26\n",
       "5' shark                                           26\n",
       "2 m shark                                          25\n",
       "4' to 5' shark                                     24\n",
       "3 m [10'] shark                                    22\n",
       "Wobbegong shark                                    21\n",
       "No shark involvement                               21\n",
       "3' to 4' shark                                     18\n",
       "3 m shark                                          17\n",
       "2.4 m [8'] shark                                   16\n",
       "3.7 m [12'] shark                                  15\n",
       "Blacktip shark                                     15\n",
       "12' shark                                          15\n",
       "1.2 m to 1.5 m [4' to 5'] shark                    14\n",
       "Blue shark                                         14\n",
       "Mako shark                                         13\n",
       "1.5 m shark                                        13\n",
       "7' shark                                           13\n",
       "Shark involvement prior to death not confirmed     13\n",
       "\"a small shark\"                                    13\n",
       "6 m [20'] white shark                              12\n",
       "Nurse shark                                        12\n",
       "5 m [16.5'] white shark                            12\n",
       "Bronze whaler shark                                12\n",
       "10' shark                                          12\n",
       "Raggedtooth shark                                  12\n",
       "Zambesi shark                                      11\n",
       "Grey nurse shark                                   11\n",
       "Name: count, dtype: int64"
      ]
     },
     "execution_count": 164,
     "metadata": {},
     "output_type": "execute_result"
    }
   ],
   "source": [
    "especie = sharks['Species'].value_counts()\n",
    "especie[especie>10]"
   ]
  },
  {
   "cell_type": "code",
   "execution_count": 165,
   "metadata": {},
   "outputs": [],
   "source": [
    "sharks['Species'].fillna('Other', inplace=True)"
   ]
  },
  {
   "attachments": {},
   "cell_type": "markdown",
   "metadata": {},
   "source": [
    "Investigator or Source"
   ]
  },
  {
   "cell_type": "code",
   "execution_count": 166,
   "metadata": {},
   "outputs": [
    {
     "data": {
      "text/plain": [
       "Investigator or Source\n",
       "C. Moore, GSAF                                     105\n",
       "C. Creswell, GSAF                                   92\n",
       "S. Petersohn, GSAF                                  82\n",
       "R. Collier                                          55\n",
       "T. Peake, GSAF                                      48\n",
       "R. Collier, GSAF                                    48\n",
       "M. Levine, GSAF                                     45\n",
       "A. Gifford, GSAF                                    28\n",
       "C. Moore. GSAF                                      27\n",
       "B. Myatt, GSAF                                      24\n",
       "GSAF                                                23\n",
       "M. Vorenberg, GSAF                                  20\n",
       "E. Pace, FSAF                                       20\n",
       "G. Van Grevelynghe                                  19\n",
       "E. Ritter, GSAF                                     19\n",
       "JCOnline                                            16\n",
       "J. Green, p.36                                      14\n",
       "W. Leander                                          14\n",
       "C. Johansson, GSAF                                  14\n",
       "K. Nakaya                                           12\n",
       "R.D. Weeks, GSAF                                    12\n",
       "S. Petersohn                                        12\n",
       "C. Black, GSAF                                      11\n",
       "C. Creswell                                         11\n",
       "Hawaii Department of Land and Natural Resources     11\n",
       "C. Eksander, GSAF                                   10\n",
       "B.W. Coad & L.A.J. Al-Hassan                        10\n",
       "MEDSAF                                              10\n",
       "R. McKenzie, Sunday Mail, 9/6/1987, p.11             9\n",
       "J. Eager, scubaradio.com                             9\n",
       "B. Coad                                              8\n",
       "C.Moore, GSAF                                        8\n",
       "M. Szpilman                                          8\n",
       "A. Bleakley;  A. M. Rapson, p.148                    7\n",
       "T. Wallett, p.27                                     7\n",
       "North Adams Transcript, 3/18/1898                    7\n",
       "K. McMurray, TrackingSharks.com                      7\n",
       "V.M. Coppleson (1958), p.242                         6\n",
       "Clay Creswell, GSAF                                  6\n",
       "S. Petersohn, GSAF                                   6\n",
       "J. Borg, p.74; L. Taylor (1993), pp.102-103          6\n",
       "G. Balazs                                            6\n",
       "G. Cliff, NSB                                        6\n",
       "A. Brenneka, Shark Attack Survivors                  6\n",
       "Y. Choi & K. Nakaya                                  6\n",
       "G.P. Whitley, p.264                                  6\n",
       "Name: count, dtype: int64"
      ]
     },
     "execution_count": 166,
     "metadata": {},
     "output_type": "execute_result"
    }
   ],
   "source": [
    "caso = sharks['Investigator or Source'].value_counts()\n",
    "caso[caso>5]"
   ]
  },
  {
   "cell_type": "code",
   "execution_count": 167,
   "metadata": {},
   "outputs": [],
   "source": [
    "sharks['Investigator or Source'].fillna('Unknown', inplace=True)"
   ]
  },
  {
   "cell_type": "code",
   "execution_count": null,
   "metadata": {},
   "outputs": [],
   "source": []
  },
  {
   "attachments": {},
   "cell_type": "markdown",
   "metadata": {},
   "source": [
    "PDF"
   ]
  },
  {
   "attachments": {},
   "cell_type": "markdown",
   "metadata": {},
   "source": []
  },
  {
   "cell_type": "code",
   "execution_count": 168,
   "metadata": {},
   "outputs": [],
   "source": [
    "sharks = sharks.rename(columns={'pdf': 'Case File (PDF)'})"
   ]
  },
  {
   "cell_type": "code",
   "execution_count": 169,
   "metadata": {},
   "outputs": [],
   "source": [
    "sharks['Case File (PDF)'].fillna('Unknown', inplace=True)"
   ]
  },
  {
   "attachments": {},
   "cell_type": "markdown",
   "metadata": {},
   "source": [
    "href y href formula"
   ]
  },
  {
   "cell_type": "code",
   "execution_count": 170,
   "metadata": {},
   "outputs": [
    {
     "data": {
      "text/plain": [
       "0       True\n",
       "1       True\n",
       "2       True\n",
       "3       True\n",
       "4       True\n",
       "        ... \n",
       "6297    True\n",
       "6298    True\n",
       "6299    True\n",
       "6300    True\n",
       "6301    True\n",
       "Length: 6300, dtype: bool"
      ]
     },
     "execution_count": 170,
     "metadata": {},
     "output_type": "execute_result"
    }
   ],
   "source": [
    "sharks['href'] == sharks['href formula']"
   ]
  },
  {
   "cell_type": "code",
   "execution_count": 171,
   "metadata": {},
   "outputs": [],
   "source": [
    "#busco en que filas el elemento no coincide\n",
    "\n",
    "# Crear una serie booleana que indique si href es diferente a href formula\n",
    "condicion = sharks['href'] != sharks['href formula']\n",
    "\n",
    "# Seleccionar las filas donde la condición es verdadera\n",
    "filas_diferentes = sharks[condicion]\n",
    "\n",
    "filas_diferentes;\n"
   ]
  },
  {
   "cell_type": "code",
   "execution_count": 172,
   "metadata": {},
   "outputs": [
    {
     "data": {
      "text/plain": [
       "'http://sharkattackfile.net/spreadsheets/pdf_directory/http://sharkattackfile.net/spreadsheets/pdf_directory/2017.08.27-Brundler.pdf'"
      ]
     },
     "execution_count": 172,
     "metadata": {},
     "output_type": "execute_result"
    }
   ],
   "source": [
    "sharks['href'][96]"
   ]
  },
  {
   "cell_type": "code",
   "execution_count": 173,
   "metadata": {},
   "outputs": [
    {
     "data": {
      "text/plain": [
       "'http://sharkattackfile.net/spreadsheets/pdf_directory/2017.08.27-Brundler.pdf'"
      ]
     },
     "execution_count": 173,
     "metadata": {},
     "output_type": "execute_result"
    }
   ],
   "source": [
    "sharks['href formula'][96]"
   ]
  },
  {
   "cell_type": "code",
   "execution_count": 174,
   "metadata": {},
   "outputs": [],
   "source": [
    "#analizando algunos me doy cuenta de que los valores que coinciden es porque\n",
    "#href sale error not found y en href formula si que aparece el bueno\n",
    "#así que copio lo que pone en hre formula a href\n",
    "\n",
    "# Sobrescribir los valores en href formula donde la condición es verdadera\n",
    "sharks.loc[condicion, 'href formula'] = sharks.loc[condicion, 'href']\n",
    "\n",
    "# Verificar que los valores se hayan sobrescrito correctamente\n"
   ]
  },
  {
   "cell_type": "code",
   "execution_count": 175,
   "metadata": {},
   "outputs": [
    {
     "data": {
      "text/plain": [
       "0       True\n",
       "1       True\n",
       "2       True\n",
       "3       True\n",
       "4       True\n",
       "        ... \n",
       "6297    True\n",
       "6298    True\n",
       "6299    True\n",
       "6300    True\n",
       "6301    True\n",
       "Length: 6300, dtype: bool"
      ]
     },
     "execution_count": 175,
     "metadata": {},
     "output_type": "execute_result"
    }
   ],
   "source": [
    "sharks['href'] == sharks['href formula']"
   ]
  },
  {
   "cell_type": "code",
   "execution_count": 176,
   "metadata": {},
   "outputs": [
    {
     "data": {
      "text/html": [
       "<div>\n",
       "<style scoped>\n",
       "    .dataframe tbody tr th:only-of-type {\n",
       "        vertical-align: middle;\n",
       "    }\n",
       "\n",
       "    .dataframe tbody tr th {\n",
       "        vertical-align: top;\n",
       "    }\n",
       "\n",
       "    .dataframe thead th {\n",
       "        text-align: right;\n",
       "    }\n",
       "</style>\n",
       "<table border=\"1\" class=\"dataframe\">\n",
       "  <thead>\n",
       "    <tr style=\"text-align: right;\">\n",
       "      <th></th>\n",
       "      <th>Case Number</th>\n",
       "      <th>Date</th>\n",
       "      <th>Year</th>\n",
       "      <th>Type</th>\n",
       "      <th>Country</th>\n",
       "      <th>Area</th>\n",
       "      <th>Location</th>\n",
       "      <th>Activity</th>\n",
       "      <th>Name</th>\n",
       "      <th>Sex</th>\n",
       "      <th>...</th>\n",
       "      <th>Species</th>\n",
       "      <th>Investigator or Source</th>\n",
       "      <th>Case File (PDF)</th>\n",
       "      <th>href formula</th>\n",
       "      <th>href</th>\n",
       "      <th>Case Number.1</th>\n",
       "      <th>Case Number.2</th>\n",
       "      <th>original order</th>\n",
       "      <th>Unnamed: 22</th>\n",
       "      <th>Unnamed: 23</th>\n",
       "    </tr>\n",
       "  </thead>\n",
       "  <tbody>\n",
       "  </tbody>\n",
       "</table>\n",
       "<p>0 rows × 24 columns</p>\n",
       "</div>"
      ],
      "text/plain": [
       "Empty DataFrame\n",
       "Columns: [Case Number, Date, Year, Type, Country, Area, Location, Activity, Name, Sex, Age, Injury, Fatal, Time, Species, Investigator or Source, Case File (PDF), href formula, href, Case Number.1, Case Number.2, original order, Unnamed: 22, Unnamed: 23]\n",
       "Index: []\n",
       "\n",
       "[0 rows x 24 columns]"
      ]
     },
     "execution_count": 176,
     "metadata": {},
     "output_type": "execute_result"
    }
   ],
   "source": [
    "# Seleccionar las filas donde href sea nulo y href formula no sea nulo\n",
    "filas_null = sharks[(sharks['href'].isnull()) & (~sharks['href formula'].isnull())]\n",
    "\n",
    "filas_null"
   ]
  },
  {
   "cell_type": "code",
   "execution_count": 177,
   "metadata": {},
   "outputs": [],
   "source": [
    "#ahora href formula no sirve para nada y podríamos utilizarla para otra cosa"
   ]
  },
  {
   "cell_type": "code",
   "execution_count": 178,
   "metadata": {},
   "outputs": [],
   "source": [
    "sharks = sharks.rename(columns={'href': 'Case File (URL)'})"
   ]
  },
  {
   "cell_type": "code",
   "execution_count": 179,
   "metadata": {},
   "outputs": [
    {
     "data": {
      "text/plain": [
       "Index(['Case Number', 'Date', 'Year', 'Type', 'Country', 'Area', 'Location',\n",
       "       'Activity', 'Name', 'Sex', 'Age', 'Injury', 'Fatal', 'Time', 'Species',\n",
       "       'Investigator or Source', 'Case File (PDF)', 'href formula',\n",
       "       'Case File (URL)', 'Case Number.1', 'Case Number.2', 'original order',\n",
       "       'Unnamed: 22', 'Unnamed: 23'],\n",
       "      dtype='object')"
      ]
     },
     "execution_count": 179,
     "metadata": {},
     "output_type": "execute_result"
    }
   ],
   "source": [
    "sharks.columns\n"
   ]
  },
  {
   "cell_type": "code",
   "execution_count": 180,
   "metadata": {},
   "outputs": [],
   "source": [
    "sharks['Case File (URL)'].fillna('Unknown', inplace=True)"
   ]
  },
  {
   "attachments": {},
   "cell_type": "markdown",
   "metadata": {},
   "source": [
    "Year"
   ]
  },
  {
   "cell_type": "code",
   "execution_count": 181,
   "metadata": {},
   "outputs": [],
   "source": [
    "#me deshago de los nulos y los convierto en enteroa\n",
    "\n",
    "sharks.dropna(subset=['Year'],inplace=True)\n",
    "sharks.Year = sharks.Year.astype(int)"
   ]
  },
  {
   "cell_type": "code",
   "execution_count": 182,
   "metadata": {},
   "outputs": [
    {
     "data": {
      "text/plain": [
       "(6298, 24)"
      ]
     },
     "execution_count": 182,
     "metadata": {},
     "output_type": "execute_result"
    }
   ],
   "source": [
    "sharks.shape"
   ]
  },
  {
   "cell_type": "code",
   "execution_count": 183,
   "metadata": {},
   "outputs": [
    {
     "data": {
      "text/plain": [
       "Case Number                  0\n",
       "Date                         0\n",
       "Year                         0\n",
       "Type                         0\n",
       "Country                      0\n",
       "Area                         0\n",
       "Location                     0\n",
       "Activity                     0\n",
       "Name                         0\n",
       "Sex                          0\n",
       "Age                          0\n",
       "Injury                       0\n",
       "Fatal                        0\n",
       "Time                         0\n",
       "Species                      0\n",
       "Investigator or Source       0\n",
       "Case File (PDF)              0\n",
       "href formula                 0\n",
       "Case File (URL)              0\n",
       "Case Number.1                0\n",
       "Case Number.2                0\n",
       "original order               0\n",
       "Unnamed: 22               6297\n",
       "Unnamed: 23               6296\n",
       "dtype: int64"
      ]
     },
     "execution_count": 183,
     "metadata": {},
     "output_type": "execute_result"
    }
   ],
   "source": [
    "sharks.isna().sum()"
   ]
  },
  {
   "cell_type": "code",
   "execution_count": 184,
   "metadata": {},
   "outputs": [
    {
     "data": {
      "text/plain": [
       "(6298, 24)"
      ]
     },
     "execution_count": 184,
     "metadata": {},
     "output_type": "execute_result"
    }
   ],
   "source": [
    "sharks.shape"
   ]
  },
  {
   "cell_type": "code",
   "execution_count": 185,
   "metadata": {},
   "outputs": [
    {
     "data": {
      "text/html": [
       "<div>\n",
       "<style scoped>\n",
       "    .dataframe tbody tr th:only-of-type {\n",
       "        vertical-align: middle;\n",
       "    }\n",
       "\n",
       "    .dataframe tbody tr th {\n",
       "        vertical-align: top;\n",
       "    }\n",
       "\n",
       "    .dataframe thead th {\n",
       "        text-align: right;\n",
       "    }\n",
       "</style>\n",
       "<table border=\"1\" class=\"dataframe\">\n",
       "  <thead>\n",
       "    <tr style=\"text-align: right;\">\n",
       "      <th></th>\n",
       "      <th>Case Number</th>\n",
       "      <th>Date</th>\n",
       "      <th>Year</th>\n",
       "      <th>Type</th>\n",
       "      <th>Country</th>\n",
       "      <th>Area</th>\n",
       "      <th>Location</th>\n",
       "      <th>Activity</th>\n",
       "      <th>Name</th>\n",
       "      <th>Sex</th>\n",
       "      <th>...</th>\n",
       "      <th>Species</th>\n",
       "      <th>Investigator or Source</th>\n",
       "      <th>Case File (PDF)</th>\n",
       "      <th>href formula</th>\n",
       "      <th>Case File (URL)</th>\n",
       "      <th>Case Number.1</th>\n",
       "      <th>Case Number.2</th>\n",
       "      <th>original order</th>\n",
       "      <th>Unnamed: 22</th>\n",
       "      <th>Unnamed: 23</th>\n",
       "    </tr>\n",
       "  </thead>\n",
       "  <tbody>\n",
       "    <tr>\n",
       "      <th>0</th>\n",
       "      <td>2018.06.25</td>\n",
       "      <td>25-Jun-2018</td>\n",
       "      <td>2018</td>\n",
       "      <td>Boating</td>\n",
       "      <td>USA</td>\n",
       "      <td>California</td>\n",
       "      <td>Oceanside, San Diego County</td>\n",
       "      <td>Paddling</td>\n",
       "      <td>Julie Wolfe</td>\n",
       "      <td>F</td>\n",
       "      <td>...</td>\n",
       "      <td>White shark</td>\n",
       "      <td>R. Collier, GSAF</td>\n",
       "      <td>2018.06.25-Wolfe.pdf</td>\n",
       "      <td>http://sharkattackfile.net/spreadsheets/pdf_di...</td>\n",
       "      <td>http://sharkattackfile.net/spreadsheets/pdf_di...</td>\n",
       "      <td>2018.06.25</td>\n",
       "      <td>2018.06.25</td>\n",
       "      <td>6303.0</td>\n",
       "      <td>NaN</td>\n",
       "      <td>NaN</td>\n",
       "    </tr>\n",
       "    <tr>\n",
       "      <th>1</th>\n",
       "      <td>2018.06.18</td>\n",
       "      <td>18-Jun-2018</td>\n",
       "      <td>2018</td>\n",
       "      <td>Unprovoked</td>\n",
       "      <td>USA</td>\n",
       "      <td>Georgia</td>\n",
       "      <td>St. Simon Island, Glynn County</td>\n",
       "      <td>Standing</td>\n",
       "      <td>Adyson McNeely</td>\n",
       "      <td>F</td>\n",
       "      <td>...</td>\n",
       "      <td>Other</td>\n",
       "      <td>K.McMurray, TrackingSharks.com</td>\n",
       "      <td>2018.06.18-McNeely.pdf</td>\n",
       "      <td>http://sharkattackfile.net/spreadsheets/pdf_di...</td>\n",
       "      <td>http://sharkattackfile.net/spreadsheets/pdf_di...</td>\n",
       "      <td>2018.06.18</td>\n",
       "      <td>2018.06.18</td>\n",
       "      <td>6302.0</td>\n",
       "      <td>NaN</td>\n",
       "      <td>NaN</td>\n",
       "    </tr>\n",
       "    <tr>\n",
       "      <th>2</th>\n",
       "      <td>2018.06.09</td>\n",
       "      <td>09-Jun-2018</td>\n",
       "      <td>2018</td>\n",
       "      <td>Invalid</td>\n",
       "      <td>USA</td>\n",
       "      <td>Hawaii</td>\n",
       "      <td>Habush, Oahu</td>\n",
       "      <td>Surfing</td>\n",
       "      <td>John Denges</td>\n",
       "      <td>M</td>\n",
       "      <td>...</td>\n",
       "      <td>Other</td>\n",
       "      <td>K.McMurray, TrackingSharks.com</td>\n",
       "      <td>2018.06.09-Denges.pdf</td>\n",
       "      <td>http://sharkattackfile.net/spreadsheets/pdf_di...</td>\n",
       "      <td>http://sharkattackfile.net/spreadsheets/pdf_di...</td>\n",
       "      <td>2018.06.09</td>\n",
       "      <td>2018.06.09</td>\n",
       "      <td>6301.0</td>\n",
       "      <td>NaN</td>\n",
       "      <td>NaN</td>\n",
       "    </tr>\n",
       "    <tr>\n",
       "      <th>3</th>\n",
       "      <td>2018.06.08</td>\n",
       "      <td>08-Jun-2018</td>\n",
       "      <td>2018</td>\n",
       "      <td>Unprovoked</td>\n",
       "      <td>AUSTRALIA</td>\n",
       "      <td>New South Wales</td>\n",
       "      <td>Arrawarra Headland</td>\n",
       "      <td>Surfing</td>\n",
       "      <td>Anonymous</td>\n",
       "      <td>M</td>\n",
       "      <td>...</td>\n",
       "      <td>2 m shark</td>\n",
       "      <td>B. Myatt, GSAF</td>\n",
       "      <td>2018.06.08-Arrawarra.pdf</td>\n",
       "      <td>http://sharkattackfile.net/spreadsheets/pdf_di...</td>\n",
       "      <td>http://sharkattackfile.net/spreadsheets/pdf_di...</td>\n",
       "      <td>2018.06.08</td>\n",
       "      <td>2018.06.08</td>\n",
       "      <td>6300.0</td>\n",
       "      <td>NaN</td>\n",
       "      <td>NaN</td>\n",
       "    </tr>\n",
       "    <tr>\n",
       "      <th>4</th>\n",
       "      <td>2018.06.04</td>\n",
       "      <td>04-Jun-2018</td>\n",
       "      <td>2018</td>\n",
       "      <td>Provoked</td>\n",
       "      <td>MEXICO</td>\n",
       "      <td>Colima</td>\n",
       "      <td>La Ticla</td>\n",
       "      <td>Free diving</td>\n",
       "      <td>Gustavo Ramos</td>\n",
       "      <td>M</td>\n",
       "      <td>...</td>\n",
       "      <td>Tiger shark, 3m</td>\n",
       "      <td>A .Kipper</td>\n",
       "      <td>2018.06.04-Ramos.pdf</td>\n",
       "      <td>http://sharkattackfile.net/spreadsheets/pdf_di...</td>\n",
       "      <td>http://sharkattackfile.net/spreadsheets/pdf_di...</td>\n",
       "      <td>2018.06.04</td>\n",
       "      <td>2018.06.04</td>\n",
       "      <td>6299.0</td>\n",
       "      <td>NaN</td>\n",
       "      <td>NaN</td>\n",
       "    </tr>\n",
       "  </tbody>\n",
       "</table>\n",
       "<p>5 rows × 24 columns</p>\n",
       "</div>"
      ],
      "text/plain": [
       "  Case Number         Date  Year        Type    Country             Area   \n",
       "0  2018.06.25  25-Jun-2018  2018     Boating        USA       California  \\\n",
       "1  2018.06.18  18-Jun-2018  2018  Unprovoked        USA          Georgia   \n",
       "2  2018.06.09  09-Jun-2018  2018     Invalid        USA           Hawaii   \n",
       "3  2018.06.08  08-Jun-2018  2018  Unprovoked  AUSTRALIA  New South Wales   \n",
       "4  2018.06.04  04-Jun-2018  2018    Provoked     MEXICO           Colima   \n",
       "\n",
       "                         Location     Activity             Name Sex  ...   \n",
       "0     Oceanside, San Diego County     Paddling      Julie Wolfe   F  ...  \\\n",
       "1  St. Simon Island, Glynn County     Standing  Adyson McNeely    F  ...   \n",
       "2                    Habush, Oahu      Surfing      John Denges   M  ...   \n",
       "3              Arrawarra Headland      Surfing        Anonymous   M  ...   \n",
       "4                        La Ticla  Free diving   Gustavo Ramos    M  ...   \n",
       "\n",
       "           Species          Investigator or Source           Case File (PDF)   \n",
       "0      White shark                R. Collier, GSAF      2018.06.25-Wolfe.pdf  \\\n",
       "1            Other  K.McMurray, TrackingSharks.com    2018.06.18-McNeely.pdf   \n",
       "2            Other  K.McMurray, TrackingSharks.com     2018.06.09-Denges.pdf   \n",
       "3        2 m shark                  B. Myatt, GSAF  2018.06.08-Arrawarra.pdf   \n",
       "4  Tiger shark, 3m                       A .Kipper      2018.06.04-Ramos.pdf   \n",
       "\n",
       "                                        href formula   \n",
       "0  http://sharkattackfile.net/spreadsheets/pdf_di...  \\\n",
       "1  http://sharkattackfile.net/spreadsheets/pdf_di...   \n",
       "2  http://sharkattackfile.net/spreadsheets/pdf_di...   \n",
       "3  http://sharkattackfile.net/spreadsheets/pdf_di...   \n",
       "4  http://sharkattackfile.net/spreadsheets/pdf_di...   \n",
       "\n",
       "                                     Case File (URL) Case Number.1   \n",
       "0  http://sharkattackfile.net/spreadsheets/pdf_di...    2018.06.25  \\\n",
       "1  http://sharkattackfile.net/spreadsheets/pdf_di...    2018.06.18   \n",
       "2  http://sharkattackfile.net/spreadsheets/pdf_di...    2018.06.09   \n",
       "3  http://sharkattackfile.net/spreadsheets/pdf_di...    2018.06.08   \n",
       "4  http://sharkattackfile.net/spreadsheets/pdf_di...    2018.06.04   \n",
       "\n",
       "  Case Number.2 original order Unnamed: 22 Unnamed: 23  \n",
       "0    2018.06.25         6303.0         NaN         NaN  \n",
       "1    2018.06.18         6302.0         NaN         NaN  \n",
       "2    2018.06.09         6301.0         NaN         NaN  \n",
       "3    2018.06.08         6300.0         NaN         NaN  \n",
       "4    2018.06.04         6299.0         NaN         NaN  \n",
       "\n",
       "[5 rows x 24 columns]"
      ]
     },
     "execution_count": 185,
     "metadata": {},
     "output_type": "execute_result"
    }
   ],
   "source": [
    "sharks.head()"
   ]
  },
  {
   "cell_type": "code",
   "execution_count": null,
   "metadata": {},
   "outputs": [],
   "source": []
  },
  {
   "attachments": {},
   "cell_type": "markdown",
   "metadata": {},
   "source": [
    "Date"
   ]
  },
  {
   "attachments": {},
   "cell_type": "markdown",
   "metadata": {},
   "source": []
  },
  {
   "cell_type": "code",
   "execution_count": 186,
   "metadata": {},
   "outputs": [
    {
     "data": {
      "text/plain": [
       "1535"
      ]
     },
     "execution_count": 186,
     "metadata": {},
     "output_type": "execute_result"
    }
   ],
   "source": [
    "#voy a ver cuatos datos no cumplen con el formato dia mesa año\n",
    "\n",
    "count = 0\n",
    "for value in sharks['Date']:\n",
    "    try:\n",
    "        pd.to_datetime(value, format='%d-%b-%Y')\n",
    "    except ValueError:\n",
    "        count += 1\n",
    "\n",
    "count\n",
    "\n",
    "#hay demasiados no me los puedo cargar, voy a ver si los puedo agrupar al menos"
   ]
  },
  {
   "cell_type": "code",
   "execution_count": 187,
   "metadata": {},
   "outputs": [
    {
     "data": {
      "text/plain": [
       "Date\n",
       "1957                    11\n",
       "1942                     9\n",
       "1956                     8\n",
       "1941                     7\n",
       "1958                     7\n",
       "1950                     7\n",
       "1949                     6\n",
       "No date                  6\n",
       "Aug-1956                 5\n",
       "05-Oct-2003              5\n",
       "Oct-1960                 5\n",
       "28-Jul-1995              5\n",
       "1970s                    5\n",
       "1940                     5\n",
       "1954                     5\n",
       "12-Apr-2001              5\n",
       "1959                     5\n",
       "1955                     5\n",
       "No date, Before 1963     5\n",
       "14-Jun-2012              4\n",
       "27-Dec-2008              4\n",
       "20-Sep-2015              4\n",
       "1960                     4\n",
       "1938                     4\n",
       "1960s                    4\n",
       "09-Jul-1994              4\n",
       "1898                     4\n",
       "23-Jan-1970              4\n",
       "1952                     4\n",
       "27-Jul-1952              4\n",
       "Reported 10-Oct-1906     4\n",
       "09-Jan-2010              4\n",
       "1904                     4\n",
       "29-Apr-2017              4\n",
       "1995                     4\n",
       "1961                     4\n",
       "Before 1906              4\n",
       "1945                     4\n",
       "Before 1958              4\n",
       "28-Dec-2014              4\n",
       "1876                     4\n",
       "15-Apr-2018              4\n",
       "Name: count, dtype: int64"
      ]
     },
     "execution_count": 187,
     "metadata": {},
     "output_type": "execute_result"
    }
   ],
   "source": [
    "\n",
    "\n",
    "fecha = sharks['Date'].value_counts()\n",
    "fecha[fecha>3]"
   ]
  },
  {
   "cell_type": "code",
   "execution_count": 188,
   "metadata": {},
   "outputs": [],
   "source": [
    "#de la columna Date los que sean solo un año\n",
    "#los paso a la columna Year así no pierdo ese valor\n",
    "\n",
    "sharks['Year'] = sharks['Date'].str.extract(r'(\\d{4})')\n",
    "\n",
    "#ahora que ya lo tengo Year los elimino de la columna Date\n",
    "\n",
    "# Identificar las filas donde la columna 'Date' contiene solo cuatro dígitos\n",
    "mask = sharks['Date'].str.contains(r'^\\d{4}$')\n",
    "\n",
    "# Reemplazar los valores correspondientes con 'No date'\n",
    "sharks.loc[mask, 'Date'] = 'No date'"
   ]
  },
  {
   "cell_type": "code",
   "execution_count": 189,
   "metadata": {},
   "outputs": [
    {
     "data": {
      "text/plain": [
       "Date\n",
       "No date                 288\n",
       "No date, Before 1963      5\n",
       "12-Apr-2001               5\n",
       "Oct-1960                  5\n",
       "28-Jul-1995               5\n",
       "1970s                     5\n",
       "05-Oct-2003               5\n",
       "Aug-1956                  5\n",
       "Reported 10-Oct-1906      4\n",
       "Before 1958               4\n",
       "09-Jan-2010               4\n",
       "14-Jun-2012               4\n",
       "20-Sep-2015               4\n",
       "28-Dec-2014               4\n",
       "29-Apr-2017               4\n",
       "09-Jul-1994               4\n",
       "15-Apr-2018               4\n",
       "23-Jan-1970               4\n",
       "27-Jul-1952               4\n",
       "1960s                     4\n",
       "27-Dec-2008               4\n",
       "Before 1906               4\n",
       "Name: count, dtype: int64"
      ]
     },
     "execution_count": 189,
     "metadata": {},
     "output_type": "execute_result"
    }
   ],
   "source": [
    "fecha = sharks['Date'].value_counts()\n",
    "fecha[fecha>3]"
   ]
  },
  {
   "cell_type": "code",
   "execution_count": 190,
   "metadata": {},
   "outputs": [],
   "source": [
    "#reemplazo a mano los que tienen el formato bueno \n",
    "\n",
    "sharks['Date'] = sharks['Date'].replace('1960s','No date')\n",
    "sharks['Date'] = sharks['Date'].replace('1970s','No date')\n",
    "sharks['Date'] = sharks['Date'].replace('Before 1906','No date')\n",
    "sharks['Date'] = sharks['Date'].replace('Before 1958','No date')\n",
    "sharks['Date'] = sharks['Date'].replace('Reported 10-Oct-1906','No date')\n",
    "sharks['Date'] = sharks['Date'].replace('No date, Before 1963','No date')\n",
    "sharks['Date'] = sharks['Date'].replace('Aug-1956','No date')\n",
    "sharks['Date'] = sharks['Date'].replace('Oct-1960','No date')\n",
    "sharks['Date'] = sharks['Date'].replace(' 01-Sep-2013','01-Sep-2013')\n",
    "sharks['Date'] = sharks['Date'].replace('Summer 1943','No date')\n",
    "sharks['Date'] = sharks['Date'].replace('19955','No date')\n",
    "sharks['Date'] = sharks['Date'].replace('Circa 1958','No date')\n",
    "sharks['Date'] = sharks['Date'].replace('Feb-1957','No date')\n",
    "sharks['Date'] = sharks['Date'].replace('1845-1853','No date')\n",
    "\n",
    "#voy a parar porque esto deja de tener sentido \n"
   ]
  },
  {
   "cell_type": "code",
   "execution_count": 191,
   "metadata": {},
   "outputs": [
    {
     "data": {
      "text/plain": [
       "Date\n",
       "05-Feb-1945    1\n",
       "06-Mar-1945    1\n",
       "05-Jan-1957    1\n",
       "27-Oct-1956    1\n",
       "02-Feb-1957    1\n",
       "              ..\n",
       "21-Aug-1995    1\n",
       "25-Aug-1995    1\n",
       "27-Aug-1995    1\n",
       "11-Sep-1995    1\n",
       "1883-1889      1\n",
       "Name: count, Length: 4697, dtype: int64"
      ]
     },
     "execution_count": 191,
     "metadata": {},
     "output_type": "execute_result"
    }
   ],
   "source": [
    "fecha = sharks['Date'].value_counts()\n",
    "fecha[fecha==1]"
   ]
  },
  {
   "cell_type": "code",
   "execution_count": 192,
   "metadata": {},
   "outputs": [],
   "source": [
    "#utilizo una de las columnas inutiles para guardar el mes \n",
    "\n",
    "sharks = sharks.rename(columns={'Case Number.1': 'Month'})\n",
    "\n",
    "sharks['Month'] = sharks['Month'] = None"
   ]
  },
  {
   "cell_type": "code",
   "execution_count": 193,
   "metadata": {},
   "outputs": [],
   "source": [
    "sharks['Month'] = sharks['Date'].str.extract(r'(\\w{3})', expand=False).fillna('Unknown')\n"
   ]
  },
  {
   "cell_type": "code",
   "execution_count": 194,
   "metadata": {},
   "outputs": [
    {
     "data": {
      "text/plain": [
       "<bound method IndexOpsMixin.value_counts of 0       Jun\n",
       "1       Jun\n",
       "2       Jun\n",
       "3       Jun\n",
       "4       Jun\n",
       "       ... \n",
       "6297    Bef\n",
       "6298    Bef\n",
       "6299    190\n",
       "6300    188\n",
       "6301    dat\n",
       "Name: Month, Length: 6298, dtype: object>"
      ]
     },
     "execution_count": 194,
     "metadata": {},
     "output_type": "execute_result"
    }
   ],
   "source": [
    "sharks['Month'].value_counts"
   ]
  },
  {
   "cell_type": "code",
   "execution_count": 195,
   "metadata": {},
   "outputs": [],
   "source": [
    "meses = ['Jan', 'Feb', 'Mar', 'Apr', 'May', 'Jun', 'Jul', 'Aug', 'Sep', 'Oct', 'Nov', 'Dec']\n",
    "\n",
    "sharks.loc[~sharks['Month'].isin(meses), 'Month'] = 'Unknown'"
   ]
  },
  {
   "cell_type": "code",
   "execution_count": 196,
   "metadata": {},
   "outputs": [
    {
     "data": {
      "text/plain": [
       "1115"
      ]
     },
     "execution_count": 196,
     "metadata": {},
     "output_type": "execute_result"
    }
   ],
   "source": [
    "(sharks['Month'] == 'Unknown').astype(int).sum()"
   ]
  },
  {
   "cell_type": "markdown",
   "metadata": {},
   "source": []
  },
  {
   "cell_type": "code",
   "execution_count": null,
   "metadata": {},
   "outputs": [],
   "source": []
  },
  {
   "attachments": {},
   "cell_type": "markdown",
   "metadata": {},
   "source": [
    "Vuelta a Year"
   ]
  },
  {
   "cell_type": "code",
   "execution_count": 197,
   "metadata": {},
   "outputs": [],
   "source": [
    "#veo que en Year vuelvo a tener valores nulos\n",
    "sharks[(sharks['Year'].isnull()) & (sharks['Date'].notnull())].head(10)\n",
    "\n",
    "#como tampoco tengo la fecha relleno ese año con Unknown\n",
    "\n",
    "sharks['Year'] = sharks['Year'].fillna('Unknown')\n"
   ]
  },
  {
   "cell_type": "code",
   "execution_count": null,
   "metadata": {},
   "outputs": [],
   "source": []
  },
  {
   "attachments": {},
   "cell_type": "markdown",
   "metadata": {},
   "source": [
    "Eliminar duplicados"
   ]
  },
  {
   "cell_type": "code",
   "execution_count": 198,
   "metadata": {},
   "outputs": [
    {
     "data": {
      "text/html": [
       "<div>\n",
       "<style scoped>\n",
       "    .dataframe tbody tr th:only-of-type {\n",
       "        vertical-align: middle;\n",
       "    }\n",
       "\n",
       "    .dataframe tbody tr th {\n",
       "        vertical-align: top;\n",
       "    }\n",
       "\n",
       "    .dataframe thead th {\n",
       "        text-align: right;\n",
       "    }\n",
       "</style>\n",
       "<table border=\"1\" class=\"dataframe\">\n",
       "  <thead>\n",
       "    <tr style=\"text-align: right;\">\n",
       "      <th></th>\n",
       "      <th>Case Number</th>\n",
       "      <th>Date</th>\n",
       "      <th>Year</th>\n",
       "      <th>Type</th>\n",
       "      <th>Country</th>\n",
       "      <th>Area</th>\n",
       "      <th>Location</th>\n",
       "      <th>Activity</th>\n",
       "      <th>Name</th>\n",
       "      <th>Sex</th>\n",
       "      <th>...</th>\n",
       "      <th>Species</th>\n",
       "      <th>Investigator or Source</th>\n",
       "      <th>Case File (PDF)</th>\n",
       "      <th>href formula</th>\n",
       "      <th>Case File (URL)</th>\n",
       "      <th>Month</th>\n",
       "      <th>Case Number.2</th>\n",
       "      <th>original order</th>\n",
       "      <th>Unnamed: 22</th>\n",
       "      <th>Unnamed: 23</th>\n",
       "    </tr>\n",
       "  </thead>\n",
       "  <tbody>\n",
       "    <tr>\n",
       "      <th>0</th>\n",
       "      <td>2018.06.25</td>\n",
       "      <td>25-Jun-2018</td>\n",
       "      <td>2018</td>\n",
       "      <td>Boating</td>\n",
       "      <td>USA</td>\n",
       "      <td>California</td>\n",
       "      <td>Oceanside, San Diego County</td>\n",
       "      <td>Paddling</td>\n",
       "      <td>Julie Wolfe</td>\n",
       "      <td>F</td>\n",
       "      <td>...</td>\n",
       "      <td>White shark</td>\n",
       "      <td>R. Collier, GSAF</td>\n",
       "      <td>2018.06.25-Wolfe.pdf</td>\n",
       "      <td>http://sharkattackfile.net/spreadsheets/pdf_di...</td>\n",
       "      <td>http://sharkattackfile.net/spreadsheets/pdf_di...</td>\n",
       "      <td>Jun</td>\n",
       "      <td>2018.06.25</td>\n",
       "      <td>6303.0</td>\n",
       "      <td>NaN</td>\n",
       "      <td>NaN</td>\n",
       "    </tr>\n",
       "    <tr>\n",
       "      <th>1</th>\n",
       "      <td>2018.06.18</td>\n",
       "      <td>18-Jun-2018</td>\n",
       "      <td>2018</td>\n",
       "      <td>Unprovoked</td>\n",
       "      <td>USA</td>\n",
       "      <td>Georgia</td>\n",
       "      <td>St. Simon Island, Glynn County</td>\n",
       "      <td>Standing</td>\n",
       "      <td>Adyson McNeely</td>\n",
       "      <td>F</td>\n",
       "      <td>...</td>\n",
       "      <td>Other</td>\n",
       "      <td>K.McMurray, TrackingSharks.com</td>\n",
       "      <td>2018.06.18-McNeely.pdf</td>\n",
       "      <td>http://sharkattackfile.net/spreadsheets/pdf_di...</td>\n",
       "      <td>http://sharkattackfile.net/spreadsheets/pdf_di...</td>\n",
       "      <td>Jun</td>\n",
       "      <td>2018.06.18</td>\n",
       "      <td>6302.0</td>\n",
       "      <td>NaN</td>\n",
       "      <td>NaN</td>\n",
       "    </tr>\n",
       "    <tr>\n",
       "      <th>2</th>\n",
       "      <td>2018.06.09</td>\n",
       "      <td>09-Jun-2018</td>\n",
       "      <td>2018</td>\n",
       "      <td>Invalid</td>\n",
       "      <td>USA</td>\n",
       "      <td>Hawaii</td>\n",
       "      <td>Habush, Oahu</td>\n",
       "      <td>Surfing</td>\n",
       "      <td>John Denges</td>\n",
       "      <td>M</td>\n",
       "      <td>...</td>\n",
       "      <td>Other</td>\n",
       "      <td>K.McMurray, TrackingSharks.com</td>\n",
       "      <td>2018.06.09-Denges.pdf</td>\n",
       "      <td>http://sharkattackfile.net/spreadsheets/pdf_di...</td>\n",
       "      <td>http://sharkattackfile.net/spreadsheets/pdf_di...</td>\n",
       "      <td>Jun</td>\n",
       "      <td>2018.06.09</td>\n",
       "      <td>6301.0</td>\n",
       "      <td>NaN</td>\n",
       "      <td>NaN</td>\n",
       "    </tr>\n",
       "    <tr>\n",
       "      <th>3</th>\n",
       "      <td>2018.06.08</td>\n",
       "      <td>08-Jun-2018</td>\n",
       "      <td>2018</td>\n",
       "      <td>Unprovoked</td>\n",
       "      <td>AUSTRALIA</td>\n",
       "      <td>New South Wales</td>\n",
       "      <td>Arrawarra Headland</td>\n",
       "      <td>Surfing</td>\n",
       "      <td>Anonymous</td>\n",
       "      <td>M</td>\n",
       "      <td>...</td>\n",
       "      <td>2 m shark</td>\n",
       "      <td>B. Myatt, GSAF</td>\n",
       "      <td>2018.06.08-Arrawarra.pdf</td>\n",
       "      <td>http://sharkattackfile.net/spreadsheets/pdf_di...</td>\n",
       "      <td>http://sharkattackfile.net/spreadsheets/pdf_di...</td>\n",
       "      <td>Jun</td>\n",
       "      <td>2018.06.08</td>\n",
       "      <td>6300.0</td>\n",
       "      <td>NaN</td>\n",
       "      <td>NaN</td>\n",
       "    </tr>\n",
       "    <tr>\n",
       "      <th>4</th>\n",
       "      <td>2018.06.04</td>\n",
       "      <td>04-Jun-2018</td>\n",
       "      <td>2018</td>\n",
       "      <td>Provoked</td>\n",
       "      <td>MEXICO</td>\n",
       "      <td>Colima</td>\n",
       "      <td>La Ticla</td>\n",
       "      <td>Free diving</td>\n",
       "      <td>Gustavo Ramos</td>\n",
       "      <td>M</td>\n",
       "      <td>...</td>\n",
       "      <td>Tiger shark, 3m</td>\n",
       "      <td>A .Kipper</td>\n",
       "      <td>2018.06.04-Ramos.pdf</td>\n",
       "      <td>http://sharkattackfile.net/spreadsheets/pdf_di...</td>\n",
       "      <td>http://sharkattackfile.net/spreadsheets/pdf_di...</td>\n",
       "      <td>Jun</td>\n",
       "      <td>2018.06.04</td>\n",
       "      <td>6299.0</td>\n",
       "      <td>NaN</td>\n",
       "      <td>NaN</td>\n",
       "    </tr>\n",
       "    <tr>\n",
       "      <th>...</th>\n",
       "      <td>...</td>\n",
       "      <td>...</td>\n",
       "      <td>...</td>\n",
       "      <td>...</td>\n",
       "      <td>...</td>\n",
       "      <td>...</td>\n",
       "      <td>...</td>\n",
       "      <td>...</td>\n",
       "      <td>...</td>\n",
       "      <td>...</td>\n",
       "      <td>...</td>\n",
       "      <td>...</td>\n",
       "      <td>...</td>\n",
       "      <td>...</td>\n",
       "      <td>...</td>\n",
       "      <td>...</td>\n",
       "      <td>...</td>\n",
       "      <td>...</td>\n",
       "      <td>...</td>\n",
       "      <td>...</td>\n",
       "      <td>...</td>\n",
       "    </tr>\n",
       "    <tr>\n",
       "      <th>6297</th>\n",
       "      <td>ND.0005</td>\n",
       "      <td>Before 1903</td>\n",
       "      <td>1903</td>\n",
       "      <td>Unprovoked</td>\n",
       "      <td>AUSTRALIA</td>\n",
       "      <td>Western Australia</td>\n",
       "      <td>Roebuck Bay</td>\n",
       "      <td>Diving</td>\n",
       "      <td>Anonymous</td>\n",
       "      <td>M</td>\n",
       "      <td>...</td>\n",
       "      <td>Other</td>\n",
       "      <td>H. Taunton; N. Bartlett,  p. 234</td>\n",
       "      <td>ND-0005-RoebuckBay.pdf</td>\n",
       "      <td>http://sharkattackfile.net/spreadsheets/pdf_di...</td>\n",
       "      <td>http://sharkattackfile.net/spreadsheets/pdf_di...</td>\n",
       "      <td>Unknown</td>\n",
       "      <td>ND.0005</td>\n",
       "      <td>6.0</td>\n",
       "      <td>NaN</td>\n",
       "      <td>NaN</td>\n",
       "    </tr>\n",
       "    <tr>\n",
       "      <th>6298</th>\n",
       "      <td>ND.0004</td>\n",
       "      <td>Before 1903</td>\n",
       "      <td>1903</td>\n",
       "      <td>Unprovoked</td>\n",
       "      <td>AUSTRALIA</td>\n",
       "      <td>Western Australia</td>\n",
       "      <td>Western Australia</td>\n",
       "      <td>Pearl diving</td>\n",
       "      <td>Ahmun</td>\n",
       "      <td>M</td>\n",
       "      <td>...</td>\n",
       "      <td>Other</td>\n",
       "      <td>H. Taunton; N. Bartlett,  pp. 233-234</td>\n",
       "      <td>ND-0004-Ahmun.pdf</td>\n",
       "      <td>http://sharkattackfile.net/spreadsheets/pdf_di...</td>\n",
       "      <td>http://sharkattackfile.net/spreadsheets/pdf_di...</td>\n",
       "      <td>Unknown</td>\n",
       "      <td>ND.0004</td>\n",
       "      <td>5.0</td>\n",
       "      <td>NaN</td>\n",
       "      <td>NaN</td>\n",
       "    </tr>\n",
       "    <tr>\n",
       "      <th>6299</th>\n",
       "      <td>ND.0003</td>\n",
       "      <td>1900-1905</td>\n",
       "      <td>1900</td>\n",
       "      <td>Unprovoked</td>\n",
       "      <td>USA</td>\n",
       "      <td>North Carolina</td>\n",
       "      <td>Ocracoke Inlet</td>\n",
       "      <td>Swimming</td>\n",
       "      <td>Coast Guard personnel</td>\n",
       "      <td>M</td>\n",
       "      <td>...</td>\n",
       "      <td>Other</td>\n",
       "      <td>F. Schwartz, p.23; C. Creswell, GSAF</td>\n",
       "      <td>ND-0003-Ocracoke_1900-1905.pdf</td>\n",
       "      <td>http://sharkattackfile.net/spreadsheets/pdf_di...</td>\n",
       "      <td>http://sharkattackfile.net/spreadsheets/pdf_di...</td>\n",
       "      <td>Unknown</td>\n",
       "      <td>ND.0003</td>\n",
       "      <td>4.0</td>\n",
       "      <td>NaN</td>\n",
       "      <td>NaN</td>\n",
       "    </tr>\n",
       "    <tr>\n",
       "      <th>6300</th>\n",
       "      <td>ND.0002</td>\n",
       "      <td>1883-1889</td>\n",
       "      <td>1883</td>\n",
       "      <td>Unprovoked</td>\n",
       "      <td>PANAMA</td>\n",
       "      <td>Panama Bay 8ºN, 79ºW</td>\n",
       "      <td>Panama Bay 8ºN, 79ºW</td>\n",
       "      <td>Other</td>\n",
       "      <td>Jules Patterson</td>\n",
       "      <td>M</td>\n",
       "      <td>...</td>\n",
       "      <td>Other</td>\n",
       "      <td>The Sun, 10/20/1938</td>\n",
       "      <td>ND-0002-JulesPatterson.pdf</td>\n",
       "      <td>http://sharkattackfile.net/spreadsheets/pdf_di...</td>\n",
       "      <td>http://sharkattackfile.net/spreadsheets/pdf_di...</td>\n",
       "      <td>Unknown</td>\n",
       "      <td>ND.0002</td>\n",
       "      <td>3.0</td>\n",
       "      <td>NaN</td>\n",
       "      <td>NaN</td>\n",
       "    </tr>\n",
       "    <tr>\n",
       "      <th>6301</th>\n",
       "      <td>ND.0001</td>\n",
       "      <td>No date</td>\n",
       "      <td>1845</td>\n",
       "      <td>Unprovoked</td>\n",
       "      <td>CEYLON (SRI LANKA)</td>\n",
       "      <td>Eastern Province</td>\n",
       "      <td>Below the English fort, Trincomalee</td>\n",
       "      <td>Swimming</td>\n",
       "      <td>Anonymous</td>\n",
       "      <td>M</td>\n",
       "      <td>...</td>\n",
       "      <td>Other</td>\n",
       "      <td>S.W. Baker</td>\n",
       "      <td>ND-0001-Ceylon.pdf</td>\n",
       "      <td>http://sharkattackfile.net/spreadsheets/pdf_di...</td>\n",
       "      <td>http://sharkattackfile.net/spreadsheets/pdf_di...</td>\n",
       "      <td>Unknown</td>\n",
       "      <td>ND.0001</td>\n",
       "      <td>2.0</td>\n",
       "      <td>NaN</td>\n",
       "      <td>NaN</td>\n",
       "    </tr>\n",
       "  </tbody>\n",
       "</table>\n",
       "<p>6298 rows × 24 columns</p>\n",
       "</div>"
      ],
      "text/plain": [
       "     Case Number         Date  Year        Type             Country   \n",
       "0     2018.06.25  25-Jun-2018  2018     Boating                 USA  \\\n",
       "1     2018.06.18  18-Jun-2018  2018  Unprovoked                 USA   \n",
       "2     2018.06.09  09-Jun-2018  2018     Invalid                 USA   \n",
       "3     2018.06.08  08-Jun-2018  2018  Unprovoked           AUSTRALIA   \n",
       "4     2018.06.04  04-Jun-2018  2018    Provoked              MEXICO   \n",
       "...          ...          ...   ...         ...                 ...   \n",
       "6297     ND.0005  Before 1903  1903  Unprovoked           AUSTRALIA   \n",
       "6298     ND.0004  Before 1903  1903  Unprovoked           AUSTRALIA   \n",
       "6299     ND.0003    1900-1905  1900  Unprovoked                 USA   \n",
       "6300     ND.0002    1883-1889  1883  Unprovoked              PANAMA   \n",
       "6301     ND.0001      No date  1845  Unprovoked  CEYLON (SRI LANKA)   \n",
       "\n",
       "                      Area                             Location      Activity   \n",
       "0               California          Oceanside, San Diego County      Paddling  \\\n",
       "1                  Georgia       St. Simon Island, Glynn County      Standing   \n",
       "2                   Hawaii                         Habush, Oahu       Surfing   \n",
       "3          New South Wales                   Arrawarra Headland       Surfing   \n",
       "4                   Colima                             La Ticla   Free diving   \n",
       "...                    ...                                  ...           ...   \n",
       "6297     Western Australia                          Roebuck Bay        Diving   \n",
       "6298     Western Australia                    Western Australia  Pearl diving   \n",
       "6299        North Carolina                       Ocracoke Inlet      Swimming   \n",
       "6300  Panama Bay 8ºN, 79ºW                 Panama Bay 8ºN, 79ºW         Other   \n",
       "6301      Eastern Province  Below the English fort, Trincomalee      Swimming   \n",
       "\n",
       "                       Name Sex  ...          Species   \n",
       "0               Julie Wolfe   F  ...      White shark  \\\n",
       "1           Adyson McNeely    F  ...            Other   \n",
       "2               John Denges   M  ...            Other   \n",
       "3                 Anonymous   M  ...        2 m shark   \n",
       "4            Gustavo Ramos    M  ...  Tiger shark, 3m   \n",
       "...                     ...  ..  ...              ...   \n",
       "6297              Anonymous   M  ...            Other   \n",
       "6298                  Ahmun   M  ...            Other   \n",
       "6299  Coast Guard personnel   M  ...            Other   \n",
       "6300        Jules Patterson   M  ...            Other   \n",
       "6301              Anonymous   M  ...            Other   \n",
       "\n",
       "                     Investigator or Source                 Case File (PDF)   \n",
       "0                          R. Collier, GSAF            2018.06.25-Wolfe.pdf  \\\n",
       "1            K.McMurray, TrackingSharks.com          2018.06.18-McNeely.pdf   \n",
       "2            K.McMurray, TrackingSharks.com           2018.06.09-Denges.pdf   \n",
       "3                            B. Myatt, GSAF        2018.06.08-Arrawarra.pdf   \n",
       "4                                 A .Kipper            2018.06.04-Ramos.pdf   \n",
       "...                                     ...                             ...   \n",
       "6297       H. Taunton; N. Bartlett,  p. 234          ND-0005-RoebuckBay.pdf   \n",
       "6298  H. Taunton; N. Bartlett,  pp. 233-234               ND-0004-Ahmun.pdf   \n",
       "6299   F. Schwartz, p.23; C. Creswell, GSAF  ND-0003-Ocracoke_1900-1905.pdf   \n",
       "6300                    The Sun, 10/20/1938      ND-0002-JulesPatterson.pdf   \n",
       "6301                             S.W. Baker              ND-0001-Ceylon.pdf   \n",
       "\n",
       "                                           href formula   \n",
       "0     http://sharkattackfile.net/spreadsheets/pdf_di...  \\\n",
       "1     http://sharkattackfile.net/spreadsheets/pdf_di...   \n",
       "2     http://sharkattackfile.net/spreadsheets/pdf_di...   \n",
       "3     http://sharkattackfile.net/spreadsheets/pdf_di...   \n",
       "4     http://sharkattackfile.net/spreadsheets/pdf_di...   \n",
       "...                                                 ...   \n",
       "6297  http://sharkattackfile.net/spreadsheets/pdf_di...   \n",
       "6298  http://sharkattackfile.net/spreadsheets/pdf_di...   \n",
       "6299  http://sharkattackfile.net/spreadsheets/pdf_di...   \n",
       "6300  http://sharkattackfile.net/spreadsheets/pdf_di...   \n",
       "6301  http://sharkattackfile.net/spreadsheets/pdf_di...   \n",
       "\n",
       "                                        Case File (URL)    Month   \n",
       "0     http://sharkattackfile.net/spreadsheets/pdf_di...      Jun  \\\n",
       "1     http://sharkattackfile.net/spreadsheets/pdf_di...      Jun   \n",
       "2     http://sharkattackfile.net/spreadsheets/pdf_di...      Jun   \n",
       "3     http://sharkattackfile.net/spreadsheets/pdf_di...      Jun   \n",
       "4     http://sharkattackfile.net/spreadsheets/pdf_di...      Jun   \n",
       "...                                                 ...      ...   \n",
       "6297  http://sharkattackfile.net/spreadsheets/pdf_di...  Unknown   \n",
       "6298  http://sharkattackfile.net/spreadsheets/pdf_di...  Unknown   \n",
       "6299  http://sharkattackfile.net/spreadsheets/pdf_di...  Unknown   \n",
       "6300  http://sharkattackfile.net/spreadsheets/pdf_di...  Unknown   \n",
       "6301  http://sharkattackfile.net/spreadsheets/pdf_di...  Unknown   \n",
       "\n",
       "     Case Number.2 original order Unnamed: 22 Unnamed: 23  \n",
       "0       2018.06.25         6303.0         NaN         NaN  \n",
       "1       2018.06.18         6302.0         NaN         NaN  \n",
       "2       2018.06.09         6301.0         NaN         NaN  \n",
       "3       2018.06.08         6300.0         NaN         NaN  \n",
       "4       2018.06.04         6299.0         NaN         NaN  \n",
       "...            ...            ...         ...         ...  \n",
       "6297       ND.0005            6.0         NaN         NaN  \n",
       "6298       ND.0004            5.0         NaN         NaN  \n",
       "6299       ND.0003            4.0         NaN         NaN  \n",
       "6300       ND.0002            3.0         NaN         NaN  \n",
       "6301       ND.0001            2.0         NaN         NaN  \n",
       "\n",
       "[6298 rows x 24 columns]"
      ]
     },
     "execution_count": 198,
     "metadata": {},
     "output_type": "execute_result"
    }
   ],
   "source": [
    "sharks.drop_duplicates(subset=list(sharks.columns))"
   ]
  },
  {
   "attachments": {},
   "cell_type": "markdown",
   "metadata": {},
   "source": [
    "Estación del año"
   ]
  },
  {
   "cell_type": "code",
   "execution_count": 199,
   "metadata": {},
   "outputs": [],
   "source": [
    "sharks = sharks.rename(columns={'Case Number.2': 'Season'})"
   ]
  },
  {
   "cell_type": "code",
   "execution_count": 200,
   "metadata": {},
   "outputs": [
    {
     "data": {
      "text/html": [
       "<div>\n",
       "<style scoped>\n",
       "    .dataframe tbody tr th:only-of-type {\n",
       "        vertical-align: middle;\n",
       "    }\n",
       "\n",
       "    .dataframe tbody tr th {\n",
       "        vertical-align: top;\n",
       "    }\n",
       "\n",
       "    .dataframe thead th {\n",
       "        text-align: right;\n",
       "    }\n",
       "</style>\n",
       "<table border=\"1\" class=\"dataframe\">\n",
       "  <thead>\n",
       "    <tr style=\"text-align: right;\">\n",
       "      <th></th>\n",
       "      <th>Case Number</th>\n",
       "      <th>Date</th>\n",
       "      <th>Year</th>\n",
       "      <th>Type</th>\n",
       "      <th>Country</th>\n",
       "      <th>Area</th>\n",
       "      <th>Location</th>\n",
       "      <th>Activity</th>\n",
       "      <th>Name</th>\n",
       "      <th>Sex</th>\n",
       "      <th>...</th>\n",
       "      <th>Species</th>\n",
       "      <th>Investigator or Source</th>\n",
       "      <th>Case File (PDF)</th>\n",
       "      <th>href formula</th>\n",
       "      <th>Case File (URL)</th>\n",
       "      <th>Month</th>\n",
       "      <th>Season</th>\n",
       "      <th>original order</th>\n",
       "      <th>Unnamed: 22</th>\n",
       "      <th>Unnamed: 23</th>\n",
       "    </tr>\n",
       "  </thead>\n",
       "  <tbody>\n",
       "    <tr>\n",
       "      <th>0</th>\n",
       "      <td>2018.06.25</td>\n",
       "      <td>25-Jun-2018</td>\n",
       "      <td>2018</td>\n",
       "      <td>Boating</td>\n",
       "      <td>USA</td>\n",
       "      <td>California</td>\n",
       "      <td>Oceanside, San Diego County</td>\n",
       "      <td>Paddling</td>\n",
       "      <td>Julie Wolfe</td>\n",
       "      <td>F</td>\n",
       "      <td>...</td>\n",
       "      <td>White shark</td>\n",
       "      <td>R. Collier, GSAF</td>\n",
       "      <td>2018.06.25-Wolfe.pdf</td>\n",
       "      <td>http://sharkattackfile.net/spreadsheets/pdf_di...</td>\n",
       "      <td>http://sharkattackfile.net/spreadsheets/pdf_di...</td>\n",
       "      <td>Jun</td>\n",
       "      <td>2018.06.25</td>\n",
       "      <td>6303.0</td>\n",
       "      <td>NaN</td>\n",
       "      <td>NaN</td>\n",
       "    </tr>\n",
       "    <tr>\n",
       "      <th>1</th>\n",
       "      <td>2018.06.18</td>\n",
       "      <td>18-Jun-2018</td>\n",
       "      <td>2018</td>\n",
       "      <td>Unprovoked</td>\n",
       "      <td>USA</td>\n",
       "      <td>Georgia</td>\n",
       "      <td>St. Simon Island, Glynn County</td>\n",
       "      <td>Standing</td>\n",
       "      <td>Adyson McNeely</td>\n",
       "      <td>F</td>\n",
       "      <td>...</td>\n",
       "      <td>Other</td>\n",
       "      <td>K.McMurray, TrackingSharks.com</td>\n",
       "      <td>2018.06.18-McNeely.pdf</td>\n",
       "      <td>http://sharkattackfile.net/spreadsheets/pdf_di...</td>\n",
       "      <td>http://sharkattackfile.net/spreadsheets/pdf_di...</td>\n",
       "      <td>Jun</td>\n",
       "      <td>2018.06.18</td>\n",
       "      <td>6302.0</td>\n",
       "      <td>NaN</td>\n",
       "      <td>NaN</td>\n",
       "    </tr>\n",
       "    <tr>\n",
       "      <th>2</th>\n",
       "      <td>2018.06.09</td>\n",
       "      <td>09-Jun-2018</td>\n",
       "      <td>2018</td>\n",
       "      <td>Invalid</td>\n",
       "      <td>USA</td>\n",
       "      <td>Hawaii</td>\n",
       "      <td>Habush, Oahu</td>\n",
       "      <td>Surfing</td>\n",
       "      <td>John Denges</td>\n",
       "      <td>M</td>\n",
       "      <td>...</td>\n",
       "      <td>Other</td>\n",
       "      <td>K.McMurray, TrackingSharks.com</td>\n",
       "      <td>2018.06.09-Denges.pdf</td>\n",
       "      <td>http://sharkattackfile.net/spreadsheets/pdf_di...</td>\n",
       "      <td>http://sharkattackfile.net/spreadsheets/pdf_di...</td>\n",
       "      <td>Jun</td>\n",
       "      <td>2018.06.09</td>\n",
       "      <td>6301.0</td>\n",
       "      <td>NaN</td>\n",
       "      <td>NaN</td>\n",
       "    </tr>\n",
       "    <tr>\n",
       "      <th>3</th>\n",
       "      <td>2018.06.08</td>\n",
       "      <td>08-Jun-2018</td>\n",
       "      <td>2018</td>\n",
       "      <td>Unprovoked</td>\n",
       "      <td>AUSTRALIA</td>\n",
       "      <td>New South Wales</td>\n",
       "      <td>Arrawarra Headland</td>\n",
       "      <td>Surfing</td>\n",
       "      <td>Anonymous</td>\n",
       "      <td>M</td>\n",
       "      <td>...</td>\n",
       "      <td>2 m shark</td>\n",
       "      <td>B. Myatt, GSAF</td>\n",
       "      <td>2018.06.08-Arrawarra.pdf</td>\n",
       "      <td>http://sharkattackfile.net/spreadsheets/pdf_di...</td>\n",
       "      <td>http://sharkattackfile.net/spreadsheets/pdf_di...</td>\n",
       "      <td>Jun</td>\n",
       "      <td>2018.06.08</td>\n",
       "      <td>6300.0</td>\n",
       "      <td>NaN</td>\n",
       "      <td>NaN</td>\n",
       "    </tr>\n",
       "    <tr>\n",
       "      <th>4</th>\n",
       "      <td>2018.06.04</td>\n",
       "      <td>04-Jun-2018</td>\n",
       "      <td>2018</td>\n",
       "      <td>Provoked</td>\n",
       "      <td>MEXICO</td>\n",
       "      <td>Colima</td>\n",
       "      <td>La Ticla</td>\n",
       "      <td>Free diving</td>\n",
       "      <td>Gustavo Ramos</td>\n",
       "      <td>M</td>\n",
       "      <td>...</td>\n",
       "      <td>Tiger shark, 3m</td>\n",
       "      <td>A .Kipper</td>\n",
       "      <td>2018.06.04-Ramos.pdf</td>\n",
       "      <td>http://sharkattackfile.net/spreadsheets/pdf_di...</td>\n",
       "      <td>http://sharkattackfile.net/spreadsheets/pdf_di...</td>\n",
       "      <td>Jun</td>\n",
       "      <td>2018.06.04</td>\n",
       "      <td>6299.0</td>\n",
       "      <td>NaN</td>\n",
       "      <td>NaN</td>\n",
       "    </tr>\n",
       "    <tr>\n",
       "      <th>...</th>\n",
       "      <td>...</td>\n",
       "      <td>...</td>\n",
       "      <td>...</td>\n",
       "      <td>...</td>\n",
       "      <td>...</td>\n",
       "      <td>...</td>\n",
       "      <td>...</td>\n",
       "      <td>...</td>\n",
       "      <td>...</td>\n",
       "      <td>...</td>\n",
       "      <td>...</td>\n",
       "      <td>...</td>\n",
       "      <td>...</td>\n",
       "      <td>...</td>\n",
       "      <td>...</td>\n",
       "      <td>...</td>\n",
       "      <td>...</td>\n",
       "      <td>...</td>\n",
       "      <td>...</td>\n",
       "      <td>...</td>\n",
       "      <td>...</td>\n",
       "    </tr>\n",
       "    <tr>\n",
       "      <th>6297</th>\n",
       "      <td>ND.0005</td>\n",
       "      <td>Before 1903</td>\n",
       "      <td>1903</td>\n",
       "      <td>Unprovoked</td>\n",
       "      <td>AUSTRALIA</td>\n",
       "      <td>Western Australia</td>\n",
       "      <td>Roebuck Bay</td>\n",
       "      <td>Diving</td>\n",
       "      <td>Anonymous</td>\n",
       "      <td>M</td>\n",
       "      <td>...</td>\n",
       "      <td>Other</td>\n",
       "      <td>H. Taunton; N. Bartlett,  p. 234</td>\n",
       "      <td>ND-0005-RoebuckBay.pdf</td>\n",
       "      <td>http://sharkattackfile.net/spreadsheets/pdf_di...</td>\n",
       "      <td>http://sharkattackfile.net/spreadsheets/pdf_di...</td>\n",
       "      <td>Unknown</td>\n",
       "      <td>ND.0005</td>\n",
       "      <td>6.0</td>\n",
       "      <td>NaN</td>\n",
       "      <td>NaN</td>\n",
       "    </tr>\n",
       "    <tr>\n",
       "      <th>6298</th>\n",
       "      <td>ND.0004</td>\n",
       "      <td>Before 1903</td>\n",
       "      <td>1903</td>\n",
       "      <td>Unprovoked</td>\n",
       "      <td>AUSTRALIA</td>\n",
       "      <td>Western Australia</td>\n",
       "      <td>Western Australia</td>\n",
       "      <td>Pearl diving</td>\n",
       "      <td>Ahmun</td>\n",
       "      <td>M</td>\n",
       "      <td>...</td>\n",
       "      <td>Other</td>\n",
       "      <td>H. Taunton; N. Bartlett,  pp. 233-234</td>\n",
       "      <td>ND-0004-Ahmun.pdf</td>\n",
       "      <td>http://sharkattackfile.net/spreadsheets/pdf_di...</td>\n",
       "      <td>http://sharkattackfile.net/spreadsheets/pdf_di...</td>\n",
       "      <td>Unknown</td>\n",
       "      <td>ND.0004</td>\n",
       "      <td>5.0</td>\n",
       "      <td>NaN</td>\n",
       "      <td>NaN</td>\n",
       "    </tr>\n",
       "    <tr>\n",
       "      <th>6299</th>\n",
       "      <td>ND.0003</td>\n",
       "      <td>1900-1905</td>\n",
       "      <td>1900</td>\n",
       "      <td>Unprovoked</td>\n",
       "      <td>USA</td>\n",
       "      <td>North Carolina</td>\n",
       "      <td>Ocracoke Inlet</td>\n",
       "      <td>Swimming</td>\n",
       "      <td>Coast Guard personnel</td>\n",
       "      <td>M</td>\n",
       "      <td>...</td>\n",
       "      <td>Other</td>\n",
       "      <td>F. Schwartz, p.23; C. Creswell, GSAF</td>\n",
       "      <td>ND-0003-Ocracoke_1900-1905.pdf</td>\n",
       "      <td>http://sharkattackfile.net/spreadsheets/pdf_di...</td>\n",
       "      <td>http://sharkattackfile.net/spreadsheets/pdf_di...</td>\n",
       "      <td>Unknown</td>\n",
       "      <td>ND.0003</td>\n",
       "      <td>4.0</td>\n",
       "      <td>NaN</td>\n",
       "      <td>NaN</td>\n",
       "    </tr>\n",
       "    <tr>\n",
       "      <th>6300</th>\n",
       "      <td>ND.0002</td>\n",
       "      <td>1883-1889</td>\n",
       "      <td>1883</td>\n",
       "      <td>Unprovoked</td>\n",
       "      <td>PANAMA</td>\n",
       "      <td>Panama Bay 8ºN, 79ºW</td>\n",
       "      <td>Panama Bay 8ºN, 79ºW</td>\n",
       "      <td>Other</td>\n",
       "      <td>Jules Patterson</td>\n",
       "      <td>M</td>\n",
       "      <td>...</td>\n",
       "      <td>Other</td>\n",
       "      <td>The Sun, 10/20/1938</td>\n",
       "      <td>ND-0002-JulesPatterson.pdf</td>\n",
       "      <td>http://sharkattackfile.net/spreadsheets/pdf_di...</td>\n",
       "      <td>http://sharkattackfile.net/spreadsheets/pdf_di...</td>\n",
       "      <td>Unknown</td>\n",
       "      <td>ND.0002</td>\n",
       "      <td>3.0</td>\n",
       "      <td>NaN</td>\n",
       "      <td>NaN</td>\n",
       "    </tr>\n",
       "    <tr>\n",
       "      <th>6301</th>\n",
       "      <td>ND.0001</td>\n",
       "      <td>No date</td>\n",
       "      <td>1845</td>\n",
       "      <td>Unprovoked</td>\n",
       "      <td>CEYLON (SRI LANKA)</td>\n",
       "      <td>Eastern Province</td>\n",
       "      <td>Below the English fort, Trincomalee</td>\n",
       "      <td>Swimming</td>\n",
       "      <td>Anonymous</td>\n",
       "      <td>M</td>\n",
       "      <td>...</td>\n",
       "      <td>Other</td>\n",
       "      <td>S.W. Baker</td>\n",
       "      <td>ND-0001-Ceylon.pdf</td>\n",
       "      <td>http://sharkattackfile.net/spreadsheets/pdf_di...</td>\n",
       "      <td>http://sharkattackfile.net/spreadsheets/pdf_di...</td>\n",
       "      <td>Unknown</td>\n",
       "      <td>ND.0001</td>\n",
       "      <td>2.0</td>\n",
       "      <td>NaN</td>\n",
       "      <td>NaN</td>\n",
       "    </tr>\n",
       "  </tbody>\n",
       "</table>\n",
       "<p>6298 rows × 24 columns</p>\n",
       "</div>"
      ],
      "text/plain": [
       "     Case Number         Date  Year        Type             Country   \n",
       "0     2018.06.25  25-Jun-2018  2018     Boating                 USA  \\\n",
       "1     2018.06.18  18-Jun-2018  2018  Unprovoked                 USA   \n",
       "2     2018.06.09  09-Jun-2018  2018     Invalid                 USA   \n",
       "3     2018.06.08  08-Jun-2018  2018  Unprovoked           AUSTRALIA   \n",
       "4     2018.06.04  04-Jun-2018  2018    Provoked              MEXICO   \n",
       "...          ...          ...   ...         ...                 ...   \n",
       "6297     ND.0005  Before 1903  1903  Unprovoked           AUSTRALIA   \n",
       "6298     ND.0004  Before 1903  1903  Unprovoked           AUSTRALIA   \n",
       "6299     ND.0003    1900-1905  1900  Unprovoked                 USA   \n",
       "6300     ND.0002    1883-1889  1883  Unprovoked              PANAMA   \n",
       "6301     ND.0001      No date  1845  Unprovoked  CEYLON (SRI LANKA)   \n",
       "\n",
       "                      Area                             Location      Activity   \n",
       "0               California          Oceanside, San Diego County      Paddling  \\\n",
       "1                  Georgia       St. Simon Island, Glynn County      Standing   \n",
       "2                   Hawaii                         Habush, Oahu       Surfing   \n",
       "3          New South Wales                   Arrawarra Headland       Surfing   \n",
       "4                   Colima                             La Ticla   Free diving   \n",
       "...                    ...                                  ...           ...   \n",
       "6297     Western Australia                          Roebuck Bay        Diving   \n",
       "6298     Western Australia                    Western Australia  Pearl diving   \n",
       "6299        North Carolina                       Ocracoke Inlet      Swimming   \n",
       "6300  Panama Bay 8ºN, 79ºW                 Panama Bay 8ºN, 79ºW         Other   \n",
       "6301      Eastern Province  Below the English fort, Trincomalee      Swimming   \n",
       "\n",
       "                       Name Sex  ...          Species   \n",
       "0               Julie Wolfe   F  ...      White shark  \\\n",
       "1           Adyson McNeely    F  ...            Other   \n",
       "2               John Denges   M  ...            Other   \n",
       "3                 Anonymous   M  ...        2 m shark   \n",
       "4            Gustavo Ramos    M  ...  Tiger shark, 3m   \n",
       "...                     ...  ..  ...              ...   \n",
       "6297              Anonymous   M  ...            Other   \n",
       "6298                  Ahmun   M  ...            Other   \n",
       "6299  Coast Guard personnel   M  ...            Other   \n",
       "6300        Jules Patterson   M  ...            Other   \n",
       "6301              Anonymous   M  ...            Other   \n",
       "\n",
       "                     Investigator or Source                 Case File (PDF)   \n",
       "0                          R. Collier, GSAF            2018.06.25-Wolfe.pdf  \\\n",
       "1            K.McMurray, TrackingSharks.com          2018.06.18-McNeely.pdf   \n",
       "2            K.McMurray, TrackingSharks.com           2018.06.09-Denges.pdf   \n",
       "3                            B. Myatt, GSAF        2018.06.08-Arrawarra.pdf   \n",
       "4                                 A .Kipper            2018.06.04-Ramos.pdf   \n",
       "...                                     ...                             ...   \n",
       "6297       H. Taunton; N. Bartlett,  p. 234          ND-0005-RoebuckBay.pdf   \n",
       "6298  H. Taunton; N. Bartlett,  pp. 233-234               ND-0004-Ahmun.pdf   \n",
       "6299   F. Schwartz, p.23; C. Creswell, GSAF  ND-0003-Ocracoke_1900-1905.pdf   \n",
       "6300                    The Sun, 10/20/1938      ND-0002-JulesPatterson.pdf   \n",
       "6301                             S.W. Baker              ND-0001-Ceylon.pdf   \n",
       "\n",
       "                                           href formula   \n",
       "0     http://sharkattackfile.net/spreadsheets/pdf_di...  \\\n",
       "1     http://sharkattackfile.net/spreadsheets/pdf_di...   \n",
       "2     http://sharkattackfile.net/spreadsheets/pdf_di...   \n",
       "3     http://sharkattackfile.net/spreadsheets/pdf_di...   \n",
       "4     http://sharkattackfile.net/spreadsheets/pdf_di...   \n",
       "...                                                 ...   \n",
       "6297  http://sharkattackfile.net/spreadsheets/pdf_di...   \n",
       "6298  http://sharkattackfile.net/spreadsheets/pdf_di...   \n",
       "6299  http://sharkattackfile.net/spreadsheets/pdf_di...   \n",
       "6300  http://sharkattackfile.net/spreadsheets/pdf_di...   \n",
       "6301  http://sharkattackfile.net/spreadsheets/pdf_di...   \n",
       "\n",
       "                                        Case File (URL)    Month      Season   \n",
       "0     http://sharkattackfile.net/spreadsheets/pdf_di...      Jun  2018.06.25  \\\n",
       "1     http://sharkattackfile.net/spreadsheets/pdf_di...      Jun  2018.06.18   \n",
       "2     http://sharkattackfile.net/spreadsheets/pdf_di...      Jun  2018.06.09   \n",
       "3     http://sharkattackfile.net/spreadsheets/pdf_di...      Jun  2018.06.08   \n",
       "4     http://sharkattackfile.net/spreadsheets/pdf_di...      Jun  2018.06.04   \n",
       "...                                                 ...      ...         ...   \n",
       "6297  http://sharkattackfile.net/spreadsheets/pdf_di...  Unknown     ND.0005   \n",
       "6298  http://sharkattackfile.net/spreadsheets/pdf_di...  Unknown     ND.0004   \n",
       "6299  http://sharkattackfile.net/spreadsheets/pdf_di...  Unknown     ND.0003   \n",
       "6300  http://sharkattackfile.net/spreadsheets/pdf_di...  Unknown     ND.0002   \n",
       "6301  http://sharkattackfile.net/spreadsheets/pdf_di...  Unknown     ND.0001   \n",
       "\n",
       "     original order Unnamed: 22 Unnamed: 23  \n",
       "0            6303.0         NaN         NaN  \n",
       "1            6302.0         NaN         NaN  \n",
       "2            6301.0         NaN         NaN  \n",
       "3            6300.0         NaN         NaN  \n",
       "4            6299.0         NaN         NaN  \n",
       "...             ...         ...         ...  \n",
       "6297            6.0         NaN         NaN  \n",
       "6298            5.0         NaN         NaN  \n",
       "6299            4.0         NaN         NaN  \n",
       "6300            3.0         NaN         NaN  \n",
       "6301            2.0         NaN         NaN  \n",
       "\n",
       "[6298 rows x 24 columns]"
      ]
     },
     "execution_count": 200,
     "metadata": {},
     "output_type": "execute_result"
    }
   ],
   "source": [
    "sharks"
   ]
  },
  {
   "cell_type": "code",
   "execution_count": 201,
   "metadata": {},
   "outputs": [],
   "source": [
    "def get_season(month):\n",
    "    if month in ['Dec', 'Jan', 'Feb']:\n",
    "        return 'Winter'\n",
    "    elif month in ['Mar', 'Apr', 'May']:\n",
    "        return 'Spring'\n",
    "    elif month in ['Jun', 'Jul', 'Aug']:\n",
    "        return 'Summer'\n",
    "    elif month in ['Sep', 'Oct', 'Nov']:\n",
    "        return 'Autumn'\n",
    "    else:\n",
    "        return 'Unknown'\n",
    "\n",
    "# Aplicar la función a la columna Month y asignar el resultado a la columna Season\n",
    "sharks['Season'] = sharks['Month'].apply(get_season)"
   ]
  },
  {
   "cell_type": "code",
   "execution_count": 202,
   "metadata": {},
   "outputs": [
    {
     "data": {
      "text/plain": [
       "0        Summer\n",
       "1        Summer\n",
       "2        Summer\n",
       "3        Summer\n",
       "4        Summer\n",
       "         ...   \n",
       "6297    Unknown\n",
       "6298    Unknown\n",
       "6299    Unknown\n",
       "6300    Unknown\n",
       "6301    Unknown\n",
       "Name: Season, Length: 6298, dtype: object"
      ]
     },
     "execution_count": 202,
     "metadata": {},
     "output_type": "execute_result"
    }
   ],
   "source": [
    "sharks['Season']"
   ]
  },
  {
   "attachments": {},
   "cell_type": "markdown",
   "metadata": {},
   "source": [
    "Week day"
   ]
  },
  {
   "cell_type": "code",
   "execution_count": 203,
   "metadata": {},
   "outputs": [
    {
     "data": {
      "text/plain": [
       "0       None\n",
       "1       None\n",
       "2       None\n",
       "3       None\n",
       "4       None\n",
       "        ... \n",
       "6297    None\n",
       "6298    None\n",
       "6299    None\n",
       "6300    None\n",
       "6301    None\n",
       "Name: Week Day, Length: 6298, dtype: object"
      ]
     },
     "execution_count": 203,
     "metadata": {},
     "output_type": "execute_result"
    }
   ],
   "source": [
    "sharks = sharks.rename(columns={'href formula': 'Week Day'})\n",
    "\n",
    "sharks['Week Day'] = None\n",
    "\n",
    "sharks['Week Day']\n"
   ]
  },
  {
   "cell_type": "code",
   "execution_count": 204,
   "metadata": {},
   "outputs": [],
   "source": [
    "#que toda la columna lleve este valor\n",
    "#cuando encuentre de la columan date los que cumplen con el formato\n",
    "#saco que día de la semana es \n",
    "\n",
    "sharks['Week Day'] = sharks['Week Day'].fillna('unknown')\n"
   ]
  },
  {
   "cell_type": "code",
   "execution_count": 205,
   "metadata": {},
   "outputs": [],
   "source": [
    "#Para cada fila, intenta convertir el valor de la columna \"Date\" a un objeto datetime usando el formato \"%d-%b-%Y\".\n",
    "#Si esto es exitoso, establece el valor de la columna \"Week Day\" en el día de la semana correspondiente. \n",
    "#Si no es exitoso, la columna \"Week Day\" ya está configurada en \"unknown\".\n",
    "\n",
    "\n",
    "for i, row in sharks.iterrows():\n",
    "    try:\n",
    "        date = pd.to_datetime(row['Date'], format='%d-%b-%Y')\n",
    "        sharks.loc[i, 'Week Day'] = date.strftime('%A')\n",
    "    except ValueError:\n",
    "        pass"
   ]
  },
  {
   "cell_type": "code",
   "execution_count": 206,
   "metadata": {},
   "outputs": [],
   "source": [
    "sharks['Week Day'];"
   ]
  },
  {
   "cell_type": "code",
   "execution_count": 207,
   "metadata": {},
   "outputs": [
    {
     "data": {
      "text/plain": [
       "Index(['Case Number', 'Date', 'Year', 'Type', 'Country', 'Area', 'Location',\n",
       "       'Activity', 'Name', 'Sex', 'Age', 'Injury', 'Fatal', 'Time', 'Species',\n",
       "       'Investigator or Source', 'Case File (PDF)', 'Week Day',\n",
       "       'Case File (URL)', 'Month', 'Season', 'original order', 'Unnamed: 22',\n",
       "       'Unnamed: 23'],\n",
       "      dtype='object')"
      ]
     },
     "execution_count": 207,
     "metadata": {},
     "output_type": "execute_result"
    }
   ],
   "source": [
    "sharks.columns"
   ]
  },
  {
   "attachments": {},
   "cell_type": "markdown",
   "metadata": {},
   "source": [
    "Convierto una columna en el indice del dataframe"
   ]
  },
  {
   "cell_type": "code",
   "execution_count": 210,
   "metadata": {},
   "outputs": [],
   "source": [
    "sharks = sharks.rename(columns={'Unnamed: 22': 'Index'})\n",
    "\n",
    "sharks['Index'] = range(1, len(sharks) + 1)\n",
    "\n",
    "sharks = sharks.set_index('Index')"
   ]
  },
  {
   "cell_type": "code",
   "execution_count": 212,
   "metadata": {},
   "outputs": [
    {
     "data": {
      "text/html": [
       "<div>\n",
       "<style scoped>\n",
       "    .dataframe tbody tr th:only-of-type {\n",
       "        vertical-align: middle;\n",
       "    }\n",
       "\n",
       "    .dataframe tbody tr th {\n",
       "        vertical-align: top;\n",
       "    }\n",
       "\n",
       "    .dataframe thead th {\n",
       "        text-align: right;\n",
       "    }\n",
       "</style>\n",
       "<table border=\"1\" class=\"dataframe\">\n",
       "  <thead>\n",
       "    <tr style=\"text-align: right;\">\n",
       "      <th></th>\n",
       "      <th>Case Number</th>\n",
       "      <th>Date</th>\n",
       "      <th>Year</th>\n",
       "      <th>Type</th>\n",
       "      <th>Country</th>\n",
       "      <th>Area</th>\n",
       "      <th>Location</th>\n",
       "      <th>Activity</th>\n",
       "      <th>Name</th>\n",
       "      <th>Sex</th>\n",
       "      <th>...</th>\n",
       "      <th>Time</th>\n",
       "      <th>Species</th>\n",
       "      <th>Investigator or Source</th>\n",
       "      <th>Case File (PDF)</th>\n",
       "      <th>Week Day</th>\n",
       "      <th>Case File (URL)</th>\n",
       "      <th>Month</th>\n",
       "      <th>Season</th>\n",
       "      <th>original order</th>\n",
       "      <th>Unnamed: 23</th>\n",
       "    </tr>\n",
       "    <tr>\n",
       "      <th>Index</th>\n",
       "      <th></th>\n",
       "      <th></th>\n",
       "      <th></th>\n",
       "      <th></th>\n",
       "      <th></th>\n",
       "      <th></th>\n",
       "      <th></th>\n",
       "      <th></th>\n",
       "      <th></th>\n",
       "      <th></th>\n",
       "      <th></th>\n",
       "      <th></th>\n",
       "      <th></th>\n",
       "      <th></th>\n",
       "      <th></th>\n",
       "      <th></th>\n",
       "      <th></th>\n",
       "      <th></th>\n",
       "      <th></th>\n",
       "      <th></th>\n",
       "      <th></th>\n",
       "    </tr>\n",
       "  </thead>\n",
       "  <tbody>\n",
       "    <tr>\n",
       "      <th>1</th>\n",
       "      <td>2018.06.25</td>\n",
       "      <td>25-Jun-2018</td>\n",
       "      <td>2018</td>\n",
       "      <td>Boating</td>\n",
       "      <td>USA</td>\n",
       "      <td>California</td>\n",
       "      <td>Oceanside, San Diego County</td>\n",
       "      <td>Paddling</td>\n",
       "      <td>Julie Wolfe</td>\n",
       "      <td>F</td>\n",
       "      <td>...</td>\n",
       "      <td>18h00</td>\n",
       "      <td>White shark</td>\n",
       "      <td>R. Collier, GSAF</td>\n",
       "      <td>2018.06.25-Wolfe.pdf</td>\n",
       "      <td>Monday</td>\n",
       "      <td>http://sharkattackfile.net/spreadsheets/pdf_di...</td>\n",
       "      <td>Jun</td>\n",
       "      <td>Summer</td>\n",
       "      <td>6303.0</td>\n",
       "      <td>NaN</td>\n",
       "    </tr>\n",
       "    <tr>\n",
       "      <th>2</th>\n",
       "      <td>2018.06.18</td>\n",
       "      <td>18-Jun-2018</td>\n",
       "      <td>2018</td>\n",
       "      <td>Unprovoked</td>\n",
       "      <td>USA</td>\n",
       "      <td>Georgia</td>\n",
       "      <td>St. Simon Island, Glynn County</td>\n",
       "      <td>Standing</td>\n",
       "      <td>Adyson McNeely</td>\n",
       "      <td>F</td>\n",
       "      <td>...</td>\n",
       "      <td>14h00  -15h00</td>\n",
       "      <td>Other</td>\n",
       "      <td>K.McMurray, TrackingSharks.com</td>\n",
       "      <td>2018.06.18-McNeely.pdf</td>\n",
       "      <td>Monday</td>\n",
       "      <td>http://sharkattackfile.net/spreadsheets/pdf_di...</td>\n",
       "      <td>Jun</td>\n",
       "      <td>Summer</td>\n",
       "      <td>6302.0</td>\n",
       "      <td>NaN</td>\n",
       "    </tr>\n",
       "    <tr>\n",
       "      <th>3</th>\n",
       "      <td>2018.06.09</td>\n",
       "      <td>09-Jun-2018</td>\n",
       "      <td>2018</td>\n",
       "      <td>Invalid</td>\n",
       "      <td>USA</td>\n",
       "      <td>Hawaii</td>\n",
       "      <td>Habush, Oahu</td>\n",
       "      <td>Surfing</td>\n",
       "      <td>John Denges</td>\n",
       "      <td>M</td>\n",
       "      <td>...</td>\n",
       "      <td>07h45</td>\n",
       "      <td>Other</td>\n",
       "      <td>K.McMurray, TrackingSharks.com</td>\n",
       "      <td>2018.06.09-Denges.pdf</td>\n",
       "      <td>Saturday</td>\n",
       "      <td>http://sharkattackfile.net/spreadsheets/pdf_di...</td>\n",
       "      <td>Jun</td>\n",
       "      <td>Summer</td>\n",
       "      <td>6301.0</td>\n",
       "      <td>NaN</td>\n",
       "    </tr>\n",
       "    <tr>\n",
       "      <th>4</th>\n",
       "      <td>2018.06.08</td>\n",
       "      <td>08-Jun-2018</td>\n",
       "      <td>2018</td>\n",
       "      <td>Unprovoked</td>\n",
       "      <td>AUSTRALIA</td>\n",
       "      <td>New South Wales</td>\n",
       "      <td>Arrawarra Headland</td>\n",
       "      <td>Surfing</td>\n",
       "      <td>Anonymous</td>\n",
       "      <td>M</td>\n",
       "      <td>...</td>\n",
       "      <td>Unknown</td>\n",
       "      <td>2 m shark</td>\n",
       "      <td>B. Myatt, GSAF</td>\n",
       "      <td>2018.06.08-Arrawarra.pdf</td>\n",
       "      <td>Friday</td>\n",
       "      <td>http://sharkattackfile.net/spreadsheets/pdf_di...</td>\n",
       "      <td>Jun</td>\n",
       "      <td>Summer</td>\n",
       "      <td>6300.0</td>\n",
       "      <td>NaN</td>\n",
       "    </tr>\n",
       "    <tr>\n",
       "      <th>5</th>\n",
       "      <td>2018.06.04</td>\n",
       "      <td>04-Jun-2018</td>\n",
       "      <td>2018</td>\n",
       "      <td>Provoked</td>\n",
       "      <td>MEXICO</td>\n",
       "      <td>Colima</td>\n",
       "      <td>La Ticla</td>\n",
       "      <td>Free diving</td>\n",
       "      <td>Gustavo Ramos</td>\n",
       "      <td>M</td>\n",
       "      <td>...</td>\n",
       "      <td>Unknown</td>\n",
       "      <td>Tiger shark, 3m</td>\n",
       "      <td>A .Kipper</td>\n",
       "      <td>2018.06.04-Ramos.pdf</td>\n",
       "      <td>Monday</td>\n",
       "      <td>http://sharkattackfile.net/spreadsheets/pdf_di...</td>\n",
       "      <td>Jun</td>\n",
       "      <td>Summer</td>\n",
       "      <td>6299.0</td>\n",
       "      <td>NaN</td>\n",
       "    </tr>\n",
       "  </tbody>\n",
       "</table>\n",
       "<p>5 rows × 23 columns</p>\n",
       "</div>"
      ],
      "text/plain": [
       "      Case Number         Date  Year        Type    Country             Area   \n",
       "Index                                                                          \n",
       "1      2018.06.25  25-Jun-2018  2018     Boating        USA       California  \\\n",
       "2      2018.06.18  18-Jun-2018  2018  Unprovoked        USA          Georgia   \n",
       "3      2018.06.09  09-Jun-2018  2018     Invalid        USA           Hawaii   \n",
       "4      2018.06.08  08-Jun-2018  2018  Unprovoked  AUSTRALIA  New South Wales   \n",
       "5      2018.06.04  04-Jun-2018  2018    Provoked     MEXICO           Colima   \n",
       "\n",
       "                             Location     Activity             Name Sex  ...   \n",
       "Index                                                                    ...   \n",
       "1         Oceanside, San Diego County     Paddling      Julie Wolfe   F  ...  \\\n",
       "2      St. Simon Island, Glynn County     Standing  Adyson McNeely    F  ...   \n",
       "3                        Habush, Oahu      Surfing      John Denges   M  ...   \n",
       "4                  Arrawarra Headland      Surfing        Anonymous   M  ...   \n",
       "5                            La Ticla  Free diving   Gustavo Ramos    M  ...   \n",
       "\n",
       "                Time          Species          Investigator or Source   \n",
       "Index                                                                   \n",
       "1              18h00      White shark                R. Collier, GSAF  \\\n",
       "2      14h00  -15h00            Other  K.McMurray, TrackingSharks.com   \n",
       "3              07h45            Other  K.McMurray, TrackingSharks.com   \n",
       "4            Unknown        2 m shark                  B. Myatt, GSAF   \n",
       "5            Unknown  Tiger shark, 3m                       A .Kipper   \n",
       "\n",
       "                Case File (PDF)  Week Day   \n",
       "Index                                       \n",
       "1          2018.06.25-Wolfe.pdf    Monday  \\\n",
       "2        2018.06.18-McNeely.pdf    Monday   \n",
       "3         2018.06.09-Denges.pdf  Saturday   \n",
       "4      2018.06.08-Arrawarra.pdf    Friday   \n",
       "5          2018.06.04-Ramos.pdf    Monday   \n",
       "\n",
       "                                         Case File (URL) Month  Season   \n",
       "Index                                                                    \n",
       "1      http://sharkattackfile.net/spreadsheets/pdf_di...   Jun  Summer  \\\n",
       "2      http://sharkattackfile.net/spreadsheets/pdf_di...   Jun  Summer   \n",
       "3      http://sharkattackfile.net/spreadsheets/pdf_di...   Jun  Summer   \n",
       "4      http://sharkattackfile.net/spreadsheets/pdf_di...   Jun  Summer   \n",
       "5      http://sharkattackfile.net/spreadsheets/pdf_di...   Jun  Summer   \n",
       "\n",
       "      original order Unnamed: 23  \n",
       "Index                             \n",
       "1             6303.0         NaN  \n",
       "2             6302.0         NaN  \n",
       "3             6301.0         NaN  \n",
       "4             6300.0         NaN  \n",
       "5             6299.0         NaN  \n",
       "\n",
       "[5 rows x 23 columns]"
      ]
     },
     "execution_count": 212,
     "metadata": {},
     "output_type": "execute_result"
    }
   ],
   "source": [
    "sharks.head()"
   ]
  },
  {
   "cell_type": "code",
   "execution_count": null,
   "metadata": {},
   "outputs": [],
   "source": []
  },
  {
   "attachments": {},
   "cell_type": "markdown",
   "metadata": {},
   "source": [
    "Que tan dificil sería hacer una columna con el continente "
   ]
  },
  {
   "cell_type": "code",
   "execution_count": 230,
   "metadata": {},
   "outputs": [
    {
     "data": {
      "text/plain": [
       "Country\n",
       "USA                 2229\n",
       "Australia           1335\n",
       "South Africa         579\n",
       "Papua New Guinea     134\n",
       "New Zealand          128\n",
       "Brazil               112\n",
       "Bahamas              109\n",
       "Mexico                89\n",
       "Italy                 71\n",
       "Fiji                  65\n",
       "Philippines           61\n",
       "Reunion               60\n",
       "New Caledonia         53\n",
       "Unknown               50\n",
       "Cuba                  46\n",
       "Mozambique            45\n",
       "Spain                 44\n",
       "India                 40\n",
       "Egypt                 38\n",
       "Croatia               34\n",
       "Japan                 34\n",
       "Panama                32\n",
       "Solomon Islands       30\n",
       "Iran                  29\n",
       "Jamaica               27\n",
       "Greece                25\n",
       "French Polynesia      25\n",
       "Hong Kong             24\n",
       "Indonesia             23\n",
       "England               22\n",
       "Name: count, dtype: int64"
      ]
     },
     "execution_count": 230,
     "metadata": {},
     "output_type": "execute_result"
    }
   ],
   "source": [
    "sharks['Country'].value_counts()\n",
    "\n",
    "sharks['Country'] = sharks['Country'].replace('Usa', 'USA')\n",
    "paises = sharks['Country'].value_counts()\n",
    "paises[paises>20]"
   ]
  },
  {
   "cell_type": "code",
   "execution_count": 234,
   "metadata": {},
   "outputs": [],
   "source": [
    "#voy a hacerlo para los que se repiten más de 20 veces\n",
    "\n",
    "paises_mas_10 = list(paises[paises>10].index)\n",
    "\n",
    "paises_mas_10;\n"
   ]
  },
  {
   "cell_type": "code",
   "execution_count": 235,
   "metadata": {},
   "outputs": [],
   "source": [
    "continents = {'USA': 'North America',\n",
    "              'Australia': 'Oceania',\n",
    "              'South Africa': 'Africa',\n",
    "              'Papua New Guinea': 'Oceania',\n",
    "              'New Zealand': 'Oceania',\n",
    "              'Brazil': 'South America',\n",
    "              'Bahamas': 'North America',\n",
    "              'Mexico': 'North America',\n",
    "              'Italy': 'Europe',\n",
    "              'Fiji': 'Oceania',\n",
    "              'Philippines': 'Asia',\n",
    "              'Reunion': 'Africa',\n",
    "              'New Caledonia': 'Oceania',\n",
    "              'Unknown': 'Unknown',\n",
    "              'Cuba': 'North America',\n",
    "              'Mozambique': 'Africa',\n",
    "              'Spain': 'Europe',\n",
    "              'India': 'Asia',\n",
    "              'Egypt': 'Africa',\n",
    "              'Croatia': 'Europe',\n",
    "              'Japan': 'Asia',\n",
    "              'Panama': 'North America',\n",
    "              'Solomon Islands': 'Oceania',\n",
    "              'Iran': 'Asia',\n",
    "              'Jamaica': 'North America',\n",
    "              'Greece': 'Europe',\n",
    "              'French Polynesia': 'Oceania',\n",
    "              'Hong Kong': 'Asia',\n",
    "              'Indonesia': 'Asia',\n",
    "              'England': 'Europe',\n",
    "              'Costa Rica': 'North America',\n",
    "              'Atlantic Ocean': 'Unknown',\n",
    "              'Pacific Ocean': 'Unknown',\n",
    "              'Bermuda': 'North America',\n",
    "              'Vietnam': 'Asia',\n",
    "              'Tonga': 'Oceania',\n",
    "              'Vanuatu': 'Oceania',\n",
    "              'Sri Lanka': 'Asia',\n",
    "              'France': 'Europe',\n",
    "              'Marshall Islands': 'Oceania',\n",
    "              'Turkey': 'Asia',\n",
    "              'Canada': 'North America',\n",
    "              'South Atlantic Ocean': 'Unknown',\n",
    "              'Iraq': 'Asia',\n",
    "              'Venezuela': 'South America',\n",
    "              'United Kingdom': 'Europe',\n",
    "              'Senegal': 'Africa'\n",
    "              }\n"
   ]
  },
  {
   "cell_type": "code",
   "execution_count": 236,
   "metadata": {},
   "outputs": [],
   "source": [
    "sharks = sharks.rename(columns={'Unnamed: 23': 'Continent'})\n",
    "\n",
    "sharks['Continent'] = sharks['Country'].map(continents)\n",
    "\n",
    "sharks['Continent'] = sharks['Continent'].fillna('Unknown')\n"
   ]
  },
  {
   "cell_type": "code",
   "execution_count": 238,
   "metadata": {},
   "outputs": [],
   "source": [
    "sharks.head();"
   ]
  },
  {
   "attachments": {},
   "cell_type": "markdown",
   "metadata": {},
   "source": [
    "Limpieza de Area y Location:"
   ]
  },
  {
   "cell_type": "code",
   "execution_count": null,
   "metadata": {},
   "outputs": [],
   "source": [
    "sharks['Area'] = sharks['Area'].str.title()\n",
    "sharks['Location'] = sharks['Location'].str.title()"
   ]
  },
  {
   "cell_type": "code",
   "execution_count": 243,
   "metadata": {},
   "outputs": [],
   "source": [
    "local = sharks['Location'].value_counts()\n",
    "local_rep = list(local[local>5].index)\n",
    "\n",
    "local_rep;"
   ]
  },
  {
   "attachments": {},
   "cell_type": "markdown",
   "metadata": {},
   "source": [
    "A que mar pertenece cada uno de los ataques "
   ]
  },
  {
   "cell_type": "code",
   "execution_count": 244,
   "metadata": {},
   "outputs": [],
   "source": [
    "sharks = sharks.rename(columns={'original order': 'Sea'})"
   ]
  },
  {
   "cell_type": "code",
   "execution_count": 246,
   "metadata": {},
   "outputs": [],
   "source": [
    "seas = {\n",
    "'Unknown': 'Unknown',\n",
    "'New Smyrna Beach, Volusia County': 'Atlantic Ocean',\n",
    "'Daytona Beach, Volusia County': 'Atlantic Ocean',\n",
    "'Ponce Inlet, Volusia County': 'Atlantic Ocean',\n",
    "'Melbourne Beach, Brevard County': 'Atlantic Ocean',\n",
    "'Myrtle Beach, Horry County': 'Atlantic Ocean',\n",
    "'Durban': 'Indian Ocean',\n",
    "'Boa Viagem, Recife': 'Atlantic Ocean',\n",
    "'Isle of Palms, Charleston County': 'Atlantic Ocean',\n",
    "'Torres Strait': 'Pacific Ocean',\n",
    "'Ponce Inlet, New Smyrna Beach, Volusia County': 'Atlantic Ocean',\n",
    "'Hawaii': 'Pacific Ocean',\n",
    "'Florida': 'Atlantic Ocean',\n",
    "'Cocoa Beach, Brevard County': 'Atlantic Ocean',\n",
    "'Ormond Beach, Volusia County': 'Atlantic Ocean',\n",
    "'Piedade': 'Atlantic Ocean',\n",
    "'Palm Beach, Palm Beach County': 'Atlantic Ocean',\n",
    "'Mossel Bay': 'Indian Ocean',\n",
    "'Ahvaz, on the Karun River': 'Persian Gulf',\n",
    "'Sydney Harbor': 'Pacific Ocean',\n",
    "'Sydney': 'Pacific Ocean',\n",
    "'Nahoon': 'Indian Ocean',\n",
    "'Singer Island, Riviera Beach, Palm Beach County': 'Atlantic Ocean',\n",
    "'Xai Xai': 'Indian Ocean',\n",
    "'Jacksonville Beach, Duval County': 'Atlantic Ocean',\n",
    "'North Beach, Durban': 'Indian Ocean',\n",
    "'Havana Harbor': 'Atlantic Ocean',\n",
    "'Juno Beach, Palm Beach County': 'Atlantic Ocean',\n",
    "'Brisbane River': 'Pacific Ocean',\n",
    "'Near Thursday Island': 'Pacific Ocean',\n",
    "'Florida Keys, Monroe County': 'Atlantic Ocean',\n",
    "'Nahoon, East London': 'Indian Ocean',\n",
    "'Boa Viagem Beach, Recife': 'Atlantic Ocean',\n",
    "'Moreton Bay': 'Pacific Ocean',\n",
    "'Amanzimtoti': 'Indian Ocean',\n",
    "'Florida Keys': 'Atlantic Ocean',\n",
    "'False Bay': 'Atlantic Ocean',\n",
    "'Vero Beach, Indian River County': 'Atlantic Ocean',\n",
    "'Country Club Beach, Durban': 'Indian Ocean',\n",
    "'Port Said': 'Mediterranean Sea',\n",
    "'Sanibel Island, Lee County': 'Gulf of Mexico',\n",
    "'Thursday Island': 'Pacific Ocean',\n",
    "'Quy Nhon ': 'South China Sea',\n",
    "'Folly Beach, Charleston County': 'Atlantic Ocean',\n",
    "'New South Wales': 'Pacific Ocean',\n",
    "'Port Alfred': 'Indian Ocean',\n",
    "'Plettenberg Bay': 'Indian Ocean',\n",
    "'Pensacola Bay, Escambia County': 'Gulf of Mexico',\n",
    "'Riviera Beach, Palm Beach County': 'Atlantic Ocean',\n",
    "'Charleston': 'Atlantic Ocean',\n",
    "'Jacksonville, Duval County': 'Atlantic Ocean',\n",
    "'Mirs Bay ': 'Pacific Ocean',\n",
    "'Ross River, Townsville': 'Pacific Ocean',\n",
    "'Bunbury': 'Indian Ocean',\n",
    "'Bondi': 'Pacific Ocean',\n",
    "'Brisbane': 'Pacific Ocean',\n",
    "'Townsville': 'Pacific Ocean',\n",
    "'Coogee': 'Pacific Ocean',\n",
    "'Great Barrier Reef': 'Pacific Ocean',\n",
    "'Key West, Monroe County': 'Gulf of Mexico',\n",
    "'Shatt-al-Arab River': 'Persian Gulf',\n",
    "'Jensen Beach, Martin County': 'Atlantic Ocean'}"
   ]
  },
  {
   "cell_type": "code",
   "execution_count": 248,
   "metadata": {},
   "outputs": [],
   "source": [
    "sharks['Sea'] = sharks['Country'].map(seas)\n",
    "\n",
    "sharks['Sea'] = sharks['Sea'].fillna('Unknown')"
   ]
  },
  {
   "attachments": {},
   "cell_type": "markdown",
   "metadata": {},
   "source": [
    "Cambiar el orden de las columnas"
   ]
  },
  {
   "cell_type": "code",
   "execution_count": 249,
   "metadata": {},
   "outputs": [
    {
     "data": {
      "text/plain": [
       "Index(['Case Number', 'Date', 'Year', 'Type', 'Country', 'Area', 'Location',\n",
       "       'Activity', 'Name', 'Sex', 'Age', 'Injury', 'Fatal', 'Time', 'Species',\n",
       "       'Investigator or Source', 'Case File (PDF)', 'Week Day',\n",
       "       'Case File (URL)', 'Month', 'Season', 'Sea', 'Continent'],\n",
       "      dtype='object')"
      ]
     },
     "execution_count": 249,
     "metadata": {},
     "output_type": "execute_result"
    }
   ],
   "source": [
    "sharks.columns"
   ]
  },
  {
   "cell_type": "code",
   "execution_count": 250,
   "metadata": {},
   "outputs": [],
   "source": [
    "column_order = ['Case Number','Year', 'Country','Month', 'Fatal', 'Name', 'Sex', 'Age', 'Injury', 'Time', 'Species','Continent','Sea','Area', 'Location', \n",
    "        'Week Day','Date' , 'Season','Activity','Investigator or Source', 'Case File (PDF)','Case File (URL)','Type']\n",
    "shaeks = sharks.reindex(columns=column_order)"
   ]
  },
  {
   "attachments": {},
   "cell_type": "markdown",
   "metadata": {},
   "source": [
    "Análisis\n",
    "\n",
    "- Relación entre actividad y lesión o si hubo muerte\n",
    "- Temporada en la que más ataques se produzcan\n",
    "- Frecuencia de ataques por país\n",
    "- Especies que produzcan más accidentes fatales\n"
   ]
  },
  {
   "cell_type": "markdown",
   "metadata": {},
   "source": []
  },
  {
   "cell_type": "code",
   "execution_count": null,
   "metadata": {},
   "outputs": [],
   "source": []
  },
  {
   "cell_type": "code",
   "execution_count": null,
   "metadata": {},
   "outputs": [],
   "source": []
  },
  {
   "cell_type": "markdown",
   "metadata": {},
   "source": []
  }
 ],
 "metadata": {
  "kernelspec": {
   "display_name": "Python 3",
   "language": "python",
   "name": "python3"
  },
  "language_info": {
   "codemirror_mode": {
    "name": "ipython",
    "version": 3
   },
   "file_extension": ".py",
   "mimetype": "text/x-python",
   "name": "python",
   "nbconvert_exporter": "python",
   "pygments_lexer": "ipython3",
   "version": "3.10.11"
  },
  "orig_nbformat": 4
 },
 "nbformat": 4,
 "nbformat_minor": 2
}
