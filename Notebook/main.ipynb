{
 "cells": [
  {
   "attachments": {},
   "cell_type": "markdown",
   "metadata": {},
   "source": [
    "Required Libraries"
   ]
  },
  {
   "cell_type": "code",
   "execution_count": 472,
   "metadata": {},
   "outputs": [],
   "source": [
    "import pandas as pd\n",
    "import numpy as np\n",
    "from datetime import datetime"
   ]
  },
  {
   "attachments": {},
   "cell_type": "markdown",
   "metadata": {},
   "source": [
    "Import data set"
   ]
  },
  {
   "cell_type": "code",
   "execution_count": 473,
   "metadata": {},
   "outputs": [],
   "source": [
    "sharks = pd.read_csv('../data/attacks.csv', encoding='ISO-8859-1')\n",
    "sharks.head();"
   ]
  },
  {
   "attachments": {},
   "cell_type": "markdown",
   "metadata": {},
   "source": [
    "Exploración Inicial"
   ]
  },
  {
   "cell_type": "code",
   "execution_count": 474,
   "metadata": {},
   "outputs": [
    {
     "name": "stdout",
     "output_type": "stream",
     "text": [
      "<class 'pandas.core.frame.DataFrame'>\n",
      "RangeIndex: 25723 entries, 0 to 25722\n",
      "Data columns (total 24 columns):\n",
      " #   Column                  Non-Null Count  Dtype  \n",
      "---  ------                  --------------  -----  \n",
      " 0   Case Number             8702 non-null   object \n",
      " 1   Date                    6302 non-null   object \n",
      " 2   Year                    6300 non-null   float64\n",
      " 3   Type                    6298 non-null   object \n",
      " 4   Country                 6252 non-null   object \n",
      " 5   Area                    5847 non-null   object \n",
      " 6   Location                5762 non-null   object \n",
      " 7   Activity                5758 non-null   object \n",
      " 8   Name                    6092 non-null   object \n",
      " 9   Sex                     5737 non-null   object \n",
      " 10  Age                     3471 non-null   object \n",
      " 11  Injury                  6274 non-null   object \n",
      " 12  Fatal (Y/N)             5763 non-null   object \n",
      " 13  Time                    2948 non-null   object \n",
      " 14  Species                 3464 non-null   object \n",
      " 15  Investigator or Source  6285 non-null   object \n",
      " 16  pdf                     6302 non-null   object \n",
      " 17  href formula            6301 non-null   object \n",
      " 18  href                    6302 non-null   object \n",
      " 19  Case Number.1           6302 non-null   object \n",
      " 20  Case Number.2           6302 non-null   object \n",
      " 21  original order          6309 non-null   float64\n",
      " 22  Unnamed: 22             1 non-null      object \n",
      " 23  Unnamed: 23             2 non-null      object \n",
      "dtypes: float64(2), object(22)\n",
      "memory usage: 22.8 MB\n"
     ]
    }
   ],
   "source": [
    "sharks.info(memory_usage='deep')"
   ]
  },
  {
   "cell_type": "code",
   "execution_count": 475,
   "metadata": {},
   "outputs": [
    {
     "data": {
      "text/html": [
       "<div>\n",
       "<style scoped>\n",
       "    .dataframe tbody tr th:only-of-type {\n",
       "        vertical-align: middle;\n",
       "    }\n",
       "\n",
       "    .dataframe tbody tr th {\n",
       "        vertical-align: top;\n",
       "    }\n",
       "\n",
       "    .dataframe thead th {\n",
       "        text-align: right;\n",
       "    }\n",
       "</style>\n",
       "<table border=\"1\" class=\"dataframe\">\n",
       "  <thead>\n",
       "    <tr style=\"text-align: right;\">\n",
       "      <th></th>\n",
       "      <th>count</th>\n",
       "      <th>unique</th>\n",
       "      <th>top</th>\n",
       "      <th>freq</th>\n",
       "    </tr>\n",
       "  </thead>\n",
       "  <tbody>\n",
       "    <tr>\n",
       "      <th>Case Number</th>\n",
       "      <td>8702</td>\n",
       "      <td>6287</td>\n",
       "      <td>0</td>\n",
       "      <td>2400</td>\n",
       "    </tr>\n",
       "    <tr>\n",
       "      <th>Date</th>\n",
       "      <td>6302</td>\n",
       "      <td>5433</td>\n",
       "      <td>1957</td>\n",
       "      <td>11</td>\n",
       "    </tr>\n",
       "    <tr>\n",
       "      <th>Type</th>\n",
       "      <td>6298</td>\n",
       "      <td>8</td>\n",
       "      <td>Unprovoked</td>\n",
       "      <td>4595</td>\n",
       "    </tr>\n",
       "    <tr>\n",
       "      <th>Country</th>\n",
       "      <td>6252</td>\n",
       "      <td>212</td>\n",
       "      <td>USA</td>\n",
       "      <td>2229</td>\n",
       "    </tr>\n",
       "    <tr>\n",
       "      <th>Area</th>\n",
       "      <td>5847</td>\n",
       "      <td>825</td>\n",
       "      <td>Florida</td>\n",
       "      <td>1037</td>\n",
       "    </tr>\n",
       "    <tr>\n",
       "      <th>Location</th>\n",
       "      <td>5762</td>\n",
       "      <td>4108</td>\n",
       "      <td>New Smyrna Beach, Volusia County</td>\n",
       "      <td>163</td>\n",
       "    </tr>\n",
       "    <tr>\n",
       "      <th>Activity</th>\n",
       "      <td>5758</td>\n",
       "      <td>1532</td>\n",
       "      <td>Surfing</td>\n",
       "      <td>971</td>\n",
       "    </tr>\n",
       "    <tr>\n",
       "      <th>Name</th>\n",
       "      <td>6092</td>\n",
       "      <td>5230</td>\n",
       "      <td>male</td>\n",
       "      <td>550</td>\n",
       "    </tr>\n",
       "    <tr>\n",
       "      <th>Sex</th>\n",
       "      <td>5737</td>\n",
       "      <td>6</td>\n",
       "      <td>M</td>\n",
       "      <td>5094</td>\n",
       "    </tr>\n",
       "    <tr>\n",
       "      <th>Age</th>\n",
       "      <td>3471</td>\n",
       "      <td>157</td>\n",
       "      <td>17</td>\n",
       "      <td>154</td>\n",
       "    </tr>\n",
       "    <tr>\n",
       "      <th>Injury</th>\n",
       "      <td>6274</td>\n",
       "      <td>3737</td>\n",
       "      <td>FATAL</td>\n",
       "      <td>802</td>\n",
       "    </tr>\n",
       "    <tr>\n",
       "      <th>Fatal (Y/N)</th>\n",
       "      <td>5763</td>\n",
       "      <td>8</td>\n",
       "      <td>N</td>\n",
       "      <td>4293</td>\n",
       "    </tr>\n",
       "    <tr>\n",
       "      <th>Time</th>\n",
       "      <td>2948</td>\n",
       "      <td>366</td>\n",
       "      <td>Afternoon</td>\n",
       "      <td>187</td>\n",
       "    </tr>\n",
       "    <tr>\n",
       "      <th>Species</th>\n",
       "      <td>3464</td>\n",
       "      <td>1549</td>\n",
       "      <td>White shark</td>\n",
       "      <td>163</td>\n",
       "    </tr>\n",
       "    <tr>\n",
       "      <th>Investigator or Source</th>\n",
       "      <td>6285</td>\n",
       "      <td>4969</td>\n",
       "      <td>C. Moore, GSAF</td>\n",
       "      <td>105</td>\n",
       "    </tr>\n",
       "    <tr>\n",
       "      <th>pdf</th>\n",
       "      <td>6302</td>\n",
       "      <td>6291</td>\n",
       "      <td>1923.00.00.a-NJ fisherman.pdf</td>\n",
       "      <td>2</td>\n",
       "    </tr>\n",
       "    <tr>\n",
       "      <th>href formula</th>\n",
       "      <td>6301</td>\n",
       "      <td>6290</td>\n",
       "      <td>http://sharkattackfile.net/spreadsheets/pdf_di...</td>\n",
       "      <td>2</td>\n",
       "    </tr>\n",
       "    <tr>\n",
       "      <th>href</th>\n",
       "      <td>6302</td>\n",
       "      <td>6285</td>\n",
       "      <td>http://sharkattackfile.net/spreadsheets/pdf_di...</td>\n",
       "      <td>4</td>\n",
       "    </tr>\n",
       "    <tr>\n",
       "      <th>Case Number.1</th>\n",
       "      <td>6302</td>\n",
       "      <td>6285</td>\n",
       "      <td>1920.00.00.b</td>\n",
       "      <td>2</td>\n",
       "    </tr>\n",
       "    <tr>\n",
       "      <th>Case Number.2</th>\n",
       "      <td>6302</td>\n",
       "      <td>6286</td>\n",
       "      <td>1920.00.00.b</td>\n",
       "      <td>2</td>\n",
       "    </tr>\n",
       "    <tr>\n",
       "      <th>Unnamed: 22</th>\n",
       "      <td>1</td>\n",
       "      <td>1</td>\n",
       "      <td>stopped here</td>\n",
       "      <td>1</td>\n",
       "    </tr>\n",
       "    <tr>\n",
       "      <th>Unnamed: 23</th>\n",
       "      <td>2</td>\n",
       "      <td>2</td>\n",
       "      <td>Teramo</td>\n",
       "      <td>1</td>\n",
       "    </tr>\n",
       "  </tbody>\n",
       "</table>\n",
       "</div>"
      ],
      "text/plain": [
       "                       count unique   \n",
       "Case Number             8702   6287  \\\n",
       "Date                    6302   5433   \n",
       "Type                    6298      8   \n",
       "Country                 6252    212   \n",
       "Area                    5847    825   \n",
       "Location                5762   4108   \n",
       "Activity                5758   1532   \n",
       "Name                    6092   5230   \n",
       "Sex                     5737      6   \n",
       "Age                     3471    157   \n",
       "Injury                  6274   3737   \n",
       "Fatal (Y/N)             5763      8   \n",
       "Time                    2948    366   \n",
       "Species                 3464   1549   \n",
       "Investigator or Source  6285   4969   \n",
       "pdf                     6302   6291   \n",
       "href formula            6301   6290   \n",
       "href                    6302   6285   \n",
       "Case Number.1           6302   6285   \n",
       "Case Number.2           6302   6286   \n",
       "Unnamed: 22                1      1   \n",
       "Unnamed: 23                2      2   \n",
       "\n",
       "                                                                      top   \n",
       "Case Number                                                             0  \\\n",
       "Date                                                                 1957   \n",
       "Type                                                           Unprovoked   \n",
       "Country                                                               USA   \n",
       "Area                                                              Florida   \n",
       "Location                                 New Smyrna Beach, Volusia County   \n",
       "Activity                                                          Surfing   \n",
       "Name                                                                 male   \n",
       "Sex                                                                     M   \n",
       "Age                                                                    17   \n",
       "Injury                                                              FATAL   \n",
       "Fatal (Y/N)                                                             N   \n",
       "Time                                                            Afternoon   \n",
       "Species                                                       White shark   \n",
       "Investigator or Source                                     C. Moore, GSAF   \n",
       "pdf                                         1923.00.00.a-NJ fisherman.pdf   \n",
       "href formula            http://sharkattackfile.net/spreadsheets/pdf_di...   \n",
       "href                    http://sharkattackfile.net/spreadsheets/pdf_di...   \n",
       "Case Number.1                                                1920.00.00.b   \n",
       "Case Number.2                                                1920.00.00.b   \n",
       "Unnamed: 22                                                  stopped here   \n",
       "Unnamed: 23                                                        Teramo   \n",
       "\n",
       "                        freq  \n",
       "Case Number             2400  \n",
       "Date                      11  \n",
       "Type                    4595  \n",
       "Country                 2229  \n",
       "Area                    1037  \n",
       "Location                 163  \n",
       "Activity                 971  \n",
       "Name                     550  \n",
       "Sex                     5094  \n",
       "Age                      154  \n",
       "Injury                   802  \n",
       "Fatal (Y/N)             4293  \n",
       "Time                     187  \n",
       "Species                  163  \n",
       "Investigator or Source   105  \n",
       "pdf                        2  \n",
       "href formula               2  \n",
       "href                       4  \n",
       "Case Number.1              2  \n",
       "Case Number.2              2  \n",
       "Unnamed: 22                1  \n",
       "Unnamed: 23                1  "
      ]
     },
     "execution_count": 475,
     "metadata": {},
     "output_type": "execute_result"
    }
   ],
   "source": [
    "sharks.describe(include='object').T"
   ]
  },
  {
   "attachments": {},
   "cell_type": "markdown",
   "metadata": {},
   "source": [
    "Columnas numericas"
   ]
  },
  {
   "cell_type": "code",
   "execution_count": 476,
   "metadata": {},
   "outputs": [],
   "source": [
    "num_df = sharks.select_dtypes(exclude='object')\n"
   ]
  },
  {
   "attachments": {},
   "cell_type": "markdown",
   "metadata": {},
   "source": [
    "Valores Nulos"
   ]
  },
  {
   "cell_type": "code",
   "execution_count": 477,
   "metadata": {},
   "outputs": [
    {
     "data": {
      "text/plain": [
       "(25723, 24)"
      ]
     },
     "execution_count": 477,
     "metadata": {},
     "output_type": "execute_result"
    }
   ],
   "source": [
    "original_shape = sharks.shape\n",
    "original_shape"
   ]
  },
  {
   "cell_type": "code",
   "execution_count": 478,
   "metadata": {},
   "outputs": [],
   "source": [
    "#elimino las filas que todos sus valores son nulos\n",
    "sharks.dropna(how='all', inplace=True)\n"
   ]
  },
  {
   "cell_type": "code",
   "execution_count": 479,
   "metadata": {},
   "outputs": [
    {
     "data": {
      "text/plain": [
       "(8703, 24)"
      ]
     },
     "execution_count": 479,
     "metadata": {},
     "output_type": "execute_result"
    }
   ],
   "source": [
    "sharks.shape"
   ]
  },
  {
   "cell_type": "code",
   "execution_count": 480,
   "metadata": {},
   "outputs": [],
   "source": [
    "#eliminar las filas que tengan mas de 20 columnas de valores nulos\n",
    "\n",
    "null_rows = sharks.isnull().sum(axis=1)\n",
    "indexes_to_drop = null_rows[null_rows > 20].index\n",
    "sharks = sharks.drop(indexes_to_drop)"
   ]
  },
  {
   "cell_type": "code",
   "execution_count": 481,
   "metadata": {},
   "outputs": [
    {
     "data": {
      "text/plain": [
       "(6302, 24)"
      ]
     },
     "execution_count": 481,
     "metadata": {},
     "output_type": "execute_result"
    }
   ],
   "source": [
    "sharks.shape"
   ]
  },
  {
   "cell_type": "code",
   "execution_count": 482,
   "metadata": {},
   "outputs": [
    {
     "data": {
      "text/plain": [
       "Case Number                  1\n",
       "Year                         2\n",
       "Type                         4\n",
       "Country                     50\n",
       "Area                       455\n",
       "Location                   540\n",
       "Activity                   544\n",
       "Name                       210\n",
       "Sex                        565\n",
       "Age                       2831\n",
       "Injury                      28\n",
       "Fatal (Y/N)                539\n",
       "Time                      3354\n",
       "Species                   2838\n",
       "Investigator or Source      17\n",
       "href formula                 1\n",
       "Unnamed: 22               6301\n",
       "Unnamed: 23               6300\n",
       "dtype: int64"
      ]
     },
     "execution_count": 482,
     "metadata": {},
     "output_type": "execute_result"
    }
   ],
   "source": [
    "nan_cols = sharks.isna().sum()\n",
    "\n",
    "nan_cols[nan_cols>0]"
   ]
  },
  {
   "cell_type": "code",
   "execution_count": 483,
   "metadata": {},
   "outputs": [
    {
     "data": {
      "text/plain": [
       "Case Number                0.015868\n",
       "Year                       0.031736\n",
       "Type                       0.063472\n",
       "Country                    0.793399\n",
       "Area                       7.219930\n",
       "Location                   8.568708\n",
       "Activity                   8.632180\n",
       "Name                       3.332275\n",
       "Sex                        8.965408\n",
       "Age                       44.922247\n",
       "Injury                     0.444303\n",
       "Fatal (Y/N)                8.552840\n",
       "Time                      53.221200\n",
       "Species                   45.033323\n",
       "Investigator or Source     0.269756\n",
       "href formula               0.015868\n",
       "Unnamed: 22               99.984132\n",
       "Unnamed: 23               99.968264\n",
       "dtype: float64"
      ]
     },
     "execution_count": 483,
     "metadata": {},
     "output_type": "execute_result"
    }
   ],
   "source": [
    "percent_nan_cols = sharks.isna().mean() * 100  # porcentaje de nulo en cada columna\n",
    "\n",
    "\n",
    "percent_nan_cols[percent_nan_cols>0]"
   ]
  },
  {
   "attachments": {},
   "cell_type": "markdown",
   "metadata": {},
   "source": [
    "Vamos a ir columna a columna quitando valores nulos"
   ]
  },
  {
   "attachments": {},
   "cell_type": "markdown",
   "metadata": {},
   "source": [
    "Case Number"
   ]
  },
  {
   "cell_type": "code",
   "execution_count": 484,
   "metadata": {},
   "outputs": [
    {
     "data": {
      "text/plain": [
       "0    2018.06.25\n",
       "1    2018.06.18\n",
       "2    2018.06.09\n",
       "3    2018.06.08\n",
       "4    2018.06.04\n",
       "Name: Case Number, dtype: object"
      ]
     },
     "execution_count": 484,
     "metadata": {},
     "output_type": "execute_result"
    }
   ],
   "source": [
    "sharks['Case Number'].head()"
   ]
  },
  {
   "cell_type": "code",
   "execution_count": 485,
   "metadata": {},
   "outputs": [
    {
     "data": {
      "text/plain": [
       "str"
      ]
     },
     "execution_count": 485,
     "metadata": {},
     "output_type": "execute_result"
    }
   ],
   "source": [
    "type(sharks['Case Number'][0])\n"
   ]
  },
  {
   "cell_type": "code",
   "execution_count": 486,
   "metadata": {},
   "outputs": [
    {
     "data": {
      "text/html": [
       "<div>\n",
       "<style scoped>\n",
       "    .dataframe tbody tr th:only-of-type {\n",
       "        vertical-align: middle;\n",
       "    }\n",
       "\n",
       "    .dataframe tbody tr th {\n",
       "        vertical-align: top;\n",
       "    }\n",
       "\n",
       "    .dataframe thead th {\n",
       "        text-align: right;\n",
       "    }\n",
       "</style>\n",
       "<table border=\"1\" class=\"dataframe\">\n",
       "  <thead>\n",
       "    <tr style=\"text-align: right;\">\n",
       "      <th></th>\n",
       "      <th>Case Number</th>\n",
       "      <th>Date</th>\n",
       "      <th>Year</th>\n",
       "      <th>Type</th>\n",
       "      <th>Country</th>\n",
       "      <th>Area</th>\n",
       "      <th>Location</th>\n",
       "      <th>Activity</th>\n",
       "      <th>Name</th>\n",
       "      <th>Sex</th>\n",
       "      <th>...</th>\n",
       "      <th>Species</th>\n",
       "      <th>Investigator or Source</th>\n",
       "      <th>pdf</th>\n",
       "      <th>href formula</th>\n",
       "      <th>href</th>\n",
       "      <th>Case Number.1</th>\n",
       "      <th>Case Number.2</th>\n",
       "      <th>original order</th>\n",
       "      <th>Unnamed: 22</th>\n",
       "      <th>Unnamed: 23</th>\n",
       "    </tr>\n",
       "  </thead>\n",
       "  <tbody>\n",
       "  </tbody>\n",
       "</table>\n",
       "<p>0 rows × 24 columns</p>\n",
       "</div>"
      ],
      "text/plain": [
       "Empty DataFrame\n",
       "Columns: [Case Number, Date, Year, Type, Country, Area, Location, Activity, Name, Sex , Age, Injury, Fatal (Y/N), Time, Species , Investigator or Source, pdf, href formula, href, Case Number.1, Case Number.2, original order, Unnamed: 22, Unnamed: 23]\n",
       "Index: []\n",
       "\n",
       "[0 rows x 24 columns]"
      ]
     },
     "execution_count": 486,
     "metadata": {},
     "output_type": "execute_result"
    }
   ],
   "source": [
    "#ver donde hay case number pero no hay fecha\n",
    "\n",
    "sharks[(sharks['Date'].isnull()) & (sharks['Case Number'].notnull())]"
   ]
  },
  {
   "cell_type": "code",
   "execution_count": 487,
   "metadata": {},
   "outputs": [],
   "source": [
    "#me las cargo\n",
    "\n",
    "index_to_drop = sharks[(sharks['Date'].isnull()) & (sharks['Case Number'].notnull())].index\n",
    "sharks = sharks.drop(index_to_drop)\n"
   ]
  },
  {
   "cell_type": "code",
   "execution_count": 488,
   "metadata": {},
   "outputs": [],
   "source": [
    "# contar el número de valores nulos en cada fila\n",
    "null_counts = sharks.isnull().sum(axis=1)\n",
    "\n"
   ]
  },
  {
   "cell_type": "code",
   "execution_count": 489,
   "metadata": {},
   "outputs": [
    {
     "data": {
      "text/plain": [
       "(6302, 24)"
      ]
     },
     "execution_count": 489,
     "metadata": {},
     "output_type": "execute_result"
    }
   ],
   "source": [
    "sharks.shape"
   ]
  },
  {
   "attachments": {},
   "cell_type": "markdown",
   "metadata": {},
   "source": [
    "Tipo de ataque"
   ]
  },
  {
   "cell_type": "code",
   "execution_count": 490,
   "metadata": {},
   "outputs": [
    {
     "data": {
      "text/plain": [
       "Type\n",
       "Unprovoked      4595\n",
       "Provoked         574\n",
       "Invalid          547\n",
       "Sea Disaster     239\n",
       "Boating          203\n",
       "Boat             137\n",
       "Questionable       2\n",
       "Boatomg            1\n",
       "Name: count, dtype: int64"
      ]
     },
     "execution_count": 490,
     "metadata": {},
     "output_type": "execute_result"
    }
   ],
   "source": [
    "sharks.Type.unique()\n",
    "\n",
    "sharks['Type'].value_counts()\n",
    "\n"
   ]
  },
  {
   "cell_type": "code",
   "execution_count": 491,
   "metadata": {},
   "outputs": [],
   "source": [
    "#Boatomg \n",
    "\n",
    "sharks['Type'].replace('Boatomg', 'Boating', inplace=True)\n",
    "sharks['Type'].replace('Boat', 'Boating', inplace=True)\n",
    "\n",
    "#elimino los cuestionables\n",
    "\n",
    "sharks.drop(sharks[sharks['Type'] == 'Questionable'].index, inplace=True)\n"
   ]
  },
  {
   "cell_type": "code",
   "execution_count": 654,
   "metadata": {},
   "outputs": [
    {
     "data": {
      "text/plain": [
       "Type\n",
       "Unprovoked    5724\n",
       "Provoked       574\n",
       "Name: count, dtype: int64"
      ]
     },
     "execution_count": 654,
     "metadata": {},
     "output_type": "execute_result"
    }
   ],
   "source": [
    "sharks['Type'].value_counts()"
   ]
  },
  {
   "cell_type": "code",
   "execution_count": 615,
   "metadata": {},
   "outputs": [],
   "source": [
    "#los valores nulos del tipo de ataque que sean un desastre en el mar\n",
    "\n",
    "sharks['Type'] = sharks['Type'].fillna('Unprovoked')"
   ]
  },
  {
   "cell_type": "code",
   "execution_count": 653,
   "metadata": {},
   "outputs": [],
   "source": [
    "sharks['Type'].replace('Invalid', 'Unprovoked', inplace=True)\n",
    "sharks['Type'].replace('Boating', 'Unprovoked', inplace=True)\n",
    "sharks['Type'].replace('Sea Disaster', 'Unprovoked', inplace=True)"
   ]
  },
  {
   "attachments": {},
   "cell_type": "markdown",
   "metadata": {},
   "source": [
    "\n",
    "Country"
   ]
  },
  {
   "cell_type": "code",
   "execution_count": 616,
   "metadata": {},
   "outputs": [
    {
     "data": {
      "text/plain": [
       "Country\n",
       "USA                 2229\n",
       "Australia           1335\n",
       "South Africa         579\n",
       "Papua New Guinea     134\n",
       "New Zealand          128\n",
       "Name: count, dtype: int64"
      ]
     },
     "execution_count": 616,
     "metadata": {},
     "output_type": "execute_result"
    }
   ],
   "source": [
    "sharks['Country'].value_counts().head()"
   ]
  },
  {
   "cell_type": "code",
   "execution_count": 617,
   "metadata": {},
   "outputs": [
    {
     "data": {
      "text/plain": [
       "0"
      ]
     },
     "execution_count": 617,
     "metadata": {},
     "output_type": "execute_result"
    }
   ],
   "source": [
    "nulos = sharks['Country'].isnull().sum()\n",
    "\n",
    "nulos"
   ]
  },
  {
   "cell_type": "code",
   "execution_count": 618,
   "metadata": {},
   "outputs": [],
   "source": [
    "#compruebo si puedo sacar algún pais\n",
    "\n",
    "sharks.loc[sharks['Country'].isnull()]\n",
    "\n",
    "#df.loc[df['A'].isnull() & df['B'].notnull()]\n",
    "\n",
    "#country sea nulo pero area o location si que tenga informacion\n",
    "\n",
    "sharks[(sharks['Country'].isnull()) & (sharks['Area'].notnull() | sharks['Location'].notnull())]\n",
    "\n",
    "#se pueden arreglar 21 filas, por 21 filas me voy a rallar? NO, los que no sepa el pais \n",
    "#no me lo voy  a inventar asi que por ahora pongo desconocido \n",
    "\n",
    "sharks['Country'].fillna('Unknown', inplace=True)"
   ]
  },
  {
   "cell_type": "code",
   "execution_count": 619,
   "metadata": {},
   "outputs": [],
   "source": [
    "sharks[(sharks['Country'] == 'Unknown') & (sharks['Area'].notnull() | sharks['Location'].notnull())];"
   ]
  },
  {
   "cell_type": "code",
   "execution_count": 620,
   "metadata": {},
   "outputs": [],
   "source": [
    "sharks['Country'] = sharks['Country'].str.title()\n"
   ]
  },
  {
   "attachments": {},
   "cell_type": "markdown",
   "metadata": {},
   "source": [
    "Area"
   ]
  },
  {
   "cell_type": "code",
   "execution_count": 621,
   "metadata": {},
   "outputs": [],
   "source": [
    "#los valores que si que no tengan area pero si location, voy a copiar la location al area\n",
    "#cojo las de location y no las de country porque location es más concreto\n",
    "\n",
    "sharks[(sharks['Area'].isnull()) & (sharks['Location'].notnull())].head(10)\n",
    "sharks['Area'].fillna(sharks['Location'], inplace=True)\n",
    "\n",
    "#y viceversa\n",
    "\n",
    "sharks[(sharks['Location'].isnull()) & (sharks['Area'].notnull())].head(10)\n",
    "sharks['Location'].fillna(sharks['Area'], inplace=True)\n",
    "\n"
   ]
  },
  {
   "cell_type": "code",
   "execution_count": 622,
   "metadata": {},
   "outputs": [
    {
     "data": {
      "text/plain": [
       "0"
      ]
     },
     "execution_count": 622,
     "metadata": {},
     "output_type": "execute_result"
    }
   ],
   "source": [
    "sharks['Area'].isnull().sum()"
   ]
  },
  {
   "cell_type": "code",
   "execution_count": 623,
   "metadata": {},
   "outputs": [
    {
     "data": {
      "text/html": [
       "<div>\n",
       "<style scoped>\n",
       "    .dataframe tbody tr th:only-of-type {\n",
       "        vertical-align: middle;\n",
       "    }\n",
       "\n",
       "    .dataframe tbody tr th {\n",
       "        vertical-align: top;\n",
       "    }\n",
       "\n",
       "    .dataframe thead th {\n",
       "        text-align: right;\n",
       "    }\n",
       "</style>\n",
       "<table border=\"1\" class=\"dataframe\">\n",
       "  <thead>\n",
       "    <tr style=\"text-align: right;\">\n",
       "      <th></th>\n",
       "      <th>Case Number</th>\n",
       "      <th>Year</th>\n",
       "      <th>Country</th>\n",
       "      <th>Month</th>\n",
       "      <th>Fatal</th>\n",
       "      <th>Name</th>\n",
       "      <th>Age</th>\n",
       "      <th>Sex</th>\n",
       "      <th>Species</th>\n",
       "      <th>Continent</th>\n",
       "      <th>...</th>\n",
       "      <th>Week Day</th>\n",
       "      <th>Date</th>\n",
       "      <th>Season</th>\n",
       "      <th>Activity</th>\n",
       "      <th>Injury</th>\n",
       "      <th>Time</th>\n",
       "      <th>Investigator or Source</th>\n",
       "      <th>Case File (PDF)</th>\n",
       "      <th>Case File (URL)</th>\n",
       "      <th>Type</th>\n",
       "    </tr>\n",
       "    <tr>\n",
       "      <th>Index</th>\n",
       "      <th></th>\n",
       "      <th></th>\n",
       "      <th></th>\n",
       "      <th></th>\n",
       "      <th></th>\n",
       "      <th></th>\n",
       "      <th></th>\n",
       "      <th></th>\n",
       "      <th></th>\n",
       "      <th></th>\n",
       "      <th></th>\n",
       "      <th></th>\n",
       "      <th></th>\n",
       "      <th></th>\n",
       "      <th></th>\n",
       "      <th></th>\n",
       "      <th></th>\n",
       "      <th></th>\n",
       "      <th></th>\n",
       "      <th></th>\n",
       "      <th></th>\n",
       "    </tr>\n",
       "  </thead>\n",
       "  <tbody>\n",
       "  </tbody>\n",
       "</table>\n",
       "<p>0 rows × 23 columns</p>\n",
       "</div>"
      ],
      "text/plain": [
       "Empty DataFrame\n",
       "Columns: [Case Number, Year, Country, Month, Fatal, Name, Age, Sex, Species, Continent, Sea, Area, Location, Week Day, Date, Season, Activity, Injury, Time, Investigator or Source, Case File (PDF), Case File (URL), Type]\n",
       "Index: []\n",
       "\n",
       "[0 rows x 23 columns]"
      ]
     },
     "execution_count": 623,
     "metadata": {},
     "output_type": "execute_result"
    }
   ],
   "source": [
    "sharks[((sharks['Location'].isnull())&((sharks['Area'].isnull())) )& (sharks['Country'].notnull())]"
   ]
  },
  {
   "cell_type": "code",
   "execution_count": 624,
   "metadata": {},
   "outputs": [],
   "source": [
    "sharks['Area'] = sharks['Area'].fillna('Unknown')\n",
    "sharks['Location'] = sharks['Location'].fillna('Unknown')"
   ]
  },
  {
   "attachments": {},
   "cell_type": "markdown",
   "metadata": {},
   "source": [
    "Activity"
   ]
  },
  {
   "cell_type": "code",
   "execution_count": 625,
   "metadata": {},
   "outputs": [],
   "source": [
    "actividades = sharks['Activity'].value_counts()\n"
   ]
  },
  {
   "cell_type": "code",
   "execution_count": 626,
   "metadata": {},
   "outputs": [
    {
     "data": {
      "text/plain": [
       "Activity\n",
       "Explosion & sinking of the USS Juneau after being torpedoed by the submarine  I-85                                                                                                                                                          1\n",
       "His ship, the US destroyer Duncan DD 485, had been  sunk by crossfire from Japanese warships. He was wearing a kapok lifejacket & using 2 aluminum powder tins for floatation                                                               1\n",
       "Dutch merchant ship Zaandam torpedoed  by the U-174 amidships, sank & dozens of survivors took to rafts & boats. One man, Izzi, who drifted 83 days on a raft related that sharks attacked many men in the water when the ship went down    1\n",
       "In rubber dinghy with Captain Eddie Rickenbacker for 21 days.                                                                                                                                                                               1\n",
       "Diving from lugger                                                                                                                                                                                                                          1\n",
       "Name: count, dtype: int64"
      ]
     },
     "execution_count": 626,
     "metadata": {},
     "output_type": "execute_result"
    }
   ],
   "source": [
    "actividades[actividades==1].head(5)\n",
    "\n",
    "#hay 1315 actividades "
   ]
  },
  {
   "cell_type": "code",
   "execution_count": 627,
   "metadata": {},
   "outputs": [
    {
     "data": {
      "text/plain": [
       "0"
      ]
     },
     "execution_count": 627,
     "metadata": {},
     "output_type": "execute_result"
    }
   ],
   "source": [
    "sharks['Activity'].isnull().sum()"
   ]
  },
  {
   "cell_type": "code",
   "execution_count": 628,
   "metadata": {},
   "outputs": [],
   "source": [
    "#recordando la columna Type hay varias filas que pone Boating y esto se podría considerar\n",
    "#como actividad asi que voy a buscar donde en la columna Type sea boating que y que la columna\n",
    "#Activity sea nula\n",
    "\n",
    "sharks[(sharks['Type'] == 'Boating') & (sharks['Activity'].isnull())]\n",
    "\n",
    "sharks.loc[(sharks['Type'] == 'Boating') & (sharks['Activity'].isnull()), 'Activity'] = 'Boating'\n",
    "\n"
   ]
  },
  {
   "cell_type": "code",
   "execution_count": 629,
   "metadata": {},
   "outputs": [
    {
     "data": {
      "text/plain": [
       "0"
      ]
     },
     "execution_count": 629,
     "metadata": {},
     "output_type": "execute_result"
    }
   ],
   "source": [
    "sharks['Activity'].isnull().sum()"
   ]
  },
  {
   "cell_type": "code",
   "execution_count": 630,
   "metadata": {},
   "outputs": [],
   "source": [
    "sharks['Activity'].fillna('Other', inplace=True)"
   ]
  },
  {
   "attachments": {},
   "cell_type": "markdown",
   "metadata": {},
   "source": [
    "\n",
    "Name"
   ]
  },
  {
   "cell_type": "code",
   "execution_count": 631,
   "metadata": {},
   "outputs": [
    {
     "data": {
      "text/plain": [
       "Case Number    1\n",
       "dtype: int64"
      ]
     },
     "execution_count": 631,
     "metadata": {},
     "output_type": "execute_result"
    }
   ],
   "source": [
    "nan_cols = sharks.isna().sum()\n",
    "\n",
    "nan_cols[nan_cols>0]"
   ]
  },
  {
   "cell_type": "code",
   "execution_count": 632,
   "metadata": {},
   "outputs": [
    {
     "data": {
      "text/plain": [
       "Name\n",
       "Anonymous    1049\n",
       "Name: count, dtype: int64"
      ]
     },
     "execution_count": 632,
     "metadata": {},
     "output_type": "execute_result"
    }
   ],
   "source": [
    "#Como los nombre deberían ser unicos voy a coger los valores\n",
    "#que se repiten más de una vez\n",
    "\n",
    "nombres = sharks['Name'].value_counts()\n",
    "nombres[nombres>2].head(5)"
   ]
  },
  {
   "cell_type": "code",
   "execution_count": 633,
   "metadata": {},
   "outputs": [
    {
     "data": {
      "text/plain": [
       "Index(['Case Number', 'Year', 'Country', 'Month', 'Fatal', 'Name', 'Age',\n",
       "       'Sex', 'Species', 'Continent', 'Sea', 'Area', 'Location', 'Week Day',\n",
       "       'Date', 'Season', 'Activity', 'Injury', 'Time',\n",
       "       'Investigator or Source', 'Case File (PDF)', 'Case File (URL)', 'Type'],\n",
       "      dtype='object')"
      ]
     },
     "execution_count": 633,
     "metadata": {},
     "output_type": "execute_result"
    }
   ],
   "source": [
    "sharks.columns"
   ]
  },
  {
   "cell_type": "code",
   "execution_count": 634,
   "metadata": {},
   "outputs": [],
   "source": [
    "#voy a limpiar los que más se repiten uno a uno \n",
    "#male -> compruebo primero si en el genero esta vacio pero en el nombre\n",
    "#esta male, se lo añado\n",
    "\n",
    "sharks = sharks.rename(columns={'Sex ': 'Sex'})\n",
    "\n",
    "\n",
    "#al comparar con Sex veo que nombre tiene un espacio así que lo corrijo \n",
    "\n",
    "sharks[(sharks['Name'] == 'male') & (sharks['Sex'].isnull())]\n",
    "\n",
    "#ya he añadido male\n",
    "\n",
    "sharks.loc[(sharks['Type'] == 'male') & (sharks['Sex'].isnull()), 'Sex'] = 'M'"
   ]
  },
  {
   "cell_type": "code",
   "execution_count": 635,
   "metadata": {},
   "outputs": [],
   "source": [
    "#ahora los que se llamen male lo paso a unknown \n",
    "\n",
    "sharks.loc[sharks['Name'] == 'male', 'Name'] = 'Anonymous'"
   ]
  },
  {
   "cell_type": "code",
   "execution_count": 636,
   "metadata": {},
   "outputs": [],
   "source": [
    "#hago lo mismo con female\n",
    "\n",
    "sharks[(sharks['Name'] == 'female') & (sharks['Sex'].isnull())]\n",
    "\n",
    "#como no hay directamente pongo desconocido\n",
    "\n",
    "sharks.loc[sharks['Name'] == 'female', 'Name'] = 'Anonymous'\n"
   ]
  },
  {
   "cell_type": "code",
   "execution_count": 637,
   "metadata": {},
   "outputs": [
    {
     "data": {
      "text/plain": [
       "Name\n",
       "Anonymous    1049\n",
       "Name: count, dtype: int64"
      ]
     },
     "execution_count": 637,
     "metadata": {},
     "output_type": "execute_result"
    }
   ],
   "source": [
    "nombres = sharks['Name'].value_counts()\n",
    "nombres[nombres>2].head(5)"
   ]
  },
  {
   "cell_type": "code",
   "execution_count": 638,
   "metadata": {},
   "outputs": [],
   "source": [
    "#lo mismo con boy\n",
    "\n",
    "sharks[(sharks['Name'] == 'boy') & (sharks['Sex'].isnull())]\n",
    "\n",
    "#ya he añadido male\n",
    "\n",
    "sharks.loc[sharks['Name'] == 'boy', 'Name'] = 'Anonymous'\n",
    "\n"
   ]
  },
  {
   "cell_type": "code",
   "execution_count": 639,
   "metadata": {},
   "outputs": [],
   "source": [
    "#voy a agrupar los que me quedan en chico o chica y vuelvo a valorar\n",
    "\n",
    "#todos los chicos los meto en male y lo comparo con sexo\n",
    "males = ['2 males',  'males',  'sailor', 'males', 'a sailor', 'fisherman', 'a soldier','2 fishermen',  'black male',\n",
    " 'Arab boy',\n",
    " 'Zulu male',\n",
    " ' male', 'aboriginal male',\n",
    " 'Russian male','Japanese diver',  'native boy',]\n",
    "\n",
    "\n",
    "\n",
    "sharks[\"Name\"] = sharks[\"Name\"].replace(males, 'M')\n",
    "\n"
   ]
  },
  {
   "cell_type": "code",
   "execution_count": 640,
   "metadata": {},
   "outputs": [],
   "source": [
    "sharks[(sharks['Name'] == 'M') & (sharks['Sex'].isnull())]\n",
    "sharks.loc[(sharks['Type'] == 'M') & (sharks['Sex'].isnull()), 'Sex'] = 'M'"
   ]
  },
  {
   "cell_type": "code",
   "execution_count": 641,
   "metadata": {},
   "outputs": [],
   "source": [
    "sharks.loc[sharks['Name'] == 'M', 'Name'] = 'Anonymous'"
   ]
  },
  {
   "cell_type": "code",
   "execution_count": 642,
   "metadata": {},
   "outputs": [
    {
     "data": {
      "text/plain": [
       "Name\n",
       "Anonymous    1049\n",
       "Name: count, dtype: int64"
      ]
     },
     "execution_count": 642,
     "metadata": {},
     "output_type": "execute_result"
    }
   ],
   "source": [
    "nombres = sharks['Name'].value_counts()\n",
    "nombres[nombres>2]\n"
   ]
  },
  {
   "cell_type": "code",
   "execution_count": 643,
   "metadata": {},
   "outputs": [],
   "source": [
    "#Los que no lleven nombre pasaran a ser anonimos\n",
    "#el nombre me da igual\n",
    "\n",
    "nombres = sharks['Name'].value_counts()\n",
    "nombres = nombres.index[nombres > 2] # seleccionar los nombres que aparecen más de 2 veces\n",
    "sharks.loc[sharks['Name'].isin(nombres), 'Name'] = 'Anonymous' # cambiar los nombres por 'Anonymous'\n"
   ]
  },
  {
   "cell_type": "code",
   "execution_count": 644,
   "metadata": {},
   "outputs": [],
   "source": [
    "#hay 14 filas que tienen boat, las voy a comparar con la columna actividad \n",
    "#pero en vez que sea nulo que sea desconocido\n",
    "\n",
    "sharks[(sharks['Name'] == 'boat') & (sharks['Activity'] == 'Unknown')]\n",
    "sharks.loc[(sharks['Name'] == 'boat') & (sharks['Activity'] == 'Unknown'), 'Activity'] = 'Boating'"
   ]
  },
  {
   "cell_type": "code",
   "execution_count": 645,
   "metadata": {},
   "outputs": [],
   "source": [
    "sharks['Name'] = sharks['Name'].fillna('Anonymous')\n"
   ]
  },
  {
   "attachments": {},
   "cell_type": "markdown",
   "metadata": {},
   "source": [
    "Sex"
   ]
  },
  {
   "cell_type": "code",
   "execution_count": 646,
   "metadata": {},
   "outputs": [],
   "source": [
    "genero = sharks['Sex'].value_counts()\n",
    "lista_genero = genero[genero > 1].index.tolist()\n",
    "\n",
    "lista_genero\n",
    "\n",
    "#cambio la M con espacio y la N a una M de Male\n",
    "\n",
    "lista_genero_correct = ['M ', 'N','lli','.']\n",
    "\n",
    "sharks[\"Sex\"] = sharks[\"Sex\"].replace(lista_genero_correct, 'M')"
   ]
  },
  {
   "cell_type": "code",
   "execution_count": 647,
   "metadata": {},
   "outputs": [
    {
     "data": {
      "text/plain": [
       "Sex\n",
       "M          5096\n",
       "F           637\n",
       "Unknown     565\n",
       "Name: count, dtype: int64"
      ]
     },
     "execution_count": 647,
     "metadata": {},
     "output_type": "execute_result"
    }
   ],
   "source": [
    "#comprobamos que solo tenemos o macho o female\n",
    "\n",
    "genero = sharks['Sex'].value_counts()\n",
    "genero[genero > 0]"
   ]
  },
  {
   "cell_type": "code",
   "execution_count": 648,
   "metadata": {},
   "outputs": [
    {
     "data": {
      "text/plain": [
       "0"
      ]
     },
     "execution_count": 648,
     "metadata": {},
     "output_type": "execute_result"
    }
   ],
   "source": [
    "sharks['Sex'].isnull().sum()"
   ]
  },
  {
   "cell_type": "code",
   "execution_count": 649,
   "metadata": {},
   "outputs": [],
   "source": [
    "sharks['Sex'] = sharks['Sex'].fillna('Unknown')"
   ]
  },
  {
   "attachments": {},
   "cell_type": "markdown",
   "metadata": {},
   "source": [
    "Age"
   ]
  },
  {
   "cell_type": "code",
   "execution_count": 650,
   "metadata": {},
   "outputs": [
    {
     "data": {
      "text/plain": [
       "Age\n",
       "84    1\n",
       "82    1\n",
       "87    1\n",
       "67    1\n",
       "72    1\n",
       "Name: count, dtype: int64"
      ]
     },
     "execution_count": 650,
     "metadata": {},
     "output_type": "execute_result"
    }
   ],
   "source": [
    "edad = sharks['Age'].value_counts()\n",
    "edad[edad==1].head()"
   ]
  },
  {
   "cell_type": "code",
   "execution_count": 651,
   "metadata": {},
   "outputs": [],
   "source": [
    "edad_unica = edad[edad==1].index.tolist()\n",
    "edad_unica;"
   ]
  },
  {
   "cell_type": "code",
   "execution_count": 652,
   "metadata": {},
   "outputs": [
    {
     "ename": "KeyError",
     "evalue": "0",
     "output_type": "error",
     "traceback": [
      "\u001b[1;31m---------------------------------------------------------------------------\u001b[0m",
      "\u001b[1;31mKeyError\u001b[0m                                  Traceback (most recent call last)",
      "File \u001b[1;32m~\\AppData\\Local\\Packages\\PythonSoftwareFoundation.Python.3.10_qbz5n2kfra8p0\\LocalCache\\local-packages\\Python310\\site-packages\\pandas\\core\\indexes\\base.py:3652\u001b[0m, in \u001b[0;36mIndex.get_loc\u001b[1;34m(self, key)\u001b[0m\n\u001b[0;32m   3651\u001b[0m \u001b[39mtry\u001b[39;00m:\n\u001b[1;32m-> 3652\u001b[0m     \u001b[39mreturn\u001b[39;00m \u001b[39mself\u001b[39;49m\u001b[39m.\u001b[39;49m_engine\u001b[39m.\u001b[39;49mget_loc(casted_key)\n\u001b[0;32m   3653\u001b[0m \u001b[39mexcept\u001b[39;00m \u001b[39mKeyError\u001b[39;00m \u001b[39mas\u001b[39;00m err:\n",
      "File \u001b[1;32m~\\AppData\\Local\\Packages\\PythonSoftwareFoundation.Python.3.10_qbz5n2kfra8p0\\LocalCache\\local-packages\\Python310\\site-packages\\pandas\\_libs\\index.pyx:147\u001b[0m, in \u001b[0;36mpandas._libs.index.IndexEngine.get_loc\u001b[1;34m()\u001b[0m\n",
      "File \u001b[1;32m~\\AppData\\Local\\Packages\\PythonSoftwareFoundation.Python.3.10_qbz5n2kfra8p0\\LocalCache\\local-packages\\Python310\\site-packages\\pandas\\_libs\\index.pyx:176\u001b[0m, in \u001b[0;36mpandas._libs.index.IndexEngine.get_loc\u001b[1;34m()\u001b[0m\n",
      "File \u001b[1;32mpandas\\_libs\\hashtable_class_helper.pxi:2606\u001b[0m, in \u001b[0;36mpandas._libs.hashtable.Int64HashTable.get_item\u001b[1;34m()\u001b[0m\n",
      "File \u001b[1;32mpandas\\_libs\\hashtable_class_helper.pxi:2630\u001b[0m, in \u001b[0;36mpandas._libs.hashtable.Int64HashTable.get_item\u001b[1;34m()\u001b[0m\n",
      "\u001b[1;31mKeyError\u001b[0m: 0",
      "\nThe above exception was the direct cause of the following exception:\n",
      "\u001b[1;31mKeyError\u001b[0m                                  Traceback (most recent call last)",
      "Cell \u001b[1;32mIn[652], line 1\u001b[0m\n\u001b[1;32m----> 1\u001b[0m \u001b[39mtype\u001b[39m(sharks[\u001b[39m'\u001b[39;49m\u001b[39mAge\u001b[39;49m\u001b[39m'\u001b[39;49m][\u001b[39m0\u001b[39;49m])\n",
      "File \u001b[1;32m~\\AppData\\Local\\Packages\\PythonSoftwareFoundation.Python.3.10_qbz5n2kfra8p0\\LocalCache\\local-packages\\Python310\\site-packages\\pandas\\core\\series.py:1012\u001b[0m, in \u001b[0;36mSeries.__getitem__\u001b[1;34m(self, key)\u001b[0m\n\u001b[0;32m   1009\u001b[0m     \u001b[39mreturn\u001b[39;00m \u001b[39mself\u001b[39m\u001b[39m.\u001b[39m_values[key]\n\u001b[0;32m   1011\u001b[0m \u001b[39melif\u001b[39;00m key_is_scalar:\n\u001b[1;32m-> 1012\u001b[0m     \u001b[39mreturn\u001b[39;00m \u001b[39mself\u001b[39;49m\u001b[39m.\u001b[39;49m_get_value(key)\n\u001b[0;32m   1014\u001b[0m \u001b[39mif\u001b[39;00m is_hashable(key):\n\u001b[0;32m   1015\u001b[0m     \u001b[39m# Otherwise index.get_value will raise InvalidIndexError\u001b[39;00m\n\u001b[0;32m   1016\u001b[0m     \u001b[39mtry\u001b[39;00m:\n\u001b[0;32m   1017\u001b[0m         \u001b[39m# For labels that don't resolve as scalars like tuples and frozensets\u001b[39;00m\n",
      "File \u001b[1;32m~\\AppData\\Local\\Packages\\PythonSoftwareFoundation.Python.3.10_qbz5n2kfra8p0\\LocalCache\\local-packages\\Python310\\site-packages\\pandas\\core\\series.py:1121\u001b[0m, in \u001b[0;36mSeries._get_value\u001b[1;34m(self, label, takeable)\u001b[0m\n\u001b[0;32m   1118\u001b[0m     \u001b[39mreturn\u001b[39;00m \u001b[39mself\u001b[39m\u001b[39m.\u001b[39m_values[label]\n\u001b[0;32m   1120\u001b[0m \u001b[39m# Similar to Index.get_value, but we do not fall back to positional\u001b[39;00m\n\u001b[1;32m-> 1121\u001b[0m loc \u001b[39m=\u001b[39m \u001b[39mself\u001b[39;49m\u001b[39m.\u001b[39;49mindex\u001b[39m.\u001b[39;49mget_loc(label)\n\u001b[0;32m   1123\u001b[0m \u001b[39mif\u001b[39;00m is_integer(loc):\n\u001b[0;32m   1124\u001b[0m     \u001b[39mreturn\u001b[39;00m \u001b[39mself\u001b[39m\u001b[39m.\u001b[39m_values[loc]\n",
      "File \u001b[1;32m~\\AppData\\Local\\Packages\\PythonSoftwareFoundation.Python.3.10_qbz5n2kfra8p0\\LocalCache\\local-packages\\Python310\\site-packages\\pandas\\core\\indexes\\base.py:3654\u001b[0m, in \u001b[0;36mIndex.get_loc\u001b[1;34m(self, key)\u001b[0m\n\u001b[0;32m   3652\u001b[0m     \u001b[39mreturn\u001b[39;00m \u001b[39mself\u001b[39m\u001b[39m.\u001b[39m_engine\u001b[39m.\u001b[39mget_loc(casted_key)\n\u001b[0;32m   3653\u001b[0m \u001b[39mexcept\u001b[39;00m \u001b[39mKeyError\u001b[39;00m \u001b[39mas\u001b[39;00m err:\n\u001b[1;32m-> 3654\u001b[0m     \u001b[39mraise\u001b[39;00m \u001b[39mKeyError\u001b[39;00m(key) \u001b[39mfrom\u001b[39;00m \u001b[39merr\u001b[39;00m\n\u001b[0;32m   3655\u001b[0m \u001b[39mexcept\u001b[39;00m \u001b[39mTypeError\u001b[39;00m:\n\u001b[0;32m   3656\u001b[0m     \u001b[39m# If we have a listlike key, _check_indexing_error will raise\u001b[39;00m\n\u001b[0;32m   3657\u001b[0m     \u001b[39m#  InvalidIndexError. Otherwise we fall through and re-raise\u001b[39;00m\n\u001b[0;32m   3658\u001b[0m     \u001b[39m#  the TypeError.\u001b[39;00m\n\u001b[0;32m   3659\u001b[0m     \u001b[39mself\u001b[39m\u001b[39m.\u001b[39m_check_indexing_error(key)\n",
      "\u001b[1;31mKeyError\u001b[0m: 0"
     ]
    }
   ],
   "source": [
    "type(sharks['Age'][0])"
   ]
  },
  {
   "cell_type": "code",
   "execution_count": null,
   "metadata": {},
   "outputs": [
    {
     "data": {
      "text/plain": [
       "Age\n",
       "Unknown    2868\n",
       "17          156\n",
       "18          153\n",
       "20          150\n",
       "19          142\n",
       "Name: count, dtype: int64"
      ]
     },
     "execution_count": 531,
     "metadata": {},
     "output_type": "execute_result"
    }
   ],
   "source": [
    "#Rellenamos los valores nulos con desconocido, a lo mejor relleno con cero no se...\n",
    "\n",
    "sharks.Age = sharks.Age.fillna('Unknown').astype(str)\n",
    "\n",
    "#para los que sean strings me quedo con los dos primeros caracteres\n",
    "\n",
    "sharks.Age = sharks.Age.apply(lambda z: z[:2])\n",
    "\n",
    "#convierto otra vez a string\n",
    "\n",
    "sharks.Age = sharks.Age.astype(str)\n",
    "\n",
    "#ahora convierto el string a int si no se puede pasa a ser desconcido \n",
    "\n",
    "def go(xx):\n",
    "    try:\n",
    "        return int(xx)\n",
    "    except:\n",
    "        return 'Unknown'\n",
    "\n",
    "sharks.Age = sharks.Age.apply(go)\n",
    "sharks.Age.value_counts().head()"
   ]
  },
  {
   "attachments": {},
   "cell_type": "markdown",
   "metadata": {},
   "source": [
    "Injury"
   ]
  },
  {
   "cell_type": "code",
   "execution_count": null,
   "metadata": {},
   "outputs": [
    {
     "data": {
      "text/plain": [
       "Injury\n",
       "FATAL          802\n",
       "Survived        97\n",
       "Foot bitten     87\n",
       "No injury       81\n",
       "Leg bitten      72\n",
       "Name: count, dtype: int64"
      ]
     },
     "execution_count": 532,
     "metadata": {},
     "output_type": "execute_result"
    }
   ],
   "source": [
    "edad = sharks['Injury'].value_counts()\n",
    "edad[edad>0].head()"
   ]
  },
  {
   "cell_type": "code",
   "execution_count": null,
   "metadata": {},
   "outputs": [
    {
     "data": {
      "text/plain": [
       "28"
      ]
     },
     "execution_count": 533,
     "metadata": {},
     "output_type": "execute_result"
    }
   ],
   "source": [
    "sharks['Injury'].isnull().sum()\n",
    "\n"
   ]
  },
  {
   "cell_type": "code",
   "execution_count": null,
   "metadata": {},
   "outputs": [],
   "source": [
    "\n",
    "\n",
    "sharks = sharks.rename(columns={'Fatal (Y/N)': 'Fatal'})"
   ]
  },
  {
   "cell_type": "code",
   "execution_count": null,
   "metadata": {},
   "outputs": [],
   "source": [
    "#como solo hay una vamos a rellenar los valores nulos de Injury con Survived\n",
    "#al final son 28 \n",
    "\n",
    "mask = (sharks['Fatal'] == 'Y') & (sharks['Injury'].isnull())\n",
    "fatal_y_injury_null = sharks[mask]\n",
    "fatal_y_injury_null\n",
    "\n",
    "sharks['Injury'] = sharks['Injury'].fillna('Survived')\n"
   ]
  },
  {
   "attachments": {},
   "cell_type": "markdown",
   "metadata": {},
   "source": [
    "Fatal"
   ]
  },
  {
   "cell_type": "code",
   "execution_count": null,
   "metadata": {},
   "outputs": [
    {
     "data": {
      "text/plain": [
       "Fatal\n",
       "N          4291\n",
       "Y          1388\n",
       "UNKNOWN      71\n",
       " N            7\n",
       "M             1\n",
       "2017          1\n",
       "N             1\n",
       "y             1\n",
       "Name: count, dtype: int64"
      ]
     },
     "execution_count": 536,
     "metadata": {},
     "output_type": "execute_result"
    }
   ],
   "source": [
    "\n",
    "\n",
    "muerte = sharks['Fatal'].value_counts()\n",
    "muerte[muerte>0]"
   ]
  },
  {
   "cell_type": "code",
   "execution_count": null,
   "metadata": {},
   "outputs": [],
   "source": [
    "#donde fatal sea unknown o nan e injury sea fatal\n",
    "\n",
    "sharks[(sharks['Fatal'].isnull()) & (sharks['Injury'] == 'FATAL')]\n",
    "sharks.loc[((sharks['Fatal'] == 'UNKNOWN') & (sharks['Fatal'].isnull())) & (sharks['Injury'] == 'FATAL'), 'Fatal'] = 'Y'\n",
    "\n"
   ]
  },
  {
   "cell_type": "code",
   "execution_count": null,
   "metadata": {},
   "outputs": [],
   "source": [
    "fatal = sharks['Fatal'].value_counts()"
   ]
  },
  {
   "cell_type": "code",
   "execution_count": null,
   "metadata": {},
   "outputs": [
    {
     "data": {
      "text/plain": [
       "Fatal\n",
       "N          4291\n",
       "Y          1388\n",
       "UNKNOWN      71\n",
       " N            7\n",
       "M             1\n",
       "2017          1\n",
       "N             1\n",
       "y             1\n",
       "Name: count, dtype: int64"
      ]
     },
     "execution_count": 539,
     "metadata": {},
     "output_type": "execute_result"
    }
   ],
   "source": [
    "fatal\n"
   ]
  },
  {
   "cell_type": "code",
   "execution_count": null,
   "metadata": {},
   "outputs": [
    {
     "data": {
      "text/plain": [
       "array(['N', 'Y', nan, 'M', 'UNKNOWN', '2017', ' N', 'N ', 'y'],\n",
       "      dtype=object)"
      ]
     },
     "execution_count": 540,
     "metadata": {},
     "output_type": "execute_result"
    }
   ],
   "source": [
    "sharks['Fatal'].unique()"
   ]
  },
  {
   "cell_type": "code",
   "execution_count": null,
   "metadata": {},
   "outputs": [],
   "source": [
    "#lo que se parezca a yes o no lo cambio para agrupar valores\n",
    "\n",
    "sharks[\"Fatal\"] = sharks[\"Fatal\"].replace(' N', 'N')\n",
    "sharks[\"Fatal\"] = sharks[\"Fatal\"].replace('N ', 'N')\n",
    "\n",
    "sharks[\"Fatal\"] = sharks[\"Fatal\"].replace('y', 'Y')\n",
    "\n",
    "#LOS QUE NO ENCAJAN LOS PASO A DESCONOCIDO \n",
    "\n",
    "sharks[\"Fatal\"] = sharks[\"Fatal\"].replace('M', 'UNKNOWN')\n",
    "sharks[\"Fatal\"] = sharks[\"Fatal\"].replace('2017', 'UNKNOWN')\n"
   ]
  },
  {
   "cell_type": "code",
   "execution_count": null,
   "metadata": {},
   "outputs": [
    {
     "data": {
      "text/plain": [
       "Fatal\n",
       "N          4299\n",
       "Y          1389\n",
       "UNKNOWN      73\n",
       "Name: count, dtype: int64"
      ]
     },
     "execution_count": 542,
     "metadata": {},
     "output_type": "execute_result"
    }
   ],
   "source": [
    "sharks['Fatal'].value_counts()"
   ]
  },
  {
   "cell_type": "code",
   "execution_count": null,
   "metadata": {},
   "outputs": [],
   "source": [
    "sharks[\"Fatal\"] = sharks[\"Fatal\"].replace('UNKNOWN', 'NA')\n",
    "sharks[\"Fatal\"] = sharks[\"Fatal\"].fillna('NA')"
   ]
  },
  {
   "attachments": {},
   "cell_type": "markdown",
   "metadata": {},
   "source": [
    "Time"
   ]
  },
  {
   "cell_type": "code",
   "execution_count": null,
   "metadata": {},
   "outputs": [
    {
     "data": {
      "text/plain": [
       "Time\n",
       "Afternoon    187\n",
       "11h00        128\n",
       "Morning      121\n",
       "12h00        109\n",
       "15h00        108\n",
       "Name: count, dtype: int64"
      ]
     },
     "execution_count": 544,
     "metadata": {},
     "output_type": "execute_result"
    }
   ],
   "source": [
    "hora = sharks['Time'].value_counts()\n",
    "hora[hora>0].head()"
   ]
  },
  {
   "cell_type": "code",
   "execution_count": null,
   "metadata": {},
   "outputs": [
    {
     "name": "stdout",
     "output_type": "stream",
     "text": [
      "0        True\n",
      "1       False\n",
      "2        True\n",
      "3       False\n",
      "4       False\n",
      "        ...  \n",
      "6297    False\n",
      "6298    False\n",
      "6299    False\n",
      "6300    False\n",
      "6301    False\n",
      "Name: Time, Length: 6300, dtype: bool\n"
     ]
    }
   ],
   "source": [
    "#los valores nulos pasan a desconocido \n",
    "\n",
    "\n",
    "sharks['Time'].fillna('Unknown', inplace=True)\n",
    "\n",
    "#se cambia el formato de la hora\n",
    "\n",
    "hora = sharks['Time'].str.contains('^\\d+h\\d+$')\n",
    "\n",
    "print(hora)\n",
    "\n",
    "sharks.loc[hora, 'Time'] = sharks.loc[hora, 'Time'].str.replace(r'(^\\d+)h(\\d+)', r'\\1:\\2').head(5)"
   ]
  },
  {
   "cell_type": "code",
   "execution_count": null,
   "metadata": {},
   "outputs": [],
   "source": [
    "sharks['Time'].unique()\n",
    "\n",
    "\n",
    "time_values = sharks.loc[~sharks['Time'].astype(str).str.match('^\\d+h\\d+$'), 'Time'].unique()\n",
    "\n",
    "time_values;"
   ]
  },
  {
   "cell_type": "code",
   "execution_count": null,
   "metadata": {},
   "outputs": [],
   "source": [
    "time_values = sharks.loc[~sharks['Time'].astype(str).str.contains('^\\d+h\\d+$'), 'Time'].unique()\n",
    "import re\n",
    "pattern = re.compile(r'^\\D*$')\n",
    "filtered_values = [value for value in time_values if pattern.match(str(value))]\n",
    "value_counts = pd.DataFrame({'Time': filtered_values}).value_counts()\n",
    "\n",
    "value_counts;"
   ]
  },
  {
   "cell_type": "code",
   "execution_count": null,
   "metadata": {},
   "outputs": [],
   "source": [
    "#Agrupamos valores\n",
    "\n"
   ]
  },
  {
   "cell_type": "code",
   "execution_count": null,
   "metadata": {},
   "outputs": [
    {
     "data": {
      "text/plain": [
       "0            18h00\n",
       "1    14h00  -15h00\n",
       "2            07h45\n",
       "3          Unknown\n",
       "4          Unknown\n",
       "Name: Time, dtype: object"
      ]
     },
     "execution_count": 549,
     "metadata": {},
     "output_type": "execute_result"
    }
   ],
   "source": [
    "sharks['Time'].head()"
   ]
  },
  {
   "cell_type": "code",
   "execution_count": null,
   "metadata": {},
   "outputs": [],
   "source": [
    "sharks['Time'] = sharks['Time'].fillna('Unknown')"
   ]
  },
  {
   "attachments": {},
   "cell_type": "markdown",
   "metadata": {},
   "source": [
    "Species"
   ]
  },
  {
   "cell_type": "code",
   "execution_count": null,
   "metadata": {},
   "outputs": [
    {
     "data": {
      "text/plain": [
       "Species\n",
       "White shark                                           163\n",
       "Shark involvement prior to death was not confirmed    105\n",
       "Invalid                                               102\n",
       "Shark involvement not confirmed                        87\n",
       "Tiger shark                                            73\n",
       "Shark involvement prior to death unconfirmed           68\n",
       "Bull shark                                             52\n",
       "6' shark                                               40\n",
       "4' shark                                               40\n",
       "1.8 m [6'] shark                                       35\n",
       "Questionable incident                                  35\n",
       "Questionable                                           33\n",
       "1.5 m [5'] shark                                       32\n",
       "Name: count, dtype: int64"
      ]
     },
     "execution_count": 551,
     "metadata": {},
     "output_type": "execute_result"
    }
   ],
   "source": [
    "sharks = sharks.rename(columns={'Species ': 'Species'})\n",
    "\n",
    "especie = sharks['Species'].value_counts()\n",
    "especie[especie>30]"
   ]
  },
  {
   "cell_type": "code",
   "execution_count": null,
   "metadata": {},
   "outputs": [],
   "source": [
    "#observo las que más se repiten y agrupo para limpiar"
   ]
  },
  {
   "cell_type": "code",
   "execution_count": null,
   "metadata": {},
   "outputs": [
    {
     "data": {
      "text/plain": [
       "'\\n\\na_reemplazar = [\\'Shark involvement prior to death was not confirmed\\',\\'Invalid\\',\\'Shark involvement not confirmed\\',\\'Shark involvement prior to death unconfirmed\\',\\'Questionable incident\\', \\'Questionable\\'   ]\\n\\n\\n# Reemplazar los valores en la columna \"nombre_columna\" por \"not confirmed\"\\nsharks[\\'Species\\'] = sharks[\\'Species\\'].replace(a_reemplazar, \\'Shark involvement not confirmed\\', inplace=True)\\n\\n'"
      ]
     },
     "execution_count": 553,
     "metadata": {},
     "output_type": "execute_result"
    }
   ],
   "source": [
    "'''\n",
    "\n",
    "a_reemplazar = ['Shark involvement prior to death was not confirmed','Invalid','Shark involvement not confirmed','Shark involvement prior to death unconfirmed','Questionable incident', 'Questionable'   ]\n",
    "\n",
    "\n",
    "# Reemplazar los valores en la columna \"nombre_columna\" por \"not confirmed\"\n",
    "sharks['Species'] = sharks['Species'].replace(a_reemplazar, 'Shark involvement not confirmed', inplace=True)\n",
    "\n",
    "'''\n"
   ]
  },
  {
   "cell_type": "code",
   "execution_count": null,
   "metadata": {},
   "outputs": [
    {
     "data": {
      "text/plain": [
       "Species\n",
       "White shark                                           163\n",
       "Shark involvement prior to death was not confirmed    105\n",
       "Invalid                                               102\n",
       "Shark involvement not confirmed                        87\n",
       "Tiger shark                                            73\n",
       "Shark involvement prior to death unconfirmed           68\n",
       "Bull shark                                             52\n",
       "6' shark                                               40\n",
       "4' shark                                               40\n",
       "1.8 m [6'] shark                                       35\n",
       "Questionable incident                                  35\n",
       "Questionable                                           33\n",
       "1.5 m [5'] shark                                       32\n",
       "Name: count, dtype: int64"
      ]
     },
     "execution_count": 554,
     "metadata": {},
     "output_type": "execute_result"
    }
   ],
   "source": [
    "especie = sharks['Species'].value_counts()\n",
    "especie[especie>30]"
   ]
  },
  {
   "cell_type": "code",
   "execution_count": null,
   "metadata": {},
   "outputs": [],
   "source": [
    "sharks[\"Species\"] = sharks[\"Species\"].replace('Shark involvement prior to death was not confirmed', 'Shark involvement not confirmed')\n",
    "sharks[\"Species\"] = sharks[\"Species\"].replace('Invalid', 'Shark involvement not confirmed')\n",
    "sharks[\"Species\"] = sharks[\"Species\"].replace('Shark involvement prior to death unconfirmed', 'Shark involvement not confirmed')\n",
    "sharks[\"Species\"] = sharks[\"Species\"].replace('Questionable incident', 'Shark involvement not confirmed')\n",
    "sharks[\"Species\"] = sharks[\"Species\"].replace('Questionable', 'Shark involvement not confirmed')\n",
    "sharks[\"Species\"] = sharks[\"Species\"].replace('Questionable', 'Shark involvement not confirmed')\n"
   ]
  },
  {
   "cell_type": "code",
   "execution_count": null,
   "metadata": {},
   "outputs": [],
   "source": [
    "especie = sharks['Species'].value_counts()\n",
    "especie[especie>10];"
   ]
  },
  {
   "cell_type": "code",
   "execution_count": null,
   "metadata": {},
   "outputs": [],
   "source": [
    "sharks['Species'].fillna('Other', inplace=True)"
   ]
  },
  {
   "attachments": {},
   "cell_type": "markdown",
   "metadata": {},
   "source": [
    "Investigator or Source"
   ]
  },
  {
   "cell_type": "code",
   "execution_count": null,
   "metadata": {},
   "outputs": [],
   "source": [
    "caso = sharks['Investigator or Source'].value_counts()\n",
    "caso[caso>5];"
   ]
  },
  {
   "cell_type": "code",
   "execution_count": null,
   "metadata": {},
   "outputs": [],
   "source": [
    "sharks['Investigator or Source'].fillna('Unknown', inplace=True)"
   ]
  },
  {
   "attachments": {},
   "cell_type": "markdown",
   "metadata": {},
   "source": [
    "PDF"
   ]
  },
  {
   "cell_type": "code",
   "execution_count": null,
   "metadata": {},
   "outputs": [],
   "source": [
    "sharks = sharks.rename(columns={'pdf': 'Case File (PDF)'})"
   ]
  },
  {
   "cell_type": "code",
   "execution_count": null,
   "metadata": {},
   "outputs": [],
   "source": [
    "sharks['Case File (PDF)'].fillna('Unknown', inplace=True)"
   ]
  },
  {
   "attachments": {},
   "cell_type": "markdown",
   "metadata": {},
   "source": [
    "href y href formula"
   ]
  },
  {
   "cell_type": "code",
   "execution_count": null,
   "metadata": {},
   "outputs": [],
   "source": [
    "sharks['href'] == sharks['href formula'];"
   ]
  },
  {
   "cell_type": "code",
   "execution_count": null,
   "metadata": {},
   "outputs": [],
   "source": [
    "#busco en que filas el elemento no coincide\n",
    "\n",
    "# Crear una serie booleana que indique si href es diferente a href formula\n",
    "condicion = sharks['href'] != sharks['href formula']\n",
    "\n",
    "# Seleccionar las filas donde la condición es verdadera\n",
    "filas_diferentes = sharks[condicion]\n",
    "\n",
    "filas_diferentes;\n"
   ]
  },
  {
   "cell_type": "code",
   "execution_count": null,
   "metadata": {},
   "outputs": [
    {
     "data": {
      "text/plain": [
       "'http://sharkattackfile.net/spreadsheets/pdf_directory/http://sharkattackfile.net/spreadsheets/pdf_directory/2017.08.27-Brundler.pdf'"
      ]
     },
     "execution_count": 564,
     "metadata": {},
     "output_type": "execute_result"
    }
   ],
   "source": [
    "sharks['href'][96]"
   ]
  },
  {
   "cell_type": "code",
   "execution_count": null,
   "metadata": {},
   "outputs": [
    {
     "data": {
      "text/plain": [
       "'http://sharkattackfile.net/spreadsheets/pdf_directory/2017.08.27-Brundler.pdf'"
      ]
     },
     "execution_count": 565,
     "metadata": {},
     "output_type": "execute_result"
    }
   ],
   "source": [
    "sharks['href formula'][96]"
   ]
  },
  {
   "cell_type": "code",
   "execution_count": null,
   "metadata": {},
   "outputs": [],
   "source": [
    "#analizando algunos me doy cuenta de que los valores que coinciden es porque\n",
    "#href sale error not found y en href formula si que aparece el bueno\n",
    "#así que copio lo que pone en hre formula a href\n",
    "\n",
    "# Sobrescribir los valores en href formula donde la condición es verdadera\n",
    "sharks.loc[condicion, 'href formula'] = sharks.loc[condicion, 'href']\n",
    "\n",
    "# Verificar que los valores se hayan sobrescrito correctamente\n"
   ]
  },
  {
   "cell_type": "code",
   "execution_count": null,
   "metadata": {},
   "outputs": [],
   "source": [
    "sharks['href'] == sharks['href formula'];"
   ]
  },
  {
   "cell_type": "code",
   "execution_count": null,
   "metadata": {},
   "outputs": [
    {
     "data": {
      "text/html": [
       "<div>\n",
       "<style scoped>\n",
       "    .dataframe tbody tr th:only-of-type {\n",
       "        vertical-align: middle;\n",
       "    }\n",
       "\n",
       "    .dataframe tbody tr th {\n",
       "        vertical-align: top;\n",
       "    }\n",
       "\n",
       "    .dataframe thead th {\n",
       "        text-align: right;\n",
       "    }\n",
       "</style>\n",
       "<table border=\"1\" class=\"dataframe\">\n",
       "  <thead>\n",
       "    <tr style=\"text-align: right;\">\n",
       "      <th></th>\n",
       "      <th>Case Number</th>\n",
       "      <th>Date</th>\n",
       "      <th>Year</th>\n",
       "      <th>Type</th>\n",
       "      <th>Country</th>\n",
       "      <th>Area</th>\n",
       "      <th>Location</th>\n",
       "      <th>Activity</th>\n",
       "      <th>Name</th>\n",
       "      <th>Sex</th>\n",
       "      <th>...</th>\n",
       "      <th>Species</th>\n",
       "      <th>Investigator or Source</th>\n",
       "      <th>Case File (PDF)</th>\n",
       "      <th>href formula</th>\n",
       "      <th>href</th>\n",
       "      <th>Case Number.1</th>\n",
       "      <th>Case Number.2</th>\n",
       "      <th>original order</th>\n",
       "      <th>Unnamed: 22</th>\n",
       "      <th>Unnamed: 23</th>\n",
       "    </tr>\n",
       "  </thead>\n",
       "  <tbody>\n",
       "  </tbody>\n",
       "</table>\n",
       "<p>0 rows × 24 columns</p>\n",
       "</div>"
      ],
      "text/plain": [
       "Empty DataFrame\n",
       "Columns: [Case Number, Date, Year, Type, Country, Area, Location, Activity, Name, Sex, Age, Injury, Fatal, Time, Species, Investigator or Source, Case File (PDF), href formula, href, Case Number.1, Case Number.2, original order, Unnamed: 22, Unnamed: 23]\n",
       "Index: []\n",
       "\n",
       "[0 rows x 24 columns]"
      ]
     },
     "execution_count": 568,
     "metadata": {},
     "output_type": "execute_result"
    }
   ],
   "source": [
    "# Seleccionar las filas donde href sea nulo y href formula no sea nulo\n",
    "filas_null = sharks[(sharks['href'].isnull()) & (~sharks['href formula'].isnull())]\n",
    "\n",
    "filas_null"
   ]
  },
  {
   "cell_type": "code",
   "execution_count": null,
   "metadata": {},
   "outputs": [],
   "source": [
    "#ahora href formula no sirve para nada y podríamos utilizarla para otra cosa"
   ]
  },
  {
   "cell_type": "code",
   "execution_count": null,
   "metadata": {},
   "outputs": [],
   "source": [
    "sharks = sharks.rename(columns={'href': 'Case File (URL)'})"
   ]
  },
  {
   "cell_type": "code",
   "execution_count": null,
   "metadata": {},
   "outputs": [
    {
     "data": {
      "text/plain": [
       "Index(['Case Number', 'Date', 'Year', 'Type', 'Country', 'Area', 'Location',\n",
       "       'Activity', 'Name', 'Sex', 'Age', 'Injury', 'Fatal', 'Time', 'Species',\n",
       "       'Investigator or Source', 'Case File (PDF)', 'href formula',\n",
       "       'Case File (URL)', 'Case Number.1', 'Case Number.2', 'original order',\n",
       "       'Unnamed: 22', 'Unnamed: 23'],\n",
       "      dtype='object')"
      ]
     },
     "execution_count": 571,
     "metadata": {},
     "output_type": "execute_result"
    }
   ],
   "source": [
    "sharks.columns\n"
   ]
  },
  {
   "cell_type": "code",
   "execution_count": null,
   "metadata": {},
   "outputs": [],
   "source": [
    "sharks['Case File (URL)'].fillna('Unknown', inplace=True)"
   ]
  },
  {
   "attachments": {},
   "cell_type": "markdown",
   "metadata": {},
   "source": [
    "Year"
   ]
  },
  {
   "cell_type": "code",
   "execution_count": null,
   "metadata": {},
   "outputs": [],
   "source": [
    "#me deshago de los nulos y los convierto en enteroa\n",
    "\n",
    "sharks.dropna(subset=['Year'],inplace=True)\n",
    "sharks.Year = sharks.Year.astype(int)"
   ]
  },
  {
   "cell_type": "code",
   "execution_count": null,
   "metadata": {},
   "outputs": [
    {
     "data": {
      "text/plain": [
       "(6298, 24)"
      ]
     },
     "execution_count": 574,
     "metadata": {},
     "output_type": "execute_result"
    }
   ],
   "source": [
    "sharks.shape"
   ]
  },
  {
   "cell_type": "code",
   "execution_count": null,
   "metadata": {},
   "outputs": [],
   "source": [
    "sharks.isna().sum();"
   ]
  },
  {
   "cell_type": "code",
   "execution_count": null,
   "metadata": {},
   "outputs": [
    {
     "data": {
      "text/plain": [
       "(6298, 24)"
      ]
     },
     "execution_count": 576,
     "metadata": {},
     "output_type": "execute_result"
    }
   ],
   "source": [
    "sharks.shape"
   ]
  },
  {
   "cell_type": "code",
   "execution_count": null,
   "metadata": {},
   "outputs": [],
   "source": [
    "sharks.head();"
   ]
  },
  {
   "attachments": {},
   "cell_type": "markdown",
   "metadata": {},
   "source": [
    "Date"
   ]
  },
  {
   "cell_type": "code",
   "execution_count": null,
   "metadata": {},
   "outputs": [
    {
     "data": {
      "text/plain": [
       "1535"
      ]
     },
     "execution_count": 578,
     "metadata": {},
     "output_type": "execute_result"
    }
   ],
   "source": [
    "#voy a ver cuatos datos no cumplen con el formato dia mesa año\n",
    "\n",
    "count = 0\n",
    "for value in sharks['Date']:\n",
    "    try:\n",
    "        pd.to_datetime(value, format='%d-%b-%Y')\n",
    "    except ValueError:\n",
    "        count += 1\n",
    "\n",
    "count\n",
    "\n",
    "#hay demasiados no me los puedo cargar, voy a ver si los puedo agrupar al menos"
   ]
  },
  {
   "cell_type": "code",
   "execution_count": null,
   "metadata": {},
   "outputs": [],
   "source": [
    "\n",
    "\n",
    "fecha = sharks['Date'].value_counts()\n",
    "fecha[fecha>3];"
   ]
  },
  {
   "cell_type": "code",
   "execution_count": null,
   "metadata": {},
   "outputs": [],
   "source": [
    "#de la columna Date los que sean solo un año\n",
    "#los paso a la columna Year así no pierdo ese valor\n",
    "\n",
    "sharks['Year'] = sharks['Date'].str.extract(r'(\\d{4})')\n",
    "\n",
    "#ahora que ya lo tengo Year los elimino de la columna Date\n",
    "\n",
    "# Identificar las filas donde la columna 'Date' contiene solo cuatro dígitos\n",
    "mask = sharks['Date'].str.contains(r'^\\d{4}$')\n",
    "\n",
    "# Reemplazar los valores correspondientes con 'No date'\n",
    "sharks.loc[mask, 'Date'] = 'No date'"
   ]
  },
  {
   "cell_type": "code",
   "execution_count": null,
   "metadata": {},
   "outputs": [],
   "source": [
    "fecha = sharks['Date'].value_counts()\n",
    "fecha[fecha>3];"
   ]
  },
  {
   "cell_type": "code",
   "execution_count": null,
   "metadata": {},
   "outputs": [],
   "source": [
    "#reemplazo a mano los que tienen el formato bueno \n",
    "\n",
    "sharks['Date'] = sharks['Date'].replace('1960s','No date')\n",
    "sharks['Date'] = sharks['Date'].replace('1970s','No date')\n",
    "sharks['Date'] = sharks['Date'].replace('Before 1906','No date')\n",
    "sharks['Date'] = sharks['Date'].replace('Before 1958','No date')\n",
    "sharks['Date'] = sharks['Date'].replace('Reported 10-Oct-1906','No date')\n",
    "sharks['Date'] = sharks['Date'].replace('No date, Before 1963','No date')\n",
    "sharks['Date'] = sharks['Date'].replace('Aug-1956','No date')\n",
    "sharks['Date'] = sharks['Date'].replace('Oct-1960','No date')\n",
    "sharks['Date'] = sharks['Date'].replace(' 01-Sep-2013','01-Sep-2013')\n",
    "sharks['Date'] = sharks['Date'].replace('Summer 1943','No date')\n",
    "sharks['Date'] = sharks['Date'].replace('19955','No date')\n",
    "sharks['Date'] = sharks['Date'].replace('Circa 1958','No date')\n",
    "sharks['Date'] = sharks['Date'].replace('Feb-1957','No date')\n",
    "sharks['Date'] = sharks['Date'].replace('1845-1853','No date')\n",
    "\n",
    "#voy a parar porque esto deja de tener sentido \n"
   ]
  },
  {
   "cell_type": "code",
   "execution_count": null,
   "metadata": {},
   "outputs": [],
   "source": [
    "fecha = sharks['Date'].value_counts()\n",
    "fecha[fecha==1];"
   ]
  },
  {
   "cell_type": "code",
   "execution_count": null,
   "metadata": {},
   "outputs": [],
   "source": [
    "#utilizo una de las columnas inutiles para guardar el mes \n",
    "\n",
    "sharks = sharks.rename(columns={'Case Number.1': 'Month'})\n",
    "\n",
    "sharks['Month'] = sharks['Month'] = None"
   ]
  },
  {
   "cell_type": "code",
   "execution_count": null,
   "metadata": {},
   "outputs": [],
   "source": [
    "sharks['Month'] = sharks['Date'].str.extract(r'(\\w{3})', expand=False).fillna('Unknown')\n"
   ]
  },
  {
   "cell_type": "code",
   "execution_count": null,
   "metadata": {},
   "outputs": [],
   "source": [
    "sharks['Month'].value_counts;"
   ]
  },
  {
   "cell_type": "code",
   "execution_count": null,
   "metadata": {},
   "outputs": [],
   "source": [
    "meses = ['Jan', 'Feb', 'Mar', 'Apr', 'May', 'Jun', 'Jul', 'Aug', 'Sep', 'Oct', 'Nov', 'Dec']\n",
    "\n",
    "sharks.loc[~sharks['Month'].isin(meses), 'Month'] = 'Unknown'"
   ]
  },
  {
   "cell_type": "code",
   "execution_count": null,
   "metadata": {},
   "outputs": [
    {
     "data": {
      "text/plain": [
       "1115"
      ]
     },
     "execution_count": 588,
     "metadata": {},
     "output_type": "execute_result"
    }
   ],
   "source": [
    "(sharks['Month'] == 'Unknown').astype(int).sum()"
   ]
  },
  {
   "attachments": {},
   "cell_type": "markdown",
   "metadata": {},
   "source": [
    "Vuelta a Year"
   ]
  },
  {
   "cell_type": "code",
   "execution_count": null,
   "metadata": {},
   "outputs": [],
   "source": [
    "#veo que en Year vuelvo a tener valores nulos\n",
    "sharks[(sharks['Year'].isnull()) & (sharks['Date'].notnull())].head(10)\n",
    "\n",
    "#como tampoco tengo la fecha relleno ese año con Unknown\n",
    "\n",
    "sharks['Year'] = sharks['Year'].fillna('Unknown')\n"
   ]
  },
  {
   "attachments": {},
   "cell_type": "markdown",
   "metadata": {},
   "source": [
    "Eliminar duplicados"
   ]
  },
  {
   "cell_type": "code",
   "execution_count": null,
   "metadata": {},
   "outputs": [],
   "source": [
    "sharks.drop_duplicates(subset=list(sharks.columns));"
   ]
  },
  {
   "attachments": {},
   "cell_type": "markdown",
   "metadata": {},
   "source": [
    "Estación del año"
   ]
  },
  {
   "cell_type": "code",
   "execution_count": null,
   "metadata": {},
   "outputs": [],
   "source": [
    "sharks = sharks.rename(columns={'Case Number.2': 'Season'})"
   ]
  },
  {
   "cell_type": "code",
   "execution_count": null,
   "metadata": {},
   "outputs": [],
   "source": [
    "def get_season(month):\n",
    "    if month in ['Dec', 'Jan', 'Feb']:\n",
    "        return 'Winter'\n",
    "    elif month in ['Mar', 'Apr', 'May']:\n",
    "        return 'Spring'\n",
    "    elif month in ['Jun', 'Jul', 'Aug']:\n",
    "        return 'Summer'\n",
    "    elif month in ['Sep', 'Oct', 'Nov']:\n",
    "        return 'Autumn'\n",
    "    else:\n",
    "        return 'Unknown'\n",
    "\n",
    "# Aplicar la función a la columna Month y asignar el resultado a la columna Season\n",
    "sharks['Season'] = sharks['Month'].apply(get_season)"
   ]
  },
  {
   "cell_type": "code",
   "execution_count": null,
   "metadata": {},
   "outputs": [],
   "source": [
    "sharks['Season'];"
   ]
  },
  {
   "attachments": {},
   "cell_type": "markdown",
   "metadata": {},
   "source": [
    "Week day"
   ]
  },
  {
   "cell_type": "code",
   "execution_count": null,
   "metadata": {},
   "outputs": [],
   "source": [
    "sharks = sharks.rename(columns={'href formula': 'Week Day'})\n",
    "\n",
    "sharks['Week Day'] = None\n",
    "\n",
    "sharks['Week Day'];\n"
   ]
  },
  {
   "cell_type": "code",
   "execution_count": null,
   "metadata": {},
   "outputs": [],
   "source": [
    "#que toda la columna lleve este valor\n",
    "#cuando encuentre de la columan date los que cumplen con el formato\n",
    "#saco que día de la semana es \n",
    "\n",
    "sharks['Week Day'] = sharks['Week Day'].fillna('unknown')\n"
   ]
  },
  {
   "cell_type": "code",
   "execution_count": null,
   "metadata": {},
   "outputs": [],
   "source": [
    "#Para cada fila, intenta convertir el valor de la columna \"Date\" a un objeto datetime usando el formato \"%d-%b-%Y\".\n",
    "#Si esto es exitoso, establece el valor de la columna \"Week Day\" en el día de la semana correspondiente. \n",
    "#Si no es exitoso, la columna \"Week Day\" ya está configurada en \"unknown\".\n",
    "\n",
    "\n",
    "for i, row in sharks.iterrows():\n",
    "    try:\n",
    "        date = pd.to_datetime(row['Date'], format='%d-%b-%Y')\n",
    "        sharks.loc[i, 'Week Day'] = date.strftime('%A')\n",
    "    except ValueError:\n",
    "        pass"
   ]
  },
  {
   "cell_type": "code",
   "execution_count": null,
   "metadata": {},
   "outputs": [],
   "source": [
    "sharks['Week Day'];"
   ]
  },
  {
   "cell_type": "code",
   "execution_count": null,
   "metadata": {},
   "outputs": [
    {
     "data": {
      "text/plain": [
       "Index(['Case Number', 'Date', 'Year', 'Type', 'Country', 'Area', 'Location',\n",
       "       'Activity', 'Name', 'Sex', 'Age', 'Injury', 'Fatal', 'Time', 'Species',\n",
       "       'Investigator or Source', 'Case File (PDF)', 'Week Day',\n",
       "       'Case File (URL)', 'Month', 'Season', 'original order', 'Unnamed: 22',\n",
       "       'Unnamed: 23'],\n",
       "      dtype='object')"
      ]
     },
     "execution_count": 598,
     "metadata": {},
     "output_type": "execute_result"
    }
   ],
   "source": [
    "sharks.columns"
   ]
  },
  {
   "attachments": {},
   "cell_type": "markdown",
   "metadata": {},
   "source": [
    "Convierto una columna en el indice del dataframe"
   ]
  },
  {
   "cell_type": "code",
   "execution_count": null,
   "metadata": {},
   "outputs": [],
   "source": [
    "sharks = sharks.rename(columns={'Unnamed: 22': 'Index'})\n",
    "\n",
    "sharks['Index'] = range(1, len(sharks) + 1)\n",
    "\n",
    "sharks = sharks.set_index('Index')"
   ]
  },
  {
   "attachments": {},
   "cell_type": "markdown",
   "metadata": {},
   "source": [
    "Que tan dificil sería hacer una columna con el continente "
   ]
  },
  {
   "cell_type": "code",
   "execution_count": null,
   "metadata": {},
   "outputs": [],
   "source": [
    "sharks['Country'].value_counts()\n",
    "\n",
    "sharks['Country'] = sharks['Country'].replace('Usa', 'USA')\n",
    "paises = sharks['Country'].value_counts()\n",
    "paises[paises>20];"
   ]
  },
  {
   "cell_type": "code",
   "execution_count": null,
   "metadata": {},
   "outputs": [],
   "source": [
    "#voy a hacerlo para los que se repiten más de 20 veces\n",
    "\n",
    "paises_mas_10 = list(paises[paises>10].index)\n",
    "\n",
    "paises_mas_10;\n"
   ]
  },
  {
   "cell_type": "code",
   "execution_count": null,
   "metadata": {},
   "outputs": [],
   "source": [
    "continents = {'USA': 'North America',\n",
    "              'Australia': 'Oceania',\n",
    "              'South Africa': 'Africa',\n",
    "              'Papua New Guinea': 'Oceania',\n",
    "              'New Zealand': 'Oceania',\n",
    "              'Brazil': 'South America',\n",
    "              'Bahamas': 'North America',\n",
    "              'Mexico': 'North America',\n",
    "              'Italy': 'Europe',\n",
    "              'Fiji': 'Oceania',\n",
    "              'Philippines': 'Asia',\n",
    "              'Reunion': 'Africa',\n",
    "              'New Caledonia': 'Oceania',\n",
    "              'Unknown': 'Unknown',\n",
    "              'Cuba': 'North America',\n",
    "              'Mozambique': 'Africa',\n",
    "              'Spain': 'Europe',\n",
    "              'India': 'Asia',\n",
    "              'Egypt': 'Africa',\n",
    "              'Croatia': 'Europe',\n",
    "              'Japan': 'Asia',\n",
    "              'Panama': 'North America',\n",
    "              'Solomon Islands': 'Oceania',\n",
    "              'Iran': 'Asia',\n",
    "              'Jamaica': 'North America',\n",
    "              'Greece': 'Europe',\n",
    "              'French Polynesia': 'Oceania',\n",
    "              'Hong Kong': 'Asia',\n",
    "              'Indonesia': 'Asia',\n",
    "              'England': 'Europe',\n",
    "              'Costa Rica': 'North America',\n",
    "              'Atlantic Ocean': 'Unknown',\n",
    "              'Pacific Ocean': 'Unknown',\n",
    "              'Bermuda': 'North America',\n",
    "              'Vietnam': 'Asia',\n",
    "              'Tonga': 'Oceania',\n",
    "              'Vanuatu': 'Oceania',\n",
    "              'Sri Lanka': 'Asia',\n",
    "              'France': 'Europe',\n",
    "              'Marshall Islands': 'Oceania',\n",
    "              'Turkey': 'Asia',\n",
    "              'Canada': 'North America',\n",
    "              'South Atlantic Ocean': 'Unknown',\n",
    "              'Iraq': 'Asia',\n",
    "              'Venezuela': 'South America',\n",
    "              'United Kingdom': 'Europe',\n",
    "              'Senegal': 'Africa'\n",
    "              }\n"
   ]
  },
  {
   "cell_type": "code",
   "execution_count": null,
   "metadata": {},
   "outputs": [],
   "source": [
    "sharks = sharks.rename(columns={'Unnamed: 23': 'Continent'})\n",
    "\n",
    "sharks['Continent'] = sharks['Country'].map(continents)\n",
    "\n",
    "sharks['Continent'] = sharks['Continent'].fillna('Unknown')\n"
   ]
  },
  {
   "cell_type": "code",
   "execution_count": null,
   "metadata": {},
   "outputs": [],
   "source": [
    "sharks.head();"
   ]
  },
  {
   "attachments": {},
   "cell_type": "markdown",
   "metadata": {},
   "source": [
    "Limpieza de Area y Location:"
   ]
  },
  {
   "cell_type": "code",
   "execution_count": null,
   "metadata": {},
   "outputs": [],
   "source": [
    "sharks['Area'] = sharks['Area'].str.title()\n",
    "sharks['Location'] = sharks['Location'].str.title()"
   ]
  },
  {
   "cell_type": "code",
   "execution_count": null,
   "metadata": {},
   "outputs": [],
   "source": [
    "local = sharks['Location'].value_counts()\n",
    "local_rep = list(local[local>5].index)\n",
    "\n",
    "local_rep;"
   ]
  },
  {
   "attachments": {},
   "cell_type": "markdown",
   "metadata": {},
   "source": [
    "A que mar pertenece cada uno de los ataques "
   ]
  },
  {
   "cell_type": "code",
   "execution_count": null,
   "metadata": {},
   "outputs": [],
   "source": [
    "sharks = sharks.rename(columns={'original order': 'Sea'})"
   ]
  },
  {
   "cell_type": "code",
   "execution_count": null,
   "metadata": {},
   "outputs": [],
   "source": [
    "seas = {\n",
    "'Unknown': 'Unknown',\n",
    "'New Smyrna Beach, Volusia County': 'Atlantic Ocean',\n",
    "'Daytona Beach, Volusia County': 'Atlantic Ocean',\n",
    "'Ponce Inlet, Volusia County': 'Atlantic Ocean',\n",
    "'Melbourne Beach, Brevard County': 'Atlantic Ocean',\n",
    "'Myrtle Beach, Horry County': 'Atlantic Ocean',\n",
    "'Durban': 'Indian Ocean',\n",
    "'Boa Viagem, Recife': 'Atlantic Ocean',\n",
    "'Isle of Palms, Charleston County': 'Atlantic Ocean',\n",
    "'Torres Strait': 'Pacific Ocean',\n",
    "'Ponce Inlet, New Smyrna Beach, Volusia County': 'Atlantic Ocean',\n",
    "'Hawaii': 'Pacific Ocean',\n",
    "'Florida': 'Atlantic Ocean',\n",
    "'Cocoa Beach, Brevard County': 'Atlantic Ocean',\n",
    "'Ormond Beach, Volusia County': 'Atlantic Ocean',\n",
    "'Piedade': 'Atlantic Ocean',\n",
    "'Palm Beach, Palm Beach County': 'Atlantic Ocean',\n",
    "'Mossel Bay': 'Indian Ocean',\n",
    "'Ahvaz, on the Karun River': 'Persian Gulf',\n",
    "'Sydney Harbor': 'Pacific Ocean',\n",
    "'Sydney': 'Pacific Ocean',\n",
    "'Nahoon': 'Indian Ocean',\n",
    "'Singer Island, Riviera Beach, Palm Beach County': 'Atlantic Ocean',\n",
    "'Xai Xai': 'Indian Ocean',\n",
    "'Jacksonville Beach, Duval County': 'Atlantic Ocean',\n",
    "'North Beach, Durban': 'Indian Ocean',\n",
    "'Havana Harbor': 'Atlantic Ocean',\n",
    "'Juno Beach, Palm Beach County': 'Atlantic Ocean',\n",
    "'Brisbane River': 'Pacific Ocean',\n",
    "'Near Thursday Island': 'Pacific Ocean',\n",
    "'Florida Keys, Monroe County': 'Atlantic Ocean',\n",
    "'Nahoon, East London': 'Indian Ocean',\n",
    "'Boa Viagem Beach, Recife': 'Atlantic Ocean',\n",
    "'Moreton Bay': 'Pacific Ocean',\n",
    "'Amanzimtoti': 'Indian Ocean',\n",
    "'Florida Keys': 'Atlantic Ocean',\n",
    "'False Bay': 'Atlantic Ocean',\n",
    "'Vero Beach, Indian River County': 'Atlantic Ocean',\n",
    "'Country Club Beach, Durban': 'Indian Ocean',\n",
    "'Port Said': 'Mediterranean Sea',\n",
    "'Sanibel Island, Lee County': 'Gulf of Mexico',\n",
    "'Thursday Island': 'Pacific Ocean',\n",
    "'Quy Nhon ': 'South China Sea',\n",
    "'Folly Beach, Charleston County': 'Atlantic Ocean',\n",
    "'New South Wales': 'Pacific Ocean',\n",
    "'Port Alfred': 'Indian Ocean',\n",
    "'Plettenberg Bay': 'Indian Ocean',\n",
    "'Pensacola Bay, Escambia County': 'Gulf of Mexico',\n",
    "'Riviera Beach, Palm Beach County': 'Atlantic Ocean',\n",
    "'Charleston': 'Atlantic Ocean',\n",
    "'Jacksonville, Duval County': 'Atlantic Ocean',\n",
    "'Mirs Bay ': 'Pacific Ocean',\n",
    "'Ross River, Townsville': 'Pacific Ocean',\n",
    "'Bunbury': 'Indian Ocean',\n",
    "'Bondi': 'Pacific Ocean',\n",
    "'Brisbane': 'Pacific Ocean',\n",
    "'Townsville': 'Pacific Ocean',\n",
    "'Coogee': 'Pacific Ocean',\n",
    "'Great Barrier Reef': 'Pacific Ocean',\n",
    "'Key West, Monroe County': 'Gulf of Mexico',\n",
    "'Shatt-al-Arab River': 'Persian Gulf',\n",
    "'Jensen Beach, Martin County': 'Atlantic Ocean'}"
   ]
  },
  {
   "cell_type": "code",
   "execution_count": null,
   "metadata": {},
   "outputs": [],
   "source": [
    "sharks['Sea'] = sharks['Country'].map(seas)\n",
    "\n",
    "sharks['Sea'] = sharks['Sea'].fillna('Unknown')"
   ]
  },
  {
   "attachments": {},
   "cell_type": "markdown",
   "metadata": {},
   "source": [
    "Cambiar el orden de las columnas"
   ]
  },
  {
   "cell_type": "code",
   "execution_count": null,
   "metadata": {},
   "outputs": [
    {
     "data": {
      "text/plain": [
       "Index(['Case Number', 'Date', 'Year', 'Type', 'Country', 'Area', 'Location',\n",
       "       'Activity', 'Name', 'Sex', 'Age', 'Injury', 'Fatal', 'Time', 'Species',\n",
       "       'Investigator or Source', 'Case File (PDF)', 'Week Day',\n",
       "       'Case File (URL)', 'Month', 'Season', 'Sea', 'Continent'],\n",
       "      dtype='object')"
      ]
     },
     "execution_count": 610,
     "metadata": {},
     "output_type": "execute_result"
    }
   ],
   "source": [
    "sharks.columns"
   ]
  },
  {
   "cell_type": "code",
   "execution_count": null,
   "metadata": {},
   "outputs": [],
   "source": [
    "column_order = ['Case Number','Year', 'Country','Month', 'Fatal', 'Name', 'Age','Sex','Species','Continent','Sea','Area', 'Location', \n",
    "        'Week Day','Date' , 'Season','Activity','Injury', 'Time','Investigator or Source', 'Case File (PDF)','Case File (URL)','Type']\n",
    "sharks = sharks.reindex(columns=column_order)"
   ]
  },
  {
   "cell_type": "code",
   "execution_count": null,
   "metadata": {},
   "outputs": [],
   "source": [
    "sharks.head();"
   ]
  },
  {
   "attachments": {},
   "cell_type": "markdown",
   "metadata": {},
   "source": [
    "Exporto el csv 'limpiado'"
   ]
  },
  {
   "cell_type": "code",
   "execution_count": null,
   "metadata": {},
   "outputs": [],
   "source": [
    "#sharks.to_csv('cleaned_shark.csv', index=False)"
   ]
  }
 ],
 "metadata": {
  "kernelspec": {
   "display_name": "Python 3",
   "language": "python",
   "name": "python3"
  },
  "language_info": {
   "codemirror_mode": {
    "name": "ipython",
    "version": 3
   },
   "file_extension": ".py",
   "mimetype": "text/x-python",
   "name": "python",
   "nbconvert_exporter": "python",
   "pygments_lexer": "ipython3",
   "version": "3.10.11"
  },
  "orig_nbformat": 4
 },
 "nbformat": 4,
 "nbformat_minor": 2
}
